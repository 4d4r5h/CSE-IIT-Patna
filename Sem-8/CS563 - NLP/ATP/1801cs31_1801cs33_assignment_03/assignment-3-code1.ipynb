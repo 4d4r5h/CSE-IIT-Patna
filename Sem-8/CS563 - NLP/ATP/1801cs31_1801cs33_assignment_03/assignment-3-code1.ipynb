{
  "cells": [
    {
      "cell_type": "markdown",
      "metadata": {},
      "source": [
        "# Natural Language Processing\n",
        "## Assignment 3 - Machine Translation\n",
        "### Code 1 - No Attention\n",
        "### Students\n",
        "- M Maheeth Reddy (1801CS31)\n",
        "- Nischal A (1801CS33)"
      ]
    },
    {
      "cell_type": "markdown",
      "metadata": {},
      "source": [
        "### Import Block"
      ]
    },
    {
      "cell_type": "code",
      "execution_count": null,
      "metadata": {
        "id": "aT9t3fCGiSl1"
      },
      "outputs": [],
      "source": [
        "import numpy as np\n",
        "import pandas as pd\n",
        "import matplotlib.pyplot as plt\n",
        "import re\n",
        "import os\n",
        "import string\n",
        "\n",
        "import tensorflow as tf\n",
        "from tensorflow import keras\n",
        "from keras.layers import Input, LSTM, Embedding, Dense, TimeDistributed\n",
        "from keras.models import Model\n",
        "from keras.preprocessing.text import Tokenizer\n",
        "from keras.preprocessing.sequence import pad_sequences\n",
        "\n",
        "from gensim.models import KeyedVectors\n",
        "from nltk.translate.bleu_score import sentence_bleu, corpus_bleu\n",
        "from sklearn.model_selection import train_test_split\n",
        "\n",
        "from tqdm import tqdm\n",
        "\n",
        "%matplotlib inline\n"
      ]
    },
    {
      "cell_type": "markdown",
      "metadata": {
        "colab": {
          "base_uri": "https://localhost:8080/"
        },
        "id": "LjzIK3L_iX1f",
        "outputId": "291dd4cd-9399-4c46-93d9-7d948f3e913a"
      },
      "source": [
        "### Load Glove Vector"
      ]
    },
    {
      "cell_type": "markdown",
      "metadata": {
        "colab": {
          "base_uri": "https://localhost:8080/"
        },
        "id": "LjzIK3L_iX1f",
        "outputId": "291dd4cd-9399-4c46-93d9-7d948f3e913a"
      },
      "source": [
        "using 300-dim Glove word embeddings\n"
      ]
    },
    {
      "cell_type": "code",
      "execution_count": null,
      "metadata": {},
      "outputs": [],
      "source": [
        "glove_emb = {}\n",
        "with open('glove.840B.300d.txt') as f:\n",
        "    for line in f:\n",
        "        values = line.split(' ')\n",
        "        # The first entry is the word\n",
        "        # The rest are vectors representing the embedding for the word\n",
        "        glove_emb[values[0]] = np.asarray(values[1:], dtype='float32')\n"
      ]
    },
    {
      "cell_type": "markdown",
      "metadata": {},
      "source": [
        "initializing unknown tokens\n",
        "\n",
        "words not found are assigned an unknown token\n"
      ]
    },
    {
      "cell_type": "code",
      "execution_count": null,
      "metadata": {},
      "outputs": [],
      "source": [
        "UNK = np.random.random(300)\n",
        "SOS = np.random.random(300)\n",
        "EOS = np.random.random(300)\n",
        "\n",
        "glove_emb['<sos>'] = SOS\n",
        "glove_emb['<eos>'] = EOS\n",
        "\n",
        "print('GloVe data loaded')\n"
      ]
    },
    {
      "cell_type": "markdown",
      "metadata": {},
      "source": [
        "### Get training dataset"
      ]
    },
    {
      "cell_type": "code",
      "execution_count": null,
      "metadata": {
        "colab": {
          "base_uri": "https://localhost:8080/"
        },
        "id": "ugp9BDDTl2bH",
        "outputId": "483e88df-c5c5-4b54-8438-c74d76045916"
      },
      "outputs": [
        {
          "name": "stdout",
          "output_type": "stream",
          "text": [
            "--2022-04-07 08:43:14--  https://docs.google.com/uc?export=download&confirm=&id=1jvZxoMsfVDvupZMqTMx11aHmMQFPyWG4\n",
            "Resolving docs.google.com (docs.google.com)... 142.251.111.113, 142.251.111.100, 142.251.111.138, ...\n",
            "Connecting to docs.google.com (docs.google.com)|142.251.111.113|:443... connected.\n",
            "HTTP request sent, awaiting response... 303 See Other\n",
            "Location: https://doc-08-ak-docs.googleusercontent.com/docs/securesc/ha0ro937gcuc7l7deffksulhg5h7mbp1/1cepl2e8rspjc4toretfhv30f7kjp7bn/1649320950000/02653466601279893693/*/1jvZxoMsfVDvupZMqTMx11aHmMQFPyWG4?e=download [following]\n",
            "Warning: wildcards not supported in HTTP.\n",
            "--2022-04-07 08:43:16--  https://doc-08-ak-docs.googleusercontent.com/docs/securesc/ha0ro937gcuc7l7deffksulhg5h7mbp1/1cepl2e8rspjc4toretfhv30f7kjp7bn/1649320950000/02653466601279893693/*/1jvZxoMsfVDvupZMqTMx11aHmMQFPyWG4?e=download\n",
            "Resolving doc-08-ak-docs.googleusercontent.com (doc-08-ak-docs.googleusercontent.com)... 172.217.164.129, 2607:f8b0:4004:814::2001\n",
            "Connecting to doc-08-ak-docs.googleusercontent.com (doc-08-ak-docs.googleusercontent.com)|172.217.164.129|:443... connected.\n",
            "HTTP request sent, awaiting response... 200 OK\n",
            "Length: 920247 (899K) [application/zip]\n",
            "Saving to: ‘mt.zip’\n",
            "\n",
            "mt.zip              100%[===================>] 898.68K  --.-KB/s    in 0.05s   \n",
            "\n",
            "2022-04-07 08:43:16 (18.6 MB/s) - ‘mt.zip’ saved [920247/920247]\n",
            "\n",
            "Archive:  mt.zip\n",
            "   creating: MT/\n",
            "  inflating: MT/english.train        \n",
            "  inflating: MT/english.test         \n",
            "  inflating: MT/hindi.train          \n",
            "  inflating: MT/hindi.test           \n"
          ]
        }
      ],
      "source": [
        "# !wget --load-cookies /tmp/cookies.txt \"https://docs.google.com/uc?export=download&confirm=$(wget --quiet --save-cookies /tmp/cookies.txt --keep-session-cookies --no-check-certificate 'https://docs.google.com/uc?export=download&id=1jvZxoMsfVDvupZMqTMx11aHmMQFPyWG4' -O- | sed -rn 's/.*confirm=([0-9A-Za-z_]+).*/\\1\\n/p')&id=1jvZxoMsfVDvupZMqTMx11aHmMQFPyWG4\" -O mt.zip && rm -rf /tmp/cookies.txt\n",
        "# ! unzip mt.zip\n"
      ]
    },
    {
      "cell_type": "code",
      "execution_count": null,
      "metadata": {
        "id": "MTl0NzyQiSmE"
      },
      "outputs": [],
      "source": [
        "def file_parser(filename):\n",
        "    with open(filename, 'r', encoding=\"utf8\") as f:\n",
        "        lines = [line.strip() for line in f.readlines()]\n",
        "    return lines\n",
        "\n",
        "\n",
        "eng_train = file_parser('MT/english.train')\n",
        "eng_test = file_parser('MT/english.test')\n",
        "hindi_train = file_parser('MT/hindi.train')\n",
        "hindi_test = file_parser('MT/hindi.test')\n"
      ]
    },
    {
      "cell_type": "code",
      "execution_count": null,
      "metadata": {
        "colab": {
          "base_uri": "https://localhost:8080/",
          "height": 206
        },
        "id": "hUCLc-Gpn4iu",
        "outputId": "6b1b8599-2fcd-4137-bc99-44be5e069ad0"
      },
      "outputs": [
        {
          "data": {
            "text/html": [
              "\n",
              "  <div id=\"df-58bb4e51-99f0-4e51-bae4-8a816f8b7192\">\n",
              "    <div class=\"colab-df-container\">\n",
              "      <div>\n",
              "<style scoped>\n",
              "    .dataframe tbody tr th:only-of-type {\n",
              "        vertical-align: middle;\n",
              "    }\n",
              "\n",
              "    .dataframe tbody tr th {\n",
              "        vertical-align: top;\n",
              "    }\n",
              "\n",
              "    .dataframe thead th {\n",
              "        text-align: right;\n",
              "    }\n",
              "</style>\n",
              "<table border=\"1\" class=\"dataframe\">\n",
              "  <thead>\n",
              "    <tr style=\"text-align: right;\">\n",
              "      <th></th>\n",
              "      <th>eng_sent</th>\n",
              "      <th>hindi_sent</th>\n",
              "    </tr>\n",
              "  </thead>\n",
              "  <tbody>\n",
              "    <tr>\n",
              "      <th>0</th>\n",
              "      <td>Give your application an accessibility workout</td>\n",
              "      <td>अपने अनुप्रयोग को पहुंचनीयता व्यायाम का लाभ दें</td>\n",
              "    </tr>\n",
              "    <tr>\n",
              "      <th>1</th>\n",
              "      <td>Accerciser Accessibility Explorer</td>\n",
              "      <td>एक्सेर्साइसर पहुंचनीयता अन्वेषक</td>\n",
              "    </tr>\n",
              "    <tr>\n",
              "      <th>2</th>\n",
              "      <td>The default plugin layout for the bottom panel</td>\n",
              "      <td>निचले पटल के लिए डिफोल्ट प्लग-इन खाका</td>\n",
              "    </tr>\n",
              "    <tr>\n",
              "      <th>3</th>\n",
              "      <td>The default plugin layout for the top panel</td>\n",
              "      <td>ऊपरी पटल के लिए डिफोल्ट प्लग-इन खाका</td>\n",
              "    </tr>\n",
              "    <tr>\n",
              "      <th>4</th>\n",
              "      <td>A list of plugins that are disabled by default</td>\n",
              "      <td>उन प्लग-इनों की सूची जिन्हें डिफोल्ट रूप से नि...</td>\n",
              "    </tr>\n",
              "  </tbody>\n",
              "</table>\n",
              "</div>\n",
              "      <button class=\"colab-df-convert\" onclick=\"convertToInteractive('df-58bb4e51-99f0-4e51-bae4-8a816f8b7192')\"\n",
              "              title=\"Convert this dataframe to an interactive table.\"\n",
              "              style=\"display:none;\">\n",
              "        \n",
              "  <svg xmlns=\"http://www.w3.org/2000/svg\" height=\"24px\"viewBox=\"0 0 24 24\"\n",
              "       width=\"24px\">\n",
              "    <path d=\"M0 0h24v24H0V0z\" fill=\"none\"/>\n",
              "    <path d=\"M18.56 5.44l.94 2.06.94-2.06 2.06-.94-2.06-.94-.94-2.06-.94 2.06-2.06.94zm-11 1L8.5 8.5l.94-2.06 2.06-.94-2.06-.94L8.5 2.5l-.94 2.06-2.06.94zm10 10l.94 2.06.94-2.06 2.06-.94-2.06-.94-.94-2.06-.94 2.06-2.06.94z\"/><path d=\"M17.41 7.96l-1.37-1.37c-.4-.4-.92-.59-1.43-.59-.52 0-1.04.2-1.43.59L10.3 9.45l-7.72 7.72c-.78.78-.78 2.05 0 2.83L4 21.41c.39.39.9.59 1.41.59.51 0 1.02-.2 1.41-.59l7.78-7.78 2.81-2.81c.8-.78.8-2.07 0-2.86zM5.41 20L4 18.59l7.72-7.72 1.47 1.35L5.41 20z\"/>\n",
              "  </svg>\n",
              "      </button>\n",
              "      \n",
              "  <style>\n",
              "    .colab-df-container {\n",
              "      display:flex;\n",
              "      flex-wrap:wrap;\n",
              "      gap: 12px;\n",
              "    }\n",
              "\n",
              "    .colab-df-convert {\n",
              "      background-color: #E8F0FE;\n",
              "      border: none;\n",
              "      border-radius: 50%;\n",
              "      cursor: pointer;\n",
              "      display: none;\n",
              "      fill: #1967D2;\n",
              "      height: 32px;\n",
              "      padding: 0 0 0 0;\n",
              "      width: 32px;\n",
              "    }\n",
              "\n",
              "    .colab-df-convert:hover {\n",
              "      background-color: #E2EBFA;\n",
              "      box-shadow: 0px 1px 2px rgba(60, 64, 67, 0.3), 0px 1px 3px 1px rgba(60, 64, 67, 0.15);\n",
              "      fill: #174EA6;\n",
              "    }\n",
              "\n",
              "    [theme=dark] .colab-df-convert {\n",
              "      background-color: #3B4455;\n",
              "      fill: #D2E3FC;\n",
              "    }\n",
              "\n",
              "    [theme=dark] .colab-df-convert:hover {\n",
              "      background-color: #434B5C;\n",
              "      box-shadow: 0px 1px 3px 1px rgba(0, 0, 0, 0.15);\n",
              "      filter: drop-shadow(0px 1px 2px rgba(0, 0, 0, 0.3));\n",
              "      fill: #FFFFFF;\n",
              "    }\n",
              "  </style>\n",
              "\n",
              "      <script>\n",
              "        const buttonEl =\n",
              "          document.querySelector('#df-58bb4e51-99f0-4e51-bae4-8a816f8b7192 button.colab-df-convert');\n",
              "        buttonEl.style.display =\n",
              "          google.colab.kernel.accessAllowed ? 'block' : 'none';\n",
              "\n",
              "        async function convertToInteractive(key) {\n",
              "          const element = document.querySelector('#df-58bb4e51-99f0-4e51-bae4-8a816f8b7192');\n",
              "          const dataTable =\n",
              "            await google.colab.kernel.invokeFunction('convertToInteractive',\n",
              "                                                     [key], {});\n",
              "          if (!dataTable) return;\n",
              "\n",
              "          const docLinkHtml = 'Like what you see? Visit the ' +\n",
              "            '<a target=\"_blank\" href=https://colab.research.google.com/notebooks/data_table.ipynb>data table notebook</a>'\n",
              "            + ' to learn more about interactive tables.';\n",
              "          element.innerHTML = '';\n",
              "          dataTable['output_type'] = 'display_data';\n",
              "          await google.colab.output.renderOutput(dataTable, element);\n",
              "          const docLink = document.createElement('div');\n",
              "          docLink.innerHTML = docLinkHtml;\n",
              "          element.appendChild(docLink);\n",
              "        }\n",
              "      </script>\n",
              "    </div>\n",
              "  </div>\n",
              "  "
            ],
            "text/plain": [
              "                                         eng_sent  \\\n",
              "0  Give your application an accessibility workout   \n",
              "1               Accerciser Accessibility Explorer   \n",
              "2  The default plugin layout for the bottom panel   \n",
              "3     The default plugin layout for the top panel   \n",
              "4  A list of plugins that are disabled by default   \n",
              "\n",
              "                                          hindi_sent  \n",
              "0    अपने अनुप्रयोग को पहुंचनीयता व्यायाम का लाभ दें  \n",
              "1                    एक्सेर्साइसर पहुंचनीयता अन्वेषक  \n",
              "2              निचले पटल के लिए डिफोल्ट प्लग-इन खाका  \n",
              "3               ऊपरी पटल के लिए डिफोल्ट प्लग-इन खाका  \n",
              "4  उन प्लग-इनों की सूची जिन्हें डिफोल्ट रूप से नि...  "
            ]
          },
          "execution_count": 6,
          "metadata": {},
          "output_type": "execute_result"
        }
      ],
      "source": [
        "train_df = pd.DataFrame(\n",
        "    {'eng_sent': eng_train, 'hindi_sent': hindi_train})\n",
        "train_df.head()\n"
      ]
    },
    {
      "cell_type": "code",
      "execution_count": null,
      "metadata": {
        "colab": {
          "base_uri": "https://localhost:8080/",
          "height": 206
        },
        "id": "lfflqblguEHV",
        "outputId": "5a4802c6-7442-4b13-e479-c106bfaa20d1"
      },
      "outputs": [
        {
          "data": {
            "text/html": [
              "\n",
              "  <div id=\"df-40f0cfd1-e58d-4566-a5bf-41fe822a4733\">\n",
              "    <div class=\"colab-df-container\">\n",
              "      <div>\n",
              "<style scoped>\n",
              "    .dataframe tbody tr th:only-of-type {\n",
              "        vertical-align: middle;\n",
              "    }\n",
              "\n",
              "    .dataframe tbody tr th {\n",
              "        vertical-align: top;\n",
              "    }\n",
              "\n",
              "    .dataframe thead th {\n",
              "        text-align: right;\n",
              "    }\n",
              "</style>\n",
              "<table border=\"1\" class=\"dataframe\">\n",
              "  <thead>\n",
              "    <tr style=\"text-align: right;\">\n",
              "      <th></th>\n",
              "      <th>eng_sent</th>\n",
              "      <th>hindi_sent</th>\n",
              "    </tr>\n",
              "  </thead>\n",
              "  <tbody>\n",
              "    <tr>\n",
              "      <th>0</th>\n",
              "      <td>A black box in your car?</td>\n",
              "      <td>आपकी कार में ब्लैक बॉक्स?</td>\n",
              "    </tr>\n",
              "    <tr>\n",
              "      <th>1</th>\n",
              "      <td>As America's road planners struggle to find th...</td>\n",
              "      <td>जबकि अमेरिका के सड़क योजनाकार, ध्वस्त होते हुए...</td>\n",
              "    </tr>\n",
              "    <tr>\n",
              "      <th>2</th>\n",
              "      <td>The devices, which track every mile a motorist...</td>\n",
              "      <td>यह डिवाइस, जो मोटर-चालक द्वारा वाहन चलाए गए प्...</td>\n",
              "    </tr>\n",
              "    <tr>\n",
              "      <th>3</th>\n",
              "      <td>The usually dull arena of highway planning has...</td>\n",
              "      <td>आम तौर पर हाईवे नियोजन जैसा उबाऊ काम भी अचानक ...</td>\n",
              "    </tr>\n",
              "    <tr>\n",
              "      <th>4</th>\n",
              "      <td>Libertarians have joined environmental groups ...</td>\n",
              "      <td>आपने द्वारा ड्राइव किए गए मील, तथा संभवतः ड्रा...</td>\n",
              "    </tr>\n",
              "  </tbody>\n",
              "</table>\n",
              "</div>\n",
              "      <button class=\"colab-df-convert\" onclick=\"convertToInteractive('df-40f0cfd1-e58d-4566-a5bf-41fe822a4733')\"\n",
              "              title=\"Convert this dataframe to an interactive table.\"\n",
              "              style=\"display:none;\">\n",
              "        \n",
              "  <svg xmlns=\"http://www.w3.org/2000/svg\" height=\"24px\"viewBox=\"0 0 24 24\"\n",
              "       width=\"24px\">\n",
              "    <path d=\"M0 0h24v24H0V0z\" fill=\"none\"/>\n",
              "    <path d=\"M18.56 5.44l.94 2.06.94-2.06 2.06-.94-2.06-.94-.94-2.06-.94 2.06-2.06.94zm-11 1L8.5 8.5l.94-2.06 2.06-.94-2.06-.94L8.5 2.5l-.94 2.06-2.06.94zm10 10l.94 2.06.94-2.06 2.06-.94-2.06-.94-.94-2.06-.94 2.06-2.06.94z\"/><path d=\"M17.41 7.96l-1.37-1.37c-.4-.4-.92-.59-1.43-.59-.52 0-1.04.2-1.43.59L10.3 9.45l-7.72 7.72c-.78.78-.78 2.05 0 2.83L4 21.41c.39.39.9.59 1.41.59.51 0 1.02-.2 1.41-.59l7.78-7.78 2.81-2.81c.8-.78.8-2.07 0-2.86zM5.41 20L4 18.59l7.72-7.72 1.47 1.35L5.41 20z\"/>\n",
              "  </svg>\n",
              "      </button>\n",
              "      \n",
              "  <style>\n",
              "    .colab-df-container {\n",
              "      display:flex;\n",
              "      flex-wrap:wrap;\n",
              "      gap: 12px;\n",
              "    }\n",
              "\n",
              "    .colab-df-convert {\n",
              "      background-color: #E8F0FE;\n",
              "      border: none;\n",
              "      border-radius: 50%;\n",
              "      cursor: pointer;\n",
              "      display: none;\n",
              "      fill: #1967D2;\n",
              "      height: 32px;\n",
              "      padding: 0 0 0 0;\n",
              "      width: 32px;\n",
              "    }\n",
              "\n",
              "    .colab-df-convert:hover {\n",
              "      background-color: #E2EBFA;\n",
              "      box-shadow: 0px 1px 2px rgba(60, 64, 67, 0.3), 0px 1px 3px 1px rgba(60, 64, 67, 0.15);\n",
              "      fill: #174EA6;\n",
              "    }\n",
              "\n",
              "    [theme=dark] .colab-df-convert {\n",
              "      background-color: #3B4455;\n",
              "      fill: #D2E3FC;\n",
              "    }\n",
              "\n",
              "    [theme=dark] .colab-df-convert:hover {\n",
              "      background-color: #434B5C;\n",
              "      box-shadow: 0px 1px 3px 1px rgba(0, 0, 0, 0.15);\n",
              "      filter: drop-shadow(0px 1px 2px rgba(0, 0, 0, 0.3));\n",
              "      fill: #FFFFFF;\n",
              "    }\n",
              "  </style>\n",
              "\n",
              "      <script>\n",
              "        const buttonEl =\n",
              "          document.querySelector('#df-40f0cfd1-e58d-4566-a5bf-41fe822a4733 button.colab-df-convert');\n",
              "        buttonEl.style.display =\n",
              "          google.colab.kernel.accessAllowed ? 'block' : 'none';\n",
              "\n",
              "        async function convertToInteractive(key) {\n",
              "          const element = document.querySelector('#df-40f0cfd1-e58d-4566-a5bf-41fe822a4733');\n",
              "          const dataTable =\n",
              "            await google.colab.kernel.invokeFunction('convertToInteractive',\n",
              "                                                     [key], {});\n",
              "          if (!dataTable) return;\n",
              "\n",
              "          const docLinkHtml = 'Like what you see? Visit the ' +\n",
              "            '<a target=\"_blank\" href=https://colab.research.google.com/notebooks/data_table.ipynb>data table notebook</a>'\n",
              "            + ' to learn more about interactive tables.';\n",
              "          element.innerHTML = '';\n",
              "          dataTable['output_type'] = 'display_data';\n",
              "          await google.colab.output.renderOutput(dataTable, element);\n",
              "          const docLink = document.createElement('div');\n",
              "          docLink.innerHTML = docLinkHtml;\n",
              "          element.appendChild(docLink);\n",
              "        }\n",
              "      </script>\n",
              "    </div>\n",
              "  </div>\n",
              "  "
            ],
            "text/plain": [
              "                                            eng_sent  \\\n",
              "0                           A black box in your car?   \n",
              "1  As America's road planners struggle to find th...   \n",
              "2  The devices, which track every mile a motorist...   \n",
              "3  The usually dull arena of highway planning has...   \n",
              "4  Libertarians have joined environmental groups ...   \n",
              "\n",
              "                                          hindi_sent  \n",
              "0                          आपकी कार में ब्लैक बॉक्स?  \n",
              "1  जबकि अमेरिका के सड़क योजनाकार, ध्वस्त होते हुए...  \n",
              "2  यह डिवाइस, जो मोटर-चालक द्वारा वाहन चलाए गए प्...  \n",
              "3  आम तौर पर हाईवे नियोजन जैसा उबाऊ काम भी अचानक ...  \n",
              "4  आपने द्वारा ड्राइव किए गए मील, तथा संभवतः ड्रा...  "
            ]
          },
          "execution_count": 7,
          "metadata": {},
          "output_type": "execute_result"
        }
      ],
      "source": [
        "test_df = pd.DataFrame(\n",
        "    {'eng_sent': eng_test, 'hindi_sent': hindi_test})\n",
        "test_df.head()\n"
      ]
    },
    {
      "cell_type": "code",
      "execution_count": null,
      "metadata": {
        "id": "NADr_hN2oX0R"
      },
      "outputs": [],
      "source": [
        "def dataset_preprocessor(sent):\n",
        "    sent = sent.strip().lower()  # convert characters to a lowercase\n",
        "    sent = re.sub(\"'\", '', sent)  # remove quotes\n",
        "    \n",
        "    # remove special characters\n",
        "    sent = ''.join(ch for ch in sent if ch not in set(string.punctuation))\n",
        "\n",
        "    # remove numbers from text\n",
        "    sent = sent.translate(str.maketrans('', '', string.digits))\n",
        "    sent = re.sub(\"[२३०८१५७९४६]\", \"\", sent)\n",
        "    sent = sent.strip()\n",
        "    sent = re.sub(\" +\", \" \", sent)\n",
        "    return '<sos> ' + sent + ' <eos>'\n",
        "\n"
      ]
    },
    {
      "cell_type": "code",
      "execution_count": null,
      "metadata": {},
      "outputs": [],
      "source": [
        "\n",
        "train_df['eng_sent'] = train_df['eng_sent'].apply(dataset_preprocessor)\n",
        "train_df['hindi_sent'] = train_df['hindi_sent'].apply(dataset_preprocessor)\n",
        "\n",
        "test_df['eng_sent'] = test_df['eng_sent'].apply(dataset_preprocessor)\n",
        "test_df['hindi_sent'] = test_df['hindi_sent'].apply(dataset_preprocessor)\n"
      ]
    },
    {
      "cell_type": "code",
      "execution_count": null,
      "metadata": {
        "colab": {
          "base_uri": "https://localhost:8080/",
          "height": 206
        },
        "id": "ANWrzR3AwK97",
        "outputId": "db895658-5626-40d2-be94-1c2ecaf871ba"
      },
      "outputs": [
        {
          "data": {
            "text/html": [
              "\n",
              "  <div id=\"df-b1047d07-e660-4a4f-9276-2285ba1e26f4\">\n",
              "    <div class=\"colab-df-container\">\n",
              "      <div>\n",
              "<style scoped>\n",
              "    .dataframe tbody tr th:only-of-type {\n",
              "        vertical-align: middle;\n",
              "    }\n",
              "\n",
              "    .dataframe tbody tr th {\n",
              "        vertical-align: top;\n",
              "    }\n",
              "\n",
              "    .dataframe thead th {\n",
              "        text-align: right;\n",
              "    }\n",
              "</style>\n",
              "<table border=\"1\" class=\"dataframe\">\n",
              "  <thead>\n",
              "    <tr style=\"text-align: right;\">\n",
              "      <th></th>\n",
              "      <th>eng_sent</th>\n",
              "      <th>hindi_sent</th>\n",
              "    </tr>\n",
              "  </thead>\n",
              "  <tbody>\n",
              "    <tr>\n",
              "      <th>0</th>\n",
              "      <td>&lt;sos&gt; give your application an accessibility w...</td>\n",
              "      <td>&lt;sos&gt; अपने अनुप्रयोग को पहुंचनीयता व्यायाम का ...</td>\n",
              "    </tr>\n",
              "    <tr>\n",
              "      <th>1</th>\n",
              "      <td>&lt;sos&gt; accerciser accessibility explorer &lt;eos&gt;</td>\n",
              "      <td>&lt;sos&gt; एक्सेर्साइसर पहुंचनीयता अन्वेषक &lt;eos&gt;</td>\n",
              "    </tr>\n",
              "    <tr>\n",
              "      <th>2</th>\n",
              "      <td>&lt;sos&gt; the default plugin layout for the bottom...</td>\n",
              "      <td>&lt;sos&gt; निचले पटल के लिए डिफोल्ट प्लगइन खाका &lt;eos&gt;</td>\n",
              "    </tr>\n",
              "    <tr>\n",
              "      <th>3</th>\n",
              "      <td>&lt;sos&gt; the default plugin layout for the top pa...</td>\n",
              "      <td>&lt;sos&gt; ऊपरी पटल के लिए डिफोल्ट प्लगइन खाका &lt;eos&gt;</td>\n",
              "    </tr>\n",
              "    <tr>\n",
              "      <th>4</th>\n",
              "      <td>&lt;sos&gt; a list of plugins that are disabled by d...</td>\n",
              "      <td>&lt;sos&gt; उन प्लगइनों की सूची जिन्हें डिफोल्ट रूप ...</td>\n",
              "    </tr>\n",
              "  </tbody>\n",
              "</table>\n",
              "</div>\n",
              "      <button class=\"colab-df-convert\" onclick=\"convertToInteractive('df-b1047d07-e660-4a4f-9276-2285ba1e26f4')\"\n",
              "              title=\"Convert this dataframe to an interactive table.\"\n",
              "              style=\"display:none;\">\n",
              "        \n",
              "  <svg xmlns=\"http://www.w3.org/2000/svg\" height=\"24px\"viewBox=\"0 0 24 24\"\n",
              "       width=\"24px\">\n",
              "    <path d=\"M0 0h24v24H0V0z\" fill=\"none\"/>\n",
              "    <path d=\"M18.56 5.44l.94 2.06.94-2.06 2.06-.94-2.06-.94-.94-2.06-.94 2.06-2.06.94zm-11 1L8.5 8.5l.94-2.06 2.06-.94-2.06-.94L8.5 2.5l-.94 2.06-2.06.94zm10 10l.94 2.06.94-2.06 2.06-.94-2.06-.94-.94-2.06-.94 2.06-2.06.94z\"/><path d=\"M17.41 7.96l-1.37-1.37c-.4-.4-.92-.59-1.43-.59-.52 0-1.04.2-1.43.59L10.3 9.45l-7.72 7.72c-.78.78-.78 2.05 0 2.83L4 21.41c.39.39.9.59 1.41.59.51 0 1.02-.2 1.41-.59l7.78-7.78 2.81-2.81c.8-.78.8-2.07 0-2.86zM5.41 20L4 18.59l7.72-7.72 1.47 1.35L5.41 20z\"/>\n",
              "  </svg>\n",
              "      </button>\n",
              "      \n",
              "  <style>\n",
              "    .colab-df-container {\n",
              "      display:flex;\n",
              "      flex-wrap:wrap;\n",
              "      gap: 12px;\n",
              "    }\n",
              "\n",
              "    .colab-df-convert {\n",
              "      background-color: #E8F0FE;\n",
              "      border: none;\n",
              "      border-radius: 50%;\n",
              "      cursor: pointer;\n",
              "      display: none;\n",
              "      fill: #1967D2;\n",
              "      height: 32px;\n",
              "      padding: 0 0 0 0;\n",
              "      width: 32px;\n",
              "    }\n",
              "\n",
              "    .colab-df-convert:hover {\n",
              "      background-color: #E2EBFA;\n",
              "      box-shadow: 0px 1px 2px rgba(60, 64, 67, 0.3), 0px 1px 3px 1px rgba(60, 64, 67, 0.15);\n",
              "      fill: #174EA6;\n",
              "    }\n",
              "\n",
              "    [theme=dark] .colab-df-convert {\n",
              "      background-color: #3B4455;\n",
              "      fill: #D2E3FC;\n",
              "    }\n",
              "\n",
              "    [theme=dark] .colab-df-convert:hover {\n",
              "      background-color: #434B5C;\n",
              "      box-shadow: 0px 1px 3px 1px rgba(0, 0, 0, 0.15);\n",
              "      filter: drop-shadow(0px 1px 2px rgba(0, 0, 0, 0.3));\n",
              "      fill: #FFFFFF;\n",
              "    }\n",
              "  </style>\n",
              "\n",
              "      <script>\n",
              "        const buttonEl =\n",
              "          document.querySelector('#df-b1047d07-e660-4a4f-9276-2285ba1e26f4 button.colab-df-convert');\n",
              "        buttonEl.style.display =\n",
              "          google.colab.kernel.accessAllowed ? 'block' : 'none';\n",
              "\n",
              "        async function convertToInteractive(key) {\n",
              "          const element = document.querySelector('#df-b1047d07-e660-4a4f-9276-2285ba1e26f4');\n",
              "          const dataTable =\n",
              "            await google.colab.kernel.invokeFunction('convertToInteractive',\n",
              "                                                     [key], {});\n",
              "          if (!dataTable) return;\n",
              "\n",
              "          const docLinkHtml = 'Like what you see? Visit the ' +\n",
              "            '<a target=\"_blank\" href=https://colab.research.google.com/notebooks/data_table.ipynb>data table notebook</a>'\n",
              "            + ' to learn more about interactive tables.';\n",
              "          element.innerHTML = '';\n",
              "          dataTable['output_type'] = 'display_data';\n",
              "          await google.colab.output.renderOutput(dataTable, element);\n",
              "          const docLink = document.createElement('div');\n",
              "          docLink.innerHTML = docLinkHtml;\n",
              "          element.appendChild(docLink);\n",
              "        }\n",
              "      </script>\n",
              "    </div>\n",
              "  </div>\n",
              "  "
            ],
            "text/plain": [
              "                                            eng_sent  \\\n",
              "0  <sos> give your application an accessibility w...   \n",
              "1      <sos> accerciser accessibility explorer <eos>   \n",
              "2  <sos> the default plugin layout for the bottom...   \n",
              "3  <sos> the default plugin layout for the top pa...   \n",
              "4  <sos> a list of plugins that are disabled by d...   \n",
              "\n",
              "                                          hindi_sent  \n",
              "0  <sos> अपने अनुप्रयोग को पहुंचनीयता व्यायाम का ...  \n",
              "1        <sos> एक्सेर्साइसर पहुंचनीयता अन्वेषक <eos>  \n",
              "2   <sos> निचले पटल के लिए डिफोल्ट प्लगइन खाका <eos>  \n",
              "3    <sos> ऊपरी पटल के लिए डिफोल्ट प्लगइन खाका <eos>  \n",
              "4  <sos> उन प्लगइनों की सूची जिन्हें डिफोल्ट रूप ...  "
            ]
          },
          "execution_count": 9,
          "metadata": {},
          "output_type": "execute_result"
        }
      ],
      "source": [
        "train_df.head()\n"
      ]
    },
    {
      "cell_type": "code",
      "execution_count": null,
      "metadata": {
        "colab": {
          "base_uri": "https://localhost:8080/",
          "height": 206
        },
        "id": "6SinVp5VwbBj",
        "outputId": "24747aeb-500c-4917-a707-4b38434d149b"
      },
      "outputs": [
        {
          "data": {
            "text/html": [
              "\n",
              "  <div id=\"df-e6533c1d-c5b5-452d-8ef6-d9479d6fc121\">\n",
              "    <div class=\"colab-df-container\">\n",
              "      <div>\n",
              "<style scoped>\n",
              "    .dataframe tbody tr th:only-of-type {\n",
              "        vertical-align: middle;\n",
              "    }\n",
              "\n",
              "    .dataframe tbody tr th {\n",
              "        vertical-align: top;\n",
              "    }\n",
              "\n",
              "    .dataframe thead th {\n",
              "        text-align: right;\n",
              "    }\n",
              "</style>\n",
              "<table border=\"1\" class=\"dataframe\">\n",
              "  <thead>\n",
              "    <tr style=\"text-align: right;\">\n",
              "      <th></th>\n",
              "      <th>eng_sent</th>\n",
              "      <th>hindi_sent</th>\n",
              "    </tr>\n",
              "  </thead>\n",
              "  <tbody>\n",
              "    <tr>\n",
              "      <th>0</th>\n",
              "      <td>&lt;sos&gt; a black box in your car &lt;eos&gt;</td>\n",
              "      <td>&lt;sos&gt; आपकी कार में ब्लैक बॉक्स &lt;eos&gt;</td>\n",
              "    </tr>\n",
              "    <tr>\n",
              "      <th>1</th>\n",
              "      <td>&lt;sos&gt; as americas road planners struggle to fi...</td>\n",
              "      <td>&lt;sos&gt; जबकि अमेरिका के सड़क योजनाकार ध्वस्त होत...</td>\n",
              "    </tr>\n",
              "    <tr>\n",
              "      <th>2</th>\n",
              "      <td>&lt;sos&gt; the devices which track every mile a mot...</td>\n",
              "      <td>&lt;sos&gt; यह डिवाइस जो मोटरचालक द्वारा वाहन चलाए ग...</td>\n",
              "    </tr>\n",
              "    <tr>\n",
              "      <th>3</th>\n",
              "      <td>&lt;sos&gt; the usually dull arena of highway planni...</td>\n",
              "      <td>&lt;sos&gt; आम तौर पर हाईवे नियोजन जैसा उबाऊ काम भी ...</td>\n",
              "    </tr>\n",
              "    <tr>\n",
              "      <th>4</th>\n",
              "      <td>&lt;sos&gt; libertarians have joined environmental g...</td>\n",
              "      <td>&lt;sos&gt; आपने द्वारा ड्राइव किए गए मील तथा संभवतः...</td>\n",
              "    </tr>\n",
              "  </tbody>\n",
              "</table>\n",
              "</div>\n",
              "      <button class=\"colab-df-convert\" onclick=\"convertToInteractive('df-e6533c1d-c5b5-452d-8ef6-d9479d6fc121')\"\n",
              "              title=\"Convert this dataframe to an interactive table.\"\n",
              "              style=\"display:none;\">\n",
              "        \n",
              "  <svg xmlns=\"http://www.w3.org/2000/svg\" height=\"24px\"viewBox=\"0 0 24 24\"\n",
              "       width=\"24px\">\n",
              "    <path d=\"M0 0h24v24H0V0z\" fill=\"none\"/>\n",
              "    <path d=\"M18.56 5.44l.94 2.06.94-2.06 2.06-.94-2.06-.94-.94-2.06-.94 2.06-2.06.94zm-11 1L8.5 8.5l.94-2.06 2.06-.94-2.06-.94L8.5 2.5l-.94 2.06-2.06.94zm10 10l.94 2.06.94-2.06 2.06-.94-2.06-.94-.94-2.06-.94 2.06-2.06.94z\"/><path d=\"M17.41 7.96l-1.37-1.37c-.4-.4-.92-.59-1.43-.59-.52 0-1.04.2-1.43.59L10.3 9.45l-7.72 7.72c-.78.78-.78 2.05 0 2.83L4 21.41c.39.39.9.59 1.41.59.51 0 1.02-.2 1.41-.59l7.78-7.78 2.81-2.81c.8-.78.8-2.07 0-2.86zM5.41 20L4 18.59l7.72-7.72 1.47 1.35L5.41 20z\"/>\n",
              "  </svg>\n",
              "      </button>\n",
              "      \n",
              "  <style>\n",
              "    .colab-df-container {\n",
              "      display:flex;\n",
              "      flex-wrap:wrap;\n",
              "      gap: 12px;\n",
              "    }\n",
              "\n",
              "    .colab-df-convert {\n",
              "      background-color: #E8F0FE;\n",
              "      border: none;\n",
              "      border-radius: 50%;\n",
              "      cursor: pointer;\n",
              "      display: none;\n",
              "      fill: #1967D2;\n",
              "      height: 32px;\n",
              "      padding: 0 0 0 0;\n",
              "      width: 32px;\n",
              "    }\n",
              "\n",
              "    .colab-df-convert:hover {\n",
              "      background-color: #E2EBFA;\n",
              "      box-shadow: 0px 1px 2px rgba(60, 64, 67, 0.3), 0px 1px 3px 1px rgba(60, 64, 67, 0.15);\n",
              "      fill: #174EA6;\n",
              "    }\n",
              "\n",
              "    [theme=dark] .colab-df-convert {\n",
              "      background-color: #3B4455;\n",
              "      fill: #D2E3FC;\n",
              "    }\n",
              "\n",
              "    [theme=dark] .colab-df-convert:hover {\n",
              "      background-color: #434B5C;\n",
              "      box-shadow: 0px 1px 3px 1px rgba(0, 0, 0, 0.15);\n",
              "      filter: drop-shadow(0px 1px 2px rgba(0, 0, 0, 0.3));\n",
              "      fill: #FFFFFF;\n",
              "    }\n",
              "  </style>\n",
              "\n",
              "      <script>\n",
              "        const buttonEl =\n",
              "          document.querySelector('#df-e6533c1d-c5b5-452d-8ef6-d9479d6fc121 button.colab-df-convert');\n",
              "        buttonEl.style.display =\n",
              "          google.colab.kernel.accessAllowed ? 'block' : 'none';\n",
              "\n",
              "        async function convertToInteractive(key) {\n",
              "          const element = document.querySelector('#df-e6533c1d-c5b5-452d-8ef6-d9479d6fc121');\n",
              "          const dataTable =\n",
              "            await google.colab.kernel.invokeFunction('convertToInteractive',\n",
              "                                                     [key], {});\n",
              "          if (!dataTable) return;\n",
              "\n",
              "          const docLinkHtml = 'Like what you see? Visit the ' +\n",
              "            '<a target=\"_blank\" href=https://colab.research.google.com/notebooks/data_table.ipynb>data table notebook</a>'\n",
              "            + ' to learn more about interactive tables.';\n",
              "          element.innerHTML = '';\n",
              "          dataTable['output_type'] = 'display_data';\n",
              "          await google.colab.output.renderOutput(dataTable, element);\n",
              "          const docLink = document.createElement('div');\n",
              "          docLink.innerHTML = docLinkHtml;\n",
              "          element.appendChild(docLink);\n",
              "        }\n",
              "      </script>\n",
              "    </div>\n",
              "  </div>\n",
              "  "
            ],
            "text/plain": [
              "                                            eng_sent  \\\n",
              "0                <sos> a black box in your car <eos>   \n",
              "1  <sos> as americas road planners struggle to fi...   \n",
              "2  <sos> the devices which track every mile a mot...   \n",
              "3  <sos> the usually dull arena of highway planni...   \n",
              "4  <sos> libertarians have joined environmental g...   \n",
              "\n",
              "                                          hindi_sent  \n",
              "0               <sos> आपकी कार में ब्लैक बॉक्स <eos>  \n",
              "1  <sos> जबकि अमेरिका के सड़क योजनाकार ध्वस्त होत...  \n",
              "2  <sos> यह डिवाइस जो मोटरचालक द्वारा वाहन चलाए ग...  \n",
              "3  <sos> आम तौर पर हाईवे नियोजन जैसा उबाऊ काम भी ...  \n",
              "4  <sos> आपने द्वारा ड्राइव किए गए मील तथा संभवतः...  "
            ]
          },
          "execution_count": 10,
          "metadata": {},
          "output_type": "execute_result"
        }
      ],
      "source": [
        "test_df.head()\n"
      ]
    },
    {
      "cell_type": "markdown",
      "metadata": {
        "id": "6kjyGEwc2yWG"
      },
      "source": [
        "### Create Tokenizer\n",
        "Fit the tokenizer on the whole text where each word is assigned a unique number and every word is now represented by a number\n"
      ]
    },
    {
      "cell_type": "code",
      "execution_count": null,
      "metadata": {},
      "outputs": [],
      "source": [
        "eng_tokenizer = Tokenizer()\n",
        "eng_tokenizer.fit_on_texts(\n",
        "    train_df['eng_sent'].tolist() + test_df['eng_sent'].tolist())\n",
        "\n",
        "eng_vocab_size = len(eng_tokenizer.word_index)+1  # +1 for UNK\n"
      ]
    },
    {
      "cell_type": "code",
      "execution_count": null,
      "metadata": {},
      "outputs": [],
      "source": [
        "hindi_tokenizer = Tokenizer()\n",
        "hindi_tokenizer.fit_on_texts(\n",
        "    train_df['hindi_sent'].tolist() + test_df['hindi_sent'].tolist())\n",
        "\n",
        "hindi_vocab_size = len(hindi_tokenizer.word_index)+1  # +1 for UNK\n"
      ]
    },
    {
      "cell_type": "markdown",
      "metadata": {},
      "source": [
        "create a matrix that contains only the words present in our vocabulary and their corresponding embedding vector"
      ]
    },
    {
      "cell_type": "code",
      "execution_count": null,
      "metadata": {
        "colab": {
          "base_uri": "https://localhost:8080/"
        },
        "id": "Ziz9tDy44Dy5",
        "outputId": "b9b0ba0c-3e04-4ba8-9b11-fe2baaf365c0"
      },
      "outputs": [
        {
          "name": "stderr",
          "output_type": "stream",
          "text": [
            "100%|██████████| 10406/10406 [00:00<00:00, 39539.30it/s]\n",
            "100%|██████████| 11973/11973 [00:00<00:00, 323638.91it/s]\n"
          ]
        }
      ],
      "source": [
        "eng_embedding_matrix = np.zeros((eng_vocab_size, 300))\n",
        "for word, i in tqdm(eng_tokenizer.word_index.items()):\n",
        "    e_value = glove_emb.get(word, UNK)\n",
        "    eng_embedding_matrix[i] = e_value\n",
        "\n",
        "hindi_embedding_matrix = np.zeros((hindi_vocab_size, 300))\n",
        "for word, i in tqdm(hindi_tokenizer.word_index.items()):\n",
        "    e_value = glove_emb.get(word, UNK)\n",
        "    hindi_embedding_matrix[i] = e_value\n"
      ]
    },
    {
      "cell_type": "markdown",
      "metadata": {
        "id": "rLg_SSCHHLCO"
      },
      "source": [
        "converts each sentence into a sequence of numbers\n"
      ]
    },
    {
      "cell_type": "code",
      "execution_count": null,
      "metadata": {},
      "outputs": [],
      "source": [
        "SEQ_MAX_LEN = 300\n",
        "EMB_DIM = 300\n",
        "\n",
        "eng_train_seq = eng_tokenizer.texts_to_sequences(train_df['eng_sent'])\n",
        "pad_eng_train_seq = pad_sequences(\n",
        "    eng_train_seq, maxlen=SEQ_MAX_LEN, padding='post', truncating='post')\n",
        "\n",
        "hindi_train_seq = hindi_tokenizer.texts_to_sequences(train_df['hindi_sent'])\n",
        "pad_hindi_train_seq = pad_sequences(\n",
        "    hindi_train_seq, maxlen=SEQ_MAX_LEN, padding='post', truncating='post')\n",
        "\n",
        "eng_test_seq = eng_tokenizer.texts_to_sequences(test_df['eng_sent'])\n",
        "pad_eng_test_seq = pad_sequences(\n",
        "    eng_test_seq, maxlen=SEQ_MAX_LEN, padding='post', truncating='post')\n",
        "\n",
        "hindi_test_seq = hindi_tokenizer.texts_to_sequences(test_df['hindi_sent'])\n",
        "pad_hindi_test_seq = pad_sequences(\n",
        "    hindi_test_seq, maxlen=SEQ_MAX_LEN, padding='post', truncating='post')\n"
      ]
    },
    {
      "cell_type": "markdown",
      "metadata": {
        "id": "dno4zdY9SAGe"
      },
      "source": [
        "### Neural Network"
      ]
    },
    {
      "cell_type": "code",
      "execution_count": null,
      "metadata": {
        "id": "p1wghR2GJGpK"
      },
      "outputs": [],
      "source": [
        "SEQ_MAX_LEN = 300\n",
        "EMB_DIM = 300\n",
        "\n",
        "# Generate a batch of data\n",
        "def batch_generator(X, y, batch_size=128):\n",
        "    while True:\n",
        "        for j in range(0, len(X), batch_size):\n",
        "            enc_ip = np.zeros(\n",
        "                (batch_size, SEQ_MAX_LEN), dtype='int')\n",
        "            dec_ip = np.zeros(\n",
        "                (batch_size, SEQ_MAX_LEN), dtype='int')\n",
        "            dec_target = np.zeros(\n",
        "                (batch_size, SEQ_MAX_LEN, EMB_DIM), dtype='float32')\n",
        "\n",
        "            for i, (ip_txt, target_txt) in enumerate(zip(X[j:j+batch_size], y[j:j+batch_size])):\n",
        "                enc_ip[i] = ip_txt\n",
        "                dec_ip[i] = target_txt\n",
        "                for t in range(1, SEQ_MAX_LEN):\n",
        "                    dec_target[i][t-1] = hindi_embedding_matrix[target_txt[t]]\n",
        "\n",
        "            yield([enc_ip, dec_ip], dec_target)\n"
      ]
    },
    {
      "cell_type": "markdown",
      "metadata": {},
      "source": [
        "### Encoder"
      ]
    },
    {
      "cell_type": "code",
      "execution_count": null,
      "metadata": {},
      "outputs": [],
      "source": [
        "enc_ips = Input(shape=(SEQ_MAX_LEN,))\n",
        "enc_emb = Embedding(output_dim=EMB_DIM, input_dim=eng_vocab_size, weights=[\n",
        "                    eng_embedding_matrix], input_length=SEQ_MAX_LEN, trainable=False, mask_zero=True)(enc_ips)\n",
        "\n",
        "print(enc_emb.shape)\n",
        "enc_lstm = LSTM(SEQ_MAX_LEN, return_state=True)\n",
        "encoder_outputs, state_h, state_c = enc_lstm(enc_emb)\n"
      ]
    },
    {
      "cell_type": "code",
      "execution_count": null,
      "metadata": {
        "colab": {
          "base_uri": "https://localhost:8080/"
        },
        "id": "5UTZLfsTuD2B",
        "outputId": "f24193e6-125d-4f26-ebab-5c1b1e5436e8"
      },
      "outputs": [
        {
          "name": "stdout",
          "output_type": "stream",
          "text": [
            "(None, 300, 300)\n"
          ]
        }
      ],
      "source": [
        "# discard 'encoder_outputs' and retain only states.\n",
        "enc_states = [state_h, state_c]"
      ]
    },
    {
      "cell_type": "markdown",
      "metadata": {
        "colab": {
          "base_uri": "https://localhost:8080/"
        },
        "id": "ukgSF6mtHmfn",
        "outputId": "1f50c328-ed69-4ccc-bc39-b6be55721a82"
      },
      "source": [
        "using encoder states as initial state, set up the decoder\n"
      ]
    },
    {
      "cell_type": "code",
      "execution_count": null,
      "metadata": {},
      "outputs": [],
      "source": [
        "dec_ips = Input(shape=(SEQ_MAX_LEN,))\n",
        "dec_emb_layer = Embedding(output_dim=EMB_DIM, input_dim=hindi_vocab_size, weights=[\n",
        "                          hindi_embedding_matrix], input_length=SEQ_MAX_LEN, trainable=False)\n",
        "dec_emb = dec_emb_layer(dec_ips)\n"
      ]
    },
    {
      "cell_type": "markdown",
      "metadata": {},
      "source": [
        "set up decoder to return full output sequences and internal states. return states will be used in inference but not in the training model.\n"
      ]
    },
    {
      "cell_type": "code",
      "execution_count": null,
      "metadata": {},
      "outputs": [],
      "source": [
        "\n",
        "dec_lstm = LSTM(SEQ_MAX_LEN, return_sequences=True, return_state=True)\n",
        "dec_ops, _, _ = dec_lstm(dec_emb,\n",
        "                                     initial_state=enc_states)\n",
        "print(dec_ops.shape)\n",
        "dec_dense = Dense(EMB_DIM, activation='softmax')\n",
        "dec_ops = dec_dense(dec_ops)\n"
      ]
    },
    {
      "cell_type": "markdown",
      "metadata": {},
      "source": [
        "Define the model that will turn encoder input data & decoder input data into decoder target data\n"
      ]
    },
    {
      "cell_type": "code",
      "execution_count": null,
      "metadata": {},
      "outputs": [],
      "source": [
        "model = Model([enc_ips, dec_ips], dec_ops)\n",
        "model.compile(optimizer='rmsprop', loss='categorical_crossentropy')\n",
        "\n",
        "print(model.summary())\n"
      ]
    },
    {
      "cell_type": "code",
      "execution_count": null,
      "metadata": {
        "colab": {
          "base_uri": "https://localhost:8080/"
        },
        "id": "4fwFm-7RK4iE",
        "outputId": "75e0c081-887a-41e8-c071-4dd0fcf844ef"
      },
      "outputs": [
        {
          "name": "stderr",
          "output_type": "stream",
          "text": [
            "/usr/local/lib/python3.7/dist-packages/ipykernel_launcher.py:10: UserWarning: `Model.fit_generator` is deprecated and will be removed in a future version. Please use `Model.fit`, which supports generators.\n",
            "  # Remove the CWD from sys.path while we load stuff.\n"
          ]
        },
        {
          "name": "stdout",
          "output_type": "stream",
          "text": [
            "Epoch 1/2\n",
            "97/97 [==============================] - 2646s 27s/step - loss: 11.5871 - val_loss: 70.8030\n",
            "Epoch 2/2\n",
            "97/97 [==============================] - 2567s 26s/step - loss: 11.4339 - val_loss: 72.7052\n"
          ]
        },
        {
          "data": {
            "text/plain": [
              "<keras.callbacks.History at 0x7fa25c9ee1d0>"
            ]
          },
          "execution_count": 17,
          "metadata": {},
          "output_type": "execute_result"
        }
      ],
      "source": [
        "train_samples = train_df.shape[0]\n",
        "val_samples = test_df.shape[0]\n",
        "batch_size = 512\n",
        "epochs = 2\n",
        "\n",
        "model.fit_generator(generator=batch_generator(pad_eng_train_seq, pad_hindi_train_seq, batch_size),\n",
        "                    steps_per_epoch=train_samples//batch_size,\n",
        "                    epochs=epochs,\n",
        "                    validation_data=batch_generator(\n",
        "                        pad_eng_test_seq, pad_hindi_test_seq, batch_size),\n",
        "                    validation_steps=int(val_samples/batch_size))\n"
      ]
    },
    {
      "cell_type": "markdown",
      "metadata": {
        "id": "9jXab5vySFvc"
      },
      "source": [
        "# Evaluation"
      ]
    },
    {
      "cell_type": "markdown",
      "metadata": {
        "id": "P6kY8CO12kBX"
      },
      "source": [
        "Encode the input sequence to get the \"thought vectors\"\n"
      ]
    },
    {
      "cell_type": "code",
      "execution_count": null,
      "metadata": {},
      "outputs": [],
      "source": [
        "encoder_model = Model(enc_ips, enc_states)\n"
      ]
    },
    {
      "cell_type": "markdown",
      "metadata": {},
      "source": [
        "\n",
        "### Decoder setup\n"
      ]
    },
    {
      "cell_type": "markdown",
      "metadata": {},
      "source": [
        "Below tensors will hold the states of the previous time step\n"
      ]
    },
    {
      "cell_type": "code",
      "execution_count": null,
      "metadata": {},
      "outputs": [],
      "source": [
        "dec_ip_state_h = Input(shape=(SEQ_MAX_LEN,))\n",
        "dec_ip_state_c = Input(shape=(SEQ_MAX_LEN,))\n",
        "dec_ips_states = [dec_ip_state_h, dec_ip_state_c]\n",
        "\n",
        "# Get the embeddings of the decoder sequence\n",
        "dec_emb2 = dec_emb_layer(dec_ips)\n"
      ]
    },
    {
      "cell_type": "markdown",
      "metadata": {},
      "source": [
        "\n",
        "To predict the next word in the sequence, set the initial states to the states from the previous time step\n"
      ]
    },
    {
      "cell_type": "code",
      "execution_count": null,
      "metadata": {},
      "outputs": [],
      "source": [
        "dec_ops2, state_h2, state_c2 = dec_lstm(\n",
        "    dec_emb2, initial_state=dec_ips_states)\n",
        "dec_states2 = [state_h2, state_c2]\n",
        "\n",
        "# A dense softmax layer to generate prob dist. over the target vocabulary\n",
        "dec_ops2 = dec_dense(dec_ops2)\n"
      ]
    },
    {
      "cell_type": "markdown",
      "metadata": {},
      "source": [
        "\n",
        "Final decoder model\n"
      ]
    },
    {
      "cell_type": "code",
      "execution_count": null,
      "metadata": {},
      "outputs": [],
      "source": [
        "dec_model = Model(\n",
        "    [dec_ips] + dec_ips_states,\n",
        "    [dec_ops2] + dec_states2)\n"
      ]
    },
    {
      "cell_type": "code",
      "execution_count": null,
      "metadata": {
        "id": "S-6OCkMPSOnm"
      },
      "outputs": [],
      "source": [
        "eng_token_index = dict(eng_tokenizer.word_index.items())\n",
        "hindi_token_index = dict(hindi_tokenizer.word_index.items())\n",
        "\n",
        "eng_reverse_word_map = dict(map(reversed, eng_tokenizer.word_index.items()))\n",
        "hin_reverse_word_map = dict(\n",
        "    map(reversed, hindi_tokenizer.word_index.items()))\n"
      ]
    },
    {
      "cell_type": "code",
      "execution_count": null,
      "metadata": {
        "id": "xe1JQwdGSPp5"
      },
      "outputs": [],
      "source": [
        "def sequence_decoder(input):\n",
        "    # Encode the input as state vectors.\n",
        "    value_states = encoder_model.predict(input)\n",
        "\n",
        "    # Generate empty target sequence of length 1.\n",
        "    seq_target = np.zeros((1, 1))\n",
        "\n",
        "    # Populate the first character of target sequence with the start character.\n",
        "    seq_target[0, 0] = hindi_token_index['sos']\n",
        "\n",
        "    # Sampling loop for a batch of sequences (to simplify, here we assume a batch of size 1).\n",
        "    decoded = []\n",
        "    flag = False\n",
        "    while not flag:\n",
        "        output_tokens, h, c = dec_model.predict(\n",
        "            [seq_target] + value_states)\n",
        "\n",
        "        # Sample a token\n",
        "        token_index_sampled = np.argmax(output_tokens[0, -1, :])\n",
        "        char_sampled = hin_reverse_word_map[token_index_sampled]\n",
        "        decoded.append(char_sampled)\n",
        "\n",
        "        flag = True if (char_sampled == 'eos' or len(decoded) >= SEQ_MAX_LEN) else False\n",
        "\n",
        "        # Update the target sequence (of length 1).\n",
        "        seq_target = np.zeros((1, 1))\n",
        "        seq_target[0, 0] = token_index_sampled\n",
        "\n",
        "        # Update states\n",
        "        value_states = [h, c]\n",
        "\n",
        "    return decoded\n"
      ]
    },
    {
      "cell_type": "code",
      "execution_count": null,
      "metadata": {
        "id": "XCSjrsBQSWZ0"
      },
      "outputs": [],
      "source": [
        "def token_word_converter(tokens, lang='english'):\n",
        "    sent = []\n",
        "    if lang == 'english':\n",
        "        for i in tokens:\n",
        "            if i == 2:\n",
        "                break\n",
        "            if i == 1:\n",
        "                continue\n",
        "            word = eng_reverse_word_map[i]\n",
        "            sent.append(word)\n",
        "    elif lang == 'hindi':\n",
        "        for i in tokens:\n",
        "            if i == 2:\n",
        "                break\n",
        "            if i == 1:\n",
        "                continue\n",
        "            word = hin_reverse_word_map[i]\n",
        "            sent.append(word)\n",
        "    return sent\n"
      ]
    },
    {
      "cell_type": "code",
      "execution_count": null,
      "metadata": {
        "id": "xOE2mV4ASaTi"
      },
      "outputs": [],
      "source": [
        "gen_test = batch_generator(pad_eng_test_seq, pad_hindi_test_seq, batch_size=1)\n",
        "k = -1\n"
      ]
    },
    {
      "cell_type": "code",
      "execution_count": null,
      "metadata": {},
      "outputs": [
        {
          "name": "stdout",
          "output_type": "stream",
          "text": [
            "WARNING:tensorflow:Model was constructed with shape (None, 300) for input KerasTensor(type_spec=TensorSpec(shape=(None, 300), dtype=tf.float32, name='input_2'), name='input_2', description=\"created by layer 'input_2'\"), but it was called on an input with incompatible shape (None, 1).\n"
          ]
        }
      ],
      "source": [
        "k += 1\n",
        "(seq_ip, op_actual), _ = next(gen_test)\n",
        "\n",
        "sent_decoded = sequence_decoder(seq_ip)\n",
        "\n",
        "eng_sent = token_word_converter(pad_eng_test_seq[k:k+1][0], 'english')\n",
        "hindi_sent = token_word_converter(pad_hindi_test_seq[k:k+1][0], 'hindi')\n"
      ]
    },
    {
      "cell_type": "code",
      "execution_count": null,
      "metadata": {
        "colab": {
          "base_uri": "https://localhost:8080/"
        },
        "id": "b069PiWjSlCq",
        "outputId": "ba921211-0543-4209-f54f-c5fdb4f89438"
      },
      "outputs": [
        {
          "name": "stdout",
          "output_type": "stream",
          "text": [
            "Input English sentence: ['a', 'black', 'box', 'in', 'your', 'car']\n",
            "Actual Hindi translation: ['आपकी', 'कार', 'में', 'ब्लैक', 'बॉक्स']\n",
            "Predicted Hindi Translation: ['साथ', 'साथ', 'साथ', 'साथ', 'साथ']\n"
          ]
        }
      ],
      "source": [
        "print(\"Input English sentence:\", eng_sent)\n",
        "print(\"Actual Hindi translation:\", hindi_sent)\n",
        "print(\"Predicted Hindi Translation:\", sent_decoded[:len(hindi_sent)])\n"
      ]
    },
    {
      "cell_type": "code",
      "execution_count": null,
      "metadata": {
        "colab": {
          "base_uri": "https://localhost:8080/"
        },
        "id": "uSY01pgGSluI",
        "outputId": "e879ab57-d4c4-41ee-cd39-2a79dc392608"
      },
      "outputs": [
        {
          "name": "stdout",
          "output_type": "stream",
          "text": [
            "6\n",
            "5\n",
            "300\n"
          ]
        }
      ],
      "source": [
        "print(len(token_word_converter(pad_eng_test_seq[k:k+1][0], 'english')))\n",
        "print(len(token_word_converter(pad_hindi_test_seq[k:k+1][0], 'hindi')))\n",
        "print(len(sent_decoded))\n"
      ]
    },
    {
      "cell_type": "code",
      "execution_count": null,
      "metadata": {
        "colab": {
          "base_uri": "https://localhost:8080/"
        },
        "id": "aSpKLYdeSreb",
        "outputId": "0169101c-a2b8-4894-d090-b5ace1b6716e"
      },
      "outputs": [
        {
          "name": "stdout",
          "output_type": "stream",
          "text": [
            "Test:  0 out of 100\n",
            "Test:  1 out of 100\n",
            "Test:  2 out of 100\n",
            "Test:  3 out of 100\n",
            "Test:  4 out of 100\n"
          ]
        },
        {
          "name": "stderr",
          "output_type": "stream",
          "text": [
            "/usr/local/lib/python3.7/dist-packages/nltk/translate/bleu_score.py:490: UserWarning: \n",
            "Corpus/Sentence contains 0 counts of 2-gram overlaps.\n",
            "BLEU scores might be undesirable; use SmoothingFunction().\n",
            "  warnings.warn(_msg)\n"
          ]
        },
        {
          "name": "stdout",
          "output_type": "stream",
          "text": [
            "Test:  5 out of 100\n",
            "Test:  6 out of 100\n",
            "Test:  7 out of 100\n",
            "Test:  8 out of 100\n",
            "Test:  9 out of 100\n",
            "Test:  10 out of 100\n",
            "Test:  11 out of 100\n",
            "Test:  12 out of 100\n",
            "Test:  13 out of 100\n",
            "Test:  14 out of 100\n",
            "Test:  15 out of 100\n",
            "Test:  16 out of 100\n",
            "Test:  17 out of 100\n",
            "Test:  18 out of 100\n",
            "Test:  19 out of 100\n",
            "Test:  20 out of 100\n",
            "Test:  21 out of 100\n",
            "Test:  22 out of 100\n",
            "Test:  23 out of 100\n",
            "Test:  24 out of 100\n",
            "Test:  25 out of 100\n",
            "Test:  26 out of 100\n",
            "Test:  27 out of 100\n",
            "Test:  28 out of 100\n",
            "Test:  29 out of 100\n",
            "Test:  30 out of 100\n",
            "Test:  31 out of 100\n",
            "Test:  32 out of 100\n",
            "Test:  33 out of 100\n",
            "Test:  34 out of 100\n",
            "Test:  35 out of 100\n",
            "Test:  36 out of 100\n",
            "Test:  37 out of 100\n",
            "Test:  38 out of 100\n",
            "Test:  39 out of 100\n",
            "Test:  40 out of 100\n",
            "Test:  41 out of 100\n",
            "Test:  42 out of 100\n",
            "Test:  43 out of 100\n",
            "Test:  44 out of 100\n",
            "Test:  45 out of 100\n",
            "Test:  46 out of 100\n",
            "Test:  47 out of 100\n",
            "Test:  48 out of 100\n",
            "Test:  49 out of 100\n",
            "Test:  50 out of 100\n",
            "Test:  51 out of 100\n",
            "Test:  52 out of 100\n",
            "Test:  53 out of 100\n",
            "Test:  54 out of 100\n",
            "Test:  55 out of 100\n",
            "Test:  56 out of 100\n",
            "Test:  57 out of 100\n",
            "Test:  58 out of 100\n",
            "Test:  59 out of 100\n",
            "Test:  60 out of 100\n",
            "Test:  61 out of 100\n",
            "Test:  62 out of 100\n",
            "Test:  63 out of 100\n",
            "Test:  64 out of 100\n",
            "Test:  65 out of 100\n",
            "Test:  66 out of 100\n",
            "Test:  67 out of 100\n",
            "Test:  68 out of 100\n",
            "Test:  69 out of 100\n",
            "Test:  70 out of 100\n",
            "Test:  71 out of 100\n",
            "Test:  72 out of 100\n",
            "Test:  73 out of 100\n",
            "Test:  74 out of 100\n",
            "Test:  75 out of 100\n",
            "Test:  76 out of 100\n",
            "Test:  77 out of 100\n",
            "Test:  78 out of 100\n",
            "Test:  79 out of 100\n",
            "Test:  80 out of 100\n",
            "Test:  81 out of 100\n",
            "Test:  82 out of 100\n",
            "Test:  83 out of 100\n",
            "Test:  84 out of 100\n",
            "Test:  85 out of 100\n",
            "Test:  86 out of 100\n",
            "Test:  87 out of 100\n",
            "Test:  88 out of 100\n",
            "Test:  89 out of 100\n",
            "Test:  90 out of 100\n",
            "Test:  91 out of 100\n",
            "Test:  92 out of 100\n",
            "Test:  93 out of 100\n",
            "Test:  94 out of 100\n",
            "Test:  95 out of 100\n",
            "Test:  96 out of 100\n",
            "Test:  97 out of 100\n",
            "Test:  98 out of 100\n",
            "Test:  99 out of 100\n",
            "Test:  100 out of 100\n",
            "==============================\n",
            "Bleu Score: 0.2863092551275272\n",
            "==============================\n"
          ]
        }
      ],
      "source": [
        "bleu_score = 0\n",
        "\n",
        "gen_test = batch_generator(pad_eng_test_seq, pad_hindi_test_seq, batch_size=1)\n",
        "\n",
        "k = -1\n",
        "max_num = 100\n",
        "while k < max_num:\n",
        "    k += 1\n",
        "    print(\"Test: \", k, \"out of\", max_num)\n",
        "    (seq_ip, op_actual), _ = next(gen_test)\n",
        "\n",
        "    sent_decoded = sequence_decoder(seq_ip)\n",
        "    hindi_sent = token_word_converter(pad_hindi_test_seq[k:k+1][0], 'hindi')\n",
        "    \n",
        "    reference = [hindi_sent]\n",
        "    bleu_score += sentence_bleu(reference,\n",
        "                                sent_decoded[:len(hindi_sent)], weights=(1, 0, 0, 0))\n",
        "\n",
        "print(\"==============================\")\n",
        "print(\"Bleu Score is\", round(bleu_score,4))\n",
        "print(\"==============================\")\n"
      ]
    },
    {
      "cell_type": "code",
      "execution_count": null,
      "metadata": {
        "id": "SbesTDVLlxEi"
      },
      "outputs": [],
      "source": []
    }
  ],
  "metadata": {
    "colab": {
      "collapsed_sections": [],
      "name": "1701CS36_assign4.ipynb",
      "provenance": []
    },
    "kernelspec": {
      "display_name": "Python 3",
      "name": "python3"
    },
    "language_info": {
      "codemirror_mode": {
        "name": "ipython",
        "version": 3
      },
      "file_extension": ".py",
      "mimetype": "text/x-python",
      "name": "python",
      "nbconvert_exporter": "python",
      "pygments_lexer": "ipython3",
      "version": "3.6.13"
    }
  },
  "nbformat": 4,
  "nbformat_minor": 0
}
