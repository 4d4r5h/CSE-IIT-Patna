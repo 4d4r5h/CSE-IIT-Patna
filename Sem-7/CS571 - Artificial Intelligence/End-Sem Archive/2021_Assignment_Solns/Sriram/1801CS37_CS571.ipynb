{
  "nbformat": 4,
  "nbformat_minor": 0,
  "metadata": {
    "colab": {
      "name": "1801CS37_CS571.ipynb",
      "provenance": [],
      "collapsed_sections": []
    },
    "kernelspec": {
      "name": "python3",
      "display_name": "Python 3"
    },
    "language_info": {
      "name": "python"
    }
  },
  "cells": [
    {
      "cell_type": "markdown",
      "metadata": {
        "id": "LLr50J6qliBf"
      },
      "source": [
        "**1801CS37 - ENDSEM ASSIGNMENT**\n"
      ]
    },
    {
      "cell_type": "code",
      "metadata": {
        "id": "1TDp90jytPn4"
      },
      "source": [
        "from queue import PriorityQueue\n",
        "from dataclasses import dataclass\n",
        "import random\n",
        "import time\n",
        "import math\n",
        "import fileinput\n",
        "\n",
        "optimal_path = []\n",
        "MAX_ITERATIONS = 100000\n",
        "outFile = open(\"output.txt\", \"w\")"
      ],
      "execution_count": 1,
      "outputs": []
    },
    {
      "cell_type": "markdown",
      "metadata": {
        "id": "frOKy6CGtlhq"
      },
      "source": [
        "Node Class"
      ]
    },
    {
      "cell_type": "code",
      "metadata": {
        "id": "Jj0WqG5ctwcl"
      },
      "source": [
        "@dataclass(order=True)\n",
        "class Node():\n",
        "    \"\"\"Node class :-\n",
        "        state: board configuration(a list)\n",
        "        depth: Node depth - g(n)\n",
        "        h1: Number of tiles displaced from their destined position\n",
        "        h2: Sum of Manhattan distance of each tile from the goal position\n",
        "        parent: parent of the current node \n",
        "    \"\"\"\n",
        "    def __init__(self, state, depth):\n",
        "        self.state = state\n",
        "        self.depth = depth\n",
        "        self.h1 = None\n",
        "        self.h2 = None\n",
        "        self.parent = None\n",
        "        self.priority = random.randrange(1)\n",
        "\n",
        "    def calc_heuristic(self, goal_state):\n",
        "        self.h1 = h1_function(self.state, goal_state)\n",
        "        self.h2 = h2_function(self.state, goal_state)\n",
        "        self.h3 = self.h1 + self.h2\n",
        "\n",
        "    def back_track(self):\n",
        "        current = self\n",
        "        count = 0\n",
        "        optimal_path.clear()\n",
        "        while (current != None):\n",
        "            bs = board_state(current.state)\n",
        "            optimal_path.append(current.state)\n",
        "            count += 1\n",
        "            current = current.parent\n",
        "        return count"
      ],
      "execution_count": 2,
      "outputs": []
    },
    {
      "cell_type": "markdown",
      "metadata": {
        "id": "-S4tnCdivM7a"
      },
      "source": [
        "Heuristics"
      ]
    },
    {
      "cell_type": "code",
      "metadata": {
        "id": "nOxrYjdVvn6t"
      },
      "source": [
        "def h1_function(current_state, goal_state):\n",
        "    \"\"\"Number of tiles displaced from their destined position.\"\"\"\n",
        "    cost=0\n",
        "    # print(current_state, goal_state)\n",
        "    for i in range(len(current_state)):\n",
        "        if current_state[i]!=goal_state[i]:\n",
        "            cost+=1\n",
        "    return cost\n",
        "\n",
        "def h2_function(current_state, goal_state): \n",
        "    \"\"\"Sum of Manhattan distance of each tile from the goal position.\"\"\"\n",
        "    cost=0\n",
        "    final_position = cordinates(goal_state)\n",
        "    temp=board_state(current_state)\n",
        "    for i in range(3):\n",
        "        for j in range(3):\n",
        "            t=temp[i][j]\n",
        "            xf, yf = final_position[t]\n",
        "            cost += abs(xf-i)+abs(yf-j)\n",
        "    return cost"
      ],
      "execution_count": 3,
      "outputs": []
    },
    {
      "cell_type": "markdown",
      "metadata": {
        "id": "UnuhsnfywsLO"
      },
      "source": [
        "Utility Functions"
      ]
    },
    {
      "cell_type": "code",
      "metadata": {
        "id": "XZBcfKadwuBr"
      },
      "source": [
        "def board_state(state):\n",
        "    \"\"\"Return 2-d matrix representation\"\"\"\n",
        "    i=0\n",
        "    temp=[([0]*3) for j in range(3)]\n",
        "    for row in range(3):\n",
        "        for col in range(3):\n",
        "            temp[row][col]=state[i]\n",
        "            i+=1\n",
        "    return temp\n",
        "\n",
        "def display_board(state, outFile):\n",
        "    \"\"\"Print the board\"\"\"\n",
        "    outFile.write(\"\\n-------------\")\n",
        "    outFile.write(\"\\n| %i | %i | %i |\" % (state[0], state[1], state[2]))\n",
        "    outFile.write(\"\\n-------------\")\n",
        "    outFile.write(\"\\n| %i | %i | %i |\" % (state[3], state[4], state[5]))\n",
        "    outFile.write(\"\\n-------------\")\n",
        "    outFile.write(\"\\n| %i | %i | %i |\" % (state[6], state[7], state[8]))\n",
        "    outFile.write(\"\\n-------------\\n\")\n",
        "\n",
        "def cordinates(state):\n",
        "    \"\"\"Return position coordinates in the goal state\"\"\"\n",
        "    cords = [None] * 9\n",
        "    for index, i  in enumerate(state):\n",
        "        cords[i] = (index // 3, index % 3)\n",
        "    return cords\n",
        "\n",
        "# move the blank title up on the board\n",
        "def move_up(state):\n",
        "    new_state=state[:]\n",
        "    index = new_state.index(0)\n",
        "    if index not in [0,1,2]:\n",
        "        temp = new_state[index-3]\n",
        "        new_state[index-3]=new_state[index]\n",
        "        new_state[index]=temp\n",
        "    return new_state\n",
        "\n",
        "# move the blank title down on the board\n",
        "def move_down(state):\n",
        "    new_state=state[:]\n",
        "    index=new_state.index(0)\n",
        "    if index not in [6,7,8]:\n",
        "        temp = new_state[index+3]\n",
        "        new_state[index+3]=new_state[index]\n",
        "        new_state[index]=temp\n",
        "    return new_state\n",
        "\n",
        "# move the blank title left on the board\n",
        "def move_left(state):\n",
        "    new_state = state[:]\n",
        "    index = new_state.index(0)\n",
        "    if index not in [0,3,6]:\n",
        "        temp = new_state[index-1]\n",
        "        new_state[index-1]=new_state[index]\n",
        "        new_state[index]=temp\n",
        "    return new_state\n",
        "\n",
        "# move the blank title right on the board\n",
        "def move_right(state):\n",
        "    new_state = state[:]\n",
        "    index = new_state.index(0)\n",
        "    if index not in [2,5,8]:\n",
        "        temp = new_state[index+1]\n",
        "        new_state[index+1] = new_state[index]\n",
        "        new_state[index]=temp\n",
        "    return new_state"
      ],
      "execution_count": 4,
      "outputs": []
    },
    {
      "cell_type": "code",
      "metadata": {
        "id": "Y4dRr6pjxAVf"
      },
      "source": [
        "def expansion(state):\n",
        "    \"\"\"Expand nodes along the children\"\"\"\n",
        "    expanded_nodes = []\n",
        "    expanded_nodes.append(move_up(state))       # moving up\n",
        "    expanded_nodes.append(move_down(state))     # moving down\n",
        "    expanded_nodes.append(move_left(state))     # moving left\n",
        "    expanded_nodes.append(move_right(state))    # moving right\n",
        "    expanded_nodes = [x for x in expanded_nodes if x]\n",
        "    return(expanded_nodes)"
      ],
      "execution_count": 5,
      "outputs": []
    },
    {
      "cell_type": "markdown",
      "metadata": {
        "id": "cCK5IELxR2bH"
      },
      "source": [
        "Hill Climbing"
      ]
    },
    {
      "cell_type": "code",
      "metadata": {
        "id": "gceTJD6tR7Nv"
      },
      "source": [
        "def hillClimbing(start_state, goal_state, heuristic):\n",
        "    \"\"\"Cost function: f(n) = h(n). In this algorithm, we push the child nodes \n",
        "    corresponding to the least heuristic greedily and discard the others.\n",
        "    Might not result in global optimum path\"\"\"\n",
        "    iterations = 0\n",
        "    open = PriorityQueue()\n",
        "    closed = []\n",
        "\n",
        "    start_node = Node(start_state, 0)\n",
        "    start_node.calc_heuristic(goal_state)\n",
        "    \n",
        "    open.put((getattr(start_node, heuristic), start_node))\n",
        "\n",
        "    while (not open.empty()):\n",
        "        iterations+=1\n",
        "        if iterations>MAX_ITERATIONS:\n",
        "            print(\"Failure: No solution found\")\n",
        "            print(\"Total number of states explored:\\n\", len(closed))\n",
        "            return None\n",
        "        cost, parent = open.get()\n",
        "        open.queue.clear()\n",
        "        closed.append(parent.state)\n",
        "        if (parent.state == goal_state):\n",
        "            return (parent, len(closed))\n",
        "        for i in expansion(parent.state):\n",
        "            temp_node = Node(i, parent.depth + 1)\n",
        "            temp_node.parent = parent\n",
        "\n",
        "            if (temp_node.state == goal_state):\n",
        "                return (temp_node, len(closed))\n",
        "            elif (temp_node.state in closed):\n",
        "                continue\n",
        "            \n",
        "            temp_node.calc_heuristic(goal_state)\n",
        "            open.put((getattr(temp_node, heuristic), temp_node))"
      ],
      "execution_count": 6,
      "outputs": []
    },
    {
      "cell_type": "markdown",
      "metadata": {
        "id": "NcKUKwtiSKMJ"
      },
      "source": [
        "Driver code"
      ]
    },
    {
      "cell_type": "code",
      "metadata": {
        "id": "B7kIbC4eSPYs"
      },
      "source": [
        "def main():\n",
        "    # Read input\n",
        "    lines = fileinput.FileInput(files = 'input.txt')\n",
        "\n",
        "    # Define start, goal state\n",
        "    start_state = [int(x) for x in lines[0].split(' ')]\n",
        "    goal_state = [1, 2, 3, 4, 5, 6, 7, 8, 0]\n",
        "\n",
        "    # Start Hill Climbing Algorithm\n",
        "    outFile.write(\"\\nHill Climb Search:\\n\\n\")\n",
        "    \n",
        "\n",
        "    heuristic_types = [\"h1\", \"h2\", \"h3\"]\n",
        "    for i in range(3):\n",
        "        start_clock = time.time()\n",
        "        heuristic = heuristic_types[i]\n",
        "        outFile.write(\"Heuristic: \" + heuristic + \"\\n\\n\")\n",
        "\n",
        "        val = hillClimbing(start_state, goal_state, heuristic)\n",
        "        \n",
        "        # If Valid solution, display it\n",
        "        if val!=None:\n",
        "            node_1 = val[0]\n",
        "            expl = val[1]\n",
        "            \n",
        "            outFile.write(\"Success! Solution found \\n\")\n",
        "            hc_execution_time = time.time()-start_clock\n",
        "            \n",
        "            outFile.write(\"Total number of states explored:\" + str(expl) + \"\\n\")\n",
        "            optimal_cost = node_1.back_track()\n",
        "            \n",
        "            outFile.write(\"Total number of states in optimal path:\" + str(optimal_cost) + \"\\n\")\n",
        "            outFile.write(\"\\n\\nOptimal Path: \\n\")\n",
        "\n",
        "            optimal_path.reverse()\n",
        "            for state in optimal_path:\n",
        "                display_board(state, outFile)\n",
        "    \n",
        "            outFile.write(\"Optimal path cost:\" + str(optimal_cost) + \"\\n\")\n",
        "            outFile.write(\"Time taken for execution (Hill Climbing):\" + str(hc_execution_time) + \"\\n\")\n",
        "        # If invalid, print no solution\n",
        "        else:\n",
        "            outFile.write(\"\\nNo solution found\\n\")\n",
        "        \n",
        "        outFile.write(\"\\n\\n\\n------------------------------------------------------\\n\\n\")\n",
        "\n",
        "    outFile.close()\n",
        "\n",
        "if __name__ == \"__main__\":\n",
        "    main()"
      ],
      "execution_count": 7,
      "outputs": []
    }
  ]
}