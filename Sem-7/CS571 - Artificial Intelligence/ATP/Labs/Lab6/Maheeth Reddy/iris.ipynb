{
 "cells": [
  {
   "cell_type": "code",
   "execution_count": 1,
   "metadata": {},
   "outputs": [],
   "source": [
    "# Getting imports\n",
    "import numpy as np\n",
    "import pandas as pd\n",
    "import matplotlib.pyplot as plt\n",
    "from sklearn.metrics import classification_report, accuracy_score\n",
    "from collections import Counter\n",
    "# Importing torch\n",
    "import torch\n",
    "import torch.nn.functional as F\n",
    "import torch.nn as nn\n",
    "\n",
    "plt.style.use('ggplot')\n",
    "from sklearn.datasets import load_iris\n",
    "from sklearn.model_selection import train_test_split\n",
    "from sklearn.preprocessing import StandardScaler"
   ]
  },
  {
   "cell_type": "code",
   "execution_count": 2,
   "metadata": {},
   "outputs": [],
   "source": [
    "# Load dataset\n",
    "iris = load_iris()\n",
    "X = iris['data']\n",
    "y = iris['target']\n",
    "names = iris['target_names']\n",
    "feature_names = iris['feature_names']\n",
    "\n",
    "# Scale data to have mean 0 and variance 1 \n",
    "# which is importance for convergence of the neural network\n",
    "scaler = StandardScaler()\n",
    "X_scaled = scaler.fit_transform(X)"
   ]
  },
  {
   "cell_type": "code",
   "execution_count": 3,
   "metadata": {},
   "outputs": [
    {
     "name": "stdout",
     "output_type": "stream",
     "text": [
      "(150, 4)\n",
      "(150,)\n"
     ]
    },
    {
     "data": {
      "text/plain": [
       "150"
      ]
     },
     "execution_count": 3,
     "metadata": {},
     "output_type": "execute_result"
    }
   ],
   "source": [
    "print(X_scaled.shape)\n",
    "print(y.shape)\n",
    "len(y==0)"
   ]
  },
  {
   "cell_type": "code",
   "execution_count": 4,
   "metadata": {},
   "outputs": [
    {
     "name": "stdout",
     "output_type": "stream",
     "text": [
      "Counter({0: 50, 1: 50, 2: 50})\n",
      "train_size {0: 40, 1: 40, 2: 40}\n"
     ]
    }
   ],
   "source": [
    "# Splitting into train and test\n",
    "count_dict = Counter(y)\n",
    "print(count_dict)\n",
    "train_size = {}\n",
    "for key, value in count_dict.items():\n",
    "    train_size[key] = int(value*0.8)\n",
    "print('train_size', train_size)\n",
    "train_X, train_y = [], []\n",
    "test_X, test_y = [], []\n",
    "for data, label in zip(X_scaled, y):\n",
    "    if train_size[label] >0:\n",
    "        train_X.append(data)\n",
    "        train_y.append(label)\n",
    "        train_size[label] = train_size[label]-1\n",
    "    else:\n",
    "        test_X.append(data)\n",
    "        test_y.append(label)\n",
    "X_train, y_train = np.array(train_X), np.array(train_y)\n",
    "X_test, y_test = np.array(test_X), np.array(test_y)"
   ]
  },
  {
   "cell_type": "code",
   "execution_count": 5,
   "metadata": {},
   "outputs": [
    {
     "name": "stdout",
     "output_type": "stream",
     "text": [
      "Train shape (120, 4) (120,)\n",
      "Test shape (30, 4) (30,)\n"
     ]
    }
   ],
   "source": [
    "print('Train shape', X_train.shape, y_train.shape)\n",
    "print('Test shape', X_test.shape, y_test.shape)"
   ]
  },
  {
   "cell_type": "code",
   "execution_count": 6,
   "metadata": {},
   "outputs": [],
   "source": [
    "# NOTE: Setting hyper-parameters\n",
    "input_size = X_train.shape[1] # 28x28\n",
    "hidden_size = [32,64,128,256,512,1024] \n",
    "num_classes = 3\n",
    "num_epochs = 15\n",
    "batch_size = 32\n",
    "learning_rate = 0.001 "
   ]
  },
  {
   "cell_type": "code",
   "execution_count": 7,
   "metadata": {},
   "outputs": [],
   "source": [
    "# Defining the dataloader\n",
    "train_loader = torch.utils.data.DataLoader(torch.utils.data.TensorDataset(torch.tensor(X_train), torch.tensor(y_train, dtype=torch.long)),\n",
    "                                            batch_size=batch_size, \n",
    "                                            shuffle=True)\n",
    "test_loader = torch.utils.data.DataLoader(torch.utils.data.TensorDataset(torch.tensor(X_test), torch.tensor(y_test, dtype=torch.long)),\n",
    "                                           batch_size=batch_size, \n",
    "                                           shuffle=False)"
   ]
  },
  {
   "cell_type": "code",
   "execution_count": 8,
   "metadata": {},
   "outputs": [],
   "source": [
    "# NOTE: Neural Model\n",
    "class singleMLP(nn.Module):\n",
    "    def __init__(self, input_dim, hidden_dim, num_classes):\n",
    "        super(singleMLP, self).__init__()\n",
    "        self.input_dim = input_dim\n",
    "        self.l1 = nn.Linear(input_dim, hidden_dim) \n",
    "        self.relu = nn.ReLU()\n",
    "        self.l2 = nn.Linear(hidden_dim, num_classes)   \n",
    "    def forward(self, x):\n",
    "            out = self.l1(x)\n",
    "            out = self.relu(out)\n",
    "            out = self.l2(out)\n",
    "            return out"
   ]
  },
  {
   "cell_type": "code",
   "execution_count": 9,
   "metadata": {},
   "outputs": [],
   "source": [
    "# Defining the device\n",
    "device = torch.device('cpu')"
   ]
  },
  {
   "cell_type": "code",
   "execution_count": 10,
   "metadata": {},
   "outputs": [],
   "source": [
    "# Creating the model\n",
    "model = singleMLP(input_size, hidden_size[0], num_classes).to(device)"
   ]
  },
  {
   "cell_type": "code",
   "execution_count": 11,
   "metadata": {},
   "outputs": [],
   "source": [
    "# Defining the loss and the optimizer\n",
    "criterion = nn.CrossEntropyLoss()\n",
    "optimizer = torch.optim.Adam(model.parameters(), lr=learning_rate)"
   ]
  },
  {
   "cell_type": "code",
   "execution_count": 12,
   "metadata": {},
   "outputs": [
    {
     "name": "stdout",
     "output_type": "stream",
     "text": [
      "Epoch [1/15], Step[1/4], Loss: 1.1040\n",
      "Epoch [1/15], Step[2/4], Loss: 1.0940\n",
      "Epoch [1/15], Step[3/4], Loss: 1.0726\n",
      "Epoch [1/15], Step[4/4], Loss: 1.0877\n",
      "Epoch [2/15], Step[1/4], Loss: 1.0776\n",
      "Epoch [2/15], Step[2/4], Loss: 1.0779\n",
      "Epoch [2/15], Step[3/4], Loss: 1.0196\n",
      "Epoch [2/15], Step[4/4], Loss: 1.0725\n",
      "Epoch [3/15], Step[1/4], Loss: 1.0272\n",
      "Epoch [3/15], Step[2/4], Loss: 1.0568\n",
      "Epoch [3/15], Step[3/4], Loss: 1.0093\n",
      "Epoch [3/15], Step[4/4], Loss: 1.0404\n",
      "Epoch [4/15], Step[1/4], Loss: 0.9857\n",
      "Epoch [4/15], Step[2/4], Loss: 1.0155\n",
      "Epoch [4/15], Step[3/4], Loss: 1.0156\n",
      "Epoch [4/15], Step[4/4], Loss: 1.0064\n",
      "Epoch [5/15], Step[1/4], Loss: 0.9808\n",
      "Epoch [5/15], Step[2/4], Loss: 0.9648\n",
      "Epoch [5/15], Step[3/4], Loss: 0.9945\n",
      "Epoch [5/15], Step[4/4], Loss: 0.9717\n",
      "Epoch [6/15], Step[1/4], Loss: 0.9047\n",
      "Epoch [6/15], Step[2/4], Loss: 0.9870\n",
      "Epoch [6/15], Step[3/4], Loss: 0.9724\n",
      "Epoch [6/15], Step[4/4], Loss: 0.9360\n",
      "Epoch [7/15], Step[1/4], Loss: 0.8885\n",
      "Epoch [7/15], Step[2/4], Loss: 0.9514\n",
      "Epoch [7/15], Step[3/4], Loss: 0.9221\n",
      "Epoch [7/15], Step[4/4], Loss: 0.9377\n",
      "Epoch [8/15], Step[1/4], Loss: 0.9266\n",
      "Epoch [8/15], Step[2/4], Loss: 0.9134\n",
      "Epoch [8/15], Step[3/4], Loss: 0.8190\n",
      "Epoch [8/15], Step[4/4], Loss: 0.9387\n",
      "Epoch [9/15], Step[1/4], Loss: 0.8554\n",
      "Epoch [9/15], Step[2/4], Loss: 0.9130\n",
      "Epoch [9/15], Step[3/4], Loss: 0.7849\n",
      "Epoch [9/15], Step[4/4], Loss: 0.9517\n",
      "Epoch [10/15], Step[1/4], Loss: 0.8703\n",
      "Epoch [10/15], Step[2/4], Loss: 0.8094\n",
      "Epoch [10/15], Step[3/4], Loss: 0.8965\n",
      "Epoch [10/15], Step[4/4], Loss: 0.7873\n",
      "Epoch [11/15], Step[1/4], Loss: 0.7972\n",
      "Epoch [11/15], Step[2/4], Loss: 0.8177\n",
      "Epoch [11/15], Step[3/4], Loss: 0.8279\n",
      "Epoch [11/15], Step[4/4], Loss: 0.8407\n",
      "Epoch [12/15], Step[1/4], Loss: 0.8075\n",
      "Epoch [12/15], Step[2/4], Loss: 0.7713\n",
      "Epoch [12/15], Step[3/4], Loss: 0.7551\n",
      "Epoch [12/15], Step[4/4], Loss: 0.8593\n",
      "Epoch [13/15], Step[1/4], Loss: 0.7628\n",
      "Epoch [13/15], Step[2/4], Loss: 0.8046\n",
      "Epoch [13/15], Step[3/4], Loss: 0.7499\n",
      "Epoch [13/15], Step[4/4], Loss: 0.7582\n",
      "Epoch [14/15], Step[1/4], Loss: 0.7448\n",
      "Epoch [14/15], Step[2/4], Loss: 0.7299\n",
      "Epoch [14/15], Step[3/4], Loss: 0.7718\n",
      "Epoch [14/15], Step[4/4], Loss: 0.7327\n",
      "Epoch [15/15], Step[1/4], Loss: 0.7363\n",
      "Epoch [15/15], Step[2/4], Loss: 0.7337\n",
      "Epoch [15/15], Step[3/4], Loss: 0.7204\n",
      "Epoch [15/15], Step[4/4], Loss: 0.6922\n"
     ]
    }
   ],
   "source": [
    "# Defining the training loop\n",
    "n_total_steps = len(train_loader)\n",
    "for epoch in range(num_epochs):\n",
    "    for i, (features, labels) in enumerate(train_loader):\n",
    "        features = features.to(device)\n",
    "        labels = labels.to(device)\n",
    "        # Forward pass\n",
    "        outputs = model(features.float())\n",
    "        loss = criterion(outputs, labels)\n",
    "        # Backward and optimize\n",
    "        optimizer.zero_grad()\n",
    "        loss.backward()\n",
    "        optimizer.step()\n",
    "        if (i+1) % 1 == 0:\n",
    "            print (f'Epoch [{epoch+1}/{num_epochs}], Step[{i+1}/{n_total_steps}], Loss: {loss.item():.4f}')"
   ]
  },
  {
   "cell_type": "code",
   "execution_count": 13,
   "metadata": {},
   "outputs": [
    {
     "name": "stdout",
     "output_type": "stream",
     "text": [
      "Accuracy of the network on the 30 test features: 93.33333333333333 %\n",
      "              precision    recall  f1-score   support\n",
      "\n",
      "           0       1.00      1.00      1.00        10\n",
      "           1       1.00      0.80      0.89        10\n",
      "           2       0.83      1.00      0.91        10\n",
      "\n",
      "    accuracy                           0.93        30\n",
      "   macro avg       0.94      0.93      0.93        30\n",
      "weighted avg       0.94      0.93      0.93        30\n",
      "\n"
     ]
    }
   ],
   "source": [
    "# Testing the model\n",
    "with torch.no_grad():\n",
    "    true_lables = []\n",
    "    predicted_labels = []\n",
    "    for features, labels in test_loader:\n",
    "        features = features.to(device)\n",
    "        labels = labels.to(device)\n",
    "        outputs = model(features.float())\n",
    "        # max returns (value ,index)\n",
    "        _, predicted = torch.max(outputs.data, 1)\n",
    "        predicted_labels.extend(predicted)\n",
    "        true_lables.extend(labels)\n",
    "    accuracy = accuracy_score(true_lables, predicted_labels)*100\n",
    "    print(f'Accuracy of the network on the 30 test features: {accuracy} %')\n",
    "    print(classification_report(true_lables, predicted_labels)) "
   ]
  },
  {
   "cell_type": "code",
   "execution_count": 14,
   "metadata": {},
   "outputs": [
    {
     "name": "stdout",
     "output_type": "stream",
     "text": [
      "Experimenting with hidden size value 32\n",
      "Accuracy of the network on the 30 test features: 83.33333333333334 %\n",
      "              precision    recall  f1-score   support\n",
      "\n",
      "           0       1.00      1.00      1.00        10\n",
      "           1       0.78      0.70      0.74        10\n",
      "           2       0.73      0.80      0.76        10\n",
      "\n",
      "    accuracy                           0.83        30\n",
      "   macro avg       0.84      0.83      0.83        30\n",
      "weighted avg       0.84      0.83      0.83        30\n",
      "\n",
      "Experimenting with hidden size value 64\n",
      "Accuracy of the network on the 30 test features: 90.0 %\n",
      "              precision    recall  f1-score   support\n",
      "\n",
      "           0       0.91      1.00      0.95        10\n",
      "           1       1.00      0.70      0.82        10\n",
      "           2       0.83      1.00      0.91        10\n",
      "\n",
      "    accuracy                           0.90        30\n",
      "   macro avg       0.91      0.90      0.90        30\n",
      "weighted avg       0.91      0.90      0.90        30\n",
      "\n",
      "Experimenting with hidden size value 128\n",
      "Accuracy of the network on the 30 test features: 100.0 %\n",
      "              precision    recall  f1-score   support\n",
      "\n",
      "           0       1.00      1.00      1.00        10\n",
      "           1       1.00      1.00      1.00        10\n",
      "           2       1.00      1.00      1.00        10\n",
      "\n",
      "    accuracy                           1.00        30\n",
      "   macro avg       1.00      1.00      1.00        30\n",
      "weighted avg       1.00      1.00      1.00        30\n",
      "\n",
      "Experimenting with hidden size value 256\n",
      "Accuracy of the network on the 30 test features: 96.66666666666667 %\n",
      "              precision    recall  f1-score   support\n",
      "\n",
      "           0       1.00      0.90      0.95        10\n",
      "           1       0.91      1.00      0.95        10\n",
      "           2       1.00      1.00      1.00        10\n",
      "\n",
      "    accuracy                           0.97        30\n",
      "   macro avg       0.97      0.97      0.97        30\n",
      "weighted avg       0.97      0.97      0.97        30\n",
      "\n",
      "Experimenting with hidden size value 512\n",
      "Accuracy of the network on the 30 test features: 96.66666666666667 %\n",
      "              precision    recall  f1-score   support\n",
      "\n",
      "           0       1.00      0.90      0.95        10\n",
      "           1       0.91      1.00      0.95        10\n",
      "           2       1.00      1.00      1.00        10\n",
      "\n",
      "    accuracy                           0.97        30\n",
      "   macro avg       0.97      0.97      0.97        30\n",
      "weighted avg       0.97      0.97      0.97        30\n",
      "\n",
      "Experimenting with hidden size value 1024\n",
      "Accuracy of the network on the 30 test features: 96.66666666666667 %\n",
      "              precision    recall  f1-score   support\n",
      "\n",
      "           0       1.00      0.90      0.95        10\n",
      "           1       0.91      1.00      0.95        10\n",
      "           2       1.00      1.00      1.00        10\n",
      "\n",
      "    accuracy                           0.97        30\n",
      "   macro avg       0.97      0.97      0.97        30\n",
      "weighted avg       0.97      0.97      0.97        30\n",
      "\n"
     ]
    }
   ],
   "source": [
    "# NOTE; Experimenting with different values of hidden layers\n",
    "accuracies = []\n",
    "for hidden_size_val in hidden_size:\n",
    "    print('Experimenting with hidden size value', hidden_size_val)\n",
    "    # Creating the model\n",
    "    model = singleMLP(input_size, hidden_size_val, num_classes).to(device)\n",
    "    # Defining the loss and the optimizer\n",
    "    criterion = nn.CrossEntropyLoss()\n",
    "    optimizer = torch.optim.Adam(model.parameters(), lr=learning_rate)\n",
    "    # Defining the training loop\n",
    "    n_total_steps = len(train_loader)\n",
    "    for epoch in range(num_epochs):\n",
    "        for i, (features, labels) in enumerate(train_loader):  \n",
    "            # origin shape: [100, 1, 28, 28]\n",
    "            # resized: [100, 784]\n",
    "            features = features.to(device)\n",
    "            labels = labels.to(device)\n",
    "            # Forward pass\n",
    "            outputs = model(features.float())\n",
    "            loss = criterion(outputs, labels)\n",
    "            # Backward and optimize\n",
    "            optimizer.zero_grad()\n",
    "            loss.backward()\n",
    "            optimizer.step()\n",
    "            if (i+1) % 200 == 0:\n",
    "                print (f'Epoch [{epoch+1}/{num_epochs}], Step[{i+1}/{n_total_steps}], Loss: {loss.item():.4f}')\n",
    "    # Testing the model\n",
    "    with torch.no_grad():\n",
    "        n_correct = 0\n",
    "        n_samples = 0\n",
    "        true_lables = []\n",
    "        predicted_labels = []\n",
    "        for features, labels in test_loader:\n",
    "            features = features.to(device)\n",
    "            labels = labels.to(device)\n",
    "            outputs = model(features.float())\n",
    "            # max returns (value ,index)\n",
    "            _, predicted = torch.max(outputs.data, 1)\n",
    "            predicted_labels.extend(predicted)\n",
    "            true_lables.extend(labels)\n",
    "        accuracy = accuracy_score(true_lables, predicted_labels)*100\n",
    "        accuracies.append(accuracy)\n",
    "        print(f'Accuracy of the network on the 30 test features: {accuracy} %')\n",
    "        print(classification_report(true_lables, predicted_labels)) "
   ]
  },
  {
   "cell_type": "code",
   "execution_count": 19,
   "metadata": {},
   "outputs": [
    {
     "data": {
      "image/png": "[encoded data removed]",
      "text/plain": [
       "<Figure size 432x288 with 1 Axes>"
      ]
     },
     "metadata": {
      "needs_background": "light"
     },
     "output_type": "display_data"
    }
   ],
   "source": [
    "# Plotting the trend of accuracy vs hidden_dim\n",
    "accuracy_df = pd.DataFrame()\n",
    "accuracy_df['hidden_sizes'] = hidden_size\n",
    "accuracy_df['accuracies'] = accuracies\n",
    "accuracy_df.plot(x=\"hidden_sizes\", y=\"accuracies\", kind=\"line\")\n",
    "plt.title('IRIS Dataset')\n",
    "plt.ylabel('Accuracies')\n",
    "plt.show()"
   ]
  }
 ],
 "metadata": {
  "interpreter": {
   "hash": "4905652b14e4b7eb92899b78ac499a22c488804455b27940a322fd82aaf71031"
  },
  "kernelspec": {
   "display_name": "Python 3.7.3 64-bit ('base': conda)",
   "name": "python3"
  },
  "language_info": {
   "codemirror_mode": {
    "name": "ipython",
    "version": 3
   },
   "file_extension": ".py",
   "mimetype": "text/x-python",
   "name": "python",
   "nbconvert_exporter": "python",
   "pygments_lexer": "ipython3",
   "version": "3.7.3"
  },
  "orig_nbformat": 4
 },
 "nbformat": 4,
 "nbformat_minor": 2
}
