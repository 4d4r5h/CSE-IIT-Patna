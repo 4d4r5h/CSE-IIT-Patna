{
 "cells": [
  {
   "cell_type": "markdown",
   "metadata": {
    "id": "LLr50J6qliBf"
   },
   "source": [
    "### **Group Id - 1801cs36_1801cs37**\n",
    "*   1801CS36 - Mahesh Babu\n",
    "*   1801CS37 - Sriram Pingali"
   ]
  },
  {
   "cell_type": "markdown",
   "metadata": {
    "id": "cQ3xcOTObINc"
   },
   "source": [
    "### **Question - 1** <br>\n",
    "The heuristic h1(n) =  **Admissible**.\n",
    "\n",
    "\n",
    "*   In the 8-puzzle problem, each displaced tile must be moved at least once to\n",
    "reach the goal state. \n",
    "*   So, the total number of moves to order the tiles correctly, or the\n",
    "cost to reach the goal state will be greater than or equal to the number of displaced tiles. \n",
    "\n",
    "*   Since, this heuristic is not overestimating the cost of reaching the goal state, it is admissible. <br/><br/>\n",
    "\n",
    "The heuristic h2(n) = **Admissible**.\n",
    "\n",
    "\n",
    "*   Since we can only move one block at a time and in only one of the four\n",
    "directions. The optimal scenario for each block is that it has a clear, unobstructed path to its goal state. This is a Manhattan Distance. \n",
    "* The rest of the states for a pair of blocks is sub-optimal, meaning it will take more moves than the Manhattan Distance to get the block in the right place. \n",
    "*Thus, this heuristic does not overestimate the cost of\n",
    "reaching the goal state. Therefore it is admissible\n",
    "\n",
    "\n",
    "\n",
    "\n"
   ]
  },
  {
   "cell_type": "markdown",
   "metadata": {
    "id": "yFhdZs5BbbOY"
   },
   "source": [
    "### **Question - 2**\n",
    "**Not Necessarily admissible.**\n",
    "<br>\n",
    "* A heuristic h is admissible if h(n) <= h*(n) where h*(n) is the true cost to a\n",
    "nearest goal. \n",
    "* We know that h1 and h2 are admissible. So, h1(n) <= h*(n) and h2(n) <= h*(n).\n",
    "* Now, h3(n) = h1(n) * h2(n) does not guarantee that h3(n) <= h*(n). Therefore, the admissibility of the heuristic h3(n) cannot be deduced."
   ]
  },
  {
   "cell_type": "markdown",
   "metadata": {
    "id": "UtjJQFRTcMOL"
   },
   "source": [
    "### **Question - 3** <br/>\n",
    "The Heuristic value would increase because, initially we do not consider the blank as a tile, but now the error associated with blank tile would also be considered. This might affect admisibility"
   ]
  },
  {
   "cell_type": "markdown",
   "metadata": {
    "id": "Asf5S3F_cXYX"
   },
   "source": [
    "### **Question - 4**\n",
    "\n",
    "We can get out of the local optimum by, - <br>\n",
    "* Simulated Annealing - Accept candidates with higher cost to escape local optimum.\n",
    "* Hill Climbing - Random Walk Hill Climbing / Random Restart hill climbing\n"
   ]
  },
  {
   "cell_type": "code",
   "execution_count": 1,
   "metadata": {
    "id": "1TDp90jytPn4"
   },
   "outputs": [],
   "source": [
    "from queue import PriorityQueue\n",
    "from dataclasses import dataclass\n",
    "import random\n",
    "import time\n",
    "import math\n",
    "import fileinput\n",
    "\n",
    "optimal_path = []\n",
    "MAX_ITERATIONS = 100000"
   ]
  },
  {
   "cell_type": "markdown",
   "metadata": {
    "id": "frOKy6CGtlhq"
   },
   "source": [
    "Node Class"
   ]
  },
  {
   "cell_type": "code",
   "execution_count": 2,
   "metadata": {
    "id": "Jj0WqG5ctwcl"
   },
   "outputs": [],
   "source": [
    "@dataclass(order=True)\n",
    "class Node():\n",
    "    \"\"\"Node class :-\n",
    "        state: board configuration(a list)\n",
    "        depth: Node depth - g(n)\n",
    "        h1: Number of tiles displaced from their destined position\n",
    "        h2: Sum of Manhattan distance of each tile from the goal position\n",
    "        parent: parent of the current node \n",
    "    \"\"\"\n",
    "    def __init__(self, state, depth):\n",
    "        self.state = state\n",
    "        self.depth = depth\n",
    "        self.h1 = None\n",
    "        self.h2 = None\n",
    "        self.parent = None\n",
    "        self.priority = random.randrange(1)\n",
    "\n",
    "    def calc_heuristic(self, goal_state):\n",
    "        self.h1 = h1_function(self.state, goal_state)\n",
    "        self.h2 = h2_function(self.state, goal_state)\n",
    "        self.h3 = self.h1 * self.h2\n",
    "\n",
    "    def back_track(self):\n",
    "        current = self\n",
    "        count = 0\n",
    "        optimal_path.clear()\n",
    "        while (current != None):\n",
    "            bs = board_state(current.state)\n",
    "            optimal_path.append(current.state)\n",
    "            count += 1\n",
    "            current = current.parent\n",
    "        return count"
   ]
  },
  {
   "cell_type": "markdown",
   "metadata": {
    "id": "-S4tnCdivM7a"
   },
   "source": [
    "Heuristics"
   ]
  },
  {
   "cell_type": "code",
   "execution_count": 3,
   "metadata": {
    "id": "nOxrYjdVvn6t"
   },
   "outputs": [],
   "source": [
    "def h1_function(current_state, goal_state):\n",
    "    \"\"\"Number of tiles displaced from their destined position.\"\"\"\n",
    "    cost=0\n",
    "    # print(current_state, goal_state)\n",
    "    for i in range(len(current_state)):\n",
    "        if current_state[i]!=goal_state[i]:\n",
    "            cost+=1\n",
    "    return cost\n",
    "\n",
    "def h2_function(current_state, goal_state): \n",
    "    \"\"\"Sum of Manhattan distance of each tile from the goal position.\"\"\"\n",
    "    cost=0\n",
    "    final_position = cordinates(goal_state)\n",
    "    temp=board_state(current_state)\n",
    "    for i in range(3):\n",
    "        for j in range(3):\n",
    "            t=temp[i][j]\n",
    "            xf, yf = final_position[t]\n",
    "            cost += abs(xf-i)+abs(yf-j)\n",
    "    return cost"
   ]
  },
  {
   "cell_type": "markdown",
   "metadata": {
    "id": "UnuhsnfywsLO"
   },
   "source": [
    "Utility Functions"
   ]
  },
  {
   "cell_type": "code",
   "execution_count": 4,
   "metadata": {
    "id": "XZBcfKadwuBr"
   },
   "outputs": [],
   "source": [
    "def board_state(state):\n",
    "    \"\"\"Return 2-d matrix representation\"\"\"\n",
    "    i=0\n",
    "    temp=[([0]*3) for j in range(3)]\n",
    "    for row in range(3):\n",
    "        for col in range(3):\n",
    "            temp[row][col]=state[i]\n",
    "            i+=1\n",
    "    return temp\n",
    "\n",
    "def display_board(state):\n",
    "    \"\"\"Print the board\"\"\"\n",
    "    print(\"-------------\")\n",
    "    print(\"| %i | %i | %i |\" % (state[0], state[1], state[2]))\n",
    "    print(\"-------------\")\n",
    "    print(\"| %i | %i | %i |\" % (state[3], state[4], state[5]))\n",
    "    print(\"-------------\")\n",
    "    print(\"| %i | %i | %i |\" % (state[6], state[7], state[8]))\n",
    "    print(\"-------------\")\n",
    "\n",
    "def display_start_goal(start, goal):\n",
    "    \"\"\"Print start and goal states\"\"\"\n",
    "    print(\"START STATE               GOAL STATE\")\n",
    "    print(\"-------------             -------------\")\n",
    "    print(\"| %i | %i | %i |             | %i | %i | %i |\" % (start[0], start[1], start[2], goal[0], goal[1], goal[2]))\n",
    "    print(\"-------------             -------------\")\n",
    "    print(\"| %i | %i | %i |    ---->    | %i | %i | %i |\" % (start[3], start[4], start[5], goal[3], goal[4], goal[5]))\n",
    "    print(\"-------------             -------------\")\n",
    "    print(\"| %i | %i | %i |             | %i | %i | %i |\" % (start[6], start[7], start[8], goal[6], goal[7], goal[8]))\n",
    "    print(\"-------------             -------------\")\n",
    "\n",
    "def cordinates(state):\n",
    "    \"\"\"Return position coordinates in the goal state\"\"\"\n",
    "    cords = [None] * 9\n",
    "    for index, i  in enumerate(state):\n",
    "        cords[i] = (index // 3, index % 3)\n",
    "    return cords\n",
    "\n",
    "# move the blank title up on the board\n",
    "def move_up(state):\n",
    "    new_state=state[:]\n",
    "    index = new_state.index(0)\n",
    "    if index not in [0,1,2]:\n",
    "        temp = new_state[index-3]\n",
    "        new_state[index-3]=new_state[index]\n",
    "        new_state[index]=temp\n",
    "    return new_state\n",
    "\n",
    "# move the blank title down on the board\n",
    "def move_down(state):\n",
    "    new_state=state[:]\n",
    "    index=new_state.index(0)\n",
    "    if index not in [6,7,8]:\n",
    "        temp = new_state[index+3]\n",
    "        new_state[index+3]=new_state[index]\n",
    "        new_state[index]=temp\n",
    "    return new_state\n",
    "\n",
    "# move the blank title left on the board\n",
    "def move_left(state):\n",
    "    new_state = state[:]\n",
    "    index = new_state.index(0)\n",
    "    if index not in [0,3,6]:\n",
    "        temp = new_state[index-1]\n",
    "        new_state[index-1]=new_state[index]\n",
    "        new_state[index]=temp\n",
    "    return new_state\n",
    "\n",
    "# move the blank title right on the board\n",
    "def move_right(state):\n",
    "    new_state = state[:]\n",
    "    index = new_state.index(0)\n",
    "    if index not in [2,5,8]:\n",
    "        temp = new_state[index+1]\n",
    "        new_state[index+1] = new_state[index]\n",
    "        new_state[index]=temp\n",
    "    return new_state"
   ]
  },
  {
   "cell_type": "code",
   "execution_count": 5,
   "metadata": {
    "id": "Y4dRr6pjxAVf"
   },
   "outputs": [],
   "source": [
    "def expansion(state):\n",
    "    \"\"\"Expand nodes along the children\"\"\"\n",
    "    expanded_nodes = []\n",
    "    expanded_nodes.append(move_up(state))       # moving up\n",
    "    expanded_nodes.append(move_down(state))     # moving down\n",
    "    expanded_nodes.append(move_left(state))     # moving left\n",
    "    expanded_nodes.append(move_right(state))    # moving right\n",
    "    expanded_nodes = [x for x in expanded_nodes if x]\n",
    "    return(expanded_nodes)"
   ]
  },
  {
   "cell_type": "markdown",
   "metadata": {
    "id": "cCK5IELxR2bH"
   },
   "source": [
    "Hill Climbing"
   ]
  },
  {
   "cell_type": "code",
   "execution_count": 6,
   "metadata": {
    "id": "gceTJD6tR7Nv"
   },
   "outputs": [],
   "source": [
    "def hillClimbing(start_state, goal_state, heuristic):\n",
    "    \"\"\"Cost function: f(n) = h(n). In this algorithm, we push the child nodes \n",
    "    corresponding to the least heuristic greedily and discard the others.\n",
    "    Might not result in global optimum path\"\"\"\n",
    "    iterations = 0\n",
    "    open = PriorityQueue()\n",
    "    closed = []\n",
    "\n",
    "    start_node = Node(start_state, 0)\n",
    "    start_node.calc_heuristic(goal_state)\n",
    "    \n",
    "    open.put((getattr(start_node, heuristic), start_node))\n",
    "\n",
    "    while (not open.empty()):\n",
    "        iterations+=1\n",
    "        if iterations>MAX_ITERATIONS:\n",
    "            print(\"Failure: No solution found\")\n",
    "            print(\"Total number of states explored:\\n\", len(closed))\n",
    "            return None\n",
    "        cost, parent = open.get()\n",
    "        open.queue.clear()\n",
    "        closed.append(parent.state)\n",
    "        if (parent.state == goal_state):\n",
    "            return (parent, len(closed))\n",
    "        for i in expansion(parent.state):\n",
    "            temp_node = Node(i, parent.depth + 1)\n",
    "            temp_node.parent = parent\n",
    "\n",
    "            if (temp_node.state == goal_state):\n",
    "                return (temp_node, len(closed))\n",
    "            elif (temp_node.state in closed):\n",
    "                continue\n",
    "            \n",
    "            temp_node.calc_heuristic(goal_state)\n",
    "            open.put((getattr(temp_node, heuristic), temp_node))"
   ]
  },
  {
   "cell_type": "markdown",
   "metadata": {
    "id": "wiFKRWhMV-nk"
   },
   "source": [
    "Simulated Annealing"
   ]
  },
  {
   "cell_type": "code",
   "execution_count": 7,
   "metadata": {
    "id": "6T1TFRZjWArA"
   },
   "outputs": [],
   "source": [
    "def linear_strategy(temperature):\n",
    "    temperature = temperature - 0.01\n",
    "    return temperature\n",
    "\n",
    "def random_strategy(temperature):\n",
    "    temperature = random.uniform(0, 1) * temperature*0.9\n",
    "    return temperature\n",
    "\n",
    "def negative_exponential(temperature):\n",
    "    temperature = math.exp(-1*temperature/5) * temperature\n",
    "    return temperature\n",
    "\n",
    "def cooling_function(cooling_strategy, temperature):\n",
    "    return {\n",
    "        'linear': linear_strategy(temperature),\n",
    "        'random': random_strategy(temperature),\n",
    "        'exponential': negative_exponential(temperature)\n",
    "    }[cooling_strategy]\n",
    "\n",
    "\n",
    "def SimulatedAnnealing(start_state, goal_state, heuristic, cooling_strategy):\n",
    "    \"\"\"Cost function: f(n) = h(n). In this algorithm, we select the node which reduces the \n",
    "    overall heuristic than the parent. If none such children exist, we randomly choose a \n",
    "    child sampled using the boltzmann function\"\"\"\n",
    "    temperature = 0.9\n",
    "    iterations = 0\n",
    "    open = PriorityQueue()\n",
    "    closed = []\n",
    "\n",
    "    start_node = Node(start_state, 0)\n",
    "    start_node.calc_heuristic(goal_state)\n",
    "\n",
    "    open.put((getattr(start_node, heuristic), start_node))\n",
    "    while (not open.empty()):\n",
    "        iterations+=1\n",
    "        if iterations>MAX_ITERATIONS:\n",
    "            print(\"Failure: No solution found\")\n",
    "            print(\"Total number of states explored:\", len(closed))\n",
    "            return None\n",
    "        cost, parent = open.get()\n",
    "        open.queue.clear()\n",
    "        closed.append(parent.state)\n",
    "        if (parent.state == goal_state):\n",
    "            return (parent, len(closed))\n",
    "\n",
    "\n",
    "        temperature = max(cooling_function(cooling_strategy, temperature), 0.01)\n",
    "        expanded_nodes = []\n",
    "        for i in expansion(parent.state):\n",
    "            temp_node = Node(i, parent.depth+1)\n",
    "            temp_node.parent = parent\n",
    "            temp_node.calc_heuristic(goal_state)\n",
    "            if (temp_node.state in closed):\n",
    "                continue\n",
    "            expanded_nodes.append(temp_node)\n",
    "    \n",
    "        iterations1=0\n",
    "        while len(expanded_nodes)!=0:\n",
    "            iterations1+=1\n",
    "            if iterations1>MAX_ITERATIONS:\n",
    "                print(\"Failure: No solution found\")\n",
    "                print(\"Total number of states explored:\", len(closed))\n",
    "                return None\n",
    "            random_index = random.randint(0,len(expanded_nodes)-1)\n",
    "            temp_node = expanded_nodes[random_index]\n",
    "            if (temp_node.state == goal_state):\n",
    "                return (temp_node, len(closed))\n",
    "            deltaE = getattr(temp_node, heuristic) - cost\n",
    "            acceptProbability = min(math.exp(-1*deltaE / temperature), 1)\n",
    "            R = random.random()\n",
    "            if R <= acceptProbability:\n",
    "                open.put((getattr(temp_node, heuristic), temp_node))\n",
    "                break"
   ]
  },
  {
   "cell_type": "markdown",
   "metadata": {
    "id": "NcKUKwtiSKMJ"
   },
   "source": [
    "Driver code"
   ]
  },
  {
   "cell_type": "code",
   "execution_count": 8,
   "metadata": {
    "colab": {
     "base_uri": "https://localhost:8080/"
    },
    "id": "B7kIbC4eSPYs",
    "outputId": "b5e0e47c-7917-42b2-e430-8eb1d741be57"
   },
   "outputs": [
    {
     "name": "stdout",
     "output_type": "stream",
     "text": [
      "h2\n",
      "START STATE               GOAL STATE\n",
      "-------------             -------------\n",
      "| 1 | 2 | 3 |             | 1 | 2 | 3 |\n",
      "-------------             -------------\n",
      "| 0 | 4 | 5 |    ---->    | 4 | 0 | 5 |\n",
      "-------------             -------------\n",
      "| 6 | 7 | 8 |             | 6 | 7 | 8 |\n",
      "-------------             -------------\n",
      "\n",
      "Hill Climb Search:\n",
      "\n",
      "Success! Solution found\n",
      "Total number of states explored: 1\n",
      "Total number of states in optimal path: 2\n",
      "Optimal Path:\n",
      "-------------\n",
      "| 1 | 2 | 3 |\n",
      "-------------\n",
      "| 0 | 4 | 5 |\n",
      "-------------\n",
      "| 6 | 7 | 8 |\n",
      "-------------\n",
      "-------------\n",
      "| 1 | 2 | 3 |\n",
      "-------------\n",
      "| 4 | 0 | 5 |\n",
      "-------------\n",
      "| 6 | 7 | 8 |\n",
      "-------------\n",
      "Optimal path cost: 2\n",
      "Time taken for execution (Hill Climbing): 0.00017309188842773438\n",
      "______________________________________________________\n",
      "\n",
      "Simulated Annealing Search\n",
      "Success! Solution found\n",
      "Total number of states explored: 1\n",
      "Total number of states in optimal path: 2\n",
      "Optimal Path:\n",
      "-------------\n",
      "| 1 | 2 | 3 |\n",
      "-------------\n",
      "| 4 | 0 | 5 |\n",
      "-------------\n",
      "| 6 | 7 | 8 |\n",
      "-------------\n",
      "-------------\n",
      "| 1 | 2 | 3 |\n",
      "-------------\n",
      "| 0 | 4 | 5 |\n",
      "-------------\n",
      "| 6 | 7 | 8 |\n",
      "-------------\n",
      "Optimal path cost: 2\n",
      "Time taken for execution (Simulated Annealing Seach): 0.0017423629760742188\n"
     ]
    },
    {
     "name": "stderr",
     "output_type": "stream",
     "text": [
      "<ipython-input-8-8778a9dab98f>:6: DeprecationWarning: Support for indexing FileInput objects is deprecated. Use iterator protocol instead.\n",
      "  start_state = [int(x) for x in lines[0].split(' ')]\n",
      "<ipython-input-8-8778a9dab98f>:7: DeprecationWarning: Support for indexing FileInput objects is deprecated. Use iterator protocol instead.\n",
      "  goal_state = [int(x) for x in lines[1].split(' ')]\n",
      "<ipython-input-8-8778a9dab98f>:10: DeprecationWarning: Support for indexing FileInput objects is deprecated. Use iterator protocol instead.\n",
      "  temperature = float(lines[2])\n",
      "<ipython-input-8-8778a9dab98f>:11: DeprecationWarning: Support for indexing FileInput objects is deprecated. Use iterator protocol instead.\n",
      "  heuristic = lines[3].strip(\"\\n\")\n",
      "<ipython-input-8-8778a9dab98f>:14: DeprecationWarning: Support for indexing FileInput objects is deprecated. Use iterator protocol instead.\n",
      "  cooling_strategy = lines[4]\n"
     ]
    }
   ],
   "source": [
    "def main():\n",
    "    # Read input\n",
    "    lines = fileinput.FileInput(files = 'input.txt')\n",
    "\n",
    "    # Define start, goal state\n",
    "    start_state = [int(x) for x in lines[0].split(' ')]\n",
    "    goal_state = [int(x) for x in lines[1].split(' ')]\n",
    "    \n",
    "    # Define Temperature, Heuristic\n",
    "    temperature = float(lines[2])\n",
    "    heuristic = lines[3].strip(\"\\n\")\n",
    "    print(heuristic)\n",
    "    # Define Cooling Strategy\n",
    "    cooling_strategy = lines[4]\n",
    "    display_start_goal(start_state, goal_state)\n",
    "\n",
    "    # Start Hill Climbing Algorithm\n",
    "    print(\"\\nHill Climb Search:\\n\")\n",
    "    start_clock = time.time()\n",
    "    val = hillClimbing(start_state, goal_state, heuristic)\n",
    "    \n",
    "    # If Valid solution, display it\n",
    "    if val!=None:\n",
    "        node_1 = val[0]\n",
    "        expl = val[1]\n",
    "        \n",
    "        print(\"Success! Solution found\")\n",
    "        hc_execution_time = time.time()-start_clock\n",
    "        \n",
    "        print(\"Total number of states explored:\",expl)\n",
    "        optimal_cost = node_1.back_track()\n",
    "        \n",
    "        print(\"Total number of states in optimal path:\", optimal_cost)\n",
    "        print(\"Optimal Path:\")\n",
    "        \n",
    "        optimal_path.reverse()\n",
    "        for state in optimal_path:\n",
    "            display_board(state)\n",
    "        \n",
    "        print(\"Optimal path cost:\", optimal_cost)\n",
    "        print(\"Time taken for execution (Hill Climbing):\", hc_execution_time)\n",
    "    \n",
    "    # If invalid, print no solution\n",
    "    else:\n",
    "        print(\"No solution found\")\n",
    "    \n",
    "    print(\"______________________________________________________\\n\")\n",
    "\n",
    "    # Start Simulated Annealing Algorithm\n",
    "    print(\"Simulated Annealing Search\")\n",
    "    start_clock = time.time()\n",
    "    val = SimulatedAnnealing(start_state, goal_state, heuristic, cooling_strategy)\n",
    "    \n",
    "    # If valid solution found, print it\n",
    "    if val!=None:\n",
    "        node_1 = val[0]\n",
    "        expl = val[1]\n",
    "\n",
    "        print(\"Success! Solution found\")\n",
    "        sa_execution_time = time.time()-start_clock\n",
    "        \n",
    "        print(\"Total number of states explored:\",expl)\n",
    "        optimal_cost = node_1.back_track()\n",
    "        \n",
    "        print(\"Total number of states in optimal path:\", optimal_cost)\n",
    "        print(\"Optimal Path:\")\n",
    "        \n",
    "        for state in optimal_path:\n",
    "            display_board(state)\n",
    "        \n",
    "        print(\"Optimal path cost:\", optimal_cost)\n",
    "        print(\"Time taken for execution (Simulated Annealing Seach):\", sa_execution_time)\n",
    "    \n",
    "    # If invalid, print no solution\n",
    "    else:\n",
    "        print(\"No solution found\")\n",
    "\n",
    "if __name__ == \"__main__\":\n",
    "    main()"
   ]
  },
  {
   "cell_type": "code",
   "execution_count": 9,
   "metadata": {
    "id": "JNGnnANraTiT"
   },
   "outputs": [],
   "source": [
    "# start_state= [6, 7, 3, 8, 4, 2, 5, 0, 1]<br>\n",
    "# goal_state = [1, 2, 3, 4, 5, 6, 7, 8, 0]\n",
    "# <br><br>\n",
    "# start_state= [1, 2, 3, 0, 4, 5, 6, 7, 8]<br>\n",
    "# goal_state = [7, 3, 2, 5, 4, 8, 1, 0, 6]\n",
    "# <br><br>\n",
    "# start_state= [1, 2, 3, 0, 4, 5, 6, 7, 8]<br>\n",
    "# goal_state = [1, 2, 3, 4, 0, 5, 6, 7, 8]\n",
    "# <br><br>\n",
    "# start_state= [1, 2, 3, 0, 4, 5, 6, 7, 8]<br>\n",
    "# goal_state = [2, 3, 5, 6, 1, 8, 4, 7, 0]\n",
    "# <br><br>\n",
    "# start_state= [1, 2, 3, 0, 4, 5, 6, 7, 8]<br>\n",
    "# goal_state = [1, 2, 3, 4, 5, 0, 6, 7, 8]\n",
    "# <br><br>\n",
    "# No Solution <br>\n",
    "# start_state = [6, 7, 3, 8, 4, 2, 1, 0, 5]<br>\n",
    "# goal_state = [1, 2, 3, 4, 5, 6, 7, 8, 0]\n",
    "# <br><br>\n",
    "# start_state = [2, 8, 1, 4, 6, 3, 7, 5, 0]<br>\n",
    "# goal_state = [1, 2, 3, 8, 0, 4, 7, 6, 5]\n",
    "# <br><br>\n",
    "# start_state = [2, 8, 3, 1, 0, 4, 7, 6, 5]<br>\n",
    "# goal_state = [1, 2, 3, 8, 0, 4, 7, 6, 5]\n",
    "\n",
    "# <br><br>\n",
    "\n",
    "\n",
    "# 1 2 3 0 4 5 6 7 8<br>\n",
    "# 1 2 3 4 0 5 6 7 8<br>\n",
    "# 0.9<br>\n",
    "# h2<br>\n",
    "# linear<br>"
   ]
  },
  {
   "cell_type": "code",
   "execution_count": null,
   "metadata": {
    "id": "GCEm8N4ehleW"
   },
   "outputs": [],
   "source": []
  }
 ],
 "metadata": {
  "colab": {
   "collapsed_sections": [],
   "name": "ai_lab2_1801cs36_1801cs37.ipynb",
   "provenance": []
  },
  "kernelspec": {
   "display_name": "Python 3",
   "language": "python",
   "name": "python3"
  },
  "language_info": {
   "codemirror_mode": {
    "name": "ipython",
    "version": 3
   },
   "file_extension": ".py",
   "mimetype": "text/x-python",
   "name": "python",
   "nbconvert_exporter": "python",
   "pygments_lexer": "ipython3",
   "version": "3.8.5"
  }
 },
 "nbformat": 4,
 "nbformat_minor": 4
}
