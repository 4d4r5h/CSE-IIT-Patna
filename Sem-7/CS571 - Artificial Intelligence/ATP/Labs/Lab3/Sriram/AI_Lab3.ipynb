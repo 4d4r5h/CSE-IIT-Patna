{
 "cells": [
  {
   "cell_type": "markdown",
   "metadata": {},
   "source": [
    "# Lab-3\n",
    "\n",
    "## Members = P. V. Sriram, Mahesh Babu\n",
    "## Roll No. = 1801CS37, 1801CS36"
   ]
  },
  {
   "cell_type": "markdown",
   "metadata": {
    "id": "I6b0B-zf1Nmj"
   },
   "source": [
    "# Setup"
   ]
  },
  {
   "cell_type": "code",
   "execution_count": 1,
   "metadata": {
    "id": "KnFURwqb1Nmm"
   },
   "outputs": [],
   "source": [
    "# Import Libraries\n",
    "import numpy as np\n",
    "import pandas as pd\n",
    "from sklearn.model_selection import train_test_split"
   ]
  },
  {
   "cell_type": "code",
   "execution_count": 2,
   "metadata": {
    "id": "G-1iXcXq1Nmo"
   },
   "outputs": [],
   "source": [
    "# Read File\n",
    "file = open(\"./smsspamcollection/SMSSpamCollection\", 'r')\n",
    "\n",
    "lines = file.readlines()"
   ]
  },
  {
   "cell_type": "code",
   "execution_count": 3,
   "metadata": {
    "id": "2l15L7821Nmp"
   },
   "outputs": [],
   "source": [
    "# Extract Data\n",
    "labels = []\n",
    "data = []\n",
    "\n",
    "for line in lines:\n",
    "    labels.append(line.split('\\t')[0])\n",
    "    data.append(line.split('\\t')[1])"
   ]
  },
  {
   "cell_type": "code",
   "execution_count": 4,
   "metadata": {
    "id": "mZ7ghAN11Nmp"
   },
   "outputs": [],
   "source": [
    "# Train Test Split\n",
    "X_train, X_test, Y_train, Y_test = train_test_split(data, labels, test_size=0.25, random_state = 10)"
   ]
  },
  {
   "cell_type": "markdown",
   "metadata": {
    "id": "BQCUlCtJKaYB"
   },
   "source": [
    "# Multi-Nomial Naive Bayes"
   ]
  },
  {
   "cell_type": "code",
   "execution_count": 5,
   "metadata": {
    "id": "JZ7X7v3_KdDI"
   },
   "outputs": [],
   "source": [
    "import string\n",
    "# import nltk\n",
    "# nltk.download('stopwords')\n",
    "from nltk.corpus import stopwords  \n",
    "from sklearn.model_selection import KFold\n",
    "from sklearn.metrics import accuracy_score\n",
    "stop_words = set(stopwords.words('english')) \n",
    "from sklearn.feature_extraction.text import CountVectorizer\n",
    "\n",
    "# Multi-Nomial Naive Bayes Class\n",
    "class MNB():\n",
    "    def __init__(self):\n",
    "        # Initialise vectorisers\n",
    "        self.vectorizer_x = CountVectorizer()\n",
    "        self.vectorizer_y = CountVectorizer()\n",
    "        self.cutoff_freq = 5\n",
    "    \n",
    "    # Preprocess vocabulary\n",
    "    def pre_process(self):\n",
    "        self.vocab = {}\n",
    "        self.features = []\n",
    "        for i in range(len(self.X_train)):\n",
    "            for word in self.X_train[i].split():\n",
    "                word_new  = word.strip(string.punctuation).lower()\n",
    "                if (len(word_new)>2)  and (word_new not in stop_words):  \n",
    "                    if word_new in self.vocab:\n",
    "                        self.vocab[word_new]+=1\n",
    "                    else:\n",
    "                        self.vocab[word_new]=1\n",
    "\n",
    "        for key in self.vocab:\n",
    "            if self.vocab[key] >= self.cutoff_freq:\n",
    "                self.features.append(key)\n",
    "    \n",
    "    # Vectorise each sentences \n",
    "    # Using count vectorisers\n",
    "    def encode(self):\n",
    "        self.vectorizer_x.fit(self.features)\n",
    "        self.X_cv_train = self.vectorizer_x.transform(self.X_train)\n",
    "\n",
    "        self.vectorizer_y.fit(self.classes)\n",
    "        self.Y_cv_train = self.vectorizer_y.transform(self.Y_train)\n",
    "    \n",
    "    # Train the Model\n",
    "    # Calculate conditional Probabilities\n",
    "    def fit(self, X_train, Y_train):\n",
    "        self.X_train = X_train\n",
    "        self.Y_train = Y_train\n",
    "\n",
    "        self.classes, self.class_probs = np.unique(self.Y_train, return_counts = True)\n",
    "        self.class_probs = self.class_probs / np.sum(self.class_probs)\n",
    "\n",
    "        self.pre_process()\n",
    "        self.encode()\n",
    "\n",
    "        self.index_matrix = np.dot(self.X_cv_train.T, self.Y_cv_train).toarray()\n",
    "        self.prob_matrix = (self.index_matrix + 1) / (np.sum(self.index_matrix, axis = 0))\n",
    "    \n",
    "    # Predict class using \n",
    "    # conditional probabilites\n",
    "    def predict(self, X_test):\n",
    "        X_cv_test = self.vectorizer_x.transform(X_test).toarray()\n",
    "        prediction = []\n",
    "        for sample in X_cv_test:\n",
    "            current = 0\n",
    "            for i, y in enumerate(self.prob_matrix.T):\n",
    "                temp = np.multiply(sample.T, y)\n",
    "                prob = np.prod(temp[np.where(temp != 0)]) * self.class_probs[i]\n",
    "                if (prob > current):\n",
    "                    current = prob\n",
    "                    class_ = self.classes[i]\n",
    "            prediction.append(class_)\n",
    "        return (prediction)\n",
    "    \n",
    "    # Evaluate Performance\n",
    "    def evaluate(self, X_val, Y_val):\n",
    "        pred = self.predict(X_val)\n",
    "        return (accuracy_score(pred, Y_val))"
   ]
  },
  {
   "cell_type": "code",
   "execution_count": 6,
   "metadata": {
    "colab": {
     "base_uri": "https://localhost:8080/"
    },
    "id": "1T5rSy1IOIPb",
    "outputId": "9a515da5-33a2-46f8-89dd-36d90c4e0539"
   },
   "outputs": [
    {
     "name": "stdout",
     "output_type": "stream",
     "text": [
      "0.9801435406698564\n"
     ]
    }
   ],
   "source": [
    "# Initialise Model\n",
    "clf1 = MNB()\n",
    "\n",
    "# K-Fold cross validation\n",
    "kf = KFold(n_splits=5)\n",
    "accuracy = 0\n",
    "for train_index, test_index in kf.split(X_train):\n",
    "    clf1.fit(np.array(X_train)[train_index], np.array(Y_train)[train_index])\n",
    "    accuracy += clf1.evaluate(np.array(X_train)[test_index], np.array(Y_train)[test_index])\n",
    "accuracy /= 5\n",
    "print(accuracy)"
   ]
  },
  {
   "cell_type": "code",
   "execution_count": 7,
   "metadata": {
    "id": "FFj8uDEOUdpl"
   },
   "outputs": [],
   "source": [
    "# Perfrom prediction on Test Set\n",
    "ans = clf1.predict(X_test)"
   ]
  },
  {
   "cell_type": "code",
   "execution_count": 8,
   "metadata": {
    "colab": {
     "base_uri": "https://localhost:8080/"
    },
    "id": "3tb_30ozXJ-u",
    "outputId": "f2668f9c-e09c-4675-9c1a-1a44705546c4"
   },
   "outputs": [
    {
     "data": {
      "text/plain": [
       "0.9763271162123386"
      ]
     },
     "execution_count": 8,
     "metadata": {},
     "output_type": "execute_result"
    }
   ],
   "source": [
    "# Accuracy\n",
    "clf1.evaluate(X_test, Y_test)"
   ]
  },
  {
   "cell_type": "code",
   "execution_count": 9,
   "metadata": {},
   "outputs": [
    {
     "data": {
      "text/plain": [
       "array([[ 0, 17],\n",
       "       [ 0,  8],\n",
       "       [ 0,  8],\n",
       "       ...,\n",
       "       [ 6,  0],\n",
       "       [ 2,  3],\n",
       "       [26,  0]])"
      ]
     },
     "execution_count": 9,
     "metadata": {},
     "output_type": "execute_result"
    }
   ],
   "source": [
    "# Index matrix (For compating with Multi Variate)\n",
    "clf1.index_matrix"
   ]
  },
  {
   "cell_type": "markdown",
   "metadata": {
    "id": "6x9_0zuLEt5Q"
   },
   "source": [
    "# Multi-Variate Naive Bayes"
   ]
  },
  {
   "cell_type": "code",
   "execution_count": 10,
   "metadata": {},
   "outputs": [],
   "source": [
    "# Multi-Nomial Naive Bayes Class\n",
    "class MVB():\n",
    "    def __init__(self):\n",
    "        # Initialise vectorisers\n",
    "        self.vectorizer_x = CountVectorizer(binary = True)\n",
    "        self.vectorizer_y = CountVectorizer(binary = True)\n",
    "        self.cutoff_freq = 5\n",
    "    \n",
    "    # Preprocess vocabulary\n",
    "    def pre_process(self):\n",
    "        self.vocab = {}\n",
    "        self.features = []\n",
    "        for i in range(len(self.X_train)):\n",
    "            for word in self.X_train[i].split():\n",
    "                word_new  = word.strip(string.punctuation).lower()\n",
    "                if (len(word_new)>2)  and (word_new not in stop_words):  \n",
    "                    if word_new in self.vocab:\n",
    "                        self.vocab[word_new]+=1\n",
    "                    else:\n",
    "                        self.vocab[word_new]=1\n",
    "\n",
    "        for key in self.vocab:\n",
    "            if self.vocab[key] >= self.cutoff_freq:\n",
    "                self.features.append(key)\n",
    "    \n",
    "    # Vectorise each sentences \n",
    "    # Using count vectorisers\n",
    "    def encode(self):\n",
    "        self.vectorizer_x.fit(self.features)\n",
    "        self.X_cv_train = self.vectorizer_x.transform(self.X_train)\n",
    "\n",
    "        self.vectorizer_y.fit(self.classes)\n",
    "        self.Y_cv_train = self.vectorizer_y.transform(self.Y_train)\n",
    "    \n",
    "    # Train the Model\n",
    "    # Calculate conditional Probabilities\n",
    "    def fit(self, X_train, Y_train):\n",
    "        self.X_train = X_train\n",
    "        self.Y_train = Y_train\n",
    "\n",
    "        self.classes, self.class_probs = np.unique(self.Y_train, return_counts = True)\n",
    "        self.class_probs = self.class_probs / np.sum(self.class_probs)\n",
    "\n",
    "        self.pre_process()\n",
    "        self.encode()\n",
    "\n",
    "        self.index_matrix = np.dot(self.X_cv_train.T, self.Y_cv_train).toarray()\n",
    "        self.prob_matrix = (self.index_matrix + 1) / (np.sum(self.index_matrix, axis = 0))\n",
    "    \n",
    "    # Predict class using \n",
    "    # conditional probabilites\n",
    "    def predict(self, X_test):\n",
    "        X_cv_test = self.vectorizer_x.transform(X_test).toarray()\n",
    "        prediction = []\n",
    "        for sample in X_cv_test:\n",
    "            current = 0\n",
    "            for i, y in enumerate(self.prob_matrix.T):\n",
    "                temp = np.multiply(sample.T, y)\n",
    "                prob = np.prod(temp[np.where(temp != 0)]) * self.class_probs[i]\n",
    "                if (prob > current):\n",
    "                    current = prob\n",
    "                    class_ = self.classes[i]\n",
    "            prediction.append(class_)\n",
    "        return (prediction)\n",
    "    \n",
    "    # Evaluate Performance\n",
    "    def evaluate(self, X_val, Y_val):\n",
    "        pred = self.predict(X_val)\n",
    "        return (accuracy_score(pred, Y_val))"
   ]
  },
  {
   "cell_type": "code",
   "execution_count": 11,
   "metadata": {},
   "outputs": [
    {
     "name": "stdout",
     "output_type": "stream",
     "text": [
      "0.9801435406698564\n"
     ]
    }
   ],
   "source": [
    "# Initialise Model\n",
    "clf2 = MVB()\n",
    "\n",
    "# K-Fold cross validation\n",
    "kf = KFold(n_splits=5)\n",
    "accuracy = 0\n",
    "for train_index, test_index in kf.split(X_train):\n",
    "    clf2.fit(np.array(X_train)[train_index], np.array(Y_train)[train_index])\n",
    "    accuracy += clf2.evaluate(np.array(X_train)[test_index], np.array(Y_train)[test_index])\n",
    "accuracy /= 5\n",
    "print(accuracy)"
   ]
  },
  {
   "cell_type": "code",
   "execution_count": 12,
   "metadata": {},
   "outputs": [],
   "source": [
    "# Perfrom prediction on Test Set\n",
    "ans = clf2.predict(X_test)"
   ]
  },
  {
   "cell_type": "code",
   "execution_count": 13,
   "metadata": {},
   "outputs": [
    {
     "data": {
      "text/plain": [
       "0.9770444763271162"
      ]
     },
     "execution_count": 13,
     "metadata": {},
     "output_type": "execute_result"
    }
   ],
   "source": [
    "# Accuracy\n",
    "clf2.evaluate(X_test, Y_test)"
   ]
  },
  {
   "cell_type": "code",
   "execution_count": 14,
   "metadata": {},
   "outputs": [
    {
     "data": {
      "text/plain": [
       "array([[ 0, 15],\n",
       "       [ 0,  8],\n",
       "       [ 0,  8],\n",
       "       ...,\n",
       "       [ 6,  0],\n",
       "       [ 1,  3],\n",
       "       [26,  0]])"
      ]
     },
     "execution_count": 14,
     "metadata": {},
     "output_type": "execute_result"
    }
   ],
   "source": [
    "# Index matrix (For compating with Multi Variate)\n",
    "clf2.index_matrix"
   ]
  },
  {
   "cell_type": "code",
   "execution_count": null,
   "metadata": {},
   "outputs": [],
   "source": []
  }
 ],
 "metadata": {
  "colab": {
   "name": "AI_Lab3.ipynb",
   "provenance": []
  },
  "kernelspec": {
   "display_name": "Python 3",
   "language": "python",
   "name": "python3"
  },
  "language_info": {
   "codemirror_mode": {
    "name": "ipython",
    "version": 3
   },
   "file_extension": ".py",
   "mimetype": "text/x-python",
   "name": "python",
   "nbconvert_exporter": "python",
   "pygments_lexer": "ipython3",
   "version": "3.8.5"
  }
 },
 "nbformat": 4,
 "nbformat_minor": 4
}
