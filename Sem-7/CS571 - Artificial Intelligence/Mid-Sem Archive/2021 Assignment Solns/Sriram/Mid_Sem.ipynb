{
 "cells": [
  {
   "cell_type": "markdown",
   "metadata": {},
   "source": [
    "# Mid-Semester Assignment\n",
    "\n",
    "## Name = P. V. Sriram\n",
    "## Roll No. = 1801CS37"
   ]
  },
  {
   "cell_type": "markdown",
   "metadata": {
    "id": "I6b0B-zf1Nmj"
   },
   "source": [
    "# Setup"
   ]
  },
  {
   "cell_type": "code",
   "execution_count": 1,
   "metadata": {
    "id": "KnFURwqb1Nmm"
   },
   "outputs": [],
   "source": [
    "# Import Libraries\n",
    "import numpy as np\n",
    "import pandas as pd\n",
    "from sklearn.model_selection import train_test_split"
   ]
  },
  {
   "cell_type": "code",
   "execution_count": 2,
   "metadata": {
    "id": "G-1iXcXq1Nmo"
   },
   "outputs": [],
   "source": [
    "# Read File\n",
    "file = open(\"data.txt\", 'r')\n",
    "\n",
    "lines = file.readlines()"
   ]
  },
  {
   "cell_type": "code",
   "execution_count": 3,
   "metadata": {
    "id": "2l15L7821Nmp"
   },
   "outputs": [],
   "source": [
    "# Extract Data\n",
    "labels = []\n",
    "data = []\n",
    "\n",
    "for line in lines:\n",
    "    labels.append(line.split('\\t')[0])\n",
    "    data.append(line.split('\\t')[1])"
   ]
  },
  {
   "cell_type": "code",
   "execution_count": 4,
   "metadata": {},
   "outputs": [],
   "source": [
    "X_train, Y_train = data, labels"
   ]
  },
  {
   "cell_type": "markdown",
   "metadata": {
    "id": "BQCUlCtJKaYB"
   },
   "source": [
    "# Multi-Nomial Naive Bayes"
   ]
  },
  {
   "cell_type": "code",
   "execution_count": 5,
   "metadata": {
    "id": "JZ7X7v3_KdDI"
   },
   "outputs": [],
   "source": [
    "import string\n",
    "# import nltk\n",
    "# nltk.download('stopwords')\n",
    "from nltk.corpus import stopwords  \n",
    "from sklearn.model_selection import KFold\n",
    "from sklearn.metrics import accuracy_score\n",
    "stop_words = set(stopwords.words('english')) \n",
    "from sklearn.feature_extraction.text import CountVectorizer\n",
    "\n",
    "# Multi-Nomial Naive Bayes Class\n",
    "class MNB():\n",
    "    def __init__(self, alpha = 0.001, cutoff_freq = 0):\n",
    "        # Initialise vectorisers\n",
    "        self.vectorizer_x = CountVectorizer()\n",
    "        self.vectorizer_y = CountVectorizer()\n",
    "        self.cutoff_freq = cutoff_freq\n",
    "        self.alpha = alpha\n",
    "    \n",
    "    # Preprocess vocabulary\n",
    "    def pre_process(self):\n",
    "        self.vocab = {}\n",
    "        self.features = []\n",
    "        for i in range(len(self.X_train)):\n",
    "            for word in self.X_train[i].split():\n",
    "                word_new  = word.strip(string.punctuation).lower()\n",
    "                if (len(word_new) > 2)  and (word_new not in stop_words):  \n",
    "                    if word_new in self.vocab:\n",
    "                        self.vocab[word_new] += 1\n",
    "                    else:\n",
    "                        self.vocab[word_new] = 1\n",
    "\n",
    "        for key in self.vocab:\n",
    "            if self.vocab[key] >= self.cutoff_freq:\n",
    "                self.features.append(key)\n",
    "                \n",
    "    # Vectorise each sentences \n",
    "    # Using count vectorisers\n",
    "    def encode(self):\n",
    "        self.vectorizer_x.fit(self.features)\n",
    "        self.X_cv_train = self.vectorizer_x.transform(self.X_train).toarray()\n",
    "\n",
    "        self.vectorizer_y.fit(self.classes)\n",
    "        self.Y_cv_train = self.vectorizer_y.transform(self.Y_train).toarray()\n",
    "    \n",
    "    # Train the Model\n",
    "    # Calculate conditional Probabilities\n",
    "    def fit(self, X_train, Y_train):\n",
    "        self.X_train = X_train\n",
    "        self.Y_train = Y_train\n",
    "\n",
    "        self.classes, self.class_probs = np.unique(self.Y_train, return_counts = True)\n",
    "        self.class_probs = self.class_probs / np.sum(self.class_probs)\n",
    "        \n",
    "        self.pre_process()\n",
    "        self.encode()\n",
    "        self.index_matrix = np.dot(self.X_cv_train.T, self.Y_cv_train)\n",
    "        temp1 = np.tile(np.sum(clf1.index_matrix, axis = 1), (2, 1)).T + np.tile(np.sum(clf1.index_matrix, axis = 0), (29, 1))\n",
    "        self.prob_matrix = (self.index_matrix + self.alpha) / temp1\n",
    "    \n",
    "    # Predict class using \n",
    "    # conditional probabilites\n",
    "    def predict(self, X_test):\n",
    "        X_cv_test = self.vectorizer_x.transform(X_test).toarray()\n",
    "        prediction = []\n",
    "        for sample in X_cv_test:\n",
    "            current = -1 * np.inf\n",
    "            for i, y in enumerate(self.prob_matrix.T):\n",
    "                temp = np.multiply(sample.T, y)\n",
    "                prob = np.sum(np.log(temp[np.where(temp != 0)])) + np.log(self.class_probs[i])\n",
    "                if (prob > current):\n",
    "                    current = prob\n",
    "                    class_ = self.classes[i]\n",
    "            prediction.append(class_)\n",
    "        return (prediction)\n",
    "    \n",
    "    # Evaluate Performance\n",
    "    def evaluate(self, X_val, Y_val):\n",
    "        pred = self.predict(X_val)\n",
    "        return (accuracy_score(pred, Y_val))"
   ]
  },
  {
   "cell_type": "code",
   "execution_count": 6,
   "metadata": {
    "colab": {
     "base_uri": "https://localhost:8080/"
    },
    "id": "1T5rSy1IOIPb",
    "outputId": "9a515da5-33a2-46f8-89dd-36d90c4e0539"
   },
   "outputs": [],
   "source": [
    "# Initialise Model\n",
    "clf1 = MNB()\n",
    "\n",
    "# Train Model\n",
    "clf1.fit(X_train, Y_train)"
   ]
  },
  {
   "cell_type": "code",
   "execution_count": 7,
   "metadata": {},
   "outputs": [
    {
     "data": {
      "text/plain": [
       "array([[0, 1],\n",
       "       [0, 1],\n",
       "       [1, 1],\n",
       "       [0, 3],\n",
       "       [0, 1],\n",
       "       [0, 1],\n",
       "       [0, 1],\n",
       "       [1, 1],\n",
       "       [0, 1],\n",
       "       [0, 1],\n",
       "       [0, 1],\n",
       "       [0, 2],\n",
       "       [0, 1],\n",
       "       [0, 1],\n",
       "       [1, 2],\n",
       "       [0, 1],\n",
       "       [0, 1],\n",
       "       [1, 1],\n",
       "       [0, 1],\n",
       "       [0, 1],\n",
       "       [0, 1],\n",
       "       [0, 1],\n",
       "       [0, 1],\n",
       "       [1, 0],\n",
       "       [0, 1],\n",
       "       [0, 1],\n",
       "       [1, 1],\n",
       "       [1, 0],\n",
       "       [0, 1]])"
      ]
     },
     "execution_count": 7,
     "metadata": {},
     "output_type": "execute_result"
    }
   ],
   "source": [
    "# Visualise the Index matrix\n",
    "clf1.index_matrix"
   ]
  },
  {
   "cell_type": "code",
   "execution_count": 8,
   "metadata": {
    "colab": {
     "base_uri": "https://localhost:8080/"
    },
    "id": "3tb_30ozXJ-u",
    "outputId": "f2668f9c-e09c-4675-9c1a-1a44705546c4"
   },
   "outputs": [
    {
     "name": "stdout",
     "output_type": "stream",
     "text": [
      "Accuracy of model on train dataset is:  1.0\n"
     ]
    }
   ],
   "source": [
    "# Accuracy\n",
    "print(\"Accuracy of model on train dataset is: \", clf1.evaluate(X_train, Y_train))"
   ]
  },
  {
   "cell_type": "code",
   "execution_count": 9,
   "metadata": {},
   "outputs": [
    {
     "name": "stdout",
     "output_type": "stream",
     "text": [
      "The model considers following vocabulary (along with their occurences): \n"
     ]
    },
    {
     "data": {
      "text/plain": [
       "{'recent': 1,\n",
       " 'years': 1,\n",
       " 'researchers': 1,\n",
       " 'computer': 2,\n",
       " 'vision': 2,\n",
       " 'proposed': 1,\n",
       " 'many': 1,\n",
       " 'deep': 3,\n",
       " 'learning': 2,\n",
       " 'methods': 3,\n",
       " 'various': 1,\n",
       " 'tasks': 1,\n",
       " 'facial': 2,\n",
       " 'recognition': 2,\n",
       " 'made': 1,\n",
       " 'enormous': 1,\n",
       " 'leap': 1,\n",
       " 'using': 1,\n",
       " 'techniques': 1,\n",
       " 'systems': 1,\n",
       " 'benefit': 1,\n",
       " 'hierarchical': 1,\n",
       " 'architecture': 1,\n",
       " 'learn': 1,\n",
       " 'discriminative': 1,\n",
       " 'face': 1,\n",
       " 'representation': 1,\n",
       " 'widely': 1,\n",
       " 'used': 1}"
      ]
     },
     "execution_count": 9,
     "metadata": {},
     "output_type": "execute_result"
    }
   ],
   "source": [
    "# Vocabulary of dataset\n",
    "print(\"The model considers following vocabulary (along with their occurences): \") \n",
    "clf1.vocab"
   ]
  },
  {
   "cell_type": "code",
   "execution_count": 10,
   "metadata": {
    "id": "FFj8uDEOUdpl"
   },
   "outputs": [
    {
     "name": "stdout",
     "output_type": "stream",
     "text": [
      "The Test Sample belongs to class:  CV\n"
     ]
    }
   ],
   "source": [
    "# Perfrom prediction on Test Sample\n",
    "ans = clf1.predict([\"Deep learning based computer vision methods have been used for facial recognition.\"])\n",
    "print(\"The Test Sample belongs to class: \", ans[0])"
   ]
  },
  {
   "cell_type": "markdown",
   "metadata": {
    "id": "6x9_0zuLEt5Q"
   },
   "source": [
    "# Multi-Variate Naive Bayes"
   ]
  },
  {
   "cell_type": "code",
   "execution_count": 11,
   "metadata": {},
   "outputs": [],
   "source": [
    "# Multi-Nomial Naive Bayes Class\n",
    "class MVB():\n",
    "    def __init__(self, alpha = 0.001, cutoff_freq = 0):\n",
    "        # Initialise vectorisers\n",
    "        self.vectorizer_x = CountVectorizer(binary = True)\n",
    "        self.vectorizer_y = CountVectorizer(binary = True)\n",
    "        self.cutoff_freq = cutoff_freq\n",
    "        self.alpha = alpha\n",
    "    \n",
    "    # Preprocess vocabulary\n",
    "    def pre_process(self):\n",
    "        self.vocab = {}\n",
    "        self.features = []\n",
    "        for i in range(len(self.X_train)):\n",
    "            for word in self.X_train[i].split():\n",
    "                word_new  = word.strip(string.punctuation).lower()\n",
    "                if (len(word_new)>2)  and (word_new not in stop_words):  \n",
    "                    if word_new in self.vocab:\n",
    "                        self.vocab[word_new]+=1\n",
    "                    else:\n",
    "                        self.vocab[word_new]=1\n",
    "\n",
    "        for key in self.vocab:\n",
    "            if self.vocab[key] >= self.cutoff_freq:\n",
    "                self.features.append(key)\n",
    "    \n",
    "    # Vectorise each sentences \n",
    "    # Using count vectorisers\n",
    "    def encode(self):\n",
    "        self.vectorizer_x.fit(self.features)\n",
    "        self.X_cv_train = self.vectorizer_x.transform(self.X_train)\n",
    "\n",
    "        self.vectorizer_y.fit(self.classes)\n",
    "        self.Y_cv_train = self.vectorizer_y.transform(self.Y_train)\n",
    "    \n",
    "    # Train the Model\n",
    "    # Calculate conditional Probabilities\n",
    "    def fit(self, X_train, Y_train):\n",
    "        self.X_train = X_train\n",
    "        self.Y_train = Y_train\n",
    "\n",
    "        self.classes, self.class_probs = np.unique(self.Y_train, return_counts = True)\n",
    "        self.class_probs = self.class_probs / np.sum(self.class_probs)\n",
    "\n",
    "        self.pre_process()\n",
    "        self.encode()\n",
    "\n",
    "        self.index_matrix = np.dot(self.X_cv_train.T, self.Y_cv_train).toarray()\n",
    "        temp1 = np.tile(np.sum(clf1.index_matrix, axis = 1), (2, 1)).T + np.tile(np.sum(clf1.index_matrix, axis = 0), (29, 1))\n",
    "        self.prob_matrix = (self.index_matrix + self.alpha) / temp1\n",
    "    \n",
    "    # Predict class using \n",
    "    # conditional probabilites\n",
    "    def predict(self, X_test):\n",
    "        X_cv_test = self.vectorizer_x.transform(X_test).toarray()\n",
    "        prediction = []\n",
    "        for sample in X_cv_test:\n",
    "            current = -1 * np.inf\n",
    "            for i, y in enumerate(self.prob_matrix.T):\n",
    "                temp = np.multiply(sample.T, y)\n",
    "                prob = np.sum(np.log(temp[np.where(temp != 0)])) + np.log(self.class_probs[i])\n",
    "                if (prob > current):\n",
    "                    current = prob\n",
    "                    class_ = self.classes[i]\n",
    "            prediction.append(class_)\n",
    "        return (prediction)\n",
    "    \n",
    "    # Evaluate Performance\n",
    "    def evaluate(self, X_val, Y_val):\n",
    "        pred = self.predict(X_val)\n",
    "        return (accuracy_score(pred, Y_val))"
   ]
  },
  {
   "cell_type": "code",
   "execution_count": 12,
   "metadata": {},
   "outputs": [],
   "source": [
    "# Initialise Model\n",
    "clf2 = MVB()\n",
    "\n",
    "# Train Model\n",
    "clf2.fit(X_train, Y_train)"
   ]
  },
  {
   "cell_type": "code",
   "execution_count": 13,
   "metadata": {},
   "outputs": [
    {
     "data": {
      "text/plain": [
       "array([[0, 1],\n",
       "       [0, 1],\n",
       "       [1, 1],\n",
       "       [0, 2],\n",
       "       [0, 1],\n",
       "       [0, 1],\n",
       "       [0, 1],\n",
       "       [1, 1],\n",
       "       [0, 1],\n",
       "       [0, 1],\n",
       "       [0, 1],\n",
       "       [0, 2],\n",
       "       [0, 1],\n",
       "       [0, 1],\n",
       "       [1, 2],\n",
       "       [0, 1],\n",
       "       [0, 1],\n",
       "       [1, 1],\n",
       "       [0, 1],\n",
       "       [0, 1],\n",
       "       [0, 1],\n",
       "       [0, 1],\n",
       "       [0, 1],\n",
       "       [1, 0],\n",
       "       [0, 1],\n",
       "       [0, 1],\n",
       "       [1, 1],\n",
       "       [1, 0],\n",
       "       [0, 1]])"
      ]
     },
     "execution_count": 13,
     "metadata": {},
     "output_type": "execute_result"
    }
   ],
   "source": [
    "# Visualise the Index matrix\n",
    "clf2.index_matrix"
   ]
  },
  {
   "cell_type": "code",
   "execution_count": 14,
   "metadata": {},
   "outputs": [
    {
     "name": "stdout",
     "output_type": "stream",
     "text": [
      "Accuracy of model on train dataset is:  1.0\n"
     ]
    }
   ],
   "source": [
    "# Accuracy\n",
    "print(\"Accuracy of model on train dataset is: \", clf2.evaluate(X_train, Y_train))"
   ]
  },
  {
   "cell_type": "code",
   "execution_count": 15,
   "metadata": {},
   "outputs": [
    {
     "name": "stdout",
     "output_type": "stream",
     "text": [
      "The model considers following vocabulary (along with their occurences): \n"
     ]
    },
    {
     "data": {
      "text/plain": [
       "{'recent': 1,\n",
       " 'years': 1,\n",
       " 'researchers': 1,\n",
       " 'computer': 2,\n",
       " 'vision': 2,\n",
       " 'proposed': 1,\n",
       " 'many': 1,\n",
       " 'deep': 3,\n",
       " 'learning': 2,\n",
       " 'methods': 3,\n",
       " 'various': 1,\n",
       " 'tasks': 1,\n",
       " 'facial': 2,\n",
       " 'recognition': 2,\n",
       " 'made': 1,\n",
       " 'enormous': 1,\n",
       " 'leap': 1,\n",
       " 'using': 1,\n",
       " 'techniques': 1,\n",
       " 'systems': 1,\n",
       " 'benefit': 1,\n",
       " 'hierarchical': 1,\n",
       " 'architecture': 1,\n",
       " 'learn': 1,\n",
       " 'discriminative': 1,\n",
       " 'face': 1,\n",
       " 'representation': 1,\n",
       " 'widely': 1,\n",
       " 'used': 1}"
      ]
     },
     "execution_count": 15,
     "metadata": {},
     "output_type": "execute_result"
    }
   ],
   "source": [
    "# Vocabulary of dataset\n",
    "print(\"The model considers following vocabulary (along with their occurences): \") \n",
    "clf2.vocab"
   ]
  },
  {
   "cell_type": "code",
   "execution_count": 16,
   "metadata": {},
   "outputs": [
    {
     "name": "stdout",
     "output_type": "stream",
     "text": [
      "The Test Sample belongs to class:  CV\n"
     ]
    }
   ],
   "source": [
    "# Perfrom prediction on Test Sample\n",
    "ans = clf2.predict([\"Deep learning based computer vision methods have been used for facial recognition.\"])\n",
    "print(\"The Test Sample belongs to class: \", ans[0])"
   ]
  }
 ],
 "metadata": {
  "colab": {
   "name": "AI_Lab3.ipynb",
   "provenance": []
  },
  "kernelspec": {
   "display_name": "Python 3",
   "language": "python",
   "name": "python3"
  },
  "language_info": {
   "codemirror_mode": {
    "name": "ipython",
    "version": 3
   },
   "file_extension": ".py",
   "mimetype": "text/x-python",
   "name": "python",
   "nbconvert_exporter": "python",
   "pygments_lexer": "ipython3",
   "version": "3.8.5"
  }
 },
 "nbformat": 4,
 "nbformat_minor": 4
}
