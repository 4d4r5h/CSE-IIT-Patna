{
  "nbformat": 4,
  "nbformat_minor": 0,
  "metadata": {
    "kernelspec": {
      "display_name": "Python 3",
      "language": "python",
      "name": "python3"
    },
    "language_info": {
      "codemirror_mode": {
        "name": "ipython",
        "version": 3
      },
      "file_extension": ".py",
      "mimetype": "text/x-python",
      "name": "python",
      "nbconvert_exporter": "python",
      "pygments_lexer": "ipython3",
      "version": "3.7.5"
    },
    "colab": {
      "name": "New_node2vec_link_prediction.ipynb",
      "provenance": []
    }
  },
  "cells": [
    {
      "cell_type": "markdown",
      "metadata": {
        "id": "g71QUJdSvfJl"
      },
      "source": [
        "# Link prediction with Node2Vec"
      ]
    },
    {
      "cell_type": "markdown",
      "metadata": {
        "nbsphinx": "hidden",
        "tags": [
          "CloudRunner"
        ],
        "id": "9_jvMpa6vfJ_"
      },
      "source": [
        "<table><tr><td>Run the latest release of this notebook:</td><td><a href=\"https://mybinder.org/v2/gh/stellargraph/stellargraph/master?urlpath=lab/tree/demos/link-prediction/node2vec-link-prediction.ipynb\" alt=\"Open In Binder\" target=\"_parent\"><img src=\"https://mybinder.org/badge_logo.svg\"/></a></td><td><a href=\"https://colab.research.google.com/github/stellargraph/stellargraph/blob/master/demos/link-prediction/node2vec-link-prediction.ipynb\" alt=\"Open In Colab\" target=\"_parent\"><img src=\"https://colab.research.google.com/assets/colab-badge.svg\"/></a></td></tr></table>"
      ]
    },
    {
      "cell_type": "markdown",
      "metadata": {
        "id": "JrcsSLcPvfKD"
      },
      "source": [
        "This demo notebook demonstrates how to predict citation links/edges between papers using Node2Vec on the Cora dataset.\n",
        "\n",
        "We're going to tackle link prediction as a supervised learning problem on top of node representations/embeddings. The embeddings are computed with the unsupervised node2vec algorithm. After obtaining embeddings, a binary classifier can be used to predict a link, or not, between any two nodes in the graph. Various hyperparameters could be relevant in obtaining the best link classifier - this demo demonstrates incorporating model selection into the pipeline for choosing the best binary operator to apply on a pair of node embeddings.\n",
        "\n",
        "There are four steps:\n",
        "\n",
        "1. Obtain embeddings for each node\n",
        "2. For each set of hyperparameters, train a classifier\n",
        "3. Select the classifier that performs the best\n",
        "4. Evaluate the selected classifier on unseen data to validate its ability to generalise\n",
        "\n",
        "<a name=\"refs\"></a>\n",
        "**References:** \n",
        "\n",
        "[1] Node2Vec: Scalable Feature Learning for Networks. A. Grover, J. Leskovec. ACM SIGKDD International Conference on Knowledge Discovery and Data Mining (KDD), 2016. "
      ]
    },
    {
      "cell_type": "code",
      "metadata": {
        "nbsphinx": "hidden",
        "tags": [
          "CloudRunner"
        ],
        "id": "w9ueBQ-HvfKO"
      },
      "source": [
        "# install StellarGraph if running on Google Colab\n",
        "import sys\n",
        "if 'google.colab' in sys.modules:\n",
        "  %pip install -q stellargraph[demos]==1.2.1"
      ],
      "execution_count": 40,
      "outputs": []
    },
    {
      "cell_type": "code",
      "metadata": {
        "nbsphinx": "hidden",
        "tags": [
          "VersionCheck"
        ],
        "id": "Mfm99S2avfMO"
      },
      "source": [
        "# verify that we're using the correct version of StellarGraph for this notebook\n",
        "import stellargraph as sg\n",
        "\n",
        "try:\n",
        "    sg.utils.validate_notebook_version(\"1.2.1\")\n",
        "except AttributeError:\n",
        "    raise ValueError(\n",
        "        f\"This notebook requires StellarGraph version 1.2.1, but a different version {sg.__version__} is installed.  Please see <https://github.com/stellargraph/stellargraph/issues/1172>.\"\n",
        "    ) from None"
      ],
      "execution_count": 41,
      "outputs": []
    },
    {
      "cell_type": "code",
      "metadata": {
        "id": "BweeS0zMvfMQ"
      },
      "source": [
        "import matplotlib.pyplot as plt\n",
        "from math import isclose\n",
        "from sklearn.decomposition import PCA\n",
        "import os\n",
        "import networkx as nx\n",
        "import numpy as np\n",
        "import pandas as pd\n",
        "from stellargraph import StellarGraph, datasets\n",
        "from stellargraph.data import EdgeSplitter\n",
        "from collections import Counter\n",
        "import multiprocessing\n",
        "from IPython.display import display, HTML\n",
        "from sklearn.model_selection import train_test_split\n",
        "\n",
        "%matplotlib inline"
      ],
      "execution_count": 42,
      "outputs": []
    },
    {
      "cell_type": "markdown",
      "metadata": {
        "id": "s5pwwoLxvfMS"
      },
      "source": [
        "## Load the dataset\n",
        "\n",
        "The Cora dataset is a homogeneous network where all nodes are papers and edges between nodes are citation links, e.g. paper A cites paper B."
      ]
    },
    {
      "cell_type": "markdown",
      "metadata": {
        "tags": [
          "DataLoadingLinks"
        ],
        "id": "rXm4vuZqvfMW"
      },
      "source": [
        "(See [the \"Loading from Pandas\" demo](../basics/loading-pandas.ipynb) for details on how data can be loaded.)"
      ]
    },
    {
      "cell_type": "code",
      "metadata": {
        "id": "pGoDfNNxFBc2"
      },
      "source": [
        "def degree_weights(graph, _subjects, edges):\n",
        "  node_degrees = dict(graph.node_degrees())\n",
        "  edge_weight = []\n",
        "  for i, edge in enumerate(graph.edges()):\n",
        "    source_edge_degree = node_degrees[edge[0]]\n",
        "    target_edge_degree = node_degrees[edge[1]]\n",
        "    if source_edge_degree == target_edge_degree:\n",
        "      edge_weight.append(1)\n",
        "    else:\n",
        "      edge_weight.append(0)\n",
        "  return np.asarray(edge_weight, dtype=float)"
      ],
      "execution_count": 43,
      "outputs": []
    },
    {
      "cell_type": "code",
      "metadata": {
        "tags": [
          "DataLoading"
        ],
        "id": "sjtHErGhvfMX",
        "colab": {
          "base_uri": "https://localhost:8080/",
          "height": 52
        },
        "outputId": "ca1b0874-5a78-4c1a-a05b-bb2258b946e1"
      },
      "source": [
        "dataset = datasets.Cora()\n",
        "display(HTML(dataset.description))\n",
        "graph, node_subjects = dataset.load(\n",
        "    largest_connected_component_only=True,\n",
        "    edge_weights=degree_weights,\n",
        "    str_node_ids=True,  # Word2Vec requires strings, not ints\n",
        ")\n",
        "# graph, _ = dataset.load(largest_connected_component_only=True, str_node_ids=True)"
      ],
      "execution_count": 44,
      "outputs": [
        {
          "output_type": "display_data",
          "data": {
            "text/html": [
              "The Cora dataset consists of 2708 scientific publications classified into one of seven classes. The citation network consists of 5429 links. Each publication in the dataset is described by a 0/1-valued word vector indicating the absence/presence of the corresponding word from the dictionary. The dictionary consists of 1433 unique words."
            ],
            "text/plain": [
              "<IPython.core.display.HTML object>"
            ]
          },
          "metadata": {}
        }
      ]
    },
    {
      "cell_type": "code",
      "metadata": {
        "id": "YVsJyjbyvfMa",
        "colab": {
          "base_uri": "https://localhost:8080/"
        },
        "outputId": "4846cb23-f5a6-4487-cca3-eca8c6599a5f"
      },
      "source": [
        "print(graph.info())"
      ],
      "execution_count": 45,
      "outputs": [
        {
          "output_type": "stream",
          "name": "stdout",
          "text": [
            "StellarGraph: Undirected multigraph\n",
            " Nodes: 2485, Edges: 5209\n",
            "\n",
            " Node types:\n",
            "  paper: [2485]\n",
            "    Features: float32 vector, length 1433\n",
            "    Edge types: paper-cites->paper\n",
            "\n",
            " Edge types:\n",
            "    paper-cites->paper: [5209]\n",
            "        Weights: range=[0, 1], mean=0.086197, std=0.280682\n",
            "        Features: none\n"
          ]
        }
      ]
    },
    {
      "cell_type": "markdown",
      "metadata": {
        "id": "kXYizSPMvfMb"
      },
      "source": [
        "## Construct splits of the input data\n",
        "\n",
        "We have to carefully split the data to avoid data leakage and evaluate the algorithms correctly:\n",
        "\n",
        "* For computing node embeddings, a **Train Graph** (`graph_train`)\n",
        "* For training classifiers, a classifier **Training Set** (`examples_train`) of positive and negative edges that weren't used for computing node embeddings\n",
        "* For choosing the best classifier, an **Model Selection Test Set** (`examples_model_selection`) of positive and negative edges that weren't used for computing node embeddings or training the classifier \n",
        "* For the final evaluation, a **Test Graph** (`graph_test`) to compute test node embeddings with more edges than the Train Graph, and a **Test Set** (`examples_test`) of positive and negative edges not used for neither computing the test node embeddings or for classifier training or model selection"
      ]
    },
    {
      "cell_type": "markdown",
      "metadata": {
        "id": "Jh4XXtH8vfMc"
      },
      "source": [
        "###  Test Graph\n",
        "\n",
        "We begin with the full graph and use the `EdgeSplitter` class to produce:\n",
        "\n",
        "* Test Graph\n",
        "* Test set of positive/negative link examples\n",
        "\n",
        "The Test Graph is the reduced graph we obtain from removing the test set of links from the full graph."
      ]
    },
    {
      "cell_type": "code",
      "metadata": {
        "id": "DbsPR_H7vfMd",
        "colab": {
          "base_uri": "https://localhost:8080/"
        },
        "outputId": "82d4fb14-8c95-4eb7-94a0-5e212ed3f2ad"
      },
      "source": [
        "# Define an edge splitter on the original graph:\n",
        "edge_splitter_test = EdgeSplitter(graph)\n",
        "\n",
        "# Randomly sample a fraction p=0.1 of all positive links, and same number of negative links, from graph, and obtain the\n",
        "# reduced graph graph_test with the sampled links removed:\n",
        "graph_test, examples_test, labels_test = edge_splitter_test.train_test_split(\n",
        "    p=0.1, method=\"global\"\n",
        ")\n",
        "\n",
        "print(graph_test.info())"
      ],
      "execution_count": 46,
      "outputs": [
        {
          "output_type": "stream",
          "name": "stdout",
          "text": [
            "** Sampled 520 positive and 520 negative edges. **\n",
            "StellarGraph: Undirected multigraph\n",
            " Nodes: 2485, Edges: 4689\n",
            "\n",
            " Node types:\n",
            "  paper: [2485]\n",
            "    Features: float32 vector, length 1433\n",
            "    Edge types: paper-cites->paper\n",
            "\n",
            " Edge types:\n",
            "    paper-cites->paper: [4689]\n",
            "        Weights: range=[0, 1], mean=0.0878652, std=0.283129\n",
            "        Features: none\n"
          ]
        }
      ]
    },
    {
      "cell_type": "markdown",
      "metadata": {
        "id": "Bl9VnDHLvfMf"
      },
      "source": [
        "### Train Graph\n",
        "\n",
        "This time, we use the `EdgeSplitter` on the Test Graph, and perform a train/test split on the examples to produce:\n",
        "\n",
        "* Train Graph\n",
        "* Training set of link examples\n",
        "* Set of link examples for model selection\n"
      ]
    },
    {
      "cell_type": "code",
      "metadata": {
        "id": "3XHFQdWAvfMf",
        "colab": {
          "base_uri": "https://localhost:8080/"
        },
        "outputId": "3e713a3e-cca7-4b5b-986c-1c7361784915"
      },
      "source": [
        "# Do the same process to compute a training subset from within the test graph\n",
        "edge_splitter_train = EdgeSplitter(graph_test, graph)\n",
        "graph_train, examples, labels = edge_splitter_train.train_test_split(\n",
        "    p=0.1, method=\"global\"\n",
        ")\n",
        "(\n",
        "    examples_train,\n",
        "    examples_model_selection,\n",
        "    labels_train,\n",
        "    labels_model_selection,\n",
        ") = train_test_split(examples, labels, train_size=0.75, test_size=0.25)\n",
        "\n",
        "print(graph_train.info())"
      ],
      "execution_count": 47,
      "outputs": [
        {
          "output_type": "stream",
          "name": "stdout",
          "text": [
            "** Sampled 468 positive and 468 negative edges. **\n",
            "StellarGraph: Undirected multigraph\n",
            " Nodes: 2485, Edges: 4221\n",
            "\n",
            " Node types:\n",
            "  paper: [2485]\n",
            "    Features: float32 vector, length 1433\n",
            "    Edge types: paper-cites->paper\n",
            "\n",
            " Edge types:\n",
            "    paper-cites->paper: [4221]\n",
            "        Weights: range=[0, 1], mean=0.0878939, std=0.283174\n",
            "        Features: none\n"
          ]
        }
      ]
    },
    {
      "cell_type": "markdown",
      "metadata": {
        "id": "oDEU8rWSvfMg"
      },
      "source": [
        "Below is a summary of the different splits that have been created in this section"
      ]
    },
    {
      "cell_type": "code",
      "metadata": {
        "id": "Tq243uzRvfMg",
        "colab": {
          "base_uri": "https://localhost:8080/",
          "height": 175
        },
        "outputId": "86d44556-443d-44bf-cdc1-815b5bbd3160"
      },
      "source": [
        "pd.DataFrame(\n",
        "    [\n",
        "        (\n",
        "            \"Training Set\",\n",
        "            len(examples_train),\n",
        "            \"Train Graph\",\n",
        "            \"Test Graph\",\n",
        "            \"Train the Link Classifier\",\n",
        "        ),\n",
        "        (\n",
        "            \"Model Selection\",\n",
        "            len(examples_model_selection),\n",
        "            \"Train Graph\",\n",
        "            \"Test Graph\",\n",
        "            \"Select the best Link Classifier model\",\n",
        "        ),\n",
        "        (\n",
        "            \"Test set\",\n",
        "            len(examples_test),\n",
        "            \"Test Graph\",\n",
        "            \"Full Graph\",\n",
        "            \"Evaluate the best Link Classifier\",\n",
        "        ),\n",
        "    ],\n",
        "    columns=(\"Split\", \"Number of Examples\", \"Hidden from\", \"Picked from\", \"Use\"),\n",
        ").set_index(\"Split\")"
      ],
      "execution_count": 48,
      "outputs": [
        {
          "output_type": "execute_result",
          "data": {
            "text/html": [
              "<div>\n",
              "<style scoped>\n",
              "    .dataframe tbody tr th:only-of-type {\n",
              "        vertical-align: middle;\n",
              "    }\n",
              "\n",
              "    .dataframe tbody tr th {\n",
              "        vertical-align: top;\n",
              "    }\n",
              "\n",
              "    .dataframe thead th {\n",
              "        text-align: right;\n",
              "    }\n",
              "</style>\n",
              "<table border=\"1\" class=\"dataframe\">\n",
              "  <thead>\n",
              "    <tr style=\"text-align: right;\">\n",
              "      <th></th>\n",
              "      <th>Number of Examples</th>\n",
              "      <th>Hidden from</th>\n",
              "      <th>Picked from</th>\n",
              "      <th>Use</th>\n",
              "    </tr>\n",
              "    <tr>\n",
              "      <th>Split</th>\n",
              "      <th></th>\n",
              "      <th></th>\n",
              "      <th></th>\n",
              "      <th></th>\n",
              "    </tr>\n",
              "  </thead>\n",
              "  <tbody>\n",
              "    <tr>\n",
              "      <th>Training Set</th>\n",
              "      <td>702</td>\n",
              "      <td>Train Graph</td>\n",
              "      <td>Test Graph</td>\n",
              "      <td>Train the Link Classifier</td>\n",
              "    </tr>\n",
              "    <tr>\n",
              "      <th>Model Selection</th>\n",
              "      <td>234</td>\n",
              "      <td>Train Graph</td>\n",
              "      <td>Test Graph</td>\n",
              "      <td>Select the best Link Classifier model</td>\n",
              "    </tr>\n",
              "    <tr>\n",
              "      <th>Test set</th>\n",
              "      <td>1040</td>\n",
              "      <td>Test Graph</td>\n",
              "      <td>Full Graph</td>\n",
              "      <td>Evaluate the best Link Classifier</td>\n",
              "    </tr>\n",
              "  </tbody>\n",
              "</table>\n",
              "</div>"
            ],
            "text/plain": [
              "                 Number of Examples  ...                                    Use\n",
              "Split                                ...                                       \n",
              "Training Set                    702  ...              Train the Link Classifier\n",
              "Model Selection                 234  ...  Select the best Link Classifier model\n",
              "Test set                       1040  ...      Evaluate the best Link Classifier\n",
              "\n",
              "[3 rows x 4 columns]"
            ]
          },
          "metadata": {},
          "execution_count": 48
        }
      ]
    },
    {
      "cell_type": "markdown",
      "metadata": {
        "id": "xzH7V4UgvfMh"
      },
      "source": [
        "## Node2Vec\n",
        "\n",
        "We use Node2Vec [[1]](#refs), to calculate node embeddings. These embeddings are learned in such a way to ensure that nodes that are close in the graph remain close in the embedding space. Node2Vec first involves running random walks on the graph to obtain our context pairs, and using these to train a Word2Vec model.\n",
        "\n",
        "These are the set of parameters we can use:\n",
        "\n",
        "* `p` - Random walk parameter \"p\"\n",
        "* `q` - Random walk parameter \"q\"\n",
        "* `dimensions` - Dimensionality of node2vec embeddings\n",
        "* `num_walks` - Number of walks from each node\n",
        "* `walk_length` - Length of each random walk\n",
        "* `window_size` - Context window size for Word2Vec\n",
        "* `num_iter` - number of SGD iterations (epochs)\n",
        "* `workers` - Number of workers for Word2Vec"
      ]
    },
    {
      "cell_type": "code",
      "metadata": {
        "id": "BSqmRumtvfMi"
      },
      "source": [
        "p = 0.5\n",
        "q = 2\n",
        "dimensions = 128\n",
        "num_walks = 10\n",
        "walk_length = 80\n",
        "window_size = 10\n",
        "num_iter = 1\n",
        "workers = multiprocessing.cpu_count()"
      ],
      "execution_count": 49,
      "outputs": []
    },
    {
      "cell_type": "code",
      "metadata": {
        "id": "rU7kRayLvfMj"
      },
      "source": [
        "from stellargraph.data import BiasedRandomWalk\n",
        "from gensim.models import Word2Vec\n",
        "\n",
        "\n",
        "def node2vec_embedding(graph, name):\n",
        "    rw = BiasedRandomWalk(graph)\n",
        "    walks = rw.run(graph.nodes(), n=num_walks, length=walk_length, p=p, q=q, weighted=True)\n",
        "    print(f\"Number of random walks for '{name}': {len(walks)}\")\n",
        "\n",
        "    model = Word2Vec(\n",
        "        walks,\n",
        "        size=dimensions,\n",
        "        window=window_size,\n",
        "        min_count=0,\n",
        "        sg=1,\n",
        "        workers=workers,\n",
        "        iter=num_iter,\n",
        "    )\n",
        "\n",
        "    def get_embedding(u):\n",
        "        return model.wv[u]\n",
        "\n",
        "    return get_embedding"
      ],
      "execution_count": 50,
      "outputs": []
    },
    {
      "cell_type": "code",
      "metadata": {
        "id": "lJDVhJw6vfMk",
        "colab": {
          "base_uri": "https://localhost:8080/"
        },
        "outputId": "856b5a23-fd28-4f10-fb34-9cd32efa03a5"
      },
      "source": [
        "embedding_train = node2vec_embedding(graph_train, \"Train Graph\")"
      ],
      "execution_count": 51,
      "outputs": [
        {
          "output_type": "stream",
          "name": "stdout",
          "text": [
            "Number of random walks for 'Train Graph': 24850\n"
          ]
        }
      ]
    },
    {
      "cell_type": "markdown",
      "metadata": {
        "id": "ffFsUsnnvfMk"
      },
      "source": [
        "## Train and evaluate the link prediction model\n",
        "\n",
        "There are a few steps involved in using the Word2Vec model to perform link prediction:\n",
        "1. We calculate link/edge embeddings for the positive and negative edge samples by applying a binary operator on the embeddings of the source and target nodes of each sampled edge.\n",
        "2. Given the embeddings of the positive and negative examples, we train a logistic regression classifier to predict a binary value indicating whether an edge between two nodes should exist or not.\n",
        "3. We evaluate the performance of the link classifier for each of the 4 operators on the training data with node embeddings calculated on the **Train Graph** (`graph_train`), and select the best classifier.\n",
        "4. The best classifier is then used to calculate scores on the test data with node embeddings calculated on the **Test Graph** (`graph_test`).\n",
        "\n",
        "Below are a set of helper functions that let us repeat these steps for each of the binary operators."
      ]
    },
    {
      "cell_type": "code",
      "metadata": {
        "id": "yrtRUc1qvfMl"
      },
      "source": [
        "from sklearn.pipeline import Pipeline\n",
        "from sklearn.linear_model import LogisticRegressionCV\n",
        "from sklearn.metrics import roc_auc_score\n",
        "from sklearn.preprocessing import StandardScaler\n",
        "from sklearn.metrics import precision_recall_fscore_support\n",
        "\n",
        "\n",
        "# 1. link embeddings\n",
        "def link_examples_to_features(link_examples, transform_node, binary_operator):\n",
        "    return [\n",
        "        binary_operator(transform_node(src), transform_node(dst))\n",
        "        for src, dst in link_examples\n",
        "    ]\n",
        "\n",
        "\n",
        "# 2. training classifier\n",
        "def train_link_prediction_model(\n",
        "    link_examples, link_labels, get_embedding, binary_operator\n",
        "):\n",
        "    clf = link_prediction_classifier()\n",
        "    link_features = link_examples_to_features(\n",
        "        link_examples, get_embedding, binary_operator\n",
        "    )\n",
        "    clf.fit(link_features, link_labels)\n",
        "    return clf\n",
        "\n",
        "\n",
        "def link_prediction_classifier(max_iter=5000):\n",
        "    lr_clf = LogisticRegressionCV(Cs=10, cv=10, scoring=\"roc_auc\", max_iter=max_iter)\n",
        "    return Pipeline(steps=[(\"sc\", StandardScaler()), (\"clf\", lr_clf)])\n",
        "\n",
        "\n",
        "# 3. and 4. evaluate classifier\n",
        "def evaluate_link_prediction_model(\n",
        "    clf, link_examples_test, link_labels_test, get_embedding, binary_operator\n",
        "):\n",
        "    link_features_test = link_examples_to_features(\n",
        "        link_examples_test, get_embedding, binary_operator\n",
        "    )\n",
        "    roc_auc_score = evaluate_roc_auc(clf, link_features_test, link_labels_test)\n",
        "    pre, rec, f1 = evaluate_pre_rec_f1(clf, link_features_test, link_labels_test)\n",
        "    return roc_auc_score, pre, rec, f1\n",
        "\n",
        "\n",
        "def evaluate_roc_auc(clf, link_features, link_labels):\n",
        "    predicted = clf.predict_proba(link_features)\n",
        "\n",
        "    # check which class corresponds to positive links\n",
        "    positive_column = list(clf.classes_).index(1)\n",
        "    return roc_auc_score(link_labels, predicted[:, positive_column])\n",
        "\n",
        "def evaluate_pre_rec_f1(clf, link_features, link_labels):\n",
        "    predicted = clf.predict_proba(link_features)\n",
        "\n",
        "    # check which class corresponds to positive links\n",
        "    positive_column = list(clf.classes_).index(1)\n",
        "    pre, rec, f1, support = precision_recall_fscore_support(link_labels, np.argmax(predicted, axis= 1))\n",
        "    return pre, rec, f1"
      ],
      "execution_count": 52,
      "outputs": []
    },
    {
      "cell_type": "markdown",
      "metadata": {
        "id": "xtSYg_-RvfMt"
      },
      "source": [
        "We consider 4 different operators: \n",
        "\n",
        "* *Hadamard*\n",
        "* $L_1$\n",
        "* $L_2$\n",
        "* *average*\n",
        "\n",
        "The paper [[1]](#refs) provides a detailed description of these operators. All operators produce link embeddings that have equal dimensionality to the input node embeddings (128 dimensions for our example). "
      ]
    },
    {
      "cell_type": "code",
      "metadata": {
        "id": "5SSE4fLSvfMu"
      },
      "source": [
        "def operator_hadamard(u, v):\n",
        "    return u * v\n",
        "\n",
        "\n",
        "def operator_l1(u, v):\n",
        "    return np.abs(u - v)\n",
        "\n",
        "\n",
        "def operator_l2(u, v):\n",
        "    return (u - v) ** 2\n",
        "\n",
        "\n",
        "def operator_avg(u, v):\n",
        "    return (u + v) / 2.0\n",
        "\n",
        "\n",
        "def run_link_prediction(binary_operator):\n",
        "    clf = train_link_prediction_model(\n",
        "        examples_train, labels_train, embedding_train, binary_operator\n",
        "    )\n",
        "    score, pre, rec, f1 = evaluate_link_prediction_model(\n",
        "        clf,\n",
        "        examples_model_selection,\n",
        "        labels_model_selection,\n",
        "        embedding_train,\n",
        "        binary_operator,\n",
        "    )\n",
        "\n",
        "    return {\n",
        "        \"classifier\": clf,\n",
        "        \"binary_operator\": binary_operator,\n",
        "        \"score\": score,\n",
        "        \"precision\":pre,\n",
        "        \"recall\":rec, \n",
        "        \"f1-score\":f1\n",
        "    }\n",
        "\n",
        "\n",
        "binary_operators = [operator_hadamard, operator_l1, operator_l2, operator_avg]"
      ],
      "execution_count": 53,
      "outputs": []
    },
    {
      "cell_type": "code",
      "metadata": {
        "id": "xgiwZSW3vfMv",
        "colab": {
          "base_uri": "https://localhost:8080/",
          "height": 347
        },
        "outputId": "54e20832-5085-48ae-ea2b-0adf908dcbef"
      },
      "source": [
        "results = [run_link_prediction(op) for op in binary_operators]\n",
        "best_result = max(results, key=lambda result: result[\"score\"])\n",
        "\n",
        "print(f\"Best result from '{best_result['binary_operator'].__name__}'\")\n",
        "\n",
        "pd.DataFrame(\n",
        "    [(result[\"binary_operator\"].__name__, result[\"score\"], result[\"precision\"], result[\"recall\"], result[\"f1-score\"]) for result in results],\n",
        "    columns=(\"name\", \"ROC AUC score\", \"Precision\", \"Recall\", \"F1-score\"),\n",
        ").set_index(\"name\")"
      ],
      "execution_count": 54,
      "outputs": [
        {
          "output_type": "stream",
          "name": "stdout",
          "text": [
            "Best result from 'operator_hadamard'\n"
          ]
        },
        {
          "output_type": "stream",
          "name": "stderr",
          "text": [
            "/usr/local/lib/python3.7/dist-packages/sklearn/metrics/_classification.py:1272: UndefinedMetricWarning: Precision and F-score are ill-defined and being set to 0.0 in labels with no predicted samples. Use `zero_division` parameter to control this behavior.\n",
            "  _warn_prf(average, modifier, msg_start, len(result))\n"
          ]
        },
        {
          "output_type": "execute_result",
          "data": {
            "text/html": [
              "<div>\n",
              "<style scoped>\n",
              "    .dataframe tbody tr th:only-of-type {\n",
              "        vertical-align: middle;\n",
              "    }\n",
              "\n",
              "    .dataframe tbody tr th {\n",
              "        vertical-align: top;\n",
              "    }\n",
              "\n",
              "    .dataframe thead th {\n",
              "        text-align: right;\n",
              "    }\n",
              "</style>\n",
              "<table border=\"1\" class=\"dataframe\">\n",
              "  <thead>\n",
              "    <tr style=\"text-align: right;\">\n",
              "      <th></th>\n",
              "      <th>ROC AUC score</th>\n",
              "      <th>Precision</th>\n",
              "      <th>Recall</th>\n",
              "      <th>F1-score</th>\n",
              "    </tr>\n",
              "    <tr>\n",
              "      <th>name</th>\n",
              "      <th></th>\n",
              "      <th></th>\n",
              "      <th></th>\n",
              "      <th></th>\n",
              "    </tr>\n",
              "  </thead>\n",
              "  <tbody>\n",
              "    <tr>\n",
              "      <th>operator_hadamard</th>\n",
              "      <td>0.509787</td>\n",
              "      <td>[0.49206349206349204, 0.5380116959064327]</td>\n",
              "      <td>[0.2818181818181818, 0.7419354838709677]</td>\n",
              "      <td>[0.3583815028901734, 0.6237288135593221]</td>\n",
              "    </tr>\n",
              "    <tr>\n",
              "      <th>operator_l1</th>\n",
              "      <td>0.455499</td>\n",
              "      <td>[0.4358974358974359, 0.5128205128205128]</td>\n",
              "      <td>[0.3090909090909091, 0.6451612903225806]</td>\n",
              "      <td>[0.3617021276595745, 0.5714285714285714]</td>\n",
              "    </tr>\n",
              "    <tr>\n",
              "      <th>operator_l2</th>\n",
              "      <td>0.501979</td>\n",
              "      <td>[0.48, 0.5373134328358209]</td>\n",
              "      <td>[0.43636363636363634, 0.5806451612903226]</td>\n",
              "      <td>[0.4571428571428572, 0.5581395348837209]</td>\n",
              "    </tr>\n",
              "    <tr>\n",
              "      <th>operator_avg</th>\n",
              "      <td>0.506085</td>\n",
              "      <td>[0.4700854700854701, 0.0]</td>\n",
              "      <td>[1.0, 0.0]</td>\n",
              "      <td>[0.6395348837209301, 0.0]</td>\n",
              "    </tr>\n",
              "  </tbody>\n",
              "</table>\n",
              "</div>"
            ],
            "text/plain": [
              "                   ROC AUC score  ...                                  F1-score\n",
              "name                              ...                                          \n",
              "operator_hadamard       0.509787  ...  [0.3583815028901734, 0.6237288135593221]\n",
              "operator_l1             0.455499  ...  [0.3617021276595745, 0.5714285714285714]\n",
              "operator_l2             0.501979  ...  [0.4571428571428572, 0.5581395348837209]\n",
              "operator_avg            0.506085  ...                 [0.6395348837209301, 0.0]\n",
              "\n",
              "[4 rows x 4 columns]"
            ]
          },
          "metadata": {},
          "execution_count": 54
        }
      ]
    },
    {
      "cell_type": "markdown",
      "metadata": {
        "id": "W_VsGw4VvfMx"
      },
      "source": [
        "### Evaluate the best model using the test set\n",
        "\n",
        "Now that we've trained and selected our best model, we use a test set of embeddings and calculate a final evaluation score."
      ]
    },
    {
      "cell_type": "code",
      "metadata": {
        "id": "c1r1RLX8vfMy",
        "colab": {
          "base_uri": "https://localhost:8080/"
        },
        "outputId": "d528b21a-3051-4060-b9c5-7b8211e67837"
      },
      "source": [
        "embedding_test = node2vec_embedding(graph_test, \"Test Graph\")"
      ],
      "execution_count": 55,
      "outputs": [
        {
          "output_type": "stream",
          "name": "stdout",
          "text": [
            "Number of random walks for 'Test Graph': 24850\n"
          ]
        }
      ]
    },
    {
      "cell_type": "code",
      "metadata": {
        "id": "EHCckSJcvfM0",
        "colab": {
          "base_uri": "https://localhost:8080/"
        },
        "outputId": "3f2ed2ec-33c2-48fa-a3fa-8d296dca751c"
      },
      "source": [
        "test_score, pre, rec, f1 = evaluate_link_prediction_model(\n",
        "    best_result[\"classifier\"],\n",
        "    examples_test,\n",
        "    labels_test,\n",
        "    embedding_test,\n",
        "    best_result[\"binary_operator\"],\n",
        ")\n",
        "print(\n",
        "    f\"ROC AUC score on test set using '{best_result['binary_operator'].__name__}': {test_score}\"\n",
        ")\n",
        "print(\"Precision\", pre)\n",
        "print(\"Recall\", rec)\n",
        "print(\"F1 score\", f1)"
      ],
      "execution_count": 56,
      "outputs": [
        {
          "output_type": "stream",
          "name": "stdout",
          "text": [
            "ROC AUC score on test set using 'operator_hadamard': 0.49920488165680477\n",
            "Precision [0.54       0.51621622]\n",
            "Recall [0.31153846 0.73461538]\n",
            "F1 score [0.39512195 0.60634921]\n"
          ]
        }
      ]
    },
    {
      "cell_type": "markdown",
      "metadata": {
        "id": "mSKPib4dvfM1"
      },
      "source": [
        "### Visualise representations of link embeddings\n",
        "\n",
        "Learned link embeddings have 128 dimensions but for visualisation we project them down to 2 dimensions using the PCA algorithm ([link](https://en.wikipedia.org/wiki/Principal_component_analysis)). \n",
        "\n",
        "Blue points represent positive edges and red points represent negative (no edge should exist between the corresponding vertices) edges."
      ]
    },
    {
      "cell_type": "code",
      "metadata": {
        "id": "p0MzhwCUvfM2",
        "colab": {
          "base_uri": "https://localhost:8080/",
          "height": 717
        },
        "outputId": "c3c74f5a-06c2-49ef-e13b-27a2796aa3e7"
      },
      "source": [
        "# Calculate edge features for test data\n",
        "link_features = link_examples_to_features(\n",
        "    examples_test, embedding_test, best_result[\"binary_operator\"]\n",
        ")\n",
        "\n",
        "# Learn a projection from 128 dimensions to 2\n",
        "pca = PCA(n_components=2)\n",
        "X_transformed = pca.fit_transform(link_features)\n",
        "\n",
        "# plot the 2-dimensional points\n",
        "plt.figure(figsize=(16, 12))\n",
        "plt.scatter(\n",
        "    X_transformed[:, 0],\n",
        "    X_transformed[:, 1],\n",
        "    c=np.where(labels_test == 1, \"b\", \"r\"),\n",
        "    alpha=0.5,\n",
        ")"
      ],
      "execution_count": 57,
      "outputs": [
        {
          "output_type": "execute_result",
          "data": {
            "text/plain": [
              "<matplotlib.collections.PathCollection at 0x7f4c1b9fee50>"
            ]
          },
          "metadata": {},
          "execution_count": 57
        },
        {
          "output_type": "display_data",
          "data": {
            "image/png": "[encoded data removed]",
            "text/plain": [
              "<Figure size 1152x864 with 1 Axes>"
            ]
          },
          "metadata": {
            "needs_background": "light"
          }
        }
      ]
    },
    {
      "cell_type": "markdown",
      "metadata": {
        "id": "bqQ-IV5AvfM3"
      },
      "source": [
        "This example has demonstrated how to use the `stellargraph` library to build a link prediction algorithm for homogeneous graphs using the Node2Vec, [1], representation learning algorithm."
      ]
    },
    {
      "cell_type": "markdown",
      "metadata": {
        "nbsphinx": "hidden",
        "tags": [
          "CloudRunner"
        ],
        "id": "P7MVXD36vfM4"
      },
      "source": [
        "<table><tr><td>Run the latest release of this notebook:</td><td><a href=\"https://mybinder.org/v2/gh/stellargraph/stellargraph/master?urlpath=lab/tree/demos/link-prediction/node2vec-link-prediction.ipynb\" alt=\"Open In Binder\" target=\"_parent\"><img src=\"https://mybinder.org/badge_logo.svg\"/></a></td><td><a href=\"https://colab.research.google.com/github/stellargraph/stellargraph/blob/master/demos/link-prediction/node2vec-link-prediction.ipynb\" alt=\"Open In Colab\" target=\"_parent\"><img src=\"https://colab.research.google.com/assets/colab-badge.svg\"/></a></td></tr></table>"
      ]
    }
  ]
}