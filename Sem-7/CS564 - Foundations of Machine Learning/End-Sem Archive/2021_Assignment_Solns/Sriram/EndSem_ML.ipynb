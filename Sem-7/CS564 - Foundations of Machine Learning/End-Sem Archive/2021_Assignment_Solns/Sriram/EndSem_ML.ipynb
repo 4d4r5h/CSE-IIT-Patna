{
 "cells": [
  {
   "cell_type": "code",
   "execution_count": 1,
   "metadata": {
    "colab": {
     "base_uri": "https://localhost:8080/"
    },
    "id": "rue5Tw8pt15M",
    "outputId": "94124e3b-c84c-4ce5-cd1e-4f3f24063a17"
   },
   "outputs": [],
   "source": [
    "# # Loading drive\n",
    "# from google.colab import drive\n",
    "# drive.mount('/content/drive')"
   ]
  },
  {
   "cell_type": "code",
   "execution_count": 3,
   "metadata": {
    "colab": {
     "base_uri": "https://localhost:8080/"
    },
    "id": "wQaIwqQauBTP",
    "outputId": "012de0cd-72ff-4f8b-d550-83e25dd5029e"
   },
   "outputs": [
    {
     "name": "stdout",
     "output_type": "stream",
     "text": [
      "2.4.0\n"
     ]
    }
   ],
   "source": [
    "import tensorflow as tf\n",
    "print(tf.__version__)"
   ]
  },
  {
   "cell_type": "code",
   "execution_count": 4,
   "metadata": {
    "colab": {
     "base_uri": "https://localhost:8080/"
    },
    "id": "YfunzHoiuFMn",
    "outputId": "6d57a164-8c3e-4873-a77c-c9786129822b"
   },
   "outputs": [
    {
     "name": "stdout",
     "output_type": "stream",
     "text": [
      "--2021-11-25 17:18:17--  https://www.dropbox.com/s/tp3l54tnatvbldf/bbc.csv?dl=0\n",
      "Resolving www.dropbox.com (www.dropbox.com)... 162.125.5.18, 2620:100:6018:18::a27d:312\n",
      "Connecting to www.dropbox.com (www.dropbox.com)|162.125.5.18|:443... connected.\n",
      "HTTP request sent, awaiting response... 301 Moved Permanently\n",
      "Location: /s/raw/tp3l54tnatvbldf/bbc.csv [following]\n",
      "--2021-11-25 17:18:18--  https://www.dropbox.com/s/raw/tp3l54tnatvbldf/bbc.csv\n",
      "Reusing existing connection to www.dropbox.com:443.\n",
      "HTTP request sent, awaiting response... 302 Found\n",
      "Location: https://uca6033750e487dff2848fd643c3.dl.dropboxusercontent.com/cd/0/inline/BaqWv5Uhy6KYTQh_K1hvyTG0Bfce1Xwpt2VYNizjUW6f4GoNxr2os8rITKN6LAaKiMI_XjZANLWqmHOwVseDMEffddQTFu0CWSb6Q29snCUO2ILjU6t-3AUO6hKg_wKJUmATucGO7zli5csIG_UfjHm_/file# [following]\n",
      "--2021-11-25 17:18:18--  https://uca6033750e487dff2848fd643c3.dl.dropboxusercontent.com/cd/0/inline/BaqWv5Uhy6KYTQh_K1hvyTG0Bfce1Xwpt2VYNizjUW6f4GoNxr2os8rITKN6LAaKiMI_XjZANLWqmHOwVseDMEffddQTFu0CWSb6Q29snCUO2ILjU6t-3AUO6hKg_wKJUmATucGO7zli5csIG_UfjHm_/file\n",
      "Resolving uca6033750e487dff2848fd643c3.dl.dropboxusercontent.com (uca6033750e487dff2848fd643c3.dl.dropboxusercontent.com)... 162.125.3.15, 2620:100:6018:15::a27d:30f\n",
      "Connecting to uca6033750e487dff2848fd643c3.dl.dropboxusercontent.com (uca6033750e487dff2848fd643c3.dl.dropboxusercontent.com)|162.125.3.15|:443... connected.\n",
      "HTTP request sent, awaiting response... 200 OK\n",
      "Length: 4494967 (4.3M) [text/plain]\n",
      "Saving to: ‘bbc.csv’\n",
      "\n",
      "bbc.csv             100%[===================>]   4.29M  20.3MB/s    in 0.2s    \n",
      "\n",
      "2021-11-25 17:18:18 (20.3 MB/s) - ‘bbc.csv’ saved [4494967/4494967]\n",
      "\n"
     ]
    }
   ],
   "source": [
    "# Downloading the data\n",
    "!wget https://www.dropbox.com/s/tp3l54tnatvbldf/bbc.csv?dl=0 -O 'bbc.csv'"
   ]
  },
  {
   "cell_type": "code",
   "execution_count": 5,
   "metadata": {
    "id": "XeVmfy10uHFQ"
   },
   "outputs": [],
   "source": [
    "# All general imports\n",
    "import pandas as pd\n",
    "import numpy as np\n",
    "from sklearn.preprocessing import LabelEncoder\n",
    "from sklearn.preprocessing import LabelBinarizer\n",
    "from sklearn.model_selection import train_test_split \n",
    "\n",
    "import keras\n",
    "from keras.preprocessing.text import Tokenizer\n",
    "from keras.preprocessing.sequence import pad_sequences\n",
    "from keras.layers import Input, Embedding, Reshape, Conv2D, MaxPool2D, Concatenate, Flatten, Dropout, Dense, Bidirectional, GlobalAveragePooling1D, GRU, GlobalMaxPooling1D, concatenate\n",
    "from tensorflow.keras.optimizers import Adam\n",
    "from keras.layers import SimpleRNN, LSTM, GRU, Conv1D, MaxPool1D, Activation, Add\n",
    "\n",
    "from keras.models import Model, Sequential\n",
    "from keras.layers.core import SpatialDropout1D\n",
    "\n",
    "from keras.layers import Dense, Input, Embedding, Dropout, Activation, Conv1D, Softmax\n",
    "from keras import initializers, regularizers, constraints, optimizers, layers\n",
    "from keras import backend as K\n",
    "\n",
    "from keras.callbacks import EarlyStopping\n",
    "\n",
    "from sklearn.model_selection import StratifiedKFold\n",
    "from sklearn.metrics import classification_report, accuracy_score\n",
    "\n",
    "import matplotlib.pyplot as plt\n",
    "import io, os, gc"
   ]
  },
  {
   "cell_type": "code",
   "execution_count": 6,
   "metadata": {
    "colab": {
     "base_uri": "https://localhost:8080/"
    },
    "id": "v0RQsl7yuI0z",
    "outputId": "e89ce4a6-b1ad-4758-8541-62ce172b9801"
   },
   "outputs": [
    {
     "name": "stdout",
     "output_type": "stream",
     "text": [
      "Index(['Unnamed: 0', 'Article', 'Class'], dtype='object')\n",
      "{'business': 0, 'entertainment': 1, 'politics': 2, 'sport': 3, 'tech': 4}\n",
      "   Unnamed: 0                                            Article     Class\n",
      "0           0  Ad sales boost Time Warner profit\\n\\nQuarterly...  business\n",
      "1           1  Dollar gains on Greenspan speech\\n\\nThe dollar...  business\n",
      "2           2  Yukos unit buyer faces loan claim\\n\\nThe owner...  business\n",
      "3           3  High fuel prices hit BA's profits\\n\\nBritish A...  business\n",
      "4           4  Pernod takeover talk lifts Domecq\\n\\nShares in...  business\n"
     ]
    }
   ],
   "source": [
    "# loading data\n",
    "df = pd.read_csv(\"bbc.csv\")\n",
    "print(df.columns)\n",
    "le = LabelEncoder()\n",
    "input_labels = le.fit_transform(df['Class'])\n",
    "le_name_mapping = dict(zip(le.classes_, le.transform(le.classes_)))\n",
    "print(le_name_mapping)\n",
    "print(df.head())"
   ]
  },
  {
   "cell_type": "code",
   "execution_count": 7,
   "metadata": {
    "colab": {
     "base_uri": "https://localhost:8080/"
    },
    "id": "DMuxIzJRuKSs",
    "outputId": "a396a4d6-cf93-48db-87b9-01614d6196a0"
   },
   "outputs": [
    {
     "name": "stdout",
     "output_type": "stream",
     "text": [
      "Data Pre-Processed!\n",
      "Average Length of each text document is 227.56066945606693\n"
     ]
    }
   ],
   "source": [
    "# Pre-processing data\n",
    "from gensim.parsing.preprocessing import remove_stopwords\n",
    "from gensim.parsing.porter import PorterStemmer\n",
    "import re\n",
    "porter_stemmer = PorterStemmer()\n",
    "doc_list = df['Article'].tolist()\n",
    "processed_list = []\n",
    "len_words = 0\n",
    "for doc in doc_list:\n",
    "  doc_str = re.sub(r'[^\\w\\s]', '', remove_stopwords(doc))\n",
    "  doc_str_stem_lst = [porter_stemmer.stem(word) for word in doc_str.split(\" \")]\n",
    "  len_words += len(doc_str_stem_lst)\n",
    "  doc_str_stem = \" \".join(doc_str_stem_lst)\n",
    "  processed_list.append(doc_str_stem)\n",
    "avg_len_text = len_words / len(processed_list)\n",
    "print('Data Pre-Processed!')\n",
    "print('Average Length of each text document is', avg_len_text)"
   ]
  },
  {
   "cell_type": "code",
   "execution_count": 8,
   "metadata": {
    "id": "T0bCxa01uOS9"
   },
   "outputs": [],
   "source": [
    "# Defining the tokenizer\n",
    "def get_tokenizer(data):\n",
    "  print('Training tokenizer...')\n",
    "  tokenizer = Tokenizer()\n",
    "  print('Read {} Sentences'.format(len(data)))\n",
    "  tokenizer.fit_on_texts(data)\n",
    "  return tokenizer"
   ]
  },
  {
   "cell_type": "code",
   "execution_count": 9,
   "metadata": {
    "id": "Kp36QPYtuPnq"
   },
   "outputs": [],
   "source": [
    "def get_data(tokenizer, MAX_LENGTH, input_data, input_labels):\n",
    "  print('Loading data')\n",
    "  \n",
    "  assert len(input_data) == len(input_labels)\n",
    "  sequences = tokenizer.texts_to_sequences(input_data)\n",
    "  X = pad_sequences(sequences, maxlen=MAX_LENGTH)\n",
    "  Y_bcc = np.array(input_labels)\n",
    "\n",
    "  return X, Y_bcc"
   ]
  },
  {
   "cell_type": "code",
   "execution_count": 10,
   "metadata": {
    "colab": {
     "base_uri": "https://localhost:8080/"
    },
    "id": "HHbNxih8uRXI",
    "outputId": "fa4eea03-b304-475d-9a98-983a27a8d5e1"
   },
   "outputs": [
    {
     "name": "stdout",
     "output_type": "stream",
     "text": [
      "Training tokenizer...\n",
      "Read 1912 Sentences\n"
     ]
    }
   ],
   "source": [
    "tokenizer = get_tokenizer(processed_list)"
   ]
  },
  {
   "cell_type": "code",
   "execution_count": 11,
   "metadata": {
    "colab": {
     "base_uri": "https://localhost:8080/"
    },
    "id": "As5C6mUXuSzz",
    "outputId": "3fcebed9-a2e5-42c6-9142-4e4ed0673265"
   },
   "outputs": [
    {
     "name": "stdout",
     "output_type": "stream",
     "text": [
      "Loading data\n"
     ]
    }
   ],
   "source": [
    "MAX_LENGTH = 100\n",
    "# read ml data\n",
    "X, Y_bcc = get_data(tokenizer, MAX_LENGTH, processed_list, input_labels)"
   ]
  },
  {
   "cell_type": "code",
   "execution_count": 12,
   "metadata": {
    "colab": {
     "base_uri": "https://localhost:8080/"
    },
    "id": "6L08Mtadv2X8",
    "outputId": "b61f2c92-0fbb-4042-a76b-ac41170d071f"
   },
   "outputs": [
    {
     "name": "stdout",
     "output_type": "stream",
     "text": [
      "[[1. 0. 0. 0. 0.]\n",
      " [1. 0. 0. 0. 0.]\n",
      " [1. 0. 0. 0. 0.]\n",
      " ...\n",
      " [0. 0. 0. 0. 1.]\n",
      " [0. 0. 0. 0. 1.]\n",
      " [0. 0. 0. 0. 1.]]\n"
     ]
    }
   ],
   "source": [
    "# Creating one-hot encodings\n",
    "y_bcc_labels = keras.utils.np_utils.to_categorical(Y_bcc)\n",
    "print(y_bcc_labels)"
   ]
  },
  {
   "cell_type": "code",
   "execution_count": 13,
   "metadata": {
    "id": "mh22DZQSv-rR"
   },
   "outputs": [],
   "source": [
    "# Splitting data into train, val and test\n",
    "train1_X, test_X, train1_Y, test_Y = train_test_split(X, y_bcc_labels, test_size=0.2, random_state=43)\n",
    "train_X, val_X, train_Y, val_Y = train_test_split(train1_X, train1_Y, test_size=0.1, random_state=43)"
   ]
  },
  {
   "cell_type": "code",
   "execution_count": 14,
   "metadata": {
    "id": "9mcFp0I1wA56"
   },
   "outputs": [],
   "source": [
    "# Setting hyper-parameters\n",
    "NUM_CLASSES = 5\n",
    "\n",
    "MAX_SEQUENCE_LENGTH = MAX_LENGTH\n",
    "\n",
    "MAX_NUM_WORDS = len(tokenizer.word_index) + 1\n",
    "\n",
    "NUM_EMBEDDING_DIM = 100"
   ]
  },
  {
   "cell_type": "code",
   "execution_count": 15,
   "metadata": {
    "id": "JcPvz8FUwGvM"
   },
   "outputs": [],
   "source": [
    "# Defining the model\n",
    "def get_ff_nn_model():\n",
    "  print('Getting Text FF NN')\n",
    "  input_layer = Input(\n",
    "      shape=(MAX_SEQUENCE_LENGTH, ), \n",
    "      dtype='int32')\n",
    "  embedding_layer = Embedding(MAX_NUM_WORDS, NUM_EMBEDDING_DIM, trainable=True)\n",
    "  embedded_input = embedding_layer(input_layer)\n",
    "  flatten_input = Flatten()(embedded_input)\n",
    "  dense_layer_1 = Dense(2048, activation='tanh')\n",
    "  drop_1 = Dropout(0.1)\n",
    "  dense_layer_2 = Dense(1024, activation='tanh')\n",
    "  drop_2 = Dropout(0.1)\n",
    "  dense_layer_3 = Dense(512, activation='tanh')\n",
    "  drop_3 = Dropout(0.1)\n",
    "  dense_layer_4 = Dense(5, activation='softmax')\n",
    "  # output_layer = dense_layer_4(drop_3(dense_layer_3(drop_2(dense_layer_2(drop_1(dense_layer_1(flatten_input)))))))\n",
    "  output_layer = dense_layer_4(drop_2(dense_layer_2(drop_1(dense_layer_1(flatten_input)))))\n",
    "  initial_ff_nn = Model(\n",
    "      inputs=input_layer, \n",
    "      outputs=output_layer)\n",
    "  print(initial_ff_nn.summary())\n",
    "  return initial_ff_nn"
   ]
  },
  {
   "cell_type": "code",
   "execution_count": 16,
   "metadata": {
    "colab": {
     "base_uri": "https://localhost:8080/"
    },
    "id": "_LQpsPFRwJJX",
    "outputId": "16732933-8d82-46b5-8f2a-145c6e03773c"
   },
   "outputs": [
    {
     "name": "stdout",
     "output_type": "stream",
     "text": [
      "Getting Text FF NN\n",
      "Model: \"model\"\n",
      "_________________________________________________________________\n",
      " Layer (type)                Output Shape              Param #   \n",
      "=================================================================\n",
      " input_1 (InputLayer)        [(None, 100)]             0         \n",
      "                                                                 \n",
      " embedding (Embedding)       (None, 100, 100)          2253200   \n",
      "                                                                 \n",
      " flatten (Flatten)           (None, 10000)             0         \n",
      "                                                                 \n",
      " dense (Dense)               (None, 2048)              20482048  \n",
      "                                                                 \n",
      " dropout (Dropout)           (None, 2048)              0         \n",
      "                                                                 \n",
      " dense_1 (Dense)             (None, 1024)              2098176   \n",
      "                                                                 \n",
      " dropout_1 (Dropout)         (None, 1024)              0         \n",
      "                                                                 \n",
      " dense_3 (Dense)             (None, 5)                 5125      \n",
      "                                                                 \n",
      "=================================================================\n",
      "Total params: 24,838,549\n",
      "Trainable params: 24,838,549\n",
      "Non-trainable params: 0\n",
      "_________________________________________________________________\n",
      "None\n",
      "Epoch 1/50\n",
      "3/3 [==============================] - 1s 191ms/step - loss: 1.5262 - accuracy: 0.3387 - val_loss: 1.3372 - val_accuracy: 0.4314\n",
      "Epoch 2/50\n",
      "3/3 [==============================] - 0s 66ms/step - loss: 0.3505 - accuracy: 0.9920 - val_loss: 1.0225 - val_accuracy: 0.5556\n",
      "Epoch 3/50\n",
      "3/3 [==============================] - 0s 60ms/step - loss: 0.0053 - accuracy: 1.0000 - val_loss: 0.9568 - val_accuracy: 0.6863\n",
      "Epoch 4/50\n",
      "3/3 [==============================] - 0s 55ms/step - loss: 2.2208e-05 - accuracy: 1.0000 - val_loss: 1.0200 - val_accuracy: 0.7124\n",
      "Epoch 5/50\n",
      "3/3 [==============================] - 0s 58ms/step - loss: 6.7032e-07 - accuracy: 1.0000 - val_loss: 1.1249 - val_accuracy: 0.7320\n",
      "Epoch 6/50\n",
      "3/3 [==============================] - 0s 58ms/step - loss: 1.5074e-08 - accuracy: 1.0000 - val_loss: 1.2307 - val_accuracy: 0.7647\n",
      "Epoch 7/50\n",
      "3/3 [==============================] - 0s 57ms/step - loss: 2.9456e-09 - accuracy: 1.0000 - val_loss: 1.3232 - val_accuracy: 0.7778\n",
      "Epoch 8/50\n",
      "3/3 [==============================] - 0s 59ms/step - loss: 4.3317e-10 - accuracy: 1.0000 - val_loss: 1.3995 - val_accuracy: 0.7778\n",
      "Epoch 9/50\n",
      "3/3 [==============================] - 0s 62ms/step - loss: 0.0000e+00 - accuracy: 1.0000 - val_loss: 1.4604 - val_accuracy: 0.7843\n",
      "Epoch 10/50\n",
      "3/3 [==============================] - 0s 57ms/step - loss: 0.0000e+00 - accuracy: 1.0000 - val_loss: 1.5082 - val_accuracy: 0.7843\n",
      "Epoch 11/50\n",
      "3/3 [==============================] - 0s 56ms/step - loss: 0.0000e+00 - accuracy: 1.0000 - val_loss: 1.5452 - val_accuracy: 0.7843\n",
      "Epoch 12/50\n",
      "3/3 [==============================] - 0s 60ms/step - loss: 0.0000e+00 - accuracy: 1.0000 - val_loss: 1.5736 - val_accuracy: 0.7843\n",
      "Epoch 13/50\n",
      "3/3 [==============================] - 0s 62ms/step - loss: 0.0000e+00 - accuracy: 1.0000 - val_loss: 1.5953 - val_accuracy: 0.7843\n",
      "Epoch 14/50\n",
      "3/3 [==============================] - 0s 57ms/step - loss: 0.0000e+00 - accuracy: 1.0000 - val_loss: 1.6118 - val_accuracy: 0.7843\n",
      "Epoch 15/50\n",
      "3/3 [==============================] - 0s 65ms/step - loss: 0.0000e+00 - accuracy: 1.0000 - val_loss: 1.6242 - val_accuracy: 0.7843\n",
      "Epoch 16/50\n",
      "3/3 [==============================] - 0s 70ms/step - loss: 0.0000e+00 - accuracy: 1.0000 - val_loss: 1.6337 - val_accuracy: 0.7843\n",
      "Epoch 17/50\n",
      "3/3 [==============================] - 0s 57ms/step - loss: 0.0000e+00 - accuracy: 1.0000 - val_loss: 1.6407 - val_accuracy: 0.7843\n",
      "Epoch 18/50\n",
      "3/3 [==============================] - 0s 57ms/step - loss: 0.0000e+00 - accuracy: 1.0000 - val_loss: 1.6461 - val_accuracy: 0.7843\n",
      "Epoch 19/50\n",
      "3/3 [==============================] - 0s 64ms/step - loss: 0.0000e+00 - accuracy: 1.0000 - val_loss: 1.6501 - val_accuracy: 0.7843\n",
      "Epoch 20/50\n",
      "3/3 [==============================] - 0s 59ms/step - loss: 0.0000e+00 - accuracy: 1.0000 - val_loss: 1.6531 - val_accuracy: 0.7843\n",
      "Epoch 21/50\n",
      "3/3 [==============================] - 0s 61ms/step - loss: 0.0000e+00 - accuracy: 1.0000 - val_loss: 1.6553 - val_accuracy: 0.7843\n",
      "Epoch 22/50\n",
      "3/3 [==============================] - 0s 66ms/step - loss: 0.0000e+00 - accuracy: 1.0000 - val_loss: 1.6570 - val_accuracy: 0.7843\n",
      "Epoch 23/50\n",
      "3/3 [==============================] - 0s 58ms/step - loss: 0.0000e+00 - accuracy: 1.0000 - val_loss: 1.6582 - val_accuracy: 0.7843\n",
      "Epoch 24/50\n",
      "3/3 [==============================] - 0s 61ms/step - loss: 0.0000e+00 - accuracy: 1.0000 - val_loss: 1.6591 - val_accuracy: 0.7843\n",
      "Epoch 25/50\n",
      "3/3 [==============================] - 0s 57ms/step - loss: 0.0000e+00 - accuracy: 1.0000 - val_loss: 1.6598 - val_accuracy: 0.7843\n",
      "Epoch 26/50\n",
      "3/3 [==============================] - 0s 62ms/step - loss: 0.0000e+00 - accuracy: 1.0000 - val_loss: 1.6604 - val_accuracy: 0.7843\n",
      "Epoch 27/50\n",
      "3/3 [==============================] - 0s 62ms/step - loss: 0.0000e+00 - accuracy: 1.0000 - val_loss: 1.6607 - val_accuracy: 0.7843\n",
      "Epoch 28/50\n",
      "3/3 [==============================] - 0s 62ms/step - loss: 0.0000e+00 - accuracy: 1.0000 - val_loss: 1.6610 - val_accuracy: 0.7843\n",
      "Epoch 29/50\n",
      "3/3 [==============================] - 0s 57ms/step - loss: 0.0000e+00 - accuracy: 1.0000 - val_loss: 1.6612 - val_accuracy: 0.7843\n",
      "Epoch 30/50\n",
      "3/3 [==============================] - 0s 58ms/step - loss: 0.0000e+00 - accuracy: 1.0000 - val_loss: 1.6614 - val_accuracy: 0.7843\n",
      "Epoch 31/50\n",
      "3/3 [==============================] - 0s 60ms/step - loss: 0.0000e+00 - accuracy: 1.0000 - val_loss: 1.6615 - val_accuracy: 0.7843\n",
      "Epoch 32/50\n",
      "3/3 [==============================] - 0s 60ms/step - loss: 0.0000e+00 - accuracy: 1.0000 - val_loss: 1.6616 - val_accuracy: 0.7843\n",
      "Epoch 33/50\n",
      "3/3 [==============================] - 0s 56ms/step - loss: 0.0000e+00 - accuracy: 1.0000 - val_loss: 1.6617 - val_accuracy: 0.7843\n",
      "Epoch 34/50\n",
      "3/3 [==============================] - 0s 61ms/step - loss: 0.0000e+00 - accuracy: 1.0000 - val_loss: 1.6617 - val_accuracy: 0.7843\n",
      "Epoch 35/50\n",
      "3/3 [==============================] - 0s 59ms/step - loss: 0.0000e+00 - accuracy: 1.0000 - val_loss: 1.6617 - val_accuracy: 0.7843\n",
      "Epoch 36/50\n",
      "3/3 [==============================] - 0s 61ms/step - loss: 0.0000e+00 - accuracy: 1.0000 - val_loss: 1.6618 - val_accuracy: 0.7843\n",
      "Epoch 37/50\n",
      "3/3 [==============================] - 0s 61ms/step - loss: 0.0000e+00 - accuracy: 1.0000 - val_loss: 1.6618 - val_accuracy: 0.7843\n",
      "Epoch 38/50\n",
      "3/3 [==============================] - 0s 64ms/step - loss: 0.0000e+00 - accuracy: 1.0000 - val_loss: 1.6618 - val_accuracy: 0.7843\n",
      "Epoch 39/50\n",
      "3/3 [==============================] - 0s 60ms/step - loss: 0.0000e+00 - accuracy: 1.0000 - val_loss: 1.6618 - val_accuracy: 0.7843\n",
      "Epoch 40/50\n",
      "3/3 [==============================] - 0s 60ms/step - loss: 0.0000e+00 - accuracy: 1.0000 - val_loss: 1.6618 - val_accuracy: 0.7843\n",
      "Epoch 41/50\n",
      "3/3 [==============================] - 0s 60ms/step - loss: 0.0000e+00 - accuracy: 1.0000 - val_loss: 1.6618 - val_accuracy: 0.7843\n",
      "Epoch 42/50\n",
      "3/3 [==============================] - 0s 68ms/step - loss: 0.0000e+00 - accuracy: 1.0000 - val_loss: 1.6618 - val_accuracy: 0.7843\n",
      "Epoch 43/50\n",
      "3/3 [==============================] - 0s 72ms/step - loss: 0.0000e+00 - accuracy: 1.0000 - val_loss: 1.6618 - val_accuracy: 0.7843\n",
      "Epoch 44/50\n",
      "3/3 [==============================] - 0s 62ms/step - loss: 0.0000e+00 - accuracy: 1.0000 - val_loss: 1.6618 - val_accuracy: 0.7843\n",
      "Epoch 45/50\n",
      "3/3 [==============================] - 0s 63ms/step - loss: 0.0000e+00 - accuracy: 1.0000 - val_loss: 1.6618 - val_accuracy: 0.7843\n",
      "Epoch 46/50\n",
      "3/3 [==============================] - 0s 63ms/step - loss: 0.0000e+00 - accuracy: 1.0000 - val_loss: 1.6618 - val_accuracy: 0.7843\n",
      "Epoch 47/50\n",
      "3/3 [==============================] - 0s 63ms/step - loss: 0.0000e+00 - accuracy: 1.0000 - val_loss: 1.6618 - val_accuracy: 0.7843\n",
      "Epoch 48/50\n",
      "3/3 [==============================] - 0s 58ms/step - loss: 0.0000e+00 - accuracy: 1.0000 - val_loss: 1.6618 - val_accuracy: 0.7843\n",
      "Epoch 49/50\n",
      "3/3 [==============================] - 0s 59ms/step - loss: 0.0000e+00 - accuracy: 1.0000 - val_loss: 1.6618 - val_accuracy: 0.7843\n",
      "Epoch 50/50\n",
      "3/3 [==============================] - 0s 60ms/step - loss: 0.0000e+00 - accuracy: 1.0000 - val_loss: 1.6618 - val_accuracy: 0.7843\n"
     ]
    }
   ],
   "source": [
    "BATCH_SIZE = 512\n",
    "NUM_EPOCHS = 50\n",
    "stop = [EarlyStopping(monitor='val_loss', patience=1)]\n",
    "initial_ff_nn = get_ff_nn_model()\n",
    "initial_ff_nn.compile(\n",
    "    optimizer='adam',\n",
    "    loss='categorical_crossentropy',\n",
    "    metrics=['accuracy'])\n",
    "history = initial_ff_nn.fit(x=train_X,\n",
    "                    y=train_Y,\n",
    "                    batch_size=BATCH_SIZE,\n",
    "                    epochs=NUM_EPOCHS,\n",
    "                    validation_data=(\n",
    "                      val_X, \n",
    "                      val_Y\n",
    "                    ),\n",
    "                    shuffle=True,\n",
    "#                    callbacks=stop,\n",
    "          )"
   ]
  },
  {
   "cell_type": "code",
   "execution_count": 17,
   "metadata": {
    "colab": {
     "base_uri": "https://localhost:8080/"
    },
    "id": "R0rhxmte0TuA",
    "outputId": "a06d53e2-47c1-46b1-b484-f0d8ef19ffb2"
   },
   "outputs": [
    {
     "name": "stdout",
     "output_type": "stream",
     "text": [
      "INFO:tensorflow:Assets written to: converged_ff_nn_1/assets\n"
     ]
    }
   ],
   "source": [
    "# Saving the FF NN Converged Model\n",
    "initial_ff_nn.save(\"converged_ff_nn_1\")"
   ]
  },
  {
   "cell_type": "code",
   "execution_count": 18,
   "metadata": {
    "colab": {
     "base_uri": "https://localhost:8080/"
    },
    "id": "onYSzBI12hr0",
    "outputId": "122e3ac7-6ad1-46ab-935b-008144515f9c"
   },
   "outputs": [
    {
     "name": "stdout",
     "output_type": "stream",
     "text": [
      "Epoch 1/50\n",
      "22/22 [==============================] - 1s 30ms/step - loss: 0.0000e+00 - accuracy: 1.0000 - val_loss: 1.6618 - val_accuracy: 0.7843\n",
      "Epoch 2/50\n",
      "22/22 [==============================] - 0s 20ms/step - loss: 0.0000e+00 - accuracy: 1.0000 - val_loss: 1.6618 - val_accuracy: 0.7843\n",
      "Epoch 3/50\n",
      "22/22 [==============================] - 0s 20ms/step - loss: 0.0000e+00 - accuracy: 1.0000 - val_loss: 1.6618 - val_accuracy: 0.7843\n",
      "Epoch 4/50\n",
      "22/22 [==============================] - 0s 21ms/step - loss: 0.0000e+00 - accuracy: 1.0000 - val_loss: 1.6618 - val_accuracy: 0.7843\n",
      "Epoch 5/50\n",
      "22/22 [==============================] - 0s 20ms/step - loss: 0.0000e+00 - accuracy: 1.0000 - val_loss: 1.6618 - val_accuracy: 0.7843\n",
      "Epoch 6/50\n",
      "22/22 [==============================] - 0s 20ms/step - loss: 0.0000e+00 - accuracy: 1.0000 - val_loss: 1.6618 - val_accuracy: 0.7843\n",
      "Epoch 7/50\n",
      "22/22 [==============================] - 0s 21ms/step - loss: 0.0000e+00 - accuracy: 1.0000 - val_loss: 1.6617 - val_accuracy: 0.7843\n",
      "Epoch 8/50\n",
      "22/22 [==============================] - 0s 21ms/step - loss: 0.0000e+00 - accuracy: 1.0000 - val_loss: 1.6617 - val_accuracy: 0.7843\n",
      "Epoch 9/50\n",
      "22/22 [==============================] - 0s 21ms/step - loss: 0.0000e+00 - accuracy: 1.0000 - val_loss: 1.6617 - val_accuracy: 0.7843\n",
      "Epoch 10/50\n",
      "22/22 [==============================] - 0s 21ms/step - loss: 0.0000e+00 - accuracy: 1.0000 - val_loss: 1.6617 - val_accuracy: 0.7843\n",
      "Epoch 11/50\n",
      "22/22 [==============================] - 0s 20ms/step - loss: 0.0000e+00 - accuracy: 1.0000 - val_loss: 1.6616 - val_accuracy: 0.7843\n",
      "Epoch 12/50\n",
      "22/22 [==============================] - 0s 19ms/step - loss: 0.0000e+00 - accuracy: 1.0000 - val_loss: 1.6616 - val_accuracy: 0.7843\n",
      "Epoch 13/50\n",
      "22/22 [==============================] - 0s 21ms/step - loss: 0.0000e+00 - accuracy: 1.0000 - val_loss: 1.6616 - val_accuracy: 0.7843\n",
      "Epoch 14/50\n",
      "22/22 [==============================] - 0s 21ms/step - loss: 0.0000e+00 - accuracy: 1.0000 - val_loss: 1.6616 - val_accuracy: 0.7843\n",
      "Epoch 15/50\n",
      "22/22 [==============================] - 0s 21ms/step - loss: 0.0000e+00 - accuracy: 1.0000 - val_loss: 1.6615 - val_accuracy: 0.7843\n",
      "Epoch 16/50\n",
      "22/22 [==============================] - 0s 21ms/step - loss: 0.0000e+00 - accuracy: 1.0000 - val_loss: 1.6615 - val_accuracy: 0.7843\n",
      "Epoch 17/50\n",
      "22/22 [==============================] - 0s 21ms/step - loss: 0.0000e+00 - accuracy: 1.0000 - val_loss: 1.6615 - val_accuracy: 0.7843\n",
      "Epoch 18/50\n",
      "22/22 [==============================] - 1s 24ms/step - loss: 0.0000e+00 - accuracy: 1.0000 - val_loss: 1.6614 - val_accuracy: 0.7843\n",
      "Epoch 19/50\n",
      "22/22 [==============================] - 1s 26ms/step - loss: 0.0000e+00 - accuracy: 1.0000 - val_loss: 1.6614 - val_accuracy: 0.7843\n",
      "Epoch 20/50\n",
      "22/22 [==============================] - 1s 26ms/step - loss: 0.0000e+00 - accuracy: 1.0000 - val_loss: 1.6614 - val_accuracy: 0.7843\n",
      "Epoch 21/50\n",
      "22/22 [==============================] - 1s 23ms/step - loss: 0.0000e+00 - accuracy: 1.0000 - val_loss: 1.6614 - val_accuracy: 0.7843\n",
      "Epoch 22/50\n",
      "22/22 [==============================] - 1s 23ms/step - loss: 0.0000e+00 - accuracy: 1.0000 - val_loss: 1.6613 - val_accuracy: 0.7843\n",
      "Epoch 23/50\n",
      "22/22 [==============================] - 0s 22ms/step - loss: 0.0000e+00 - accuracy: 1.0000 - val_loss: 1.6613 - val_accuracy: 0.7843\n",
      "Epoch 24/50\n",
      "22/22 [==============================] - 0s 21ms/step - loss: 0.0000e+00 - accuracy: 1.0000 - val_loss: 1.6613 - val_accuracy: 0.7843\n",
      "Epoch 25/50\n",
      "22/22 [==============================] - 0s 20ms/step - loss: 0.0000e+00 - accuracy: 1.0000 - val_loss: 1.6612 - val_accuracy: 0.7843\n",
      "Epoch 26/50\n",
      "22/22 [==============================] - 0s 21ms/step - loss: 0.0000e+00 - accuracy: 1.0000 - val_loss: 1.6612 - val_accuracy: 0.7843\n",
      "Epoch 27/50\n",
      "22/22 [==============================] - 0s 20ms/step - loss: 0.0000e+00 - accuracy: 1.0000 - val_loss: 1.6612 - val_accuracy: 0.7843\n",
      "Epoch 28/50\n",
      "22/22 [==============================] - 0s 22ms/step - loss: 0.0000e+00 - accuracy: 1.0000 - val_loss: 1.6611 - val_accuracy: 0.7843\n",
      "Epoch 29/50\n",
      "22/22 [==============================] - 0s 21ms/step - loss: 0.0000e+00 - accuracy: 1.0000 - val_loss: 1.6611 - val_accuracy: 0.7843\n",
      "Epoch 30/50\n",
      "22/22 [==============================] - 0s 20ms/step - loss: 0.0000e+00 - accuracy: 1.0000 - val_loss: 1.6610 - val_accuracy: 0.7843\n",
      "Epoch 31/50\n",
      "22/22 [==============================] - 0s 21ms/step - loss: 0.0000e+00 - accuracy: 1.0000 - val_loss: 1.6610 - val_accuracy: 0.7843\n",
      "Epoch 32/50\n",
      "22/22 [==============================] - 0s 21ms/step - loss: 0.0000e+00 - accuracy: 1.0000 - val_loss: 1.6610 - val_accuracy: 0.7843\n",
      "Epoch 33/50\n",
      "22/22 [==============================] - 0s 20ms/step - loss: 0.0000e+00 - accuracy: 1.0000 - val_loss: 1.6610 - val_accuracy: 0.7843\n",
      "Epoch 34/50\n",
      "22/22 [==============================] - 0s 21ms/step - loss: 0.0000e+00 - accuracy: 1.0000 - val_loss: 1.6609 - val_accuracy: 0.7843\n",
      "Epoch 35/50\n",
      "22/22 [==============================] - 0s 21ms/step - loss: 0.0000e+00 - accuracy: 1.0000 - val_loss: 1.6609 - val_accuracy: 0.7843\n",
      "Epoch 36/50\n",
      "22/22 [==============================] - 0s 20ms/step - loss: 0.0000e+00 - accuracy: 1.0000 - val_loss: 1.6608 - val_accuracy: 0.7843\n",
      "Epoch 37/50\n",
      "22/22 [==============================] - 0s 22ms/step - loss: 0.0000e+00 - accuracy: 1.0000 - val_loss: 1.6608 - val_accuracy: 0.7843\n",
      "Epoch 38/50\n",
      "22/22 [==============================] - 0s 21ms/step - loss: 0.0000e+00 - accuracy: 1.0000 - val_loss: 1.6608 - val_accuracy: 0.7843\n",
      "Epoch 39/50\n",
      "22/22 [==============================] - 0s 21ms/step - loss: 0.0000e+00 - accuracy: 1.0000 - val_loss: 1.6607 - val_accuracy: 0.7843\n",
      "Epoch 40/50\n",
      "22/22 [==============================] - 0s 21ms/step - loss: 0.0000e+00 - accuracy: 1.0000 - val_loss: 1.6607 - val_accuracy: 0.7843\n",
      "Epoch 41/50\n",
      "22/22 [==============================] - 0s 21ms/step - loss: 0.0000e+00 - accuracy: 1.0000 - val_loss: 1.6607 - val_accuracy: 0.7843\n",
      "Epoch 42/50\n",
      "22/22 [==============================] - 0s 21ms/step - loss: 0.0000e+00 - accuracy: 1.0000 - val_loss: 1.6606 - val_accuracy: 0.7843\n",
      "Epoch 43/50\n",
      "22/22 [==============================] - 0s 21ms/step - loss: 0.0000e+00 - accuracy: 1.0000 - val_loss: 1.6606 - val_accuracy: 0.7843\n",
      "Epoch 44/50\n",
      "22/22 [==============================] - 0s 20ms/step - loss: 0.0000e+00 - accuracy: 1.0000 - val_loss: 1.6606 - val_accuracy: 0.7843\n",
      "Epoch 45/50\n",
      "22/22 [==============================] - 0s 21ms/step - loss: 0.0000e+00 - accuracy: 1.0000 - val_loss: 1.6605 - val_accuracy: 0.7843\n",
      "Epoch 46/50\n",
      "22/22 [==============================] - 0s 22ms/step - loss: 0.0000e+00 - accuracy: 1.0000 - val_loss: 1.6605 - val_accuracy: 0.7843\n",
      "Epoch 47/50\n",
      "22/22 [==============================] - 0s 20ms/step - loss: 0.0000e+00 - accuracy: 1.0000 - val_loss: 1.6605 - val_accuracy: 0.7843\n",
      "Epoch 48/50\n",
      "22/22 [==============================] - 0s 21ms/step - loss: 0.0000e+00 - accuracy: 1.0000 - val_loss: 1.6604 - val_accuracy: 0.7843\n",
      "Epoch 49/50\n",
      "22/22 [==============================] - 0s 21ms/step - loss: 0.0000e+00 - accuracy: 1.0000 - val_loss: 1.6604 - val_accuracy: 0.7843\n",
      "Epoch 50/50\n",
      "22/22 [==============================] - 0s 22ms/step - loss: 0.0000e+00 - accuracy: 1.0000 - val_loss: 1.6603 - val_accuracy: 0.7843\n"
     ]
    }
   ],
   "source": [
    "pre_train_ff_nn = keras.models.load_model(\"converged_ff_nn_1\")\n",
    "BATCH_SIZE = 64\n",
    "NUM_EPOCHS = 50\n",
    "stop = [EarlyStopping(monitor='val_loss', patience=20)]\n",
    "pre_train_ff_nn.compile(\n",
    "    optimizer='adam',\n",
    "    loss='categorical_crossentropy',\n",
    "    metrics=['accuracy'])\n",
    "history = pre_train_ff_nn.fit(x=train_X,\n",
    "                    y=train_Y,\n",
    "                    batch_size=BATCH_SIZE,\n",
    "                    epochs=NUM_EPOCHS,\n",
    "                    validation_data=(\n",
    "                      val_X, \n",
    "                      val_Y\n",
    "                    ),\n",
    "                    shuffle=True,\n",
    "#                    callbacks=stop,\n",
    "          )"
   ]
  },
  {
   "cell_type": "code",
   "execution_count": 19,
   "metadata": {
    "id": "JtjS-s2250qG"
   },
   "outputs": [],
   "source": [
    "# Defining the Vanilla RNN model\n",
    "def get_rnn_model():\n",
    "  print('RNN Model')\n",
    "  input_layer = Input(\n",
    "      shape=(MAX_SEQUENCE_LENGTH, ), \n",
    "      dtype='int32')\n",
    "  embedding_layer = Embedding(MAX_NUM_WORDS, NUM_EMBEDDING_DIM, trainable=True)\n",
    "  embedded_input = embedding_layer(input_layer)\n",
    "  rnn_layer_1 = SimpleRNN(64, activation = 'relu', recurrent_dropout=0.2)\n",
    "  rnn_layer_2 = SimpleRNN(32, activation = 'relu', recurrent_dropout=0.2)\n",
    "  drop_2 = Dropout(0.1)\n",
    "  rnn_dense_connect = Dense(128, activation='tanh')\n",
    "  drop_3 = Dropout(0.1)\n",
    "  dense_layer_4 = Dense(5, activation='softmax')\n",
    "  # output_layer = dense_layer_4(drop_3(rnn_dense_connect(drop_2(rnn_layer_2(rnn_layer_1(embedded_input))))))\n",
    "  # intermediate_layer = Reshape((1, 512))(rnn_layer_1(embedded_input))\n",
    "  # output_layer = dense_layer_4(drop_3(rnn_layer_2(intermediate_layer)))\n",
    "  inter_1 = rnn_layer_1(embedded_input)\n",
    "  inter_2 = rnn_layer_2(embedded_input)\n",
    "  concatenated_tensor = Concatenate(axis=1)([inter_1, inter_2])\n",
    "  output_layer = dense_layer_4(drop_3(rnn_dense_connect((drop_2(concatenated_tensor)))))\n",
    "  rnn_model = Model(\n",
    "      inputs=input_layer, \n",
    "      outputs=output_layer)\n",
    "  print(rnn_model.summary())\n",
    "  return rnn_model"
   ]
  },
  {
   "cell_type": "code",
   "execution_count": 20,
   "metadata": {
    "colab": {
     "base_uri": "https://localhost:8080/"
    },
    "id": "mF4Q-Egx8AM4",
    "outputId": "5bd3c460-05e5-4cbf-a380-71e05b822f11"
   },
   "outputs": [
    {
     "name": "stdout",
     "output_type": "stream",
     "text": [
      "Getting Text Vanilla RNN Model\n",
      "Model: \"model_1\"\n",
      "__________________________________________________________________________________________________\n",
      " Layer (type)                   Output Shape         Param #     Connected to                     \n",
      "==================================================================================================\n",
      " input_2 (InputLayer)           [(None, 100)]        0           []                               \n",
      "                                                                                                  \n",
      " embedding_1 (Embedding)        (None, 100, 100)     2253200     ['input_2[0][0]']                \n",
      "                                                                                                  \n",
      " simple_rnn (SimpleRNN)         (None, 64)           10560       ['embedding_1[0][0]']            \n",
      "                                                                                                  \n",
      " simple_rnn_1 (SimpleRNN)       (None, 32)           4256        ['embedding_1[0][0]']            \n",
      "                                                                                                  \n",
      " concatenate (Concatenate)      (None, 96)           0           ['simple_rnn[0][0]',             \n",
      "                                                                  'simple_rnn_1[0][0]']           \n",
      "                                                                                                  \n",
      " dropout_3 (Dropout)            (None, 96)           0           ['concatenate[0][0]']            \n",
      "                                                                                                  \n",
      " dense_4 (Dense)                (None, 128)          12416       ['dropout_3[0][0]']              \n",
      "                                                                                                  \n",
      " dropout_4 (Dropout)            (None, 128)          0           ['dense_4[0][0]']                \n",
      "                                                                                                  \n",
      " dense_5 (Dense)                (None, 5)            645         ['dropout_4[0][0]']              \n",
      "                                                                                                  \n",
      "==================================================================================================\n",
      "Total params: 2,281,077\n",
      "Trainable params: 2,281,077\n",
      "Non-trainable params: 0\n",
      "__________________________________________________________________________________________________\n",
      "None\n",
      "Epoch 1/50\n",
      "6/6 [==============================] - 5s 438ms/step - loss: 1.5969 - accuracy: 0.2478 - val_loss: 1.5816 - val_accuracy: 0.3007\n",
      "Epoch 2/50\n",
      "6/6 [==============================] - 2s 333ms/step - loss: 1.5470 - accuracy: 0.2936 - val_loss: 1.5575 - val_accuracy: 0.2810\n",
      "Epoch 3/50\n",
      "6/6 [==============================] - 2s 324ms/step - loss: 1.4935 - accuracy: 0.2849 - val_loss: 1.5318 - val_accuracy: 0.2876\n",
      "Epoch 4/50\n",
      "6/6 [==============================] - 2s 331ms/step - loss: 1.4146 - accuracy: 0.3103 - val_loss: 1.4865 - val_accuracy: 0.3007\n",
      "Epoch 5/50\n",
      "6/6 [==============================] - 2s 343ms/step - loss: 1.2714 - accuracy: 0.4571 - val_loss: 1.4206 - val_accuracy: 0.4118\n",
      "Epoch 6/50\n",
      "6/6 [==============================] - 2s 335ms/step - loss: 1.1175 - accuracy: 0.7115 - val_loss: 1.2369 - val_accuracy: 0.5098\n",
      "Epoch 7/50\n",
      "6/6 [==============================] - 2s 356ms/step - loss: 0.9771 - accuracy: 0.7711 - val_loss: 1.1131 - val_accuracy: 0.5948\n",
      "Epoch 8/50\n",
      "6/6 [==============================] - 2s 325ms/step - loss: 0.8159 - accuracy: 0.7885 - val_loss: 1.0541 - val_accuracy: 0.5948\n",
      "Epoch 9/50\n",
      "6/6 [==============================] - 2s 342ms/step - loss: 0.7192 - accuracy: 0.8154 - val_loss: 0.9932 - val_accuracy: 0.5948\n",
      "Epoch 10/50\n",
      "6/6 [==============================] - 2s 372ms/step - loss: 0.5326 - accuracy: 0.8467 - val_loss: 0.9136 - val_accuracy: 0.6275\n",
      "Epoch 11/50\n",
      "6/6 [==============================] - 2s 359ms/step - loss: 0.4415 - accuracy: 0.8605 - val_loss: 0.9810 - val_accuracy: 0.5752\n",
      "Epoch 12/50\n",
      "6/6 [==============================] - 2s 395ms/step - loss: 0.3348 - accuracy: 0.9004 - val_loss: 0.8461 - val_accuracy: 0.6601\n",
      "Epoch 13/50\n",
      "6/6 [==============================] - 2s 390ms/step - loss: 0.2681 - accuracy: 0.9455 - val_loss: 0.8082 - val_accuracy: 0.6732\n",
      "Epoch 14/50\n",
      "6/6 [==============================] - 2s 339ms/step - loss: 0.1922 - accuracy: 0.9578 - val_loss: 0.8541 - val_accuracy: 0.6471\n",
      "Epoch 15/50\n",
      "6/6 [==============================] - 2s 384ms/step - loss: 0.1526 - accuracy: 0.9746 - val_loss: 0.8331 - val_accuracy: 0.6732\n",
      "Epoch 16/50\n",
      "6/6 [==============================] - 2s 328ms/step - loss: 0.0997 - accuracy: 0.9891 - val_loss: 0.8990 - val_accuracy: 0.6601\n",
      "Epoch 17/50\n",
      "6/6 [==============================] - 2s 354ms/step - loss: 0.0927 - accuracy: 0.9826 - val_loss: 0.8936 - val_accuracy: 0.6601\n",
      "Epoch 18/50\n",
      "6/6 [==============================] - 2s 330ms/step - loss: 0.0595 - accuracy: 0.9876 - val_loss: 0.8489 - val_accuracy: 0.6601\n",
      "Epoch 19/50\n",
      "6/6 [==============================] - 2s 324ms/step - loss: 0.0562 - accuracy: 0.9884 - val_loss: 0.9135 - val_accuracy: 0.6601\n",
      "Epoch 20/50\n",
      "6/6 [==============================] - 2s 333ms/step - loss: 0.0486 - accuracy: 0.9949 - val_loss: 0.9199 - val_accuracy: 0.6732\n",
      "Epoch 21/50\n",
      "6/6 [==============================] - 2s 361ms/step - loss: 0.0341 - accuracy: 0.9949 - val_loss: 0.9874 - val_accuracy: 0.6405\n",
      "Epoch 22/50\n",
      "6/6 [==============================] - 2s 328ms/step - loss: 0.0330 - accuracy: 0.9949 - val_loss: 0.8967 - val_accuracy: 0.6601\n",
      "Epoch 23/50\n",
      "6/6 [==============================] - 2s 383ms/step - loss: 0.0432 - accuracy: 0.9913 - val_loss: 1.1223 - val_accuracy: 0.5686\n",
      "Epoch 24/50\n",
      "6/6 [==============================] - 2s 322ms/step - loss: 0.0391 - accuracy: 0.9935 - val_loss: 1.1063 - val_accuracy: 0.6013\n",
      "Epoch 25/50\n",
      "6/6 [==============================] - 2s 344ms/step - loss: 0.0310 - accuracy: 0.9927 - val_loss: 0.9616 - val_accuracy: 0.6601\n",
      "Epoch 26/50\n",
      "6/6 [==============================] - 2s 360ms/step - loss: 0.0525 - accuracy: 0.9942 - val_loss: 1.0428 - val_accuracy: 0.6405\n",
      "Epoch 27/50\n",
      "6/6 [==============================] - 2s 335ms/step - loss: 0.0306 - accuracy: 0.9920 - val_loss: 1.1668 - val_accuracy: 0.5686\n",
      "Epoch 28/50\n",
      "6/6 [==============================] - 2s 360ms/step - loss: 0.0426 - accuracy: 0.9891 - val_loss: 1.1006 - val_accuracy: 0.6013\n",
      "Epoch 29/50\n",
      "6/6 [==============================] - 2s 317ms/step - loss: 0.0192 - accuracy: 0.9985 - val_loss: 1.0215 - val_accuracy: 0.6471\n",
      "Epoch 30/50\n",
      "6/6 [==============================] - 2s 357ms/step - loss: 0.0196 - accuracy: 0.9985 - val_loss: 1.0055 - val_accuracy: 0.6536\n",
      "Epoch 31/50\n",
      "6/6 [==============================] - 2s 361ms/step - loss: 0.0127 - accuracy: 0.9993 - val_loss: 1.0228 - val_accuracy: 0.6601\n",
      "Epoch 32/50\n",
      "6/6 [==============================] - 2s 350ms/step - loss: 0.0242 - accuracy: 0.9971 - val_loss: 1.0515 - val_accuracy: 0.6536\n",
      "Epoch 33/50\n",
      "6/6 [==============================] - 2s 333ms/step - loss: 0.0096 - accuracy: 0.9993 - val_loss: 1.0586 - val_accuracy: 0.6144\n",
      "Epoch 34/50\n",
      "6/6 [==============================] - 2s 382ms/step - loss: 0.0130 - accuracy: 0.9964 - val_loss: 1.0310 - val_accuracy: 0.6536\n",
      "Epoch 35/50\n",
      "6/6 [==============================] - 2s 379ms/step - loss: 0.0104 - accuracy: 0.9978 - val_loss: 0.9921 - val_accuracy: 0.6536\n",
      "Epoch 36/50\n",
      "6/6 [==============================] - 2s 351ms/step - loss: 0.0123 - accuracy: 0.9971 - val_loss: 1.0222 - val_accuracy: 0.6471\n",
      "Epoch 37/50\n",
      "6/6 [==============================] - 2s 320ms/step - loss: 0.0081 - accuracy: 0.9993 - val_loss: 1.1306 - val_accuracy: 0.6144\n",
      "Epoch 38/50\n",
      "6/6 [==============================] - 2s 328ms/step - loss: 0.0087 - accuracy: 0.9985 - val_loss: 1.1458 - val_accuracy: 0.6144\n",
      "Epoch 39/50\n",
      "6/6 [==============================] - 2s 341ms/step - loss: 0.0100 - accuracy: 0.9978 - val_loss: 1.0685 - val_accuracy: 0.6144\n",
      "Epoch 40/50\n",
      "6/6 [==============================] - 2s 337ms/step - loss: 0.0056 - accuracy: 1.0000 - val_loss: 1.0272 - val_accuracy: 0.6078\n",
      "Epoch 41/50\n",
      "6/6 [==============================] - 2s 326ms/step - loss: 0.0049 - accuracy: 1.0000 - val_loss: 1.0129 - val_accuracy: 0.6405\n",
      "Epoch 42/50\n",
      "6/6 [==============================] - 2s 329ms/step - loss: 0.0059 - accuracy: 0.9993 - val_loss: 1.0485 - val_accuracy: 0.6144\n",
      "Epoch 43/50\n",
      "6/6 [==============================] - 2s 337ms/step - loss: 0.0045 - accuracy: 1.0000 - val_loss: 1.0787 - val_accuracy: 0.6275\n",
      "Epoch 44/50\n",
      "6/6 [==============================] - 2s 324ms/step - loss: 0.0037 - accuracy: 1.0000 - val_loss: 1.0971 - val_accuracy: 0.6405\n",
      "Epoch 45/50\n",
      "6/6 [==============================] - 2s 395ms/step - loss: 0.0037 - accuracy: 1.0000 - val_loss: 1.0578 - val_accuracy: 0.6275\n",
      "Epoch 46/50\n",
      "6/6 [==============================] - 2s 319ms/step - loss: 0.0063 - accuracy: 0.9978 - val_loss: 1.0309 - val_accuracy: 0.6471\n",
      "Epoch 47/50\n",
      "6/6 [==============================] - 2s 339ms/step - loss: 0.0047 - accuracy: 0.9985 - val_loss: 1.1112 - val_accuracy: 0.6209\n",
      "Epoch 48/50\n",
      "6/6 [==============================] - 2s 357ms/step - loss: 0.0067 - accuracy: 0.9978 - val_loss: 1.1497 - val_accuracy: 0.6209\n",
      "Epoch 49/50\n",
      "6/6 [==============================] - 2s 322ms/step - loss: 0.0066 - accuracy: 0.9993 - val_loss: 1.1362 - val_accuracy: 0.6275\n",
      "Epoch 50/50\n",
      "6/6 [==============================] - 2s 357ms/step - loss: 0.0031 - accuracy: 1.0000 - val_loss: 1.1211 - val_accuracy: 0.6209\n"
     ]
    }
   ],
   "source": [
    "BATCH_SIZE = 256\n",
    "NUM_EPOCHS = 50\n",
    "stop = [EarlyStopping(monitor='val_loss', patience=1)]\n",
    "rnn_model = get_rnn_model()\n",
    "rnn_model.compile(\n",
    "    optimizer=tf.keras.optimizers.Adam(learning_rate=1e-3),\n",
    "    loss='categorical_crossentropy',\n",
    "    metrics=['accuracy'])\n",
    "history = rnn_model.fit(x=train_X,\n",
    "                    y=train_Y,\n",
    "                    batch_size=BATCH_SIZE,\n",
    "                    epochs=NUM_EPOCHS,\n",
    "                    validation_data=(\n",
    "                      val_X, \n",
    "                      val_Y\n",
    "                    ),\n",
    "                    shuffle=True,\n",
    "#                    callbacks=stop,\n",
    "          )"
   ]
  },
  {
   "cell_type": "code",
   "execution_count": 21,
   "metadata": {
    "colab": {
     "base_uri": "https://localhost:8080/"
    },
    "id": "eCMb8GQhdSlN",
    "outputId": "f2c63a30-f23a-469c-ec1e-af29ee0c0e94"
   },
   "outputs": [
    {
     "name": "stdout",
     "output_type": "stream",
     "text": [
      "INFO:tensorflow:Assets written to: rnn_model_1/assets\n"
     ]
    }
   ],
   "source": [
    "# Saving the RNN Model\n",
    "rnn_model.save(\"rnn_model_1\")"
   ]
  },
  {
   "cell_type": "code",
   "execution_count": 22,
   "metadata": {
    "id": "zEpXknu6eHeZ"
   },
   "outputs": [],
   "source": [
    "# Getting predictions\n",
    "from sklearn import metrics\n",
    "from sklearn.metrics import classification_report"
   ]
  },
  {
   "cell_type": "code",
   "execution_count": 23,
   "metadata": {
    "colab": {
     "base_uri": "https://localhost:8080/"
    },
    "id": "8y0xQB1zeMZx",
    "outputId": "d50c9356-09d3-4177-a1a4-2f490dca9a5f"
   },
   "outputs": [
    {
     "name": "stdout",
     "output_type": "stream",
     "text": [
      "FF NN - 1BBC News Classification Accuracy is\n",
      "79.63446475195822\n",
      "               precision    recall  f1-score   support\n",
      "\n",
      "     business       0.85      0.84      0.84        79\n",
      "entertainment       0.61      0.96      0.75        69\n",
      "     politics       0.87      0.83      0.85        93\n",
      "        sport       1.00      0.62      0.76        47\n",
      "         tech       0.85      0.71      0.77        95\n",
      "\n",
      "     accuracy                           0.80       383\n",
      "    macro avg       0.83      0.79      0.79       383\n",
      " weighted avg       0.83      0.80      0.80       383\n",
      "\n"
     ]
    }
   ],
   "source": [
    "# FF NN - 1 Predictions\n",
    "predictions = initial_ff_nn.predict(test_X)\n",
    "y_pred_initial_ff_nn = [idx for idx in np.argmax(predictions, axis=1)]\n",
    "y_true = [idx for idx in np.argmax(test_Y, axis=1)]\n",
    "print('FF NN - 1BBC News Classification Accuracy is')\n",
    "print(metrics.accuracy_score(y_true, y_pred_initial_ff_nn)*100)\n",
    "print(classification_report(y_true, y_pred_initial_ff_nn, target_names = list(le_name_mapping.keys())))"
   ]
  },
  {
   "cell_type": "code",
   "execution_count": 24,
   "metadata": {
    "colab": {
     "base_uri": "https://localhost:8080/"
    },
    "id": "S8fEQPiHedTf",
    "outputId": "4fd760d1-26c7-4317-a800-6cf3d7cbd9c8"
   },
   "outputs": [
    {
     "name": "stdout",
     "output_type": "stream",
     "text": [
      "FF NN - 2 BBC News Classification Accuracy is\n",
      "79.63446475195822\n",
      "               precision    recall  f1-score   support\n",
      "\n",
      "     business       0.85      0.84      0.84        79\n",
      "entertainment       0.61      0.96      0.75        69\n",
      "     politics       0.87      0.83      0.85        93\n",
      "        sport       1.00      0.62      0.76        47\n",
      "         tech       0.85      0.71      0.77        95\n",
      "\n",
      "     accuracy                           0.80       383\n",
      "    macro avg       0.83      0.79      0.79       383\n",
      " weighted avg       0.83      0.80      0.80       383\n",
      "\n"
     ]
    }
   ],
   "source": [
    "# FF NN - 2 Predictions\n",
    "predictions = pre_train_ff_nn.predict(test_X)\n",
    "y_pred_pre_trained_ff_nn = [idx for idx in np.argmax(predictions, axis=1)]\n",
    "print('FF NN - 2 BBC News Classification Accuracy is')\n",
    "print(metrics.accuracy_score(y_true, y_pred_pre_trained_ff_nn)*100)\n",
    "print(classification_report(y_true, y_pred_pre_trained_ff_nn, target_names = list(le_name_mapping.keys())))"
   ]
  },
  {
   "cell_type": "code",
   "execution_count": 25,
   "metadata": {
    "colab": {
     "base_uri": "https://localhost:8080/"
    },
    "id": "J-12kkTLewiF",
    "outputId": "bd64d502-ef72-4543-99fb-c7823da032ee"
   },
   "outputs": [
    {
     "name": "stdout",
     "output_type": "stream",
     "text": [
      "RNN BBC News Classification Accuracy is\n",
      "66.84073107049609\n",
      "               precision    recall  f1-score   support\n",
      "\n",
      "     business       0.81      0.72      0.77        79\n",
      "entertainment       0.45      0.43      0.44        69\n",
      "     politics       0.74      0.78      0.76        93\n",
      "        sport       0.51      0.68      0.58        47\n",
      "         tech       0.75      0.67      0.71        95\n",
      "\n",
      "     accuracy                           0.67       383\n",
      "    macro avg       0.65      0.66      0.65       383\n",
      " weighted avg       0.68      0.67      0.67       383\n",
      "\n"
     ]
    }
   ],
   "source": [
    "# RNN Predictions\n",
    "predictions = rnn_model.predict(test_X)\n",
    "y_pred_rnn = [idx for idx in np.argmax(predictions, axis=1)]\n",
    "print('RNN BBC News Classification Accuracy is')\n",
    "print(metrics.accuracy_score(y_true, y_pred_rnn)*100)\n",
    "print(classification_report(y_true, y_pred_rnn, target_names = list(le_name_mapping.keys())))"
   ]
  },
  {
   "cell_type": "code",
   "execution_count": 26,
   "metadata": {
    "id": "asSXRIyChCyl"
   },
   "outputs": [],
   "source": [
    "# Saving output predictions in csv file\n",
    "init_df = pd.DataFrame()\n",
    "init_df['predictions'] = y_pred_initial_ff_nn\n",
    "init_df.to_csv('initial_ff_nn.csv')\n",
    "\n",
    "pre_train_df = pd.DataFrame()\n",
    "pre_train_df['predictions'] = y_pred_pre_trained_ff_nn\n",
    "pre_train_df.to_csv('pre_trained_ff_nn.csv')\n",
    "\n",
    "rnn_df = pd.DataFrame()\n",
    "rnn_df['predictions'] = y_pred_rnn\n",
    "rnn_df.to_csv('rnn.csv')"
   ]
  },
  {
   "cell_type": "code",
   "execution_count": 27,
   "metadata": {
    "id": "JzsVWMR3g-PK"
   },
   "outputs": [],
   "source": [
    "# Implementing Max Voting\n",
    "\n",
    "max_vote_predictions = []\n",
    "for i in range(len(y_pred_rnn)):\n",
    "  class_counts = {0:0, 1:0, 2:0, 3:0, 4:0}\n",
    "  class_counts[y_pred_initial_ff_nn[i]] += 1\n",
    "  class_counts[y_pred_pre_trained_ff_nn[i]] += 1\n",
    "  class_counts[y_pred_rnn[i]] += 1\n",
    "  sorted_dict = dict(sorted(class_counts.items(), key=lambda item: item[1], reverse=True))\n",
    "  sorted_classes = list(sorted_dict.keys())\n",
    "  most_frequent = sorted_classes[0]\n",
    "  max_vote_predictions.append(most_frequent)"
   ]
  },
  {
   "cell_type": "code",
   "execution_count": 28,
   "metadata": {
    "colab": {
     "base_uri": "https://localhost:8080/"
    },
    "id": "-U92FuyWkWCE",
    "outputId": "ea50a4b0-35f9-4f46-a31a-509b3bcae2cc"
   },
   "outputs": [
    {
     "name": "stdout",
     "output_type": "stream",
     "text": [
      "MAX VOTE Ensemble BBC News Classification Accuracy is\n",
      "79.63446475195822\n",
      "               precision    recall  f1-score   support\n",
      "\n",
      "     business       0.85      0.84      0.84        79\n",
      "entertainment       0.61      0.96      0.75        69\n",
      "     politics       0.87      0.83      0.85        93\n",
      "        sport       1.00      0.62      0.76        47\n",
      "         tech       0.85      0.71      0.77        95\n",
      "\n",
      "     accuracy                           0.80       383\n",
      "    macro avg       0.83      0.79      0.79       383\n",
      " weighted avg       0.83      0.80      0.80       383\n",
      "\n"
     ]
    }
   ],
   "source": [
    "# Max Vote Results\n",
    "print('MAX VOTE Ensemble BBC News Classification Accuracy is')\n",
    "print(metrics.accuracy_score(y_true, max_vote_predictions)*100)\n",
    "print(classification_report(y_true, max_vote_predictions, target_names = list(le_name_mapping.keys())))"
   ]
  },
  {
   "cell_type": "code",
   "execution_count": 29,
   "metadata": {
    "colab": {
     "base_uri": "https://localhost:8080/"
    },
    "id": "nE3iYbMaoify",
    "outputId": "d7842754-f1fa-4e33-f08a-ae0a5e46c978"
   },
   "outputs": [
    {
     "name": "stdout",
     "output_type": "stream",
     "text": [
      "FF NN 1 weight is 0.7843137254901961\n",
      "FF NN 2 weight is 0.7843137254901961\n",
      "RNN weight is 0.6209150326797386\n"
     ]
    }
   ],
   "source": [
    "# Weighited Voting\n",
    "\n",
    "# Getting weights\n",
    "predictions_1 = initial_ff_nn.predict(val_X)\n",
    "pred_1 = [idx for idx in np.argmax(predictions_1, axis=1)]\n",
    "predictions_2 = pre_train_ff_nn.predict(val_X)\n",
    "pred_2 = [idx for idx in np.argmax(predictions_2, axis=1)]\n",
    "predictions_3 = rnn_model.predict(val_X)\n",
    "pred_3 = [idx for idx in np.argmax(predictions_3, axis=1)]\n",
    "y_val_true = [idx for idx in np.argmax(val_Y, axis=1)]\n",
    "wt_initial_ff_nn = metrics.accuracy_score(y_val_true, pred_1)\n",
    "wt_pre_trained_ff_nn = metrics.accuracy_score(y_val_true, pred_2)\n",
    "wt_rnn = metrics.accuracy_score(y_val_true, pred_3)\n",
    "print('FF NN 1 weight is', wt_initial_ff_nn)\n",
    "print('FF NN 2 weight is', wt_pre_trained_ff_nn)\n",
    "print('RNN weight is', wt_rnn)"
   ]
  },
  {
   "cell_type": "code",
   "execution_count": 30,
   "metadata": {
    "id": "mZrbvyGbp8Rv"
   },
   "outputs": [],
   "source": [
    "# Implement Weighted Voting\n",
    "weight_vote_predictions = []\n",
    "for i in range(len(y_pred_rnn)):\n",
    "  class_counts = {0:0, 1:0, 2:0, 3:0, 4:0}\n",
    "  class_counts[y_pred_initial_ff_nn[i]] += wt_initial_ff_nn\n",
    "  class_counts[y_pred_pre_trained_ff_nn[i]] += wt_pre_trained_ff_nn\n",
    "  class_counts[y_pred_rnn[i]] += wt_rnn\n",
    "  sorted_dict = dict(sorted(class_counts.items(), key=lambda item: item[1], reverse=True))\n",
    "  sorted_classes = list(sorted_dict.keys())\n",
    "  most_frequent = sorted_classes[0]\n",
    "  weight_vote_predictions.append(most_frequent)"
   ]
  },
  {
   "cell_type": "code",
   "execution_count": 31,
   "metadata": {
    "colab": {
     "base_uri": "https://localhost:8080/"
    },
    "id": "p2kSB73-qN3v",
    "outputId": "07e19aa5-85bc-4526-d2a6-4f96d7a7cccc"
   },
   "outputs": [
    {
     "name": "stdout",
     "output_type": "stream",
     "text": [
      "Weighted Ensemble BBC News Classification Accuracy is\n",
      "79.63446475195822\n",
      "               precision    recall  f1-score   support\n",
      "\n",
      "     business       0.85      0.84      0.84        79\n",
      "entertainment       0.61      0.96      0.75        69\n",
      "     politics       0.87      0.83      0.85        93\n",
      "        sport       1.00      0.62      0.76        47\n",
      "         tech       0.85      0.71      0.77        95\n",
      "\n",
      "     accuracy                           0.80       383\n",
      "    macro avg       0.83      0.79      0.79       383\n",
      " weighted avg       0.83      0.80      0.80       383\n",
      "\n"
     ]
    }
   ],
   "source": [
    "# Weighted Vote Results\n",
    "print('Weighted Ensemble BBC News Classification Accuracy is')\n",
    "print(metrics.accuracy_score(y_true, weight_vote_predictions)*100)\n",
    "print(classification_report(y_true, weight_vote_predictions, target_names = list(le_name_mapping.keys())))"
   ]
  },
  {
   "cell_type": "code",
   "execution_count": 32,
   "metadata": {
    "id": "bxWGKSycnU0w"
   },
   "outputs": [],
   "source": [
    "# Converting to CSV \n",
    "\n",
    "mv_df = pd.DataFrame()\n",
    "mv_df['predictions'] = max_vote_predictions\n",
    "mv_df.to_csv('max_vote.csv')\n",
    "\n",
    "wt_df = pd.DataFrame()\n",
    "wt_df['predictions'] = weight_vote_predictions\n",
    "wt_df.to_csv('weight_vote.csv')"
   ]
  },
  {
   "cell_type": "code",
   "execution_count": 33,
   "metadata": {
    "id": "v0K0ghA82h82"
   },
   "outputs": [],
   "source": [
    "# Reading data again\n",
    "init_df = pd.read_csv('initial_ff_nn.csv')\n",
    "init_preds = init_df['predictions']\n",
    "pre_train_df = pd.read_csv('pre_trained_ff_nn.csv')\n",
    "pre_train_preds = pre_train_df['predictions']\n",
    "rnn_df = pd.read_csv('rnn.csv')\n",
    "rnn_preds = rnn_df['predictions']\n",
    "mv_df = pd.read_csv('max_vote.csv')\n",
    "mv_preds = mv_df['predictions']\n",
    "wt_df = pd.read_csv('weight_vote.csv')\n",
    "wt_preds = wt_df['predictions']"
   ]
  },
  {
   "cell_type": "code",
   "execution_count": 34,
   "metadata": {
    "colab": {
     "base_uri": "https://localhost:8080/"
    },
    "id": "kWzQZrUr5fTb",
    "outputId": "3f8afbd2-188c-4f08-9778-76ebcce6800c"
   },
   "outputs": [
    {
     "data": {
      "text/plain": [
       "0      4\n",
       "1      4\n",
       "2      4\n",
       "3      2\n",
       "4      0\n",
       "      ..\n",
       "378    1\n",
       "379    4\n",
       "380    0\n",
       "381    2\n",
       "382    0\n",
       "Name: predictions, Length: 383, dtype: int64"
      ]
     },
     "execution_count": 34,
     "metadata": {},
     "output_type": "execute_result"
    }
   ],
   "source": [
    "wt_preds"
   ]
  },
  {
   "cell_type": "code",
   "execution_count": 35,
   "metadata": {
    "id": "2LYdwJlcx6LF"
   },
   "outputs": [],
   "source": [
    "# Getting Performance Statistics\n",
    "mv_ens_correct_1 = 0\n",
    "wt_ens_correct_1 = 0\n",
    "\n",
    "mv_ens_correct_2 = 0\n",
    "wt_ens_correct_2 = 0\n",
    "\n",
    "y_true = [idx for idx in np.argmax(test_Y, axis=1)]\n",
    "for i in range(len(mv_preds)):\n",
    "  if (init_preds[i] != y_true[i]) or (pre_train_preds[i] != y_true[i]) or (rnn_preds[i] != y_true[i]):\n",
    "    if mv_preds[i] == y_true[i]:\n",
    "      mv_ens_correct_1 += 1\n",
    "    if wt_preds[i] == y_true[i]:\n",
    "      wt_ens_correct_1 += 1\n",
    "  if (init_preds[i] != y_true[i]) and (pre_train_preds[i] != y_true[i]) and (rnn_preds[i] != y_true[i]):\n",
    "    if mv_preds[i] == y_true[i]:\n",
    "      mv_ens_correct_2 += 1\n",
    "    if wt_preds[i] == y_true[i]:\n",
    "      wt_ens_correct_2 += 1"
   ]
  },
  {
   "cell_type": "code",
   "execution_count": 36,
   "metadata": {
    "colab": {
     "base_uri": "https://localhost:8080/"
    },
    "id": "kzRmB4JN5YMb",
    "outputId": "874ee800-90e0-4dfd-b50d-abdde09ae4a9"
   },
   "outputs": [
    {
     "name": "stdout",
     "output_type": "stream",
     "text": [
      "Number of instances wrongly classified by a base model but correctly classified by the ensemble\n",
      "88\n",
      "88\n"
     ]
    }
   ],
   "source": [
    "print('Number of instances wrongly classified by a base model but correctly classified by the ensemble')\n",
    "print(mv_ens_correct_1)\n",
    "print(wt_ens_correct_1)"
   ]
  },
  {
   "cell_type": "code",
   "execution_count": 37,
   "metadata": {
    "colab": {
     "base_uri": "https://localhost:8080/"
    },
    "id": "yAjk-jBi6JJi",
    "outputId": "05e53034-ca47-4fe6-a90f-7554744914d4"
   },
   "outputs": [
    {
     "name": "stdout",
     "output_type": "stream",
     "text": [
      "Number of instances wrongly classified by all base models but correctly classified by the ensemble\n",
      "0\n",
      "0\n"
     ]
    }
   ],
   "source": [
    "print('Number of instances wrongly classified by all base models but correctly classified by the ensemble')\n",
    "print(mv_ens_correct_2)\n",
    "print(wt_ens_correct_2)"
   ]
  }
 ],
 "metadata": {
  "accelerator": "GPU",
  "colab": {
   "collapsed_sections": [],
   "name": "EndSem_ML.ipynb",
   "provenance": []
  },
  "kernelspec": {
   "display_name": "Python 3 (ipykernel)",
   "language": "python",
   "name": "python3"
  },
  "language_info": {
   "codemirror_mode": {
    "name": "ipython",
    "version": 3
   },
   "file_extension": ".py",
   "mimetype": "text/x-python",
   "name": "python",
   "nbconvert_exporter": "python",
   "pygments_lexer": "ipython3",
   "version": "3.8.12"
  }
 },
 "nbformat": 4,
 "nbformat_minor": 4
}
