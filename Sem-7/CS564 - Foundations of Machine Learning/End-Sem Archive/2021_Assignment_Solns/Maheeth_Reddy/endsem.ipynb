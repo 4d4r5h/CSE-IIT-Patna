{
 "cells": [
  {
   "cell_type": "markdown",
   "id": "313abe01",
   "metadata": {},
   "source": [
    "# Foundations of Machine Learning (CS564)\n",
    "## End Semester Assignment"
   ]
  },
  {
   "cell_type": "markdown",
   "id": "c04a454b",
   "metadata": {},
   "source": [
    "### Creating a Vanilla RNN, FFN of Assignment 4, Pre-trained FFN (using weights of FFN in Assignment 4)\n",
    "### and Ensemble Models by Majority Voting, Weighted Voting\n",
    "\n",
    "<table style=\\\"font-size:25px\\\">\n",
    "    <thead>\n",
    "        <td><b>Name of Student</b></td>\n",
    "        <td><b>Roll No.</b></td>\n",
    "        <td><b>Date</b></td>\n",
    "    </thead>\n",
    "    <tr>\n",
    "        <td>M. Maheeth Reddy</td>\n",
    "        <td>1801CS31</td>\n",
    "        <td>26-Nov-2021</td>\n",
    "    </tr>\n",
    "</table>"
   ]
  },
  {
   "cell_type": "markdown",
   "id": "03af11eb",
   "metadata": {},
   "source": [
    "## Import Modules"
   ]
  },
  {
   "cell_type": "code",
   "execution_count": 1,
   "id": "b3722dbb",
   "metadata": {},
   "outputs": [],
   "source": [
    "import tensorflow as tf\n",
    "import pandas as pd\n",
    "import numpy as np\n",
    "from sklearn.preprocessing import LabelEncoder\n",
    "from sklearn.model_selection import train_test_split \n",
    "\n",
    "import keras\n",
    "from keras.preprocessing.text import Tokenizer\n",
    "from keras.preprocessing.sequence import pad_sequences\n",
    "from keras.layers import Input, Embedding, Concatenate, Flatten, Dropout, Dense\n",
    "from keras.layers import SimpleRNN\n",
    "\n",
    "from keras.models import Model\n",
    "from keras.layers import Dense, Input, Embedding, Dropout\n",
    "from keras.callbacks import EarlyStopping\n",
    "\n",
    "from sklearn import metrics\n",
    "from sklearn.metrics import classification_report\n",
    "\n",
    "from gensim.parsing.preprocessing import remove_stopwords\n",
    "from gensim.parsing.porter import PorterStemmer\n",
    "import re"
   ]
  },
  {
   "cell_type": "markdown",
   "id": "2aea37df",
   "metadata": {},
   "source": [
    "## Loading Data"
   ]
  },
  {
   "cell_type": "code",
   "execution_count": 2,
   "id": "4649ef49",
   "metadata": {},
   "outputs": [
    {
     "name": "stdout",
     "output_type": "stream",
     "text": [
      "Index(['Unnamed: 0', 'Article', 'Class'], dtype='object')\n",
      "{'business': 0, 'entertainment': 1, 'politics': 2, 'sport': 3, 'tech': 4}\n",
      "   Unnamed: 0                                            Article     Class\n",
      "0           0  Ad sales boost Time Warner profit\\n\\nQuarterly...  business\n",
      "1           1  Dollar gains on Greenspan speech\\n\\nThe dollar...  business\n",
      "2           2  Yukos unit buyer faces loan claim\\n\\nThe owner...  business\n",
      "3           3  High fuel prices hit BA's profits\\n\\nBritish A...  business\n",
      "4           4  Pernod takeover talk lifts Domecq\\n\\nShares in...  business\n"
     ]
    }
   ],
   "source": [
    "dataset = pd.read_csv(\"bbc.csv\")\n",
    "print(dataset.columns)\n",
    "label_enc = LabelEncoder()\n",
    "input_labels = label_enc.fit_transform(dataset['Class'])\n",
    "label_enc_name_mapping = dict(zip(label_enc.classes_, label_enc.transform(label_enc.classes_)))\n",
    "print(label_enc_name_mapping)\n",
    "print(dataset.head())"
   ]
  },
  {
   "cell_type": "markdown",
   "id": "e69aea48",
   "metadata": {},
   "source": [
    "## Pre-processing data"
   ]
  },
  {
   "cell_type": "code",
   "execution_count": 3,
   "id": "77d2d8fb",
   "metadata": {},
   "outputs": [
    {
     "name": "stdout",
     "output_type": "stream",
     "text": [
      "Pre-Processing data is finished!\n",
      "Average Length of each text document is 227.56066945606693\n"
     ]
    }
   ],
   "source": [
    "porter_stemmer = PorterStemmer()\n",
    "document_list = dataset['Article'].tolist()\n",
    "processed_list = []\n",
    "len_words = 0\n",
    "for document in document_list:\n",
    "    doc_str = re.sub(r'[^\\w\\s]', '', remove_stopwords(document))\n",
    "    doc_str_stem_lst = [porter_stemmer.stem(word) for word in doc_str.split(\" \")]\n",
    "    len_words += len(doc_str_stem_lst)\n",
    "    doc_str_stem = \" \".join(doc_str_stem_lst)\n",
    "    processed_list.append(doc_str_stem)\n",
    "\n",
    "print('Pre-Processing data is finished!')\n",
    "print('Average Length of each text document is {}'.format(len_words /len(processed_list)))"
   ]
  },
  {
   "cell_type": "markdown",
   "id": "bf3d944a",
   "metadata": {},
   "source": [
    "## Tokenize Input Data"
   ]
  },
  {
   "cell_type": "code",
   "execution_count": 4,
   "id": "5d5bf0a0",
   "metadata": {},
   "outputs": [
    {
     "name": "stdout",
     "output_type": "stream",
     "text": [
      "Tokenizer is being trained, Please Wait\n",
      "Read 1912 Sentences\n",
      "Tokenizer training done!\n",
      "Data is being loaded to tokenizer\n",
      "[[1. 0. 0. 0. 0.]\n",
      " [1. 0. 0. 0. 0.]\n",
      " [1. 0. 0. 0. 0.]\n",
      " ...\n",
      " [0. 0. 0. 0. 1.]\n",
      " [0. 0. 0. 0. 1.]\n",
      " [0. 0. 0. 0. 1.]]\n"
     ]
    }
   ],
   "source": [
    "def get_tokenizer(data):\n",
    "    print('Tokenizer is being trained, Please Wait')\n",
    "    tokenizer = Tokenizer()\n",
    "    print('Read {} Sentences'.format(len(data)))\n",
    "    tokenizer.fit_on_texts(data)\n",
    "    print('Tokenizer training done!')\n",
    "    return tokenizer\n",
    "\n",
    "def get_data(tokenizer, MAX_LENGTH, input_data, input_labels):\n",
    "    print('Data is being loaded to tokenizer')\n",
    "    assert len(input_data) == len(input_labels)\n",
    "    sequences = tokenizer.texts_to_sequences(input_data)\n",
    "    X = pad_sequences(sequences, maxlen=MAX_LENGTH)\n",
    "    Y_bcc = np.array(input_labels)\n",
    "    return X, Y_bcc\n",
    "\n",
    "tokenizer = get_tokenizer(processed_list)\n",
    "\n",
    "X, Y_bcc = get_data(tokenizer, 100, processed_list, input_labels)\n",
    "y_bcc_labels = keras.utils.np_utils.to_categorical(Y_bcc)\n",
    "print(y_bcc_labels)"
   ]
  },
  {
   "cell_type": "markdown",
   "id": "65f5f189",
   "metadata": {},
   "source": [
    "## Split BBC News Dataset in 70:10:20 ratio"
   ]
  },
  {
   "cell_type": "code",
   "execution_count": 5,
   "id": "7d3f7adc",
   "metadata": {},
   "outputs": [],
   "source": [
    "train_val_X, test_X, train_val_Y, test_Y = train_test_split(X, y_bcc_labels, test_size=0.2, random_state=43)\n",
    "train_X, val_X, train_Y, val_Y = train_test_split(train_val_X, train_val_Y, test_size=0.1, random_state=43)"
   ]
  },
  {
   "cell_type": "markdown",
   "id": "efd80b3d",
   "metadata": {},
   "source": [
    "## Open a file to write accuracies of all models"
   ]
  },
  {
   "cell_type": "code",
   "execution_count": 6,
   "id": "4c99310e",
   "metadata": {},
   "outputs": [],
   "source": [
    "acc_file = open('accuracies.txt','w')"
   ]
  },
  {
   "cell_type": "markdown",
   "id": "83139adc",
   "metadata": {},
   "source": [
    "## Open a file to write number of instances misclassified"
   ]
  },
  {
   "cell_type": "code",
   "execution_count": 7,
   "id": "f0ebd638",
   "metadata": {},
   "outputs": [],
   "source": [
    "misclass_file = open('misclassified.txt','w')"
   ]
  },
  {
   "cell_type": "markdown",
   "id": "7090362e",
   "metadata": {},
   "source": [
    "## Feedforward neural network from assignment-4 (re-implemented in this notebook)"
   ]
  },
  {
   "cell_type": "markdown",
   "id": "1ce1d5ad",
   "metadata": {},
   "source": [
    "### Defining the model"
   ]
  },
  {
   "cell_type": "code",
   "execution_count": 8,
   "id": "0198deb0",
   "metadata": {},
   "outputs": [],
   "source": [
    "max_words_count = len(tokenizer.word_index) + 1\n",
    "\n",
    "def ff_nn_initial_model():\n",
    "    input_layer = Input(shape=(100, ), dtype='int32')\n",
    "    embedding_layer = Embedding(max_words_count, 100, trainable=True)\n",
    "    embedded_input = embedding_layer(input_layer)\n",
    "    flatten_input = Flatten()(embedded_input)\n",
    "    dense_layer_1 = Dense(2048, activation='tanh')\n",
    "    drop_1 = Dropout(0.1)\n",
    "    dense_layer_2 = Dense(1024, activation='tanh')\n",
    "    drop_2 = Dropout(0.1)\n",
    "    dense_layer_3 = Dense(5, activation='softmax')\n",
    "    output_layer = dense_layer_3(drop_2(dense_layer_2(drop_1(dense_layer_1(flatten_input)))))\n",
    "    ff_nn_initial = Model(inputs=input_layer, outputs=output_layer)\n",
    "    print(ff_nn_initial.summary())\n",
    "    return ff_nn_initial"
   ]
  },
  {
   "cell_type": "markdown",
   "id": "e2e77334",
   "metadata": {},
   "source": [
    "### Training the model"
   ]
  },
  {
   "cell_type": "code",
   "execution_count": 9,
   "id": "abbd192d",
   "metadata": {},
   "outputs": [
    {
     "name": "stdout",
     "output_type": "stream",
     "text": [
      "Model: \"model\"\n",
      "_________________________________________________________________\n",
      "Layer (type)                 Output Shape              Param #   \n",
      "=================================================================\n",
      "input_1 (InputLayer)         [(None, 100)]             0         \n",
      "_________________________________________________________________\n",
      "embedding (Embedding)        (None, 100, 100)          2253200   \n",
      "_________________________________________________________________\n",
      "flatten (Flatten)            (None, 10000)             0         \n",
      "_________________________________________________________________\n",
      "dense (Dense)                (None, 2048)              20482048  \n",
      "_________________________________________________________________\n",
      "dropout (Dropout)            (None, 2048)              0         \n",
      "_________________________________________________________________\n",
      "dense_1 (Dense)              (None, 1024)              2098176   \n",
      "_________________________________________________________________\n",
      "dropout_1 (Dropout)          (None, 1024)              0         \n",
      "_________________________________________________________________\n",
      "dense_2 (Dense)              (None, 5)                 5125      \n",
      "=================================================================\n",
      "Total params: 24,838,549\n",
      "Trainable params: 24,838,549\n",
      "Non-trainable params: 0\n",
      "_________________________________________________________________\n",
      "None\n",
      "Epoch 1/75\n",
      "3/3 [==============================] - 2s 561ms/step - loss: 1.5165 - accuracy: 0.3321 - val_loss: 1.2725 - val_accuracy: 0.5294\n",
      "Epoch 2/75\n",
      "3/3 [==============================] - 1s 481ms/step - loss: 0.3365 - accuracy: 0.9956 - val_loss: 0.8778 - val_accuracy: 0.6536\n",
      "Epoch 3/75\n",
      "3/3 [==============================] - 1s 482ms/step - loss: 0.0048 - accuracy: 1.0000 - val_loss: 0.7599 - val_accuracy: 0.7386\n",
      "Epoch 4/75\n",
      "3/3 [==============================] - 1s 491ms/step - loss: 4.1410e-05 - accuracy: 1.0000 - val_loss: 0.8009 - val_accuracy: 0.7712\n",
      "Epoch 5/75\n",
      "3/3 [==============================] - 1s 493ms/step - loss: 1.7260e-06 - accuracy: 1.0000 - val_loss: 0.8875 - val_accuracy: 0.7843\n",
      "Epoch 6/75\n",
      "3/3 [==============================] - 1s 488ms/step - loss: 2.0368e-07 - accuracy: 1.0000 - val_loss: 0.9792 - val_accuracy: 0.8170\n",
      "Epoch 7/75\n",
      "3/3 [==============================] - 1s 494ms/step - loss: 4.6176e-08 - accuracy: 1.0000 - val_loss: 1.0622 - val_accuracy: 0.8170\n",
      "Epoch 8/75\n",
      "3/3 [==============================] - 1s 478ms/step - loss: 1.1349e-08 - accuracy: 1.0000 - val_loss: 1.1320 - val_accuracy: 0.8105\n",
      "Epoch 9/75\n",
      "3/3 [==============================] - 1s 497ms/step - loss: 4.2451e-09 - accuracy: 1.0000 - val_loss: 1.1885 - val_accuracy: 0.8039\n",
      "Epoch 10/75\n",
      "3/3 [==============================] - 1s 486ms/step - loss: 3.7253e-09 - accuracy: 1.0000 - val_loss: 1.2332 - val_accuracy: 0.7974\n",
      "Epoch 11/75\n",
      "3/3 [==============================] - 1s 490ms/step - loss: 1.6461e-09 - accuracy: 1.0000 - val_loss: 1.2682 - val_accuracy: 0.7974\n",
      "Epoch 12/75\n",
      "3/3 [==============================] - 1s 483ms/step - loss: 2.5124e-09 - accuracy: 1.0000 - val_loss: 1.2951 - val_accuracy: 0.7974\n",
      "Epoch 13/75\n",
      "3/3 [==============================] - 1s 484ms/step - loss: 1.6461e-09 - accuracy: 1.0000 - val_loss: 1.3158 - val_accuracy: 0.7974\n",
      "Epoch 14/75\n",
      "3/3 [==============================] - 1s 488ms/step - loss: 1.9060e-09 - accuracy: 1.0000 - val_loss: 1.3316 - val_accuracy: 0.7974\n",
      "Epoch 15/75\n",
      "3/3 [==============================] - 2s 509ms/step - loss: 1.5594e-09 - accuracy: 1.0000 - val_loss: 1.3435 - val_accuracy: 0.7908\n",
      "Epoch 16/75\n",
      "3/3 [==============================] - 1s 486ms/step - loss: 1.4728e-09 - accuracy: 1.0000 - val_loss: 1.3526 - val_accuracy: 0.7843\n",
      "Epoch 17/75\n",
      "3/3 [==============================] - 1s 488ms/step - loss: 8.6635e-10 - accuracy: 1.0000 - val_loss: 1.3594 - val_accuracy: 0.7843\n",
      "Epoch 18/75\n",
      "3/3 [==============================] - 1s 487ms/step - loss: 9.5298e-10 - accuracy: 1.0000 - val_loss: 1.3646 - val_accuracy: 0.7843\n",
      "Epoch 19/75\n",
      "3/3 [==============================] - 1s 481ms/step - loss: 4.3317e-10 - accuracy: 1.0000 - val_loss: 1.3685 - val_accuracy: 0.7843\n",
      "Epoch 20/75\n",
      "3/3 [==============================] - 1s 492ms/step - loss: 1.0396e-09 - accuracy: 1.0000 - val_loss: 1.3714 - val_accuracy: 0.7843\n",
      "Epoch 21/75\n",
      "3/3 [==============================] - 2s 501ms/step - loss: 6.9308e-10 - accuracy: 1.0000 - val_loss: 1.3735 - val_accuracy: 0.7843\n",
      "Epoch 22/75\n",
      "3/3 [==============================] - 2s 540ms/step - loss: 1.2995e-09 - accuracy: 1.0000 - val_loss: 1.3751 - val_accuracy: 0.7843\n",
      "Epoch 23/75\n",
      "3/3 [==============================] - 2s 529ms/step - loss: 8.6635e-10 - accuracy: 1.0000 - val_loss: 1.3764 - val_accuracy: 0.7843\n",
      "Epoch 24/75\n",
      "3/3 [==============================] - 2s 530ms/step - loss: 1.0396e-09 - accuracy: 1.0000 - val_loss: 1.3773 - val_accuracy: 0.7843\n",
      "Epoch 25/75\n",
      "3/3 [==============================] - 2s 533ms/step - loss: 6.0644e-10 - accuracy: 1.0000 - val_loss: 1.3779 - val_accuracy: 0.7843\n",
      "Epoch 26/75\n",
      "3/3 [==============================] - 2s 531ms/step - loss: 1.6461e-09 - accuracy: 1.0000 - val_loss: 1.3784 - val_accuracy: 0.7843\n",
      "Epoch 27/75\n",
      "3/3 [==============================] - 2s 520ms/step - loss: 6.9308e-10 - accuracy: 1.0000 - val_loss: 1.3788 - val_accuracy: 0.7843\n",
      "Epoch 28/75\n",
      "3/3 [==============================] - 2s 521ms/step - loss: 6.0644e-10 - accuracy: 1.0000 - val_loss: 1.3791 - val_accuracy: 0.7843\n",
      "Epoch 29/75\n",
      "3/3 [==============================] - 2s 547ms/step - loss: 1.9926e-09 - accuracy: 1.0000 - val_loss: 1.3793 - val_accuracy: 0.7843\n",
      "Epoch 30/75\n",
      "3/3 [==============================] - 2s 527ms/step - loss: 8.6635e-10 - accuracy: 1.0000 - val_loss: 1.3794 - val_accuracy: 0.7843\n",
      "Epoch 31/75\n",
      "3/3 [==============================] - 2s 517ms/step - loss: 8.6635e-10 - accuracy: 1.0000 - val_loss: 1.3795 - val_accuracy: 0.7843\n",
      "Epoch 32/75\n",
      "3/3 [==============================] - 2s 520ms/step - loss: 5.1981e-10 - accuracy: 1.0000 - val_loss: 1.3796 - val_accuracy: 0.7843\n",
      "Epoch 33/75\n",
      "3/3 [==============================] - 2s 512ms/step - loss: 1.1263e-09 - accuracy: 1.0000 - val_loss: 1.3797 - val_accuracy: 0.7843\n",
      "Epoch 34/75\n",
      "3/3 [==============================] - 2s 514ms/step - loss: 6.9308e-10 - accuracy: 1.0000 - val_loss: 1.3797 - val_accuracy: 0.7843\n",
      "Epoch 35/75\n",
      "3/3 [==============================] - 2s 523ms/step - loss: 1.4728e-09 - accuracy: 1.0000 - val_loss: 1.3798 - val_accuracy: 0.7843\n",
      "Epoch 36/75\n",
      "3/3 [==============================] - 2s 525ms/step - loss: 8.6635e-10 - accuracy: 1.0000 - val_loss: 1.3798 - val_accuracy: 0.7843\n",
      "Epoch 37/75\n",
      "3/3 [==============================] - 2s 525ms/step - loss: 1.5594e-09 - accuracy: 1.0000 - val_loss: 1.3798 - val_accuracy: 0.7843\n",
      "Epoch 38/75\n",
      "3/3 [==============================] - 2s 519ms/step - loss: 9.5298e-10 - accuracy: 1.0000 - val_loss: 1.3798 - val_accuracy: 0.7843\n",
      "Epoch 39/75\n",
      "3/3 [==============================] - 2s 524ms/step - loss: 1.2129e-09 - accuracy: 1.0000 - val_loss: 1.3798 - val_accuracy: 0.7843\n",
      "Epoch 40/75\n",
      "3/3 [==============================] - 2s 513ms/step - loss: 1.2995e-09 - accuracy: 1.0000 - val_loss: 1.3798 - val_accuracy: 0.7843\n",
      "Epoch 41/75\n",
      "3/3 [==============================] - 2s 521ms/step - loss: 1.2129e-09 - accuracy: 1.0000 - val_loss: 1.3798 - val_accuracy: 0.7843\n",
      "Epoch 42/75\n",
      "3/3 [==============================] - 2s 526ms/step - loss: 1.0396e-09 - accuracy: 1.0000 - val_loss: 1.3798 - val_accuracy: 0.7843\n",
      "Epoch 43/75\n",
      "3/3 [==============================] - 2s 529ms/step - loss: 6.0644e-10 - accuracy: 1.0000 - val_loss: 1.3798 - val_accuracy: 0.7843\n",
      "Epoch 44/75\n",
      "3/3 [==============================] - 2s 664ms/step - loss: 1.2129e-09 - accuracy: 1.0000 - val_loss: 1.3799 - val_accuracy: 0.7843\n",
      "Epoch 45/75\n",
      "3/3 [==============================] - 2s 595ms/step - loss: 1.0396e-09 - accuracy: 1.0000 - val_loss: 1.3799 - val_accuracy: 0.7843\n",
      "Epoch 46/75\n",
      "3/3 [==============================] - 2s 546ms/step - loss: 6.9308e-10 - accuracy: 1.0000 - val_loss: 1.3799 - val_accuracy: 0.7843\n",
      "Epoch 47/75\n",
      "3/3 [==============================] - 2s 564ms/step - loss: 1.7327e-09 - accuracy: 1.0000 - val_loss: 1.3799 - val_accuracy: 0.7843\n"
     ]
    },
    {
     "name": "stdout",
     "output_type": "stream",
     "text": [
      "Epoch 48/75\n",
      "3/3 [==============================] - 2s 555ms/step - loss: 1.1263e-09 - accuracy: 1.0000 - val_loss: 1.3799 - val_accuracy: 0.7843\n",
      "Epoch 49/75\n",
      "3/3 [==============================] - 2s 559ms/step - loss: 6.9308e-10 - accuracy: 1.0000 - val_loss: 1.3799 - val_accuracy: 0.7843\n",
      "Epoch 50/75\n",
      "3/3 [==============================] - 2s 563ms/step - loss: 2.3391e-09 - accuracy: 1.0000 - val_loss: 1.3799 - val_accuracy: 0.7843\n",
      "Epoch 51/75\n",
      "3/3 [==============================] - 2s 550ms/step - loss: 1.0396e-09 - accuracy: 1.0000 - val_loss: 1.3799 - val_accuracy: 0.7843\n",
      "Epoch 52/75\n",
      "3/3 [==============================] - 2s 535ms/step - loss: 1.4728e-09 - accuracy: 1.0000 - val_loss: 1.3798 - val_accuracy: 0.7843\n",
      "Epoch 53/75\n",
      "3/3 [==============================] - 2s 570ms/step - loss: 9.5298e-10 - accuracy: 1.0000 - val_loss: 1.3798 - val_accuracy: 0.7843\n",
      "Epoch 54/75\n",
      "3/3 [==============================] - 2s 538ms/step - loss: 9.5298e-10 - accuracy: 1.0000 - val_loss: 1.3798 - val_accuracy: 0.7843\n",
      "Epoch 55/75\n",
      "3/3 [==============================] - 2s 556ms/step - loss: 1.5594e-09 - accuracy: 1.0000 - val_loss: 1.3798 - val_accuracy: 0.7843\n",
      "Epoch 56/75\n",
      "3/3 [==============================] - 2s 564ms/step - loss: 2.1659e-09 - accuracy: 1.0000 - val_loss: 1.3798 - val_accuracy: 0.7843\n",
      "Epoch 57/75\n",
      "3/3 [==============================] - 2s 553ms/step - loss: 1.1263e-09 - accuracy: 1.0000 - val_loss: 1.3798 - val_accuracy: 0.7843\n",
      "Epoch 58/75\n",
      "3/3 [==============================] - 2s 566ms/step - loss: 6.9308e-10 - accuracy: 1.0000 - val_loss: 1.3798 - val_accuracy: 0.7843\n",
      "Epoch 59/75\n",
      "3/3 [==============================] - 2s 585ms/step - loss: 1.2995e-09 - accuracy: 1.0000 - val_loss: 1.3798 - val_accuracy: 0.7843\n",
      "Epoch 60/75\n",
      "3/3 [==============================] - 2s 563ms/step - loss: 1.1263e-09 - accuracy: 1.0000 - val_loss: 1.3798 - val_accuracy: 0.7843\n",
      "Epoch 61/75\n",
      "3/3 [==============================] - 2s 614ms/step - loss: 6.9308e-10 - accuracy: 1.0000 - val_loss: 1.3798 - val_accuracy: 0.7843\n",
      "Epoch 62/75\n",
      "3/3 [==============================] - 2s 558ms/step - loss: 6.0644e-10 - accuracy: 1.0000 - val_loss: 1.3798 - val_accuracy: 0.7843\n",
      "Epoch 63/75\n",
      "3/3 [==============================] - 2s 566ms/step - loss: 1.0396e-09 - accuracy: 1.0000 - val_loss: 1.3798 - val_accuracy: 0.7843\n",
      "Epoch 64/75\n",
      "3/3 [==============================] - 2s 583ms/step - loss: 7.7971e-10 - accuracy: 1.0000 - val_loss: 1.3798 - val_accuracy: 0.7843\n",
      "Epoch 65/75\n",
      "3/3 [==============================] - 2s 657ms/step - loss: 7.7971e-10 - accuracy: 1.0000 - val_loss: 1.3798 - val_accuracy: 0.7843\n",
      "Epoch 66/75\n",
      "3/3 [==============================] - 2s 589ms/step - loss: 7.7971e-10 - accuracy: 1.0000 - val_loss: 1.3798 - val_accuracy: 0.7843\n",
      "Epoch 67/75\n",
      "3/3 [==============================] - 2s 583ms/step - loss: 2.0792e-09 - accuracy: 1.0000 - val_loss: 1.3798 - val_accuracy: 0.7843\n",
      "Epoch 68/75\n",
      "3/3 [==============================] - 2s 551ms/step - loss: 1.2995e-09 - accuracy: 1.0000 - val_loss: 1.3798 - val_accuracy: 0.7843\n",
      "Epoch 69/75\n",
      "3/3 [==============================] - 2s 541ms/step - loss: 1.0396e-09 - accuracy: 1.0000 - val_loss: 1.3798 - val_accuracy: 0.7843\n",
      "Epoch 70/75\n",
      "3/3 [==============================] - 2s 570ms/step - loss: 5.1981e-10 - accuracy: 1.0000 - val_loss: 1.3798 - val_accuracy: 0.7843\n",
      "Epoch 71/75\n",
      "3/3 [==============================] - 2s 543ms/step - loss: 6.9308e-10 - accuracy: 1.0000 - val_loss: 1.3798 - val_accuracy: 0.7843\n",
      "Epoch 72/75\n",
      "3/3 [==============================] - 2s 566ms/step - loss: 9.5298e-10 - accuracy: 1.0000 - val_loss: 1.3798 - val_accuracy: 0.7843\n",
      "Epoch 73/75\n",
      "3/3 [==============================] - 2s 546ms/step - loss: 1.9060e-09 - accuracy: 1.0000 - val_loss: 1.3798 - val_accuracy: 0.7843\n",
      "Epoch 74/75\n",
      "3/3 [==============================] - 2s 593ms/step - loss: 1.1263e-09 - accuracy: 1.0000 - val_loss: 1.3798 - val_accuracy: 0.7843\n",
      "Epoch 75/75\n",
      "3/3 [==============================] - 2s 608ms/step - loss: 8.6635e-10 - accuracy: 1.0000 - val_loss: 1.3798 - val_accuracy: 0.7843\n"
     ]
    }
   ],
   "source": [
    "stop = [EarlyStopping(monitor='val_loss', patience=1)]\n",
    "ff_nn_initial = ff_nn_initial_model()\n",
    "ff_nn_initial.compile(optimizer='adam',loss='categorical_crossentropy',metrics=['accuracy'])\n",
    "history = ff_nn_initial.fit(x=train_X,y=train_Y,batch_size=512,epochs=75,validation_data=(val_X,val_Y),shuffle=True)"
   ]
  },
  {
   "cell_type": "markdown",
   "id": "41fff6cd",
   "metadata": {},
   "source": [
    "### Saving the FF NN Converged Model"
   ]
  },
  {
   "cell_type": "code",
   "execution_count": 10,
   "id": "8ce5bd1b",
   "metadata": {},
   "outputs": [
    {
     "name": "stdout",
     "output_type": "stream",
     "text": [
      "INFO:tensorflow:Assets written to: ff_nn_1_saved/assets\n"
     ]
    }
   ],
   "source": [
    "ff_nn_initial.save(\"ff_nn_1_saved\")"
   ]
  },
  {
   "cell_type": "markdown",
   "id": "af6b1c48",
   "metadata": {},
   "source": [
    "### Saving the predictions of the model"
   ]
  },
  {
   "cell_type": "code",
   "execution_count": 12,
   "id": "92764a11",
   "metadata": {},
   "outputs": [
    {
     "name": "stdout",
     "output_type": "stream",
     "text": [
      "Classification Accuracy of Assignment-4 Feedforward NN is:\n",
      "81.20104438642298\n",
      "               precision    recall  f1-score   support\n",
      "\n",
      "     business       0.95      0.68      0.79        79\n",
      "entertainment       0.66      0.86      0.74        69\n",
      "     politics       0.77      0.91      0.84        93\n",
      "        sport       0.90      0.81      0.85        47\n",
      "         tech       0.89      0.79      0.84        95\n",
      "\n",
      "     accuracy                           0.81       383\n",
      "    macro avg       0.83      0.81      0.81       383\n",
      " weighted avg       0.83      0.81      0.81       383\n",
      "\n"
     ]
    }
   ],
   "source": [
    "predictions = ff_nn_initial.predict(test_X)\n",
    "y_pred_ff_nn_initial = [idx for idx in np.argmax(predictions, axis=1)]\n",
    "y_true = [idx for idx in np.argmax(test_Y, axis=1)]\n",
    "print('Classification Accuracy of Assignment-4 Feedforward NN is:')\n",
    "print(metrics.accuracy_score(y_true, y_pred_ff_nn_initial)*100)\n",
    "print(classification_report(y_true, y_pred_ff_nn_initial, target_names = list(label_enc_name_mapping.keys())))\n",
    "\n",
    "# Saving output predictions in csv file\n",
    "init_dataset = pd.DataFrame()\n",
    "init_dataset['preds'] = y_pred_ff_nn_initial\n",
    "init_dataset.to_csv('ff_nn_initial_preds.csv')"
   ]
  },
  {
   "cell_type": "code",
   "execution_count": 13,
   "id": "048551de",
   "metadata": {},
   "outputs": [
    {
     "data": {
      "text/plain": [
       "45"
      ]
     },
     "execution_count": 13,
     "metadata": {},
     "output_type": "execute_result"
    }
   ],
   "source": [
    "acc_file.write('Classification Accuracy of Assignment-4 Feedforward NN is: ')\n",
    "acc_file.write(str(metrics.accuracy_score(y_true, y_pred_ff_nn_initial)*100)+'\\n')\n",
    "acc_file.write('Classification Report:\\n')\n",
    "acc_file.write(classification_report(y_true, y_pred_ff_nn_initial, target_names = list(label_enc_name_mapping.keys())))\n",
    "acc_file.write('============================================\\n')"
   ]
  },
  {
   "cell_type": "markdown",
   "id": "32c1f74d",
   "metadata": {},
   "source": [
    "## Create the feedforward neural network from weights saved above"
   ]
  },
  {
   "cell_type": "code",
   "execution_count": 14,
   "id": "32fd909b",
   "metadata": {},
   "outputs": [
    {
     "name": "stdout",
     "output_type": "stream",
     "text": [
      "Epoch 1/50\n",
      "22/22 [==============================] - 6s 258ms/step - loss: 1.2129e-09 - accuracy: 1.0000 - val_loss: 1.3791 - val_accuracy: 0.7843\n",
      "Epoch 2/50\n",
      "22/22 [==============================] - 5s 222ms/step - loss: 8.6635e-10 - accuracy: 1.0000 - val_loss: 1.3774 - val_accuracy: 0.7843\n",
      "Epoch 3/50\n",
      "22/22 [==============================] - 5s 231ms/step - loss: 3.4654e-10 - accuracy: 1.0000 - val_loss: 1.3763 - val_accuracy: 0.7908\n",
      "Epoch 4/50\n",
      "22/22 [==============================] - 5s 208ms/step - loss: 3.4654e-10 - accuracy: 1.0000 - val_loss: 1.3755 - val_accuracy: 0.7908\n",
      "Epoch 5/50\n",
      "22/22 [==============================] - 5s 208ms/step - loss: 4.3317e-10 - accuracy: 1.0000 - val_loss: 1.3742 - val_accuracy: 0.7908\n",
      "Epoch 6/50\n",
      "22/22 [==============================] - 5s 207ms/step - loss: 8.6635e-11 - accuracy: 1.0000 - val_loss: 1.3735 - val_accuracy: 0.7974\n",
      "Epoch 7/50\n",
      "22/22 [==============================] - 5s 209ms/step - loss: 2.5990e-10 - accuracy: 1.0000 - val_loss: 1.3730 - val_accuracy: 0.7974\n",
      "Epoch 8/50\n",
      "22/22 [==============================] - 5s 215ms/step - loss: 8.6635e-11 - accuracy: 1.0000 - val_loss: 1.3725 - val_accuracy: 0.7974\n",
      "Epoch 9/50\n",
      "22/22 [==============================] - 5s 226ms/step - loss: 3.4654e-10 - accuracy: 1.0000 - val_loss: 1.3721 - val_accuracy: 0.8039\n",
      "Epoch 10/50\n",
      "22/22 [==============================] - 5s 214ms/step - loss: 1.7327e-10 - accuracy: 1.0000 - val_loss: 1.3714 - val_accuracy: 0.8039\n",
      "Epoch 11/50\n",
      "22/22 [==============================] - 5s 211ms/step - loss: 0.0000e+00 - accuracy: 1.0000 - val_loss: 1.3710 - val_accuracy: 0.8039\n",
      "Epoch 12/50\n",
      "22/22 [==============================] - 5s 210ms/step - loss: 8.6635e-11 - accuracy: 1.0000 - val_loss: 1.3707 - val_accuracy: 0.8039\n",
      "Epoch 13/50\n",
      "22/22 [==============================] - 5s 208ms/step - loss: 8.6635e-11 - accuracy: 1.0000 - val_loss: 1.3703 - val_accuracy: 0.8039\n",
      "Epoch 14/50\n",
      "22/22 [==============================] - 5s 207ms/step - loss: 8.6635e-11 - accuracy: 1.0000 - val_loss: 1.3699 - val_accuracy: 0.8039\n",
      "Epoch 15/50\n",
      "22/22 [==============================] - 5s 214ms/step - loss: 1.7327e-10 - accuracy: 1.0000 - val_loss: 1.3695 - val_accuracy: 0.8039\n",
      "Epoch 16/50\n",
      "22/22 [==============================] - 5s 211ms/step - loss: 0.0000e+00 - accuracy: 1.0000 - val_loss: 1.3690 - val_accuracy: 0.8039\n",
      "Epoch 17/50\n",
      "22/22 [==============================] - 5s 208ms/step - loss: 0.0000e+00 - accuracy: 1.0000 - val_loss: 1.3688 - val_accuracy: 0.8039\n",
      "Epoch 18/50\n",
      "22/22 [==============================] - 5s 207ms/step - loss: 0.0000e+00 - accuracy: 1.0000 - val_loss: 1.3686 - val_accuracy: 0.8039\n",
      "Epoch 19/50\n",
      "22/22 [==============================] - 5s 209ms/step - loss: 0.0000e+00 - accuracy: 1.0000 - val_loss: 1.3684 - val_accuracy: 0.8039\n",
      "Epoch 20/50\n",
      "22/22 [==============================] - 5s 209ms/step - loss: 0.0000e+00 - accuracy: 1.0000 - val_loss: 1.3680 - val_accuracy: 0.8039\n",
      "Epoch 21/50\n",
      "22/22 [==============================] - 5s 209ms/step - loss: 0.0000e+00 - accuracy: 1.0000 - val_loss: 1.3678 - val_accuracy: 0.8039\n",
      "Epoch 22/50\n",
      "22/22 [==============================] - 5s 209ms/step - loss: 8.6635e-11 - accuracy: 1.0000 - val_loss: 1.3672 - val_accuracy: 0.8039\n",
      "Epoch 23/50\n",
      "22/22 [==============================] - 5s 207ms/step - loss: 0.0000e+00 - accuracy: 1.0000 - val_loss: 1.3669 - val_accuracy: 0.8039\n",
      "Epoch 24/50\n",
      "22/22 [==============================] - 5s 208ms/step - loss: 0.0000e+00 - accuracy: 1.0000 - val_loss: 1.3667 - val_accuracy: 0.8039\n",
      "Epoch 25/50\n",
      "22/22 [==============================] - 5s 208ms/step - loss: 0.0000e+00 - accuracy: 1.0000 - val_loss: 1.3666 - val_accuracy: 0.8039\n",
      "Epoch 26/50\n",
      "22/22 [==============================] - 5s 210ms/step - loss: 0.0000e+00 - accuracy: 1.0000 - val_loss: 1.3665 - val_accuracy: 0.8039\n",
      "Epoch 27/50\n",
      "22/22 [==============================] - 5s 207ms/step - loss: 0.0000e+00 - accuracy: 1.0000 - val_loss: 1.3663 - val_accuracy: 0.8039\n",
      "Epoch 28/50\n",
      "22/22 [==============================] - 5s 230ms/step - loss: 0.0000e+00 - accuracy: 1.0000 - val_loss: 1.3660 - val_accuracy: 0.8039\n",
      "Epoch 29/50\n",
      "22/22 [==============================] - 5s 223ms/step - loss: 0.0000e+00 - accuracy: 1.0000 - val_loss: 1.3659 - val_accuracy: 0.8039\n",
      "Epoch 30/50\n",
      "22/22 [==============================] - 5s 210ms/step - loss: 0.0000e+00 - accuracy: 1.0000 - val_loss: 1.3657 - val_accuracy: 0.8039\n",
      "Epoch 31/50\n",
      "22/22 [==============================] - 5s 207ms/step - loss: 0.0000e+00 - accuracy: 1.0000 - val_loss: 1.3655 - val_accuracy: 0.8039\n",
      "Epoch 32/50\n",
      "22/22 [==============================] - 5s 209ms/step - loss: 0.0000e+00 - accuracy: 1.0000 - val_loss: 1.3653 - val_accuracy: 0.8039\n",
      "Epoch 33/50\n",
      "22/22 [==============================] - 5s 209ms/step - loss: 0.0000e+00 - accuracy: 1.0000 - val_loss: 1.3652 - val_accuracy: 0.8039\n",
      "Epoch 34/50\n",
      "22/22 [==============================] - 5s 207ms/step - loss: 0.0000e+00 - accuracy: 1.0000 - val_loss: 1.3650 - val_accuracy: 0.8039\n",
      "Epoch 35/50\n",
      "22/22 [==============================] - 5s 208ms/step - loss: 0.0000e+00 - accuracy: 1.0000 - val_loss: 1.3648 - val_accuracy: 0.8039\n",
      "Epoch 36/50\n",
      "22/22 [==============================] - 5s 209ms/step - loss: 0.0000e+00 - accuracy: 1.0000 - val_loss: 1.3646 - val_accuracy: 0.8039\n",
      "Epoch 37/50\n",
      "22/22 [==============================] - 5s 207ms/step - loss: 0.0000e+00 - accuracy: 1.0000 - val_loss: 1.3645 - val_accuracy: 0.8039\n",
      "Epoch 38/50\n",
      "22/22 [==============================] - 5s 206ms/step - loss: 0.0000e+00 - accuracy: 1.0000 - val_loss: 1.3644 - val_accuracy: 0.8039\n",
      "Epoch 39/50\n",
      "22/22 [==============================] - 5s 207ms/step - loss: 0.0000e+00 - accuracy: 1.0000 - val_loss: 1.3642 - val_accuracy: 0.8039\n",
      "Epoch 40/50\n",
      "22/22 [==============================] - 5s 210ms/step - loss: 0.0000e+00 - accuracy: 1.0000 - val_loss: 1.3640 - val_accuracy: 0.8039\n",
      "Epoch 41/50\n",
      "22/22 [==============================] - 5s 210ms/step - loss: 0.0000e+00 - accuracy: 1.0000 - val_loss: 1.3639 - val_accuracy: 0.8039\n",
      "Epoch 42/50\n",
      "22/22 [==============================] - 5s 208ms/step - loss: 0.0000e+00 - accuracy: 1.0000 - val_loss: 1.3637 - val_accuracy: 0.8039\n",
      "Epoch 43/50\n",
      "22/22 [==============================] - 5s 207ms/step - loss: 0.0000e+00 - accuracy: 1.0000 - val_loss: 1.3636 - val_accuracy: 0.8039\n",
      "Epoch 44/50\n",
      "22/22 [==============================] - 5s 207ms/step - loss: 0.0000e+00 - accuracy: 1.0000 - val_loss: 1.3634 - val_accuracy: 0.8039\n",
      "Epoch 45/50\n",
      "22/22 [==============================] - 5s 211ms/step - loss: 0.0000e+00 - accuracy: 1.0000 - val_loss: 1.3633 - val_accuracy: 0.8039\n",
      "Epoch 46/50\n",
      "22/22 [==============================] - 5s 207ms/step - loss: 0.0000e+00 - accuracy: 1.0000 - val_loss: 1.3632 - val_accuracy: 0.8039\n",
      "Epoch 47/50\n",
      "22/22 [==============================] - 5s 208ms/step - loss: 0.0000e+00 - accuracy: 1.0000 - val_loss: 1.3631 - val_accuracy: 0.8039\n",
      "Epoch 48/50\n",
      "22/22 [==============================] - 5s 207ms/step - loss: 0.0000e+00 - accuracy: 1.0000 - val_loss: 1.3628 - val_accuracy: 0.8039\n",
      "Epoch 49/50\n",
      "22/22 [==============================] - 5s 208ms/step - loss: 0.0000e+00 - accuracy: 1.0000 - val_loss: 1.3626 - val_accuracy: 0.8039\n",
      "Epoch 50/50\n",
      "22/22 [==============================] - 5s 207ms/step - loss: 0.0000e+00 - accuracy: 1.0000 - val_loss: 1.3623 - val_accuracy: 0.8039\n"
     ]
    }
   ],
   "source": [
    "ff_nn_new = keras.models.load_model(\"ff_nn_1_saved\")\n",
    "stop = [EarlyStopping(monitor='val_loss', patience=20)]\n",
    "ff_nn_new.compile(optimizer='adam',loss='categorical_crossentropy',metrics=['accuracy'])\n",
    "history = ff_nn_new.fit(x=train_X,y=train_Y,batch_size=64,epochs=50,validation_data=(val_X,val_Y),shuffle=True)"
   ]
  },
  {
   "cell_type": "markdown",
   "id": "7694503e",
   "metadata": {},
   "source": [
    "# Save the predictions of the model to CSV"
   ]
  },
  {
   "cell_type": "code",
   "execution_count": 15,
   "id": "90f53074",
   "metadata": {},
   "outputs": [
    {
     "name": "stdout",
     "output_type": "stream",
     "text": [
      "Classification Accuracy of Pretrained Feedforward Neural Network is:\n",
      "81.4621409921671\n",
      "               precision    recall  f1-score   support\n",
      "\n",
      "     business       0.95      0.70      0.80        79\n",
      "entertainment       0.67      0.86      0.75        69\n",
      "     politics       0.77      0.92      0.84        93\n",
      "        sport       0.90      0.81      0.85        47\n",
      "         tech       0.89      0.78      0.83        95\n",
      "\n",
      "     accuracy                           0.81       383\n",
      "    macro avg       0.84      0.81      0.82       383\n",
      " weighted avg       0.84      0.81      0.82       383\n",
      "\n"
     ]
    }
   ],
   "source": [
    "predictions = ff_nn_new.predict(test_X)\n",
    "y_pred_ff_nn_new = [idx for idx in np.argmax(predictions, axis=1)]\n",
    "print('Classification Accuracy of Pretrained Feedforward Neural Network is:')\n",
    "print(metrics.accuracy_score(y_true, y_pred_ff_nn_new)*100)\n",
    "print(classification_report(y_true, y_pred_ff_nn_new, target_names = list(label_enc_name_mapping.keys())))\n",
    "\n",
    "\n",
    "# Saving output predictions in csv file\n",
    "ff_nn_new_dataset = pd.DataFrame()\n",
    "ff_nn_new_dataset['preds'] = y_pred_ff_nn_new\n",
    "ff_nn_new_dataset.to_csv('ff_nn_new_preds.csv')"
   ]
  },
  {
   "cell_type": "code",
   "execution_count": 16,
   "id": "8eaad20f",
   "metadata": {},
   "outputs": [
    {
     "data": {
      "text/plain": [
       "45"
      ]
     },
     "execution_count": 16,
     "metadata": {},
     "output_type": "execute_result"
    }
   ],
   "source": [
    "acc_file.write('Classification Accuracy of Pretrained Feedforward NN is: ')\n",
    "acc_file.write(str(metrics.accuracy_score(y_true, y_pred_ff_nn_new)*100)+'\\n')\n",
    "acc_file.write('Classification Report:\\n')\n",
    "acc_file.write(classification_report(y_true, y_pred_ff_nn_new, target_names = list(label_enc_name_mapping.keys())))\n",
    "acc_file.write('============================================\\n')"
   ]
  },
  {
   "cell_type": "markdown",
   "id": "9b496863",
   "metadata": {},
   "source": [
    "## Vanilla RNN model"
   ]
  },
  {
   "cell_type": "markdown",
   "id": "4051d65e",
   "metadata": {},
   "source": [
    "### Define the model"
   ]
  },
  {
   "cell_type": "code",
   "execution_count": 17,
   "id": "0877be8a",
   "metadata": {},
   "outputs": [],
   "source": [
    "def rnn_model_create():\n",
    "    input_layer = Input(shape=(100, ), dtype='int32')\n",
    "    embedding_layer = Embedding(max_words_count, 100, trainable=True)\n",
    "    embedded_input = embedding_layer(input_layer)\n",
    "    rnn_layer_1 = SimpleRNN(64, activation = 'relu', recurrent_dropout=0.2)\n",
    "    rnn_layer_2 = SimpleRNN(32, activation = 'relu', recurrent_dropout=0.2)\n",
    "    drop_2 = Dropout(0.1)\n",
    "    rnn_dense_connect = Dense(128, activation='tanh')\n",
    "    drop_3 = Dropout(0.1)\n",
    "    dense_layer_4 = Dense(5, activation='softmax')\n",
    "    inter_1 = rnn_layer_1(embedded_input)\n",
    "    inter_2 = rnn_layer_2(embedded_input)\n",
    "    concatenated_tensor = Concatenate(axis=1)([inter_1, inter_2])\n",
    "    output_layer = dense_layer_4(drop_3(rnn_dense_connect((drop_2(concatenated_tensor)))))\n",
    "    rnn_model = Model(inputs=input_layer, outputs=output_layer)\n",
    "    print(rnn_model.summary())\n",
    "    return rnn_model"
   ]
  },
  {
   "cell_type": "markdown",
   "id": "f8e6cdf9",
   "metadata": {},
   "source": [
    "### Train the model and save the weights"
   ]
  },
  {
   "cell_type": "code",
   "execution_count": 18,
   "id": "d3385513",
   "metadata": {},
   "outputs": [
    {
     "name": "stdout",
     "output_type": "stream",
     "text": [
      "Model: \"model_1\"\n",
      "__________________________________________________________________________________________________\n",
      "Layer (type)                    Output Shape         Param #     Connected to                     \n",
      "==================================================================================================\n",
      "input_2 (InputLayer)            [(None, 100)]        0                                            \n",
      "__________________________________________________________________________________________________\n",
      "embedding_1 (Embedding)         (None, 100, 100)     2253200     input_2[0][0]                    \n",
      "__________________________________________________________________________________________________\n",
      "simple_rnn (SimpleRNN)          (None, 64)           10560       embedding_1[0][0]                \n",
      "__________________________________________________________________________________________________\n",
      "simple_rnn_1 (SimpleRNN)        (None, 32)           4256        embedding_1[0][0]                \n",
      "__________________________________________________________________________________________________\n",
      "concatenate (Concatenate)       (None, 96)           0           simple_rnn[0][0]                 \n",
      "                                                                 simple_rnn_1[0][0]               \n",
      "__________________________________________________________________________________________________\n",
      "dropout_2 (Dropout)             (None, 96)           0           concatenate[0][0]                \n",
      "__________________________________________________________________________________________________\n",
      "dense_3 (Dense)                 (None, 128)          12416       dropout_2[0][0]                  \n",
      "__________________________________________________________________________________________________\n",
      "dropout_3 (Dropout)             (None, 128)          0           dense_3[0][0]                    \n",
      "__________________________________________________________________________________________________\n",
      "dense_4 (Dense)                 (None, 5)            645         dropout_3[0][0]                  \n",
      "==================================================================================================\n",
      "Total params: 2,281,077\n",
      "Trainable params: 2,281,077\n",
      "Non-trainable params: 0\n",
      "__________________________________________________________________________________________________\n",
      "None\n",
      "Epoch 1/50\n",
      "6/6 [==============================] - 2s 174ms/step - loss: 1.5940 - accuracy: 0.2507 - val_loss: 1.5776 - val_accuracy: 0.2680\n",
      "Epoch 2/50\n",
      "6/6 [==============================] - 1s 122ms/step - loss: 1.5337 - accuracy: 0.2951 - val_loss: 1.5402 - val_accuracy: 0.2810\n",
      "Epoch 3/50\n",
      "6/6 [==============================] - 1s 119ms/step - loss: 1.4383 - accuracy: 0.3045 - val_loss: 1.4973 - val_accuracy: 0.3137\n",
      "Epoch 4/50\n",
      "6/6 [==============================] - 1s 119ms/step - loss: 1.2730 - accuracy: 0.4172 - val_loss: 1.3415 - val_accuracy: 0.4314\n",
      "Epoch 5/50\n",
      "6/6 [==============================] - 1s 119ms/step - loss: 1.0342 - accuracy: 0.6337 - val_loss: 1.2537 - val_accuracy: 0.5686\n",
      "Epoch 6/50\n",
      "6/6 [==============================] - 1s 121ms/step - loss: 0.8982 - accuracy: 0.7682 - val_loss: 1.0135 - val_accuracy: 0.6471\n",
      "Epoch 7/50\n",
      "6/6 [==============================] - 1s 119ms/step - loss: 0.8244 - accuracy: 0.8016 - val_loss: 1.1814 - val_accuracy: 0.6340\n",
      "Epoch 8/50\n",
      "6/6 [==============================] - 1s 119ms/step - loss: 0.7279 - accuracy: 0.8336 - val_loss: 0.9335 - val_accuracy: 0.7124\n",
      "Epoch 9/50\n",
      "6/6 [==============================] - 1s 119ms/step - loss: 0.6592 - accuracy: 0.8474 - val_loss: 1.0540 - val_accuracy: 0.6405\n",
      "Epoch 10/50\n",
      "6/6 [==============================] - 1s 119ms/step - loss: 0.5861 - accuracy: 0.8590 - val_loss: 0.8537 - val_accuracy: 0.6993\n",
      "Epoch 11/50\n",
      "6/6 [==============================] - 1s 121ms/step - loss: 0.5219 - accuracy: 0.8525 - val_loss: 0.8440 - val_accuracy: 0.6928\n",
      "Epoch 12/50\n",
      "6/6 [==============================] - 1s 122ms/step - loss: 0.4750 - accuracy: 0.8510 - val_loss: 0.9356 - val_accuracy: 0.6275\n",
      "Epoch 13/50\n",
      "6/6 [==============================] - 1s 119ms/step - loss: 0.3759 - accuracy: 0.8714 - val_loss: 0.8096 - val_accuracy: 0.6928\n",
      "Epoch 14/50\n",
      "6/6 [==============================] - 1s 119ms/step - loss: 0.3386 - accuracy: 0.8823 - val_loss: 0.9775 - val_accuracy: 0.5752\n",
      "Epoch 15/50\n",
      "6/6 [==============================] - 1s 120ms/step - loss: 0.2857 - accuracy: 0.9208 - val_loss: 0.7728 - val_accuracy: 0.6863\n",
      "Epoch 16/50\n",
      "6/6 [==============================] - 1s 121ms/step - loss: 0.2308 - accuracy: 0.9549 - val_loss: 0.7101 - val_accuracy: 0.7059\n",
      "Epoch 17/50\n",
      "6/6 [==============================] - 1s 121ms/step - loss: 0.2051 - accuracy: 0.9557 - val_loss: 0.9110 - val_accuracy: 0.6471\n",
      "Epoch 18/50\n",
      "6/6 [==============================] - 1s 121ms/step - loss: 0.1623 - accuracy: 0.9695 - val_loss: 0.9929 - val_accuracy: 0.5882\n",
      "Epoch 19/50\n",
      "6/6 [==============================] - 1s 139ms/step - loss: 0.2560 - accuracy: 0.9288 - val_loss: 0.9837 - val_accuracy: 0.6078\n",
      "Epoch 20/50\n",
      "6/6 [==============================] - 1s 132ms/step - loss: 0.1722 - accuracy: 0.9731 - val_loss: 0.7688 - val_accuracy: 0.6928\n",
      "Epoch 21/50\n",
      "6/6 [==============================] - 1s 120ms/step - loss: 0.1625 - accuracy: 0.9688 - val_loss: 1.0806 - val_accuracy: 0.5686\n",
      "Epoch 22/50\n",
      "6/6 [==============================] - 1s 139ms/step - loss: 0.2040 - accuracy: 0.9499 - val_loss: 1.0604 - val_accuracy: 0.5686\n",
      "Epoch 23/50\n",
      "6/6 [==============================] - 1s 124ms/step - loss: 0.1244 - accuracy: 0.9811 - val_loss: 0.9413 - val_accuracy: 0.6405\n",
      "Epoch 24/50\n",
      "6/6 [==============================] - 1s 118ms/step - loss: 0.0894 - accuracy: 0.9876 - val_loss: 0.9091 - val_accuracy: 0.6667\n",
      "Epoch 25/50\n",
      "6/6 [==============================] - 1s 119ms/step - loss: 0.0621 - accuracy: 0.9913 - val_loss: 0.9182 - val_accuracy: 0.6601\n",
      "Epoch 26/50\n",
      "6/6 [==============================] - 1s 119ms/step - loss: 0.0466 - accuracy: 0.9949 - val_loss: 0.9333 - val_accuracy: 0.6471\n",
      "Epoch 27/50\n",
      "6/6 [==============================] - 1s 120ms/step - loss: 0.0375 - accuracy: 0.9956 - val_loss: 0.9506 - val_accuracy: 0.6536\n",
      "Epoch 28/50\n",
      "6/6 [==============================] - 1s 118ms/step - loss: 0.0362 - accuracy: 0.9949 - val_loss: 0.9582 - val_accuracy: 0.6667\n",
      "Epoch 29/50\n",
      "6/6 [==============================] - 1s 118ms/step - loss: 0.0329 - accuracy: 0.9964 - val_loss: 0.9384 - val_accuracy: 0.6797\n",
      "Epoch 30/50\n",
      "6/6 [==============================] - 1s 118ms/step - loss: 0.0307 - accuracy: 0.9971 - val_loss: 0.9362 - val_accuracy: 0.6863\n",
      "Epoch 31/50\n",
      "6/6 [==============================] - 1s 117ms/step - loss: 0.0254 - accuracy: 0.9949 - val_loss: 0.9932 - val_accuracy: 0.6732\n",
      "Epoch 32/50\n",
      "6/6 [==============================] - 1s 118ms/step - loss: 0.0192 - accuracy: 0.9993 - val_loss: 1.0132 - val_accuracy: 0.6667\n",
      "Epoch 33/50\n",
      "6/6 [==============================] - 1s 118ms/step - loss: 0.0166 - accuracy: 0.9978 - val_loss: 0.9995 - val_accuracy: 0.6732\n",
      "Epoch 34/50\n",
      "6/6 [==============================] - 1s 118ms/step - loss: 0.0136 - accuracy: 0.9985 - val_loss: 0.9857 - val_accuracy: 0.6863\n",
      "Epoch 35/50\n",
      "6/6 [==============================] - 1s 118ms/step - loss: 0.0135 - accuracy: 0.9978 - val_loss: 0.9607 - val_accuracy: 0.6928\n",
      "Epoch 36/50\n",
      "6/6 [==============================] - 1s 119ms/step - loss: 0.0121 - accuracy: 0.9993 - val_loss: 0.9559 - val_accuracy: 0.7059\n",
      "Epoch 37/50\n",
      "6/6 [==============================] - 1s 117ms/step - loss: 0.0112 - accuracy: 0.9978 - val_loss: 0.9667 - val_accuracy: 0.7059\n",
      "Epoch 38/50\n",
      "6/6 [==============================] - 1s 119ms/step - loss: 0.0106 - accuracy: 0.9993 - val_loss: 0.9938 - val_accuracy: 0.6797\n",
      "Epoch 39/50\n",
      "6/6 [==============================] - 1s 117ms/step - loss: 0.0165 - accuracy: 0.9964 - val_loss: 1.0441 - val_accuracy: 0.6732\n",
      "Epoch 40/50\n",
      "6/6 [==============================] - 1s 118ms/step - loss: 0.0123 - accuracy: 0.9993 - val_loss: 1.0114 - val_accuracy: 0.6993\n",
      "Epoch 41/50\n",
      "6/6 [==============================] - 1s 118ms/step - loss: 0.0210 - accuracy: 0.9985 - val_loss: 1.0168 - val_accuracy: 0.6863\n",
      "Epoch 42/50\n"
     ]
    },
    {
     "name": "stdout",
     "output_type": "stream",
     "text": [
      "6/6 [==============================] - 1s 118ms/step - loss: 0.0067 - accuracy: 0.9993 - val_loss: 1.0743 - val_accuracy: 0.6863\n",
      "Epoch 43/50\n",
      "6/6 [==============================] - 1s 118ms/step - loss: 0.0180 - accuracy: 0.9993 - val_loss: 1.0915 - val_accuracy: 0.6797\n",
      "Epoch 44/50\n",
      "6/6 [==============================] - 1s 121ms/step - loss: 0.0074 - accuracy: 0.9993 - val_loss: 1.0627 - val_accuracy: 0.6797\n",
      "Epoch 45/50\n",
      "6/6 [==============================] - 1s 119ms/step - loss: 0.0057 - accuracy: 1.0000 - val_loss: 1.0344 - val_accuracy: 0.6863\n",
      "Epoch 46/50\n",
      "6/6 [==============================] - 1s 119ms/step - loss: 0.0069 - accuracy: 1.0000 - val_loss: 1.0124 - val_accuracy: 0.6797\n",
      "Epoch 47/50\n",
      "6/6 [==============================] - 1s 119ms/step - loss: 0.0059 - accuracy: 0.9993 - val_loss: 0.9991 - val_accuracy: 0.7059\n",
      "Epoch 48/50\n",
      "6/6 [==============================] - 1s 119ms/step - loss: 0.0047 - accuracy: 1.0000 - val_loss: 0.9947 - val_accuracy: 0.7124\n",
      "Epoch 49/50\n",
      "6/6 [==============================] - 1s 119ms/step - loss: 0.0110 - accuracy: 0.9978 - val_loss: 1.0491 - val_accuracy: 0.6797\n",
      "Epoch 50/50\n",
      "6/6 [==============================] - 1s 119ms/step - loss: 0.0142 - accuracy: 0.9971 - val_loss: 1.1307 - val_accuracy: 0.6601\n",
      "INFO:tensorflow:Assets written to: rnn_model_1/assets\n"
     ]
    }
   ],
   "source": [
    "stop = [EarlyStopping(monitor='val_loss', patience=1)]\n",
    "rnn_model = rnn_model_create()\n",
    "rnn_model.compile(optimizer=tf.keras.optimizers.Adam(learning_rate=1e-3),loss='categorical_crossentropy',metrics=['accuracy'])\n",
    "history = rnn_model.fit(x=train_X,y=train_Y,batch_size=256,epochs=50,validation_data=(val_X,val_Y),shuffle=True)\n",
    "\n",
    "# Saving the RNN Model\n",
    "rnn_model.save(\"rnn_model_1\")"
   ]
  },
  {
   "cell_type": "markdown",
   "id": "5d6181c9",
   "metadata": {},
   "source": [
    "### Save the predictions to CSV"
   ]
  },
  {
   "cell_type": "code",
   "execution_count": 19,
   "id": "030b062b",
   "metadata": {},
   "outputs": [
    {
     "name": "stdout",
     "output_type": "stream",
     "text": [
      "Classification Accuracy of RNN is:\n",
      "65.0130548302872\n",
      "               precision    recall  f1-score   support\n",
      "\n",
      "     business       0.94      0.77      0.85        79\n",
      "entertainment       0.46      0.57      0.51        69\n",
      "     politics       0.86      0.71      0.78        93\n",
      "        sport       0.45      0.45      0.45        47\n",
      "         tech       0.57      0.65      0.61        95\n",
      "\n",
      "     accuracy                           0.65       383\n",
      "    macro avg       0.65      0.63      0.64       383\n",
      " weighted avg       0.68      0.65      0.66       383\n",
      "\n"
     ]
    }
   ],
   "source": [
    "predictions = rnn_model.predict(test_X)\n",
    "y_pred_rnn = [idx for idx in np.argmax(predictions, axis=1)]\n",
    "print('Classification Accuracy of RNN is:')\n",
    "print(metrics.accuracy_score(y_true, y_pred_rnn)*100)\n",
    "print(classification_report(y_true, y_pred_rnn, target_names = list(label_enc_name_mapping.keys())))\n",
    "\n",
    "# Saving output predictions in csv file\n",
    "rnn_dataset = pd.DataFrame()\n",
    "rnn_dataset['preds'] = y_pred_rnn\n",
    "rnn_dataset.to_csv('rnn_preds.csv')"
   ]
  },
  {
   "cell_type": "code",
   "execution_count": 20,
   "id": "d925f1cd",
   "metadata": {},
   "outputs": [
    {
     "data": {
      "text/plain": [
       "45"
      ]
     },
     "execution_count": 20,
     "metadata": {},
     "output_type": "execute_result"
    }
   ],
   "source": [
    "acc_file.write('Classification Accuracy of RNN is: ')\n",
    "acc_file.write(str(metrics.accuracy_score(y_true, y_pred_rnn)*100)+'\\n')\n",
    "acc_file.write('Classification Report:\\n')\n",
    "acc_file.write(classification_report(y_true, y_pred_rnn, target_names = list(label_enc_name_mapping.keys())))\n",
    "acc_file.write('============================================\\n')"
   ]
  },
  {
   "cell_type": "markdown",
   "id": "ece0d902",
   "metadata": {},
   "source": [
    "## Majority Voting Ensemble Model"
   ]
  },
  {
   "cell_type": "code",
   "execution_count": 21,
   "id": "5040a64e",
   "metadata": {},
   "outputs": [
    {
     "name": "stdout",
     "output_type": "stream",
     "text": [
      "Accuracy of Ensemble model by Majority Voting is\n",
      "81.72323759791122\n",
      "               precision    recall  f1-score   support\n",
      "\n",
      "     business       0.95      0.70      0.80        79\n",
      "entertainment       0.67      0.86      0.75        69\n",
      "     politics       0.77      0.92      0.84        93\n",
      "        sport       0.90      0.81      0.85        47\n",
      "         tech       0.89      0.79      0.84        95\n",
      "\n",
      "     accuracy                           0.82       383\n",
      "    macro avg       0.84      0.81      0.82       383\n",
      " weighted avg       0.84      0.82      0.82       383\n",
      "\n"
     ]
    }
   ],
   "source": [
    "majority_predicts = []\n",
    "for i in range(len(y_pred_rnn)):\n",
    "    class_counts = {i:0 for i in range(5)}\n",
    "    class_counts[y_pred_ff_nn_initial[i]] += 1\n",
    "    class_counts[y_pred_ff_nn_new[i]] += 1\n",
    "    class_counts[y_pred_rnn[i]] += 1\n",
    "    sorted_classes = list(dict(sorted(class_counts.items(), key=lambda x:x[1], reverse=True)).keys())\n",
    "    most_frequent = sorted_classes[0]\n",
    "    majority_predicts.append(most_frequent)\n",
    "\n",
    "print('Accuracy of Ensemble model by Majority Voting is')\n",
    "print(metrics.accuracy_score(y_true, majority_predicts)*100)\n",
    "print(classification_report(y_true, majority_predicts, target_names=list(label_enc_name_mapping.keys())))\n",
    "\n",
    "# Save Results to CSV\n",
    "maj_dataset = pd.DataFrame()\n",
    "maj_dataset['preds'] = majority_predicts\n",
    "maj_dataset.to_csv('ensemble_majority_preds.csv')"
   ]
  },
  {
   "cell_type": "code",
   "execution_count": 22,
   "id": "5c973552",
   "metadata": {},
   "outputs": [
    {
     "data": {
      "text/plain": [
       "45"
      ]
     },
     "execution_count": 22,
     "metadata": {},
     "output_type": "execute_result"
    }
   ],
   "source": [
    "acc_file.write('Classification Accuracy of Majority Voting Ensemble Model is: ')\n",
    "acc_file.write(str(metrics.accuracy_score(y_true, majority_predicts)*100)+'\\n')\n",
    "acc_file.write('Classification Report:\\n')\n",
    "acc_file.write(classification_report(y_true, majority_predicts, target_names = list(label_enc_name_mapping.keys())))\n",
    "acc_file.write('============================================\\n')"
   ]
  },
  {
   "cell_type": "markdown",
   "id": "ffb0dcd6",
   "metadata": {},
   "source": [
    "## Weighted Voting Ensemble Model"
   ]
  },
  {
   "cell_type": "markdown",
   "id": "57c23758",
   "metadata": {},
   "source": [
    "### Getting Weights"
   ]
  },
  {
   "cell_type": "code",
   "execution_count": 23,
   "id": "d3db0fde",
   "metadata": {},
   "outputs": [
    {
     "name": "stdout",
     "output_type": "stream",
     "text": [
      "Weight of Initial FF-NN is 0.7843137254901961, Pretrained FF-NN is 0.803921568627451, RNN is 0.6601307189542484\n"
     ]
    }
   ],
   "source": [
    "predictions_1 = ff_nn_initial.predict(val_X)\n",
    "pred_1 = [idx for idx in np.argmax(predictions_1, axis=1)]\n",
    "predictions_2 = ff_nn_new.predict(val_X)\n",
    "pred_2 = [idx for idx in np.argmax(predictions_2, axis=1)]\n",
    "predictions_3 = rnn_model.predict(val_X)\n",
    "pred_3 = [idx for idx in np.argmax(predictions_3, axis=1)]\n",
    "y_val_true = [idx for idx in np.argmax(val_Y, axis=1)]\n",
    "\n",
    "wt_ff_nn_initial = metrics.accuracy_score(y_val_true, pred_1)\n",
    "wt_ff_nn_new = metrics.accuracy_score(y_val_true, pred_2)\n",
    "wt_rnn = metrics.accuracy_score(y_val_true, pred_3)\n",
    "\n",
    "print('Weight of Initial FF-NN is {}, Pretrained FF-NN is {}, RNN is {}'.format(wt_ff_nn_initial, wt_ff_nn_new, wt_rnn))"
   ]
  },
  {
   "cell_type": "markdown",
   "id": "ae83827e",
   "metadata": {},
   "source": [
    "### Predictions of model"
   ]
  },
  {
   "cell_type": "code",
   "execution_count": 24,
   "id": "747e2439",
   "metadata": {},
   "outputs": [],
   "source": [
    "weighted_predicts = []\n",
    "for i in range(len(y_pred_rnn)):\n",
    "    class_counts = {0:0, 1:0, 2:0, 3:0, 4:0}\n",
    "    class_counts[y_pred_ff_nn_initial[i]] += wt_ff_nn_initial\n",
    "    class_counts[y_pred_ff_nn_new[i]] += wt_ff_nn_new\n",
    "    class_counts[y_pred_rnn[i]] += wt_rnn\n",
    "    sorted_classes = list(dict(sorted(class_counts.items(), key=lambda x: x[1], reverse=True)).keys())\n",
    "    most_frequent = sorted_classes[0]\n",
    "    weighted_predicts.append(most_frequent)"
   ]
  },
  {
   "cell_type": "markdown",
   "id": "cfe34884",
   "metadata": {},
   "source": [
    "### Accuracy of model"
   ]
  },
  {
   "cell_type": "code",
   "execution_count": 25,
   "id": "e63973b3",
   "metadata": {
    "scrolled": true
   },
   "outputs": [
    {
     "name": "stdout",
     "output_type": "stream",
     "text": [
      "Accuracy of Ensemble model by Weighted Voting is\n",
      "81.72323759791122\n",
      "               precision    recall  f1-score   support\n",
      "\n",
      "     business       0.95      0.70      0.80        79\n",
      "entertainment       0.67      0.86      0.75        69\n",
      "     politics       0.77      0.92      0.84        93\n",
      "        sport       0.90      0.81      0.85        47\n",
      "         tech       0.89      0.79      0.84        95\n",
      "\n",
      "     accuracy                           0.82       383\n",
      "    macro avg       0.84      0.81      0.82       383\n",
      " weighted avg       0.84      0.82      0.82       383\n",
      "\n"
     ]
    }
   ],
   "source": [
    "print('Accuracy of Ensemble model by Weighted Voting is')\n",
    "print(metrics.accuracy_score(y_true, weighted_predicts)*100)\n",
    "print(classification_report(y_true, weighted_predicts, target_names = list(label_enc_name_mapping.keys())))"
   ]
  },
  {
   "cell_type": "code",
   "execution_count": 26,
   "id": "0a21473e",
   "metadata": {},
   "outputs": [
    {
     "data": {
      "text/plain": [
       "45"
      ]
     },
     "execution_count": 26,
     "metadata": {},
     "output_type": "execute_result"
    }
   ],
   "source": [
    "acc_file.write('Classification Accuracy of Weighted Voting Ensemble Model is: ')\n",
    "acc_file.write(str(metrics.accuracy_score(y_true, weighted_predicts)*100)+'\\n')\n",
    "acc_file.write('Classification Report:\\n')\n",
    "acc_file.write(classification_report(y_true, weighted_predicts, target_names = list(label_enc_name_mapping.keys())))\n",
    "acc_file.write('============================================\\n')"
   ]
  },
  {
   "cell_type": "markdown",
   "id": "3a6a5191",
   "metadata": {},
   "source": [
    "### Save results to CSV"
   ]
  },
  {
   "cell_type": "code",
   "execution_count": 27,
   "id": "e9723e40",
   "metadata": {},
   "outputs": [],
   "source": [
    "wt_dataset = pd.DataFrame()\n",
    "wt_dataset['preds'] = weighted_predicts\n",
    "wt_dataset.to_csv('ensemble_weight_preds.csv')"
   ]
  },
  {
   "cell_type": "markdown",
   "id": "46259219",
   "metadata": {},
   "source": [
    "## Calculating how many instances were wrongly classified by *any of/all* the three individual models, but were correctly classified by the ensemble"
   ]
  },
  {
   "cell_type": "markdown",
   "id": "6df604fd",
   "metadata": {},
   "source": [
    "### Read predictions of above 5 models from CSV"
   ]
  },
  {
   "cell_type": "code",
   "execution_count": 28,
   "id": "f0cf5bd9",
   "metadata": {},
   "outputs": [],
   "source": [
    "ff_nn_initial_preds_df = pd.read_csv('ff_nn_initial_preds.csv')\n",
    "ff_nn_initial_preds = ff_nn_initial_preds_df['preds']\n",
    "\n",
    "ff_nn_new_preds_df = pd.read_csv('ff_nn_new_preds.csv')\n",
    "ff_nn_new_preds = ff_nn_new_preds_df['preds']\n",
    "\n",
    "rnn_preds_df = pd.read_csv('rnn_preds.csv')\n",
    "rnn_preds = rnn_preds_df['preds']\n",
    "\n",
    "ensemble_majority_preds_df = pd.read_csv('ensemble_majority_preds.csv')\n",
    "maj_preds = ensemble_majority_preds_df['preds']\n",
    "\n",
    "ensemble_weight_preds_df = pd.read_csv('ensemble_weight_preds.csv')\n",
    "wt_preds = ensemble_weight_preds_df['preds']"
   ]
  },
  {
   "cell_type": "markdown",
   "id": "9527f52a",
   "metadata": {},
   "source": [
    "### Perform desired calculations"
   ]
  },
  {
   "cell_type": "code",
   "execution_count": 29,
   "id": "80636061",
   "metadata": {},
   "outputs": [
    {
     "name": "stdout",
     "output_type": "stream",
     "text": [
      "\n",
      "Number of instances wrongly classified by \"any base model\" but \n",
      "correctly classified by the majority vote ensemble: 105\n",
      "\n",
      "Number of instances wrongly classified by \"any base model\" but \n",
      "correctly classified by the weighted vote ensemble: 105\n",
      "\n",
      "Number of instances wrongly classified by \"all base models\" but \n",
      "correctly classified by the majority vote ensemble: 0\n",
      "\n",
      "Number of instances wrongly classified by \"all base models\" but \n",
      "correctly classified by the weighted vote ensemble: 0\n"
     ]
    }
   ],
   "source": [
    "maj_correct_1 = 0\n",
    "wt_correct_1 = 0\n",
    "\n",
    "maj_correct_2 = 0\n",
    "wt_correct_2 = 0\n",
    "\n",
    "y_true = [idx for idx in np.argmax(test_Y, axis=1)]\n",
    "for i in range(len(maj_preds)):\n",
    "    if (ff_nn_initial_preds[i] != y_true[i]) or (ff_nn_new_preds[i] != y_true[i]) or (rnn_preds[i] != y_true[i]):\n",
    "        if maj_preds[i] == y_true[i]:\n",
    "            maj_correct_1 += 1\n",
    "        if wt_preds[i] == y_true[i]:\n",
    "            wt_correct_1 += 1\n",
    "    if (ff_nn_initial_preds[i] != y_true[i]) and (ff_nn_new_preds[i] != y_true[i]) and (rnn_preds[i] != y_true[i]):\n",
    "        if maj_preds[i] == y_true[i]:\n",
    "            maj_correct_2 += 1\n",
    "        if wt_preds[i] == y_true[i]:\n",
    "            wt_correct_2 += 1\n",
    "\n",
    "print('\\nNumber of instances wrongly classified by \"any base model\" but \\ncorrectly classified by the majority vote ensemble:', maj_correct_1)\n",
    "print('\\nNumber of instances wrongly classified by \"any base model\" but \\ncorrectly classified by the weighted vote ensemble:', wt_correct_1)\n",
    "print('\\nNumber of instances wrongly classified by \"all base models\" but \\ncorrectly classified by the majority vote ensemble:', maj_correct_2)\n",
    "print('\\nNumber of instances wrongly classified by \"all base models\" but \\ncorrectly classified by the weighted vote ensemble:', wt_correct_2)"
   ]
  },
  {
   "cell_type": "code",
   "execution_count": 30,
   "id": "5d55b6b0",
   "metadata": {},
   "outputs": [
    {
     "data": {
      "text/plain": [
       "120"
      ]
     },
     "execution_count": 30,
     "metadata": {},
     "output_type": "execute_result"
    }
   ],
   "source": [
    "misclass_file.write('\\nNumber of instances wrongly classified by \"any base model\" but \\ncorrectly classified by the majority vote ensemble: '+str(maj_correct_1)+'\\n')\n",
    "misclass_file.write('\\nNumber of instances wrongly classified by \"any base model\" but \\ncorrectly classified by the weighted vote ensemble: '+str(wt_correct_1)+'\\n')\n",
    "misclass_file.write('\\nNumber of instances wrongly classified by \"all base models\" but \\ncorrectly classified by the majority vote ensemble: '+str(maj_correct_2)+'\\n')\n",
    "misclass_file.write('\\nNumber of instances wrongly classified by \"all base models\" but \\ncorrectly classified by the weighted vote ensemble: '+str(wt_correct_2)+'\\n')"
   ]
  },
  {
   "cell_type": "code",
   "execution_count": 31,
   "id": "888e73f6",
   "metadata": {},
   "outputs": [],
   "source": [
    "acc_file.close()\n",
    "misclass_file.close()"
   ]
  },
  {
   "cell_type": "code",
   "execution_count": null,
   "id": "e9e6aff3",
   "metadata": {},
   "outputs": [],
   "source": []
  }
 ],
 "metadata": {
  "kernelspec": {
   "display_name": "Python 3",
   "language": "python",
   "name": "python3"
  },
  "language_info": {
   "codemirror_mode": {
    "name": "ipython",
    "version": 3
   },
   "file_extension": ".py",
   "mimetype": "text/x-python",
   "name": "python",
   "nbconvert_exporter": "python",
   "pygments_lexer": "ipython3",
   "version": "3.6.13"
  }
 },
 "nbformat": 4,
 "nbformat_minor": 5
}
