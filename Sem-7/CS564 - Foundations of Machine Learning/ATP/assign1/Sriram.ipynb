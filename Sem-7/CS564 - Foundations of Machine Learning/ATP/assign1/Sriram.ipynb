{
 "cells": [
  {
   "cell_type": "markdown",
   "metadata": {},
   "source": [
    "# Setup"
   ]
  },
  {
   "cell_type": "code",
   "execution_count": 1,
   "metadata": {},
   "outputs": [],
   "source": [
    "import numpy as np\n",
    "import pandas as pd\n",
    "\n",
    "# Read the Breast Cancer Dataset \n",
    "# Pandas Dataframe\n",
    "data_pd = pd.read_csv(\"BR_mod.csv\")"
   ]
  },
  {
   "cell_type": "code",
   "execution_count": 2,
   "metadata": {},
   "outputs": [
    {
     "data": {
      "text/html": [
       "<div>\n",
       "<style scoped>\n",
       "    .dataframe tbody tr th:only-of-type {\n",
       "        vertical-align: middle;\n",
       "    }\n",
       "\n",
       "    .dataframe tbody tr th {\n",
       "        vertical-align: top;\n",
       "    }\n",
       "\n",
       "    .dataframe thead th {\n",
       "        text-align: right;\n",
       "    }\n",
       "</style>\n",
       "<table border=\"1\" class=\"dataframe\">\n",
       "  <thead>\n",
       "    <tr style=\"text-align: right;\">\n",
       "      <th></th>\n",
       "      <th>patient.age_at_initial_pathologic_diagnosis</th>\n",
       "      <th>patient.anatomic_neoplasm_subdivisions.anatomic_neoplasm_subdivision</th>\n",
       "      <th>patient.axillary_lymph_node_stage_method_type</th>\n",
       "      <th>patient.breast_carcinoma_estrogen_receptor_status</th>\n",
       "      <th>patient.breast_carcinoma_progesterone_receptor_status</th>\n",
       "      <th>patient.breast_carcinoma_surgical_procedure_name</th>\n",
       "      <th>patient.gender</th>\n",
       "      <th>patient.histological_type</th>\n",
       "      <th>patient.history_of_neoadjuvant_treatment</th>\n",
       "      <th>patient.initial_pathologic_diagnosis_method</th>\n",
       "      <th>...</th>\n",
       "      <th>patient.number_of_lymphnodes_positive_by_he</th>\n",
       "      <th>patient.other_dx</th>\n",
       "      <th>patient.person_neoplasm_cancer_status</th>\n",
       "      <th>patient.race_list.race</th>\n",
       "      <th>patient.stage_event.pathologic_stage</th>\n",
       "      <th>patient.stage_event.tnm_categories.pathologic_categories.pathologic_m</th>\n",
       "      <th>patient.stage_event.tnm_categories.pathologic_categories.pathologic_n</th>\n",
       "      <th>patient.stage_event.tnm_categories.pathologic_categories.pathologic_t</th>\n",
       "      <th>patient.tissue_prospective_collection_indicator</th>\n",
       "      <th>patient.tissue_source_site</th>\n",
       "    </tr>\n",
       "  </thead>\n",
       "  <tbody>\n",
       "    <tr>\n",
       "      <th>count</th>\n",
       "      <td>1097.000000</td>\n",
       "      <td>1097.000000</td>\n",
       "      <td>881.000000</td>\n",
       "      <td>1048.000000</td>\n",
       "      <td>1047.000000</td>\n",
       "      <td>1041.000000</td>\n",
       "      <td>1097.000000</td>\n",
       "      <td>1096.000000</td>\n",
       "      <td>1096.000000</td>\n",
       "      <td>999.000000</td>\n",
       "      <td>...</td>\n",
       "      <td>929.000000</td>\n",
       "      <td>1096.000000</td>\n",
       "      <td>972.000000</td>\n",
       "      <td>1002.000000</td>\n",
       "      <td>1089.000000</td>\n",
       "      <td>1097.000000</td>\n",
       "      <td>1097.000000</td>\n",
       "      <td>1097.000000</td>\n",
       "      <td>1093.000000</td>\n",
       "      <td>1097.000000</td>\n",
       "    </tr>\n",
       "    <tr>\n",
       "      <th>mean</th>\n",
       "      <td>58.463081</td>\n",
       "      <td>0.918323</td>\n",
       "      <td>2.104427</td>\n",
       "      <td>0.770992</td>\n",
       "      <td>0.667622</td>\n",
       "      <td>1.408261</td>\n",
       "      <td>0.989061</td>\n",
       "      <td>1.658759</td>\n",
       "      <td>0.011861</td>\n",
       "      <td>1.750751</td>\n",
       "      <td>...</td>\n",
       "      <td>2.362756</td>\n",
       "      <td>0.062044</td>\n",
       "      <td>0.096708</td>\n",
       "      <td>1.696607</td>\n",
       "      <td>5.682277</td>\n",
       "      <td>0.333637</td>\n",
       "      <td>4.011851</td>\n",
       "      <td>5.231541</td>\n",
       "      <td>0.331199</td>\n",
       "      <td>13.374658</td>\n",
       "    </tr>\n",
       "    <tr>\n",
       "      <th>std</th>\n",
       "      <td>13.216569</td>\n",
       "      <td>0.603005</td>\n",
       "      <td>1.720991</td>\n",
       "      <td>0.420395</td>\n",
       "      <td>0.471291</td>\n",
       "      <td>1.049491</td>\n",
       "      <td>0.104063</td>\n",
       "      <td>1.478731</td>\n",
       "      <td>0.108311</td>\n",
       "      <td>2.402182</td>\n",
       "      <td>...</td>\n",
       "      <td>4.633874</td>\n",
       "      <td>0.241345</td>\n",
       "      <td>0.295712</td>\n",
       "      <td>0.579166</td>\n",
       "      <td>2.513579</td>\n",
       "      <td>0.743517</td>\n",
       "      <td>4.106347</td>\n",
       "      <td>1.842124</td>\n",
       "      <td>0.470860</td>\n",
       "      <td>6.385932</td>\n",
       "    </tr>\n",
       "    <tr>\n",
       "      <th>min</th>\n",
       "      <td>26.000000</td>\n",
       "      <td>0.000000</td>\n",
       "      <td>0.000000</td>\n",
       "      <td>0.000000</td>\n",
       "      <td>0.000000</td>\n",
       "      <td>0.000000</td>\n",
       "      <td>0.000000</td>\n",
       "      <td>0.000000</td>\n",
       "      <td>0.000000</td>\n",
       "      <td>0.000000</td>\n",
       "      <td>...</td>\n",
       "      <td>0.000000</td>\n",
       "      <td>0.000000</td>\n",
       "      <td>0.000000</td>\n",
       "      <td>0.000000</td>\n",
       "      <td>1.000000</td>\n",
       "      <td>0.000000</td>\n",
       "      <td>0.000000</td>\n",
       "      <td>1.000000</td>\n",
       "      <td>0.000000</td>\n",
       "      <td>0.000000</td>\n",
       "    </tr>\n",
       "    <tr>\n",
       "      <th>25%</th>\n",
       "      <td>49.000000</td>\n",
       "      <td>0.600000</td>\n",
       "      <td>0.000000</td>\n",
       "      <td>1.000000</td>\n",
       "      <td>0.000000</td>\n",
       "      <td>1.000000</td>\n",
       "      <td>1.000000</td>\n",
       "      <td>1.000000</td>\n",
       "      <td>0.000000</td>\n",
       "      <td>0.000000</td>\n",
       "      <td>...</td>\n",
       "      <td>0.000000</td>\n",
       "      <td>0.000000</td>\n",
       "      <td>0.000000</td>\n",
       "      <td>2.000000</td>\n",
       "      <td>5.000000</td>\n",
       "      <td>0.000000</td>\n",
       "      <td>0.000000</td>\n",
       "      <td>4.000000</td>\n",
       "      <td>0.000000</td>\n",
       "      <td>8.000000</td>\n",
       "    </tr>\n",
       "    <tr>\n",
       "      <th>50%</th>\n",
       "      <td>58.000000</td>\n",
       "      <td>0.800000</td>\n",
       "      <td>3.000000</td>\n",
       "      <td>1.000000</td>\n",
       "      <td>1.000000</td>\n",
       "      <td>1.000000</td>\n",
       "      <td>1.000000</td>\n",
       "      <td>1.000000</td>\n",
       "      <td>0.000000</td>\n",
       "      <td>0.000000</td>\n",
       "      <td>...</td>\n",
       "      <td>1.000000</td>\n",
       "      <td>0.000000</td>\n",
       "      <td>0.000000</td>\n",
       "      <td>2.000000</td>\n",
       "      <td>5.000000</td>\n",
       "      <td>0.000000</td>\n",
       "      <td>4.000000</td>\n",
       "      <td>5.000000</td>\n",
       "      <td>0.000000</td>\n",
       "      <td>14.000000</td>\n",
       "    </tr>\n",
       "    <tr>\n",
       "      <th>75%</th>\n",
       "      <td>67.000000</td>\n",
       "      <td>1.400000</td>\n",
       "      <td>4.000000</td>\n",
       "      <td>1.000000</td>\n",
       "      <td>1.000000</td>\n",
       "      <td>2.000000</td>\n",
       "      <td>1.000000</td>\n",
       "      <td>2.000000</td>\n",
       "      <td>0.000000</td>\n",
       "      <td>3.000000</td>\n",
       "      <td>...</td>\n",
       "      <td>2.000000</td>\n",
       "      <td>0.000000</td>\n",
       "      <td>0.000000</td>\n",
       "      <td>2.000000</td>\n",
       "      <td>8.000000</td>\n",
       "      <td>0.000000</td>\n",
       "      <td>6.000000</td>\n",
       "      <td>5.000000</td>\n",
       "      <td>1.000000</td>\n",
       "      <td>17.000000</td>\n",
       "    </tr>\n",
       "    <tr>\n",
       "      <th>max</th>\n",
       "      <td>90.000000</td>\n",
       "      <td>1.800000</td>\n",
       "      <td>4.000000</td>\n",
       "      <td>1.000000</td>\n",
       "      <td>1.000000</td>\n",
       "      <td>3.000000</td>\n",
       "      <td>1.000000</td>\n",
       "      <td>7.000000</td>\n",
       "      <td>1.000000</td>\n",
       "      <td>6.000000</td>\n",
       "      <td>...</td>\n",
       "      <td>35.000000</td>\n",
       "      <td>1.000000</td>\n",
       "      <td>1.000000</td>\n",
       "      <td>3.000000</td>\n",
       "      <td>12.000000</td>\n",
       "      <td>3.000000</td>\n",
       "      <td>15.000000</td>\n",
       "      <td>13.000000</td>\n",
       "      <td>1.000000</td>\n",
       "      <td>39.000000</td>\n",
       "    </tr>\n",
       "  </tbody>\n",
       "</table>\n",
       "<p>8 rows × 24 columns</p>\n",
       "</div>"
      ],
      "text/plain": [
       "       patient.age_at_initial_pathologic_diagnosis  \\\n",
       "count                                  1097.000000   \n",
       "mean                                     58.463081   \n",
       "std                                      13.216569   \n",
       "min                                      26.000000   \n",
       "25%                                      49.000000   \n",
       "50%                                      58.000000   \n",
       "75%                                      67.000000   \n",
       "max                                      90.000000   \n",
       "\n",
       "       patient.anatomic_neoplasm_subdivisions.anatomic_neoplasm_subdivision  \\\n",
       "count                                        1097.000000                      \n",
       "mean                                            0.918323                      \n",
       "std                                             0.603005                      \n",
       "min                                             0.000000                      \n",
       "25%                                             0.600000                      \n",
       "50%                                             0.800000                      \n",
       "75%                                             1.400000                      \n",
       "max                                             1.800000                      \n",
       "\n",
       "       patient.axillary_lymph_node_stage_method_type  \\\n",
       "count                                     881.000000   \n",
       "mean                                        2.104427   \n",
       "std                                         1.720991   \n",
       "min                                         0.000000   \n",
       "25%                                         0.000000   \n",
       "50%                                         3.000000   \n",
       "75%                                         4.000000   \n",
       "max                                         4.000000   \n",
       "\n",
       "       patient.breast_carcinoma_estrogen_receptor_status  \\\n",
       "count                                        1048.000000   \n",
       "mean                                            0.770992   \n",
       "std                                             0.420395   \n",
       "min                                             0.000000   \n",
       "25%                                             1.000000   \n",
       "50%                                             1.000000   \n",
       "75%                                             1.000000   \n",
       "max                                             1.000000   \n",
       "\n",
       "       patient.breast_carcinoma_progesterone_receptor_status  \\\n",
       "count                                        1047.000000       \n",
       "mean                                            0.667622       \n",
       "std                                             0.471291       \n",
       "min                                             0.000000       \n",
       "25%                                             0.000000       \n",
       "50%                                             1.000000       \n",
       "75%                                             1.000000       \n",
       "max                                             1.000000       \n",
       "\n",
       "       patient.breast_carcinoma_surgical_procedure_name  patient.gender  \\\n",
       "count                                       1041.000000     1097.000000   \n",
       "mean                                           1.408261        0.989061   \n",
       "std                                            1.049491        0.104063   \n",
       "min                                            0.000000        0.000000   \n",
       "25%                                            1.000000        1.000000   \n",
       "50%                                            1.000000        1.000000   \n",
       "75%                                            2.000000        1.000000   \n",
       "max                                            3.000000        1.000000   \n",
       "\n",
       "       patient.histological_type  patient.history_of_neoadjuvant_treatment  \\\n",
       "count                1096.000000                               1096.000000   \n",
       "mean                    1.658759                                  0.011861   \n",
       "std                     1.478731                                  0.108311   \n",
       "min                     0.000000                                  0.000000   \n",
       "25%                     1.000000                                  0.000000   \n",
       "50%                     1.000000                                  0.000000   \n",
       "75%                     2.000000                                  0.000000   \n",
       "max                     7.000000                                  1.000000   \n",
       "\n",
       "       patient.initial_pathologic_diagnosis_method  ...  \\\n",
       "count                                   999.000000  ...   \n",
       "mean                                      1.750751  ...   \n",
       "std                                       2.402182  ...   \n",
       "min                                       0.000000  ...   \n",
       "25%                                       0.000000  ...   \n",
       "50%                                       0.000000  ...   \n",
       "75%                                       3.000000  ...   \n",
       "max                                       6.000000  ...   \n",
       "\n",
       "       patient.number_of_lymphnodes_positive_by_he  patient.other_dx  \\\n",
       "count                                   929.000000       1096.000000   \n",
       "mean                                      2.362756          0.062044   \n",
       "std                                       4.633874          0.241345   \n",
       "min                                       0.000000          0.000000   \n",
       "25%                                       0.000000          0.000000   \n",
       "50%                                       1.000000          0.000000   \n",
       "75%                                       2.000000          0.000000   \n",
       "max                                      35.000000          1.000000   \n",
       "\n",
       "       patient.person_neoplasm_cancer_status  patient.race_list.race  \\\n",
       "count                             972.000000             1002.000000   \n",
       "mean                                0.096708                1.696607   \n",
       "std                                 0.295712                0.579166   \n",
       "min                                 0.000000                0.000000   \n",
       "25%                                 0.000000                2.000000   \n",
       "50%                                 0.000000                2.000000   \n",
       "75%                                 0.000000                2.000000   \n",
       "max                                 1.000000                3.000000   \n",
       "\n",
       "       patient.stage_event.pathologic_stage  \\\n",
       "count                           1089.000000   \n",
       "mean                               5.682277   \n",
       "std                                2.513579   \n",
       "min                                1.000000   \n",
       "25%                                5.000000   \n",
       "50%                                5.000000   \n",
       "75%                                8.000000   \n",
       "max                               12.000000   \n",
       "\n",
       "       patient.stage_event.tnm_categories.pathologic_categories.pathologic_m  \\\n",
       "count                                        1097.000000                       \n",
       "mean                                            0.333637                       \n",
       "std                                             0.743517                       \n",
       "min                                             0.000000                       \n",
       "25%                                             0.000000                       \n",
       "50%                                             0.000000                       \n",
       "75%                                             0.000000                       \n",
       "max                                             3.000000                       \n",
       "\n",
       "       patient.stage_event.tnm_categories.pathologic_categories.pathologic_n  \\\n",
       "count                                        1097.000000                       \n",
       "mean                                            4.011851                       \n",
       "std                                             4.106347                       \n",
       "min                                             0.000000                       \n",
       "25%                                             0.000000                       \n",
       "50%                                             4.000000                       \n",
       "75%                                             6.000000                       \n",
       "max                                            15.000000                       \n",
       "\n",
       "       patient.stage_event.tnm_categories.pathologic_categories.pathologic_t  \\\n",
       "count                                        1097.000000                       \n",
       "mean                                            5.231541                       \n",
       "std                                             1.842124                       \n",
       "min                                             1.000000                       \n",
       "25%                                             4.000000                       \n",
       "50%                                             5.000000                       \n",
       "75%                                             5.000000                       \n",
       "max                                            13.000000                       \n",
       "\n",
       "       patient.tissue_prospective_collection_indicator  \\\n",
       "count                                      1093.000000   \n",
       "mean                                          0.331199   \n",
       "std                                           0.470860   \n",
       "min                                           0.000000   \n",
       "25%                                           0.000000   \n",
       "50%                                           0.000000   \n",
       "75%                                           1.000000   \n",
       "max                                           1.000000   \n",
       "\n",
       "       patient.tissue_source_site  \n",
       "count                 1097.000000  \n",
       "mean                    13.374658  \n",
       "std                      6.385932  \n",
       "min                      0.000000  \n",
       "25%                      8.000000  \n",
       "50%                     14.000000  \n",
       "75%                     17.000000  \n",
       "max                     39.000000  \n",
       "\n",
       "[8 rows x 24 columns]"
      ]
     },
     "execution_count": 2,
     "metadata": {},
     "output_type": "execute_result"
    }
   ],
   "source": [
    "# Basic statistics of dataset\n",
    "data_pd.describe()"
   ]
  },
  {
   "cell_type": "code",
   "execution_count": 3,
   "metadata": {
    "scrolled": true
   },
   "outputs": [
    {
     "data": {
      "text/plain": [
       "patient.age_at_initial_pathologic_diagnosis                                0\n",
       "patient.anatomic_neoplasm_subdivisions.anatomic_neoplasm_subdivision       0\n",
       "patient.axillary_lymph_node_stage_method_type                            216\n",
       "patient.breast_carcinoma_estrogen_receptor_status                         49\n",
       "patient.breast_carcinoma_progesterone_receptor_status                     50\n",
       "patient.breast_carcinoma_surgical_procedure_name                          56\n",
       "patient.gender                                                             0\n",
       "patient.histological_type                                                  1\n",
       "patient.history_of_neoadjuvant_treatment                                   1\n",
       "patient.initial_pathologic_diagnosis_method                               98\n",
       "patient.lab_proc_her2_neu_immunohistochemistry_receptor_status           178\n",
       "patient.lymph_node_examined_count                                        126\n",
       "patient.margin_status                                                     68\n",
       "patient.menopause_status                                                  90\n",
       "patient.number_of_lymphnodes_positive_by_he                              168\n",
       "patient.other_dx                                                           1\n",
       "patient.person_neoplasm_cancer_status                                    125\n",
       "patient.race_list.race                                                    95\n",
       "patient.stage_event.pathologic_stage                                       8\n",
       "patient.stage_event.tnm_categories.pathologic_categories.pathologic_m      0\n",
       "patient.stage_event.tnm_categories.pathologic_categories.pathologic_n      0\n",
       "patient.stage_event.tnm_categories.pathologic_categories.pathologic_t      0\n",
       "patient.tissue_prospective_collection_indicator                            4\n",
       "patient.tissue_source_site                                                 0\n",
       "dtype: int64"
      ]
     },
     "execution_count": 3,
     "metadata": {},
     "output_type": "execute_result"
    }
   ],
   "source": [
    "# Check the number of nan values\n",
    "data_pd.isnull().sum()"
   ]
  },
  {
   "cell_type": "code",
   "execution_count": 4,
   "metadata": {},
   "outputs": [],
   "source": [
    "# Fill Nan vallues\n",
    "data_pd.fillna(0, inplace = True)"
   ]
  },
  {
   "cell_type": "code",
   "execution_count": 5,
   "metadata": {},
   "outputs": [],
   "source": [
    "# Convert to numpy array\n",
    "data = np.asarray(data_pd)"
   ]
  },
  {
   "cell_type": "markdown",
   "metadata": {},
   "source": [
    "# Functions"
   ]
  },
  {
   "cell_type": "code",
   "execution_count": 6,
   "metadata": {},
   "outputs": [],
   "source": [
    "# Function to find the closest center (centers)\n",
    "# For individual samples in dataset (data)\n",
    "def closest_clusters(centers, k, data = data):\n",
    "    \n",
    "    # List to store distance of each point \n",
    "    # From all temporary centers \n",
    "    dist = [[] for i in range(k)]\n",
    "    for i, center in enumerate(centers):\n",
    "        dist[i] = (center - data)**2\n",
    "        dist[i] = np.sum(dist[i], axis = 1)\n",
    "    dist = np.stack(dist, axis = 0)\n",
    "    \n",
    "    # Return index of respective cnters, sse, \n",
    "    # index of point with least sse (Used in k-medoid)\n",
    "    return(np.argmin(dist, axis = 0), np.mean(np.min(dist, axis = 0)), np.argmin(np.sum(dist, axis = 1), axis = 0))"
   ]
  },
  {
   "cell_type": "code",
   "execution_count": 7,
   "metadata": {},
   "outputs": [],
   "source": [
    "# Function to calculate optimal medoid of cluster\n",
    "def calc_medoid(cluster_, index):\n",
    "    _, _, new_center_index = closest_clusters(cluster_, len(cluster_), cluster_)\n",
    "    return(cluster_[new_center_index])\n",
    "\n",
    "# Function to calculate centroid of cluster\n",
    "def calc_mean(cluster_, index):\n",
    "    return(np.mean(cluster_, axis = 0))"
   ]
  },
  {
   "cell_type": "code",
   "execution_count": 8,
   "metadata": {},
   "outputs": [],
   "source": [
    "# Returns the center of a cluster\n",
    "def calc_center(clusters, type_, k):\n",
    "    centers = []\n",
    "    \n",
    "    if(type_ == \"mean\"):\n",
    "        fun = calc_mean\n",
    "    elif(type_ == \"medoid\"):\n",
    "        fun = calc_medoid\n",
    "    \n",
    "    for index in range(k):\n",
    "        centers.append(fun(clusters[index], index))\n",
    "    \n",
    "    return(centers)"
   ]
  },
  {
   "cell_type": "code",
   "execution_count": 9,
   "metadata": {},
   "outputs": [],
   "source": [
    "import random\n",
    "import matplotlib.pyplot as plt\n",
    "\n",
    "# Clustering algorithm\n",
    "def cluster(type_, plot, k):\n",
    "    \n",
    "    # List to store errors \n",
    "    # over iterations\n",
    "    errors = []\n",
    "    \n",
    "    # Initialise random centers\n",
    "    rnd_indexs = random.sample(range(len(data)), k)\n",
    "    centers = [data[i] for i in rnd_indexs]\n",
    "    centers_old = None\n",
    "    \n",
    "    # Run loop until centers dont change\n",
    "    while(not np.array_equal(centers_old, centers)):\n",
    "        centers_old = centers\n",
    "        \n",
    "        # Reassign clusters, \n",
    "        # calculate respective errors\n",
    "        assn_clusters, sse, _ = closest_clusters(centers, k)\n",
    "        errors.append(sse)\n",
    "        \n",
    "        # Find new centers\n",
    "        clusters = [[] for i in range(k)] \n",
    "        for i, assn_cluster in enumerate(assn_clusters):\n",
    "            clusters[assn_cluster].append(data[i])\n",
    "        centers = calc_center(clusters, type_, k)\n",
    "    \n",
    "    # Plot errors over \n",
    "    # iterations if necessary\n",
    "    if(plot):\n",
    "        plt.plot(errors[1:])\n",
    "        plt.xlabel(\"Iterations\")\n",
    "        plt.ylabel(\"SSE\")\n",
    "        \n",
    "    return(clusters, errors[-1])"
   ]
  },
  {
   "cell_type": "markdown",
   "metadata": {},
   "source": [
    "# K-Means"
   ]
  },
  {
   "cell_type": "code",
   "execution_count": 10,
   "metadata": {},
   "outputs": [
    {
     "data": {
      "text/plain": [
       "Text(0, 0.5, 'SSE')"
      ]
     },
     "execution_count": 10,
     "metadata": {},
     "output_type": "execute_result"
    },
    {
     "data": {
      "image/png": "[encoded data removed]",
      "text/plain": [
       "<Figure size 432x288 with 1 Axes>"
      ]
     },
     "metadata": {
      "needs_background": "light"
     },
     "output_type": "display_data"
    }
   ],
   "source": [
    "# Perform K-Means clustering for \n",
    "# varying number of clusters\n",
    "\n",
    "errors = []\n",
    "\n",
    "for i in range(10, 100):\n",
    "    clusters, loss = cluster(\"mean\", plot = 0, k = i)\n",
    "    errors.append(loss)\n",
    "\n",
    "# Visualise reduction of \n",
    "# SSE over cluster size \n",
    "plt.plot(range(10, 100), errors)\n",
    "plt.xlabel(\"No. of Clusters\")\n",
    "plt.ylabel(\"SSE\")"
   ]
  },
  {
   "cell_type": "code",
   "execution_count": 11,
   "metadata": {
    "scrolled": true
   },
   "outputs": [
    {
     "data": {
      "image/png": "[encoded data removed]",
      "text/plain": [
       "<Figure size 432x288 with 1 Axes>"
      ]
     },
     "metadata": {
      "needs_background": "light"
     },
     "output_type": "display_data"
    }
   ],
   "source": [
    "# Approximate bend at 30\n",
    "# Perform clustering with 30 clusters\n",
    "clusters, loss = cluster(\"mean\", plot = 1, k = 30)"
   ]
  },
  {
   "cell_type": "markdown",
   "metadata": {},
   "source": [
    "# K-Medoids"
   ]
  },
  {
   "cell_type": "code",
   "execution_count": 12,
   "metadata": {},
   "outputs": [
    {
     "data": {
      "text/plain": [
       "Text(0, 0.5, 'SSE')"
      ]
     },
     "execution_count": 12,
     "metadata": {},
     "output_type": "execute_result"
    },
    {
     "data": {
      "image/png": "[encoded data removed]",
      "text/plain": [
       "<Figure size 432x288 with 1 Axes>"
      ]
     },
     "metadata": {
      "needs_background": "light"
     },
     "output_type": "display_data"
    }
   ],
   "source": [
    "# Perform K-Medoid clustering for \n",
    "# varying number of clusters\n",
    "\n",
    "errors = []\n",
    "for i in range(10, 100):\n",
    "    clusters, loss = cluster(\"medoid\", plot = 0, k = i)\n",
    "    errors.append(loss)\n",
    "\n",
    "# Visualise reduction of \n",
    "# SSE over cluster size \n",
    "plt.plot(range(10, 100), errors)\n",
    "plt.xlabel(\"No. of Clusters\")\n",
    "plt.ylabel(\"SSE\")"
   ]
  },
  {
   "cell_type": "code",
   "execution_count": 13,
   "metadata": {},
   "outputs": [
    {
     "data": {
      "image/png": "[encoded data removed]",
      "text/plain": [
       "<Figure size 432x288 with 1 Axes>"
      ]
     },
     "metadata": {
      "needs_background": "light"
     },
     "output_type": "display_data"
    }
   ],
   "source": [
    "# Approximate bend at 25\n",
    "# Perform clustering with 25 clusters\n",
    "clusters, loss = cluster(\"medoid\", plot = 1, k = 25)"
   ]
  },
  {
   "cell_type": "markdown",
   "metadata": {},
   "source": [
    "# Hierarichal Agglomerative Clustering"
   ]
  },
  {
   "cell_type": "code",
   "execution_count": 14,
   "metadata": {},
   "outputs": [],
   "source": [
    "# Define Datapoint class\n",
    "# Enable Linking (Linked list is cluster)\n",
    "class point:\n",
    "    def __init__(self, index):\n",
    "        self.index = index\n",
    "        self.parent = None\n",
    "        self.next = None\n",
    "    \n",
    "    # Function to link \n",
    "    # two data points\n",
    "    def link(self, new_point):\n",
    "        parent = self\n",
    "        \n",
    "        # End of cluster (End Of linked list)\n",
    "        while(parent.next != None):\n",
    "            parent = parent.next\n",
    "            \n",
    "        # Start of cluster (Head Of linked list)\n",
    "        while(new_point.parent != None):\n",
    "            new_point = new_point.parent\n",
    "            \n",
    "        # Linking\n",
    "        parent.next = new_point\n",
    "        new_point.parent = parent"
   ]
  },
  {
   "cell_type": "code",
   "execution_count": 15,
   "metadata": {},
   "outputs": [],
   "source": [
    "# Function to merge points\n",
    "# In proximity matrix\n",
    "\n",
    "def merge(x, y, prox_matrix):\n",
    "    for i in range(len(prox_matrix[x])):\n",
    "        prox_matrix[i][x] = min(prox_matrix[i][x], prox_matrix[i][y])\n",
    "        prox_matrix[i][y] = np.inf\n",
    "        prox_matrix[x][i] = min(prox_matrix[x][i], prox_matrix[y][i])\n",
    "        prox_matrix[y][i] = np.inf\n",
    "        \n",
    "    prox_matrix[x][x] = np.inf"
   ]
  },
  {
   "cell_type": "code",
   "execution_count": 16,
   "metadata": {},
   "outputs": [],
   "source": [
    "# HAC Algorithm\n",
    "def HAC(cutoff):\n",
    "    # Initialise all clusters (Initaially, All points)\n",
    "    points = [point(i) for i in range(len(data))]\n",
    "    \n",
    "    # Calculate Proximity Matrix\n",
    "    prox_matrix = np.zeros((len(data), len(data)))\n",
    "    for i in range(len(data)):\n",
    "        prox_matrix[i] = np.linalg.norm(data[i].T - data, axis = 1, ord = 2)\n",
    "    prox_matrix[prox_matrix == 0] = np.inf\n",
    "    \n",
    "    # Loop until all points are merged\n",
    "    while(not np.all(prox_matrix == np.inf)):\n",
    "        # Coordinates of least distance\n",
    "        merge_indices = np.argwhere(prox_matrix == np.min(prox_matrix))[0]\n",
    "        \n",
    "        # Cutoff at a threshold\n",
    "        if(np.min(prox_matrix) >= cutoff):\n",
    "            break\n",
    "        \n",
    "        # Merge the points\n",
    "        points[merge_indices[0]].link(points[merge_indices[1]])\n",
    "        merge(merge_indices[0], merge_indices[1], prox_matrix)\n",
    "    \n",
    "    # Calculate the final number of points\n",
    "    cluster_number = 0\n",
    "    for i in range(len(points)):\n",
    "        if(points[i].parent == None):\n",
    "            cluster_number += 1\n",
    "\n",
    "    return(points, cluster_number)"
   ]
  },
  {
   "cell_type": "code",
   "execution_count": 17,
   "metadata": {},
   "outputs": [
    {
     "data": {
      "text/plain": [
       "Text(0, 0.5, 'No. of Clusters')"
      ]
     },
     "execution_count": 17,
     "metadata": {},
     "output_type": "execute_result"
    },
    {
     "data": {
      "image/png": "[encoded data removed]",
      "text/plain": [
       "<Figure size 432x288 with 1 Axes>"
      ]
     },
     "metadata": {
      "needs_background": "light"
     },
     "output_type": "display_data"
    }
   ],
   "source": [
    "# Perform clustering for \n",
    "# varying cutoff points\n",
    "\n",
    "cluster_numbers = []\n",
    "for cutoff in range(1, 20):\n",
    "    grouped_points, cluster_number = HAC(cutoff)\n",
    "    cluster_numbers.append(cluster_number)\n",
    "\n",
    "# We can see the reduction in number of clusters \n",
    "# with increasing cutoff distances\n",
    "plt.plot(cluster_numbers)\n",
    "plt.xlabel(\"Cutoff\")\n",
    "plt.ylabel(\"No. of Clusters\")"
   ]
  },
  {
   "cell_type": "code",
   "execution_count": 18,
   "metadata": {},
   "outputs": [],
   "source": [
    "# To print indexes of \n",
    "# points from one cluster\n",
    "# point_ = grouped_points[1]\n",
    "# i = 1\n",
    "# while(point_.next != None):\n",
    "#     print(point_.index, i)\n",
    "#     point_ = point_.next\n",
    "#     i += 1"
   ]
  },
  {
   "cell_type": "code",
   "execution_count": null,
   "metadata": {},
   "outputs": [],
   "source": []
  }
 ],
 "metadata": {
  "kernelspec": {
   "display_name": "Python 3",
   "language": "python",
   "name": "python3"
  },
  "language_info": {
   "codemirror_mode": {
    "name": "ipython",
    "version": 3
   },
   "file_extension": ".py",
   "mimetype": "text/x-python",
   "name": "python",
   "nbconvert_exporter": "python",
   "pygments_lexer": "ipython3",
   "version": "3.6.8"
  }
 },
 "nbformat": 4,
 "nbformat_minor": 4
}
