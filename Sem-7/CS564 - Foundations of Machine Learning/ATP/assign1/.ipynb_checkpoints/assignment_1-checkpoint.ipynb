{
 "cells": [
  {
   "cell_type": "markdown",
   "id": "b34a515a",
   "metadata": {},
   "source": [
    "# Assignment 1 - CS564: Machine Learning\n",
    "\n",
    "\n",
    "|               |                  |   |   |   |\n",
    "|---------------|------------------|---|---|---|\n",
    "| **Name**      | M. Maheeth Reddy |   |   |   |\n",
    "| **Roll No.**  | 1801CS31         |   |   |   |\n",
    "| **Date**      | 22-Aug-2021      |   |   |   |\n",
    "|               |                  |   |   |   |"
   ]
  },
  {
   "cell_type": "markdown",
   "id": "ba177143",
   "metadata": {},
   "source": [
    "**Import Libraries**"
   ]
  },
  {
   "cell_type": "code",
   "execution_count": 1,
   "id": "fc175ba4",
   "metadata": {},
   "outputs": [],
   "source": [
    "%matplotlib inline\n",
    "\n",
    "import numpy as np\n",
    "import pandas as pd"
   ]
  },
  {
   "cell_type": "code",
   "execution_count": null,
   "id": "727ccae7",
   "metadata": {},
   "outputs": [],
   "source": [
    "pd.read_csv('')"
   ]
  },
  {
   "cell_type": "code",
   "execution_count": null,
   "id": "01a4fb95",
   "metadata": {},
   "outputs": [],
   "source": []
  }
 ],
 "metadata": {
  "kernelspec": {
   "display_name": "Python 3",
   "language": "python",
   "name": "python3"
  },
  "language_info": {
   "codemirror_mode": {
    "name": "ipython",
    "version": 3
   },
   "file_extension": ".py",
   "mimetype": "text/x-python",
   "name": "python",
   "nbconvert_exporter": "python",
   "pygments_lexer": "ipython3",
   "version": "3.8.8"
  }
 },
 "nbformat": 4,
 "nbformat_minor": 5
}
