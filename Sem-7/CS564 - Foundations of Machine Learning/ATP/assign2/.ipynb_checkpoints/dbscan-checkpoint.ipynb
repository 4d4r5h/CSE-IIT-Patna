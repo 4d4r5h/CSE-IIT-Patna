{
 "cells": [
  {
   "cell_type": "markdown",
   "id": "ce7aca12",
   "metadata": {},
   "source": [
    "# CS564 - Machine Learning\n",
    "## *Assignment 2*\n",
    "## DBSCAN Algorithm\n",
    "\n",
    "<table style=\"font-size:15px\">\n",
    "    <thead>\n",
    "        <td><b>Name of Student</b></td>\n",
    "        <td><b>Roll No.</b></td>\n",
    "        <td><b>Date</b></td>\n",
    "    </thead>\n",
    "    <tr>\n",
    "        <td>M. Maheeth Reddy</td>\n",
    "        <td>1801CS31</td>\n",
    "        <td>01-Sep-2021</td>\n",
    "    </tr>\n",
    "</table>"
   ]
  },
  {
   "cell_type": "code",
   "execution_count": 1,
   "id": "9cf6acca",
   "metadata": {},
   "outputs": [],
   "source": [
    "import numpy as np\n",
    "import pandas as pd\n",
    "from scipy.io.arff import loadarff \n",
    "\n",
    "import math\n",
    "\n",
    "eps = 2\n",
    "minPts = 5"
   ]
  },
  {
   "cell_type": "code",
   "execution_count": 3,
   "id": "3ed84286",
   "metadata": {},
   "outputs": [
    {
     "data": {
      "text/html": [
       "<div>\n",
       "<style scoped>\n",
       "    .dataframe tbody tr th:only-of-type {\n",
       "        vertical-align: middle;\n",
       "    }\n",
       "\n",
       "    .dataframe tbody tr th {\n",
       "        vertical-align: top;\n",
       "    }\n",
       "\n",
       "    .dataframe thead th {\n",
       "        text-align: right;\n",
       "    }\n",
       "</style>\n",
       "<table border=\"1\" class=\"dataframe\">\n",
       "  <thead>\n",
       "    <tr style=\"text-align: right;\">\n",
       "      <th></th>\n",
       "      <th>preg</th>\n",
       "      <th>plas</th>\n",
       "      <th>pres</th>\n",
       "      <th>skin</th>\n",
       "      <th>insu</th>\n",
       "      <th>mass</th>\n",
       "      <th>pedi</th>\n",
       "      <th>age</th>\n",
       "    </tr>\n",
       "  </thead>\n",
       "  <tbody>\n",
       "    <tr>\n",
       "      <th>159</th>\n",
       "      <td>3.904034</td>\n",
       "      <td>1.316923</td>\n",
       "      <td>0.149543</td>\n",
       "      <td>1.282802</td>\n",
       "      <td>0.296766</td>\n",
       "      <td>1.129787</td>\n",
       "      <td>1.041636</td>\n",
       "      <td>1.169970</td>\n",
       "    </tr>\n",
       "    <tr>\n",
       "      <th>507</th>\n",
       "      <td>-0.844335</td>\n",
       "      <td>0.284790</td>\n",
       "      <td>-0.470426</td>\n",
       "      <td>0.154433</td>\n",
       "      <td>0.782692</td>\n",
       "      <td>-0.430303</td>\n",
       "      <td>0.664367</td>\n",
       "      <td>-1.040871</td>\n",
       "    </tr>\n",
       "    <tr>\n",
       "      <th>301</th>\n",
       "      <td>-0.547562</td>\n",
       "      <td>0.722664</td>\n",
       "      <td>-0.573754</td>\n",
       "      <td>0.781305</td>\n",
       "      <td>0.478988</td>\n",
       "      <td>-0.049793</td>\n",
       "      <td>-0.150534</td>\n",
       "      <td>-0.700742</td>\n",
       "    </tr>\n",
       "    <tr>\n",
       "      <th>532</th>\n",
       "      <td>-0.844335</td>\n",
       "      <td>-1.091388</td>\n",
       "      <td>-0.160441</td>\n",
       "      <td>1.972362</td>\n",
       "      <td>-0.128419</td>\n",
       "      <td>1.180522</td>\n",
       "      <td>1.343451</td>\n",
       "      <td>-0.360612</td>\n",
       "    </tr>\n",
       "    <tr>\n",
       "      <th>564</th>\n",
       "      <td>-1.141108</td>\n",
       "      <td>-0.935004</td>\n",
       "      <td>0.562856</td>\n",
       "      <td>-1.287373</td>\n",
       "      <td>-0.692439</td>\n",
       "      <td>0.051676</td>\n",
       "      <td>0.389715</td>\n",
       "      <td>-0.530677</td>\n",
       "    </tr>\n",
       "  </tbody>\n",
       "</table>\n",
       "</div>"
      ],
      "text/plain": [
       "         preg      plas      pres      skin      insu      mass      pedi  \\\n",
       "159  3.904034  1.316923  0.149543  1.282802  0.296766  1.129787  1.041636   \n",
       "507 -0.844335  0.284790 -0.470426  0.154433  0.782692 -0.430303  0.664367   \n",
       "301 -0.547562  0.722664 -0.573754  0.781305  0.478988 -0.049793 -0.150534   \n",
       "532 -0.844335 -1.091388 -0.160441  1.972362 -0.128419  1.180522  1.343451   \n",
       "564 -1.141108 -0.935004  0.562856 -1.287373 -0.692439  0.051676  0.389715   \n",
       "\n",
       "          age  \n",
       "159  1.169970  \n",
       "507 -1.040871  \n",
       "301 -0.700742  \n",
       "532 -0.360612  \n",
       "564 -0.530677  "
      ]
     },
     "execution_count": 3,
     "metadata": {},
     "output_type": "execute_result"
    }
   ],
   "source": [
    "# load data from arff file to DataFrame\n",
    "raw_data = loadarff('diabetes1.arff')\n",
    "df_data = pd.DataFrame(raw_data[0])\n",
    "\n",
    "# fill NaN values with mode\n",
    "df_data.fillna(df_data.mode().iloc[0], inplace=True)\n",
    "\n",
    "# drop the last column as mentioned in assignment\n",
    "df_data.drop(['class'],axis=1,inplace=True)\n",
    "\n",
    "# normalize the data\n",
    "df_data=(df_data-df_data.mean())/(df_data.std())\n",
    "\n",
    "# show some rows in the data\n",
    "df_data.sample(5)"
   ]
  },
  {
   "cell_type": "code",
   "execution_count": 4,
   "id": "b88430f2",
   "metadata": {},
   "outputs": [
    {
     "data": {
      "text/plain": [
       "array([[ 0.63953049,  0.84777132,  0.1495433 , ...,  0.20387991,\n",
       "         0.46818687,  1.42506672],\n",
       "       [-0.84433482, -1.12266474, -0.16044119, ..., -0.68397621,\n",
       "        -0.36482303, -0.19054773],\n",
       "       [ 1.23307662,  1.94245802, -0.26376935, ..., -1.10253696,\n",
       "         0.6040037 , -0.10551539],\n",
       "       ...,\n",
       "       [ 0.34275743,  0.00329872,  0.1495433 , ..., -0.73471085,\n",
       "        -0.68474712, -0.27558007],\n",
       "       [-0.84433482,  0.15968254, -0.47042568, ..., -0.24004815,\n",
       "        -0.37085933,  1.1699697 ],\n",
       "       [-0.84433482, -0.87245064,  0.04621514, ..., -0.20199718,\n",
       "        -0.4734765 , -0.87080644]])"
      ]
     },
     "execution_count": 4,
     "metadata": {},
     "output_type": "execute_result"
    }
   ],
   "source": [
    "df_data = df_data.to_numpy()\n",
    "df_data"
   ]
  },
  {
   "cell_type": "code",
   "execution_count": 5,
   "id": "51e77316",
   "metadata": {},
   "outputs": [],
   "source": [
    "def euclid_dist(pt1, pt2):\n",
    "    return math.sqrt(((pt1-pt2)**2).sum())"
   ]
  },
  {
   "cell_type": "code",
   "execution_count": 6,
   "id": "2756c1e2",
   "metadata": {},
   "outputs": [],
   "source": [
    "def getNeighbours(eps, minPts, pt_id):\n",
    "    count = 0\n",
    "    neighbours = []\n",
    "    for pt2_id in range(len(df_data)):\n",
    "        if euclid_dist(df_data[pt_id],df_data[pt2_id]) <= eps and pt_id != pt2_id:\n",
    "            neighbours.append(pt2_id)\n",
    "    \n",
    "    return np.array(neighbours)\n",
    "\n",
    "neighbour_matrix = {}\n",
    "for pt_id in range(len(df_data)):\n",
    "    neighbour_matrix[pt_id] = getNeighbours(eps,minPts,pt_id)\n",
    "\n"
   ]
  },
  {
   "cell_type": "code",
   "execution_count": 20,
   "id": "4ba64232",
   "metadata": {},
   "outputs": [],
   "source": [
    "for key in neighbour_matrix:\n",
    "    print(f'Point {key} has {len(neighbour_matrix[key])} neighbours')"
   ]
  },
  {
   "cell_type": "code",
   "execution_count": 9,
   "id": "bcf1c941",
   "metadata": {},
   "outputs": [],
   "source": [
    "def isCore(pt_id):\n",
    "    return len(neighbour_matrix[pt_id]) > minPts"
   ]
  },
  {
   "cell_type": "code",
   "execution_count": 16,
   "id": "84221d3c",
   "metadata": {},
   "outputs": [],
   "source": [
    "def isBorder(pt_id):\n",
    "    if not len(neighbour_matrix[pt_id]) < minPts:\n",
    "        return False\n",
    "    \n",
    "    for pt2_id in range(len(df_data)):\n",
    "        if isCore(pt2_id) and pt_id in neighbour_matrix[pt2_id]:\n",
    "            return True\n",
    "    \n",
    "    return False"
   ]
  },
  {
   "cell_type": "code",
   "execution_count": 17,
   "id": "f773b150",
   "metadata": {},
   "outputs": [],
   "source": [
    "def isNoise(pt_id):\n",
    "    return not (isCore(pt_id) or isBorder(pt_id))"
   ]
  },
  {
   "cell_type": "code",
   "execution_count": 11,
   "id": "bf31da19",
   "metadata": {},
   "outputs": [],
   "source": [
    "def is_direct_density_reachable(p_id, q_id):\n",
    "    # An object q is directly density-reachable from object p if p is a core object and q is in p’s ε-neighborhood.\n",
    "    if isCore(p_id) and q_id in neighbour_matrix[p_id]:\n",
    "        return True\n",
    "    \n",
    "    return False"
   ]
  },
  {
   "cell_type": "code",
   "execution_count": 12,
   "id": "d2305420",
   "metadata": {},
   "outputs": [],
   "source": [
    "def is_indirect_density_reachable(p_id, q_id):\n",
    "    pass"
   ]
  },
  {
   "cell_type": "code",
   "execution_count": 21,
   "id": "ce7a8b7a",
   "metadata": {},
   "outputs": [
    {
     "ename": "KeyError",
     "evalue": "0",
     "output_type": "error",
     "traceback": [
      "\u001b[0;31m---------------------------------------------------------------------------\u001b[0m",
      "\u001b[0;31mKeyError\u001b[0m                                  Traceback (most recent call last)",
      "\u001b[0;32m<ipython-input-21-5bd6159150bb>\u001b[0m in \u001b[0;36m<module>\u001b[0;34m\u001b[0m\n\u001b[0;32m----> 1\u001b[0;31m \u001b[0mnon_noise_pt_ids\u001b[0m \u001b[0;34m=\u001b[0m \u001b[0;34m[\u001b[0m\u001b[0mi\u001b[0m \u001b[0;32mfor\u001b[0m \u001b[0mi\u001b[0m \u001b[0;32min\u001b[0m \u001b[0mrange\u001b[0m\u001b[0;34m(\u001b[0m\u001b[0mlen\u001b[0m\u001b[0;34m(\u001b[0m\u001b[0mdf_data\u001b[0m\u001b[0;34m)\u001b[0m\u001b[0;34m)\u001b[0m \u001b[0;32mif\u001b[0m \u001b[0;32mnot\u001b[0m \u001b[0misNoise\u001b[0m\u001b[0;34m(\u001b[0m\u001b[0mi\u001b[0m\u001b[0;34m)\u001b[0m\u001b[0;34m]\u001b[0m\u001b[0;34m\u001b[0m\u001b[0;34m\u001b[0m\u001b[0m\n\u001b[0m\u001b[1;32m      2\u001b[0m \u001b[0mcore_pt_ids\u001b[0m \u001b[0;34m=\u001b[0m \u001b[0;34m[\u001b[0m\u001b[0mnon_noise_pt_id\u001b[0m \u001b[0;32mfor\u001b[0m \u001b[0mnon_noise_pt_id\u001b[0m \u001b[0;32min\u001b[0m \u001b[0mnon_noise_pt_ids\u001b[0m \u001b[0;32mif\u001b[0m \u001b[0misCore\u001b[0m\u001b[0;34m(\u001b[0m\u001b[0mnon_noise_pt_id\u001b[0m\u001b[0;34m)\u001b[0m\u001b[0;34m]\u001b[0m\u001b[0;34m\u001b[0m\u001b[0;34m\u001b[0m\u001b[0m\n\u001b[1;32m      3\u001b[0m \u001b[0mcluster_labels\u001b[0m \u001b[0;34m=\u001b[0m \u001b[0;34m{\u001b[0m\u001b[0;34m}\u001b[0m\u001b[0;34m\u001b[0m\u001b[0;34m\u001b[0m\u001b[0m\n\u001b[1;32m      4\u001b[0m \u001b[0;34m\u001b[0m\u001b[0m\n\u001b[1;32m      5\u001b[0m \u001b[0;32mdef\u001b[0m \u001b[0mgetNeighbours\u001b[0m\u001b[0;34m(\u001b[0m\u001b[0meps\u001b[0m\u001b[0;34m,\u001b[0m \u001b[0mminPts\u001b[0m\u001b[0;34m,\u001b[0m \u001b[0mpt_id\u001b[0m\u001b[0;34m)\u001b[0m\u001b[0;34m:\u001b[0m\u001b[0;34m\u001b[0m\u001b[0;34m\u001b[0m\u001b[0m\n",
      "\u001b[0;32m<ipython-input-21-5bd6159150bb>\u001b[0m in \u001b[0;36m<listcomp>\u001b[0;34m(.0)\u001b[0m\n\u001b[0;32m----> 1\u001b[0;31m \u001b[0mnon_noise_pt_ids\u001b[0m \u001b[0;34m=\u001b[0m \u001b[0;34m[\u001b[0m\u001b[0mi\u001b[0m \u001b[0;32mfor\u001b[0m \u001b[0mi\u001b[0m \u001b[0;32min\u001b[0m \u001b[0mrange\u001b[0m\u001b[0;34m(\u001b[0m\u001b[0mlen\u001b[0m\u001b[0;34m(\u001b[0m\u001b[0mdf_data\u001b[0m\u001b[0;34m)\u001b[0m\u001b[0;34m)\u001b[0m \u001b[0;32mif\u001b[0m \u001b[0;32mnot\u001b[0m \u001b[0misNoise\u001b[0m\u001b[0;34m(\u001b[0m\u001b[0mi\u001b[0m\u001b[0;34m)\u001b[0m\u001b[0;34m]\u001b[0m\u001b[0;34m\u001b[0m\u001b[0;34m\u001b[0m\u001b[0m\n\u001b[0m\u001b[1;32m      2\u001b[0m \u001b[0mcore_pt_ids\u001b[0m \u001b[0;34m=\u001b[0m \u001b[0;34m[\u001b[0m\u001b[0mnon_noise_pt_id\u001b[0m \u001b[0;32mfor\u001b[0m \u001b[0mnon_noise_pt_id\u001b[0m \u001b[0;32min\u001b[0m \u001b[0mnon_noise_pt_ids\u001b[0m \u001b[0;32mif\u001b[0m \u001b[0misCore\u001b[0m\u001b[0;34m(\u001b[0m\u001b[0mnon_noise_pt_id\u001b[0m\u001b[0;34m)\u001b[0m\u001b[0;34m]\u001b[0m\u001b[0;34m\u001b[0m\u001b[0;34m\u001b[0m\u001b[0m\n\u001b[1;32m      3\u001b[0m \u001b[0mcluster_labels\u001b[0m \u001b[0;34m=\u001b[0m \u001b[0;34m{\u001b[0m\u001b[0;34m}\u001b[0m\u001b[0;34m\u001b[0m\u001b[0;34m\u001b[0m\u001b[0m\n\u001b[1;32m      4\u001b[0m \u001b[0;34m\u001b[0m\u001b[0m\n\u001b[1;32m      5\u001b[0m \u001b[0;32mdef\u001b[0m \u001b[0mgetNeighbours\u001b[0m\u001b[0;34m(\u001b[0m\u001b[0meps\u001b[0m\u001b[0;34m,\u001b[0m \u001b[0mminPts\u001b[0m\u001b[0;34m,\u001b[0m \u001b[0mpt_id\u001b[0m\u001b[0;34m)\u001b[0m\u001b[0;34m:\u001b[0m\u001b[0;34m\u001b[0m\u001b[0;34m\u001b[0m\u001b[0m\n",
      "\u001b[0;32m<ipython-input-17-1e28882a94c9>\u001b[0m in \u001b[0;36misNoise\u001b[0;34m(pt_id)\u001b[0m\n\u001b[1;32m      1\u001b[0m \u001b[0;32mdef\u001b[0m \u001b[0misNoise\u001b[0m\u001b[0;34m(\u001b[0m\u001b[0mpt_id\u001b[0m\u001b[0;34m)\u001b[0m\u001b[0;34m:\u001b[0m\u001b[0;34m\u001b[0m\u001b[0;34m\u001b[0m\u001b[0m\n\u001b[0;32m----> 2\u001b[0;31m     \u001b[0;32mreturn\u001b[0m \u001b[0;32mnot\u001b[0m \u001b[0;34m(\u001b[0m\u001b[0misCore\u001b[0m\u001b[0;34m(\u001b[0m\u001b[0mpt_id\u001b[0m\u001b[0;34m)\u001b[0m \u001b[0;32mor\u001b[0m \u001b[0misBorder\u001b[0m\u001b[0;34m(\u001b[0m\u001b[0mpt_id\u001b[0m\u001b[0;34m)\u001b[0m\u001b[0;34m)\u001b[0m\u001b[0;34m\u001b[0m\u001b[0;34m\u001b[0m\u001b[0m\n\u001b[0m",
      "\u001b[0;32m<ipython-input-9-1577a2c7ec36>\u001b[0m in \u001b[0;36misCore\u001b[0;34m(pt_id)\u001b[0m\n\u001b[1;32m      1\u001b[0m \u001b[0;32mdef\u001b[0m \u001b[0misCore\u001b[0m\u001b[0;34m(\u001b[0m\u001b[0mpt_id\u001b[0m\u001b[0;34m)\u001b[0m\u001b[0;34m:\u001b[0m\u001b[0;34m\u001b[0m\u001b[0;34m\u001b[0m\u001b[0m\n\u001b[0;32m----> 2\u001b[0;31m     \u001b[0;32mreturn\u001b[0m \u001b[0mlen\u001b[0m\u001b[0;34m(\u001b[0m\u001b[0mneighbour_matrix\u001b[0m\u001b[0;34m[\u001b[0m\u001b[0mpt_id\u001b[0m\u001b[0;34m]\u001b[0m\u001b[0;34m)\u001b[0m \u001b[0;34m>\u001b[0m \u001b[0mminPts\u001b[0m\u001b[0;34m\u001b[0m\u001b[0;34m\u001b[0m\u001b[0m\n\u001b[0m",
      "\u001b[0;31mKeyError\u001b[0m: 0"
     ]
    }
   ],
   "source": []
  },
  {
   "cell_type": "code",
   "execution_count": 19,
   "id": "c495affe",
   "metadata": {},
   "outputs": [
    {
     "ename": "KeyError",
     "evalue": "0",
     "output_type": "error",
     "traceback": [
      "\u001b[0;31m---------------------------------------------------------------------------\u001b[0m",
      "\u001b[0;31mKeyError\u001b[0m                                  Traceback (most recent call last)",
      "\u001b[0;32m<ipython-input-19-45f7a9346580>\u001b[0m in \u001b[0;36m<module>\u001b[0;34m\u001b[0m\n\u001b[0;32m----> 1\u001b[0;31m \u001b[0mnon_noise_pt_ids\u001b[0m \u001b[0;34m=\u001b[0m \u001b[0;34m[\u001b[0m\u001b[0mi\u001b[0m \u001b[0;32mfor\u001b[0m \u001b[0mi\u001b[0m \u001b[0;32min\u001b[0m \u001b[0mrange\u001b[0m\u001b[0;34m(\u001b[0m\u001b[0mlen\u001b[0m\u001b[0;34m(\u001b[0m\u001b[0mdf_data\u001b[0m\u001b[0;34m)\u001b[0m\u001b[0;34m)\u001b[0m \u001b[0;32mif\u001b[0m \u001b[0;32mnot\u001b[0m \u001b[0misNoise\u001b[0m\u001b[0;34m(\u001b[0m\u001b[0mi\u001b[0m\u001b[0;34m)\u001b[0m\u001b[0;34m]\u001b[0m\u001b[0;34m\u001b[0m\u001b[0;34m\u001b[0m\u001b[0m\n\u001b[0m\u001b[1;32m      2\u001b[0m \u001b[0mcore_pt_ids\u001b[0m \u001b[0;34m=\u001b[0m \u001b[0;34m[\u001b[0m\u001b[0mnon_noise_pt_id\u001b[0m \u001b[0;32mfor\u001b[0m \u001b[0mnon_noise_pt_id\u001b[0m \u001b[0;32min\u001b[0m \u001b[0mnon_noise_pt_ids\u001b[0m \u001b[0;32mif\u001b[0m \u001b[0misCore\u001b[0m\u001b[0;34m(\u001b[0m\u001b[0mnon_noise_pt_id\u001b[0m\u001b[0;34m)\u001b[0m\u001b[0;34m]\u001b[0m\u001b[0;34m\u001b[0m\u001b[0;34m\u001b[0m\u001b[0m\n\u001b[1;32m      3\u001b[0m \u001b[0mcluster_labels\u001b[0m \u001b[0;34m=\u001b[0m \u001b[0;34m{\u001b[0m\u001b[0;34m}\u001b[0m\u001b[0;34m\u001b[0m\u001b[0;34m\u001b[0m\u001b[0m\n\u001b[1;32m      4\u001b[0m \u001b[0;34m\u001b[0m\u001b[0m\n\u001b[1;32m      5\u001b[0m \u001b[0;32mdef\u001b[0m \u001b[0mgetNeighbours\u001b[0m\u001b[0;34m(\u001b[0m\u001b[0meps\u001b[0m\u001b[0;34m,\u001b[0m \u001b[0mminPts\u001b[0m\u001b[0;34m,\u001b[0m \u001b[0mpt_id\u001b[0m\u001b[0;34m)\u001b[0m\u001b[0;34m:\u001b[0m\u001b[0;34m\u001b[0m\u001b[0;34m\u001b[0m\u001b[0m\n",
      "\u001b[0;32m<ipython-input-19-45f7a9346580>\u001b[0m in \u001b[0;36m<listcomp>\u001b[0;34m(.0)\u001b[0m\n\u001b[0;32m----> 1\u001b[0;31m \u001b[0mnon_noise_pt_ids\u001b[0m \u001b[0;34m=\u001b[0m \u001b[0;34m[\u001b[0m\u001b[0mi\u001b[0m \u001b[0;32mfor\u001b[0m \u001b[0mi\u001b[0m \u001b[0;32min\u001b[0m \u001b[0mrange\u001b[0m\u001b[0;34m(\u001b[0m\u001b[0mlen\u001b[0m\u001b[0;34m(\u001b[0m\u001b[0mdf_data\u001b[0m\u001b[0;34m)\u001b[0m\u001b[0;34m)\u001b[0m \u001b[0;32mif\u001b[0m \u001b[0;32mnot\u001b[0m \u001b[0misNoise\u001b[0m\u001b[0;34m(\u001b[0m\u001b[0mi\u001b[0m\u001b[0;34m)\u001b[0m\u001b[0;34m]\u001b[0m\u001b[0;34m\u001b[0m\u001b[0;34m\u001b[0m\u001b[0m\n\u001b[0m\u001b[1;32m      2\u001b[0m \u001b[0mcore_pt_ids\u001b[0m \u001b[0;34m=\u001b[0m \u001b[0;34m[\u001b[0m\u001b[0mnon_noise_pt_id\u001b[0m \u001b[0;32mfor\u001b[0m \u001b[0mnon_noise_pt_id\u001b[0m \u001b[0;32min\u001b[0m \u001b[0mnon_noise_pt_ids\u001b[0m \u001b[0;32mif\u001b[0m \u001b[0misCore\u001b[0m\u001b[0;34m(\u001b[0m\u001b[0mnon_noise_pt_id\u001b[0m\u001b[0;34m)\u001b[0m\u001b[0;34m]\u001b[0m\u001b[0;34m\u001b[0m\u001b[0;34m\u001b[0m\u001b[0m\n\u001b[1;32m      3\u001b[0m \u001b[0mcluster_labels\u001b[0m \u001b[0;34m=\u001b[0m \u001b[0;34m{\u001b[0m\u001b[0;34m}\u001b[0m\u001b[0;34m\u001b[0m\u001b[0;34m\u001b[0m\u001b[0m\n\u001b[1;32m      4\u001b[0m \u001b[0;34m\u001b[0m\u001b[0m\n\u001b[1;32m      5\u001b[0m \u001b[0;32mdef\u001b[0m \u001b[0mgetNeighbours\u001b[0m\u001b[0;34m(\u001b[0m\u001b[0meps\u001b[0m\u001b[0;34m,\u001b[0m \u001b[0mminPts\u001b[0m\u001b[0;34m,\u001b[0m \u001b[0mpt_id\u001b[0m\u001b[0;34m)\u001b[0m\u001b[0;34m:\u001b[0m\u001b[0;34m\u001b[0m\u001b[0;34m\u001b[0m\u001b[0m\n",
      "\u001b[0;32m<ipython-input-17-1e28882a94c9>\u001b[0m in \u001b[0;36misNoise\u001b[0;34m(pt_id)\u001b[0m\n\u001b[1;32m      1\u001b[0m \u001b[0;32mdef\u001b[0m \u001b[0misNoise\u001b[0m\u001b[0;34m(\u001b[0m\u001b[0mpt_id\u001b[0m\u001b[0;34m)\u001b[0m\u001b[0;34m:\u001b[0m\u001b[0;34m\u001b[0m\u001b[0;34m\u001b[0m\u001b[0m\n\u001b[0;32m----> 2\u001b[0;31m     \u001b[0;32mreturn\u001b[0m \u001b[0;32mnot\u001b[0m \u001b[0;34m(\u001b[0m\u001b[0misCore\u001b[0m\u001b[0;34m(\u001b[0m\u001b[0mpt_id\u001b[0m\u001b[0;34m)\u001b[0m \u001b[0;32mor\u001b[0m \u001b[0misBorder\u001b[0m\u001b[0;34m(\u001b[0m\u001b[0mpt_id\u001b[0m\u001b[0;34m)\u001b[0m\u001b[0;34m)\u001b[0m\u001b[0;34m\u001b[0m\u001b[0;34m\u001b[0m\u001b[0m\n\u001b[0m",
      "\u001b[0;32m<ipython-input-9-1577a2c7ec36>\u001b[0m in \u001b[0;36misCore\u001b[0;34m(pt_id)\u001b[0m\n\u001b[1;32m      1\u001b[0m \u001b[0;32mdef\u001b[0m \u001b[0misCore\u001b[0m\u001b[0;34m(\u001b[0m\u001b[0mpt_id\u001b[0m\u001b[0;34m)\u001b[0m\u001b[0;34m:\u001b[0m\u001b[0;34m\u001b[0m\u001b[0;34m\u001b[0m\u001b[0m\n\u001b[0;32m----> 2\u001b[0;31m     \u001b[0;32mreturn\u001b[0m \u001b[0mlen\u001b[0m\u001b[0;34m(\u001b[0m\u001b[0mneighbour_matrix\u001b[0m\u001b[0;34m[\u001b[0m\u001b[0mpt_id\u001b[0m\u001b[0;34m]\u001b[0m\u001b[0;34m)\u001b[0m \u001b[0;34m>\u001b[0m \u001b[0mminPts\u001b[0m\u001b[0;34m\u001b[0m\u001b[0;34m\u001b[0m\u001b[0m\n\u001b[0m",
      "\u001b[0;31mKeyError\u001b[0m: 0"
     ]
    }
   ],
   "source": [
    "non_noise_pt_ids = [for i in range(len(df_data)) if not isNoise(i)]\n",
    "core_pt_ids = [for non_noise_pt_id in non_noise_pt_ids if isCore(non_noise_pt_id)]\n",
    "cluster_labels = {}\n",
    "\n",
    "\n",
    "\n",
    "current_cluster_label = 1\n",
    "for core_pt_id in core_pt_ids:\n",
    "    if core_pt_id not in cluster_labels.keys():\n",
    "        current_cluster_label = current_cluster_label + 1\n",
    "        cluster_labels[core_pt_id] = current_cluster_label\n",
    "    \n",
    "    for pt_id in neighbour_matrix[core_pt_id]:\n",
    "        \n",
    "        if pt_id not in cluster_labels.keys():\n",
    "            cluster_labels[pt_id] = current_cluster_label\n",
    "        \n",
    "    "
   ]
  },
  {
   "cell_type": "code",
   "execution_count": null,
   "id": "e595a356",
   "metadata": {},
   "outputs": [],
   "source": []
  }
 ],
 "metadata": {
  "kernelspec": {
   "display_name": "Python 3",
   "language": "python",
   "name": "python3"
  },
  "language_info": {
   "codemirror_mode": {
    "name": "ipython",
    "version": 3
   },
   "file_extension": ".py",
   "mimetype": "text/x-python",
   "name": "python",
   "nbconvert_exporter": "python",
   "pygments_lexer": "ipython3",
   "version": "3.8.8"
  }
 },
 "nbformat": 4,
 "nbformat_minor": 5
}
